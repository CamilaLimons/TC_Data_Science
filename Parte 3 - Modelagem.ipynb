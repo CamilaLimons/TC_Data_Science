{
 "cells": [
  {
   "cell_type": "code",
   "execution_count": 1,
   "metadata": {},
   "outputs": [],
   "source": [
    "import pandas as pd\n",
    "import matplotlib.pyplot as plt\n",
    "import seaborn as sns\n",
    "import numpy as np\n",
    "import datetime"
   ]
  },
  {
   "cell_type": "code",
   "execution_count": 2,
   "metadata": {},
   "outputs": [],
   "source": [
    "df = pd.read_parquet('DadosFinais/df_final.parquet.gzip', engine='pyarrow')"
   ]
  },
  {
   "cell_type": "markdown",
   "metadata": {},
   "source": [
    "### Normalização e divisão dos dados"
   ]
  },
  {
   "cell_type": "code",
   "execution_count": 3,
   "metadata": {},
   "outputs": [],
   "source": [
    "from sklearn.model_selection import train_test_split\n",
    "from sklearn.linear_model import LogisticRegression\n",
    "from sklearn.metrics import confusion_matrix\n",
    "from sklearn import metrics\n",
    "from sklearn.preprocessing import StandardScaler"
   ]
  },
  {
   "cell_type": "code",
   "execution_count": 4,
   "metadata": {},
   "outputs": [
    {
     "data": {
      "text/plain": [
       "Index(['Data', 'Demanda_Max', 'valor', 'Sem ajuste sazonal', 'População',\n",
       "       'Com Feriado', 'Sunday', 'Saturday', 'Dia de Semana', 'Temperatura_Max',\n",
       "       'Umidade_Max', 'April', 'August', 'December', 'February', 'January',\n",
       "       'July', 'June', 'March', 'May', 'November', 'October', 'September',\n",
       "       'Demanda_Min', 'Temperatura_Min', 'Umidade_Min', 'Demanda_Med',\n",
       "       'Temperatura_Med', 'Umidade_Med'],\n",
       "      dtype='object')"
      ]
     },
     "execution_count": 4,
     "metadata": {},
     "output_type": "execute_result"
    }
   ],
   "source": [
    "df.columns"
   ]
  },
  {
   "cell_type": "code",
   "execution_count": 5,
   "metadata": {},
   "outputs": [],
   "source": [
    "X = df[['valor', 'Sem ajuste sazonal', 'População', 'Com Feriado', 'Sunday', 'Saturday',\n",
    "                 'Dia de Semana', 'Temperatura_Max', 'Umidade_Max', 'Temperatura_Min', 'Umidade_Min', 'Temperatura_Med',\n",
    "                   'Umidade_Med','April', 'August',\n",
    "       'December', 'February', 'January', 'July', 'June', 'March', 'May',\n",
    "       'November', 'October', 'September']]"
   ]
  },
  {
   "cell_type": "code",
   "execution_count": 6,
   "metadata": {},
   "outputs": [],
   "source": [
    "Y = df[['Demanda_Max', 'Demanda_Min', 'Demanda_Med']]"
   ]
  },
  {
   "cell_type": "code",
   "execution_count": 7,
   "metadata": {},
   "outputs": [],
   "source": [
    "scaler = StandardScaler()\n",
    "X_std = pd.DataFrame(scaler.fit_transform(X), columns = X.columns)"
   ]
  },
  {
   "cell_type": "code",
   "execution_count": 8,
   "metadata": {},
   "outputs": [],
   "source": [
    "#Dividir entre dataset de treino e teste\n",
    "X_train,X_test,y_train,y_test = train_test_split(X,Y,test_size=0.25,random_state=0)\n",
    "\n",
    "#Dividir entre dataset de treino e validação\n",
    "X_train,X_val,y_train,y_val = train_test_split(X_train,y_train,test_size=0.25,random_state=0)\n",
    "\n",
    "#Dividir entre dataset de treino e teste dados normalizados\n",
    "X_train_std,X_test_std,y_train_std,y_test_std = train_test_split(X_std,Y,test_size=0.25,random_state=0)\n",
    "\n",
    "#Dividir entre dataset de treino e validação\n",
    "X_train_std,X_val_std,y_train_std,y_val_std = train_test_split(X_train_std,y_train_std,test_size=0.25,random_state=0)"
   ]
  },
  {
   "cell_type": "code",
   "execution_count": 10,
   "metadata": {},
   "outputs": [
    {
     "data": {
      "text/html": [
       "<div>\n",
       "<style scoped>\n",
       "    .dataframe tbody tr th:only-of-type {\n",
       "        vertical-align: middle;\n",
       "    }\n",
       "\n",
       "    .dataframe tbody tr th {\n",
       "        vertical-align: top;\n",
       "    }\n",
       "\n",
       "    .dataframe thead th {\n",
       "        text-align: right;\n",
       "    }\n",
       "</style>\n",
       "<table border=\"1\" class=\"dataframe\">\n",
       "  <thead>\n",
       "    <tr style=\"text-align: right;\">\n",
       "      <th></th>\n",
       "      <th>valor</th>\n",
       "      <th>Sem ajuste sazonal</th>\n",
       "      <th>População</th>\n",
       "      <th>Com Feriado</th>\n",
       "      <th>Sunday</th>\n",
       "      <th>Saturday</th>\n",
       "      <th>Dia de Semana</th>\n",
       "      <th>Temperatura_Max</th>\n",
       "      <th>Umidade_Max</th>\n",
       "      <th>Temperatura_Min</th>\n",
       "      <th>...</th>\n",
       "      <th>December</th>\n",
       "      <th>February</th>\n",
       "      <th>January</th>\n",
       "      <th>July</th>\n",
       "      <th>June</th>\n",
       "      <th>March</th>\n",
       "      <th>May</th>\n",
       "      <th>November</th>\n",
       "      <th>October</th>\n",
       "      <th>September</th>\n",
       "    </tr>\n",
       "  </thead>\n",
       "  <tbody>\n",
       "    <tr>\n",
       "      <th>1279</th>\n",
       "      <td>-0.396642</td>\n",
       "      <td>0.345395</td>\n",
       "      <td>-1.212379</td>\n",
       "      <td>-0.191954</td>\n",
       "      <td>-0.408339</td>\n",
       "      <td>-0.408021</td>\n",
       "      <td>0.632329</td>\n",
       "      <td>-1.084389</td>\n",
       "      <td>-0.858791</td>\n",
       "      <td>-1.799940</td>\n",
       "      <td>...</td>\n",
       "      <td>-0.300694</td>\n",
       "      <td>-0.2969</td>\n",
       "      <td>-0.312257</td>\n",
       "      <td>3.325644</td>\n",
       "      <td>-0.295374</td>\n",
       "      <td>-0.312257</td>\n",
       "      <td>-0.300694</td>\n",
       "      <td>-0.295374</td>\n",
       "      <td>-0.300694</td>\n",
       "      <td>-0.295374</td>\n",
       "    </tr>\n",
       "    <tr>\n",
       "      <th>4924</th>\n",
       "      <td>-0.010653</td>\n",
       "      <td>-0.873083</td>\n",
       "      <td>1.323869</td>\n",
       "      <td>-0.191954</td>\n",
       "      <td>-0.408339</td>\n",
       "      <td>-0.408021</td>\n",
       "      <td>0.632329</td>\n",
       "      <td>-2.222748</td>\n",
       "      <td>0.105056</td>\n",
       "      <td>-2.256186</td>\n",
       "      <td>...</td>\n",
       "      <td>-0.300694</td>\n",
       "      <td>-0.2969</td>\n",
       "      <td>-0.312257</td>\n",
       "      <td>-0.300694</td>\n",
       "      <td>3.385543</td>\n",
       "      <td>-0.312257</td>\n",
       "      <td>-0.300694</td>\n",
       "      <td>-0.295374</td>\n",
       "      <td>-0.300694</td>\n",
       "      <td>-0.295374</td>\n",
       "    </tr>\n",
       "    <tr>\n",
       "      <th>3841</th>\n",
       "      <td>0.139165</td>\n",
       "      <td>-1.232247</td>\n",
       "      <td>0.808539</td>\n",
       "      <td>-0.191954</td>\n",
       "      <td>-0.408339</td>\n",
       "      <td>-0.408021</td>\n",
       "      <td>0.632329</td>\n",
       "      <td>-0.904411</td>\n",
       "      <td>0.602526</td>\n",
       "      <td>-1.595580</td>\n",
       "      <td>...</td>\n",
       "      <td>-0.300694</td>\n",
       "      <td>-0.2969</td>\n",
       "      <td>-0.312257</td>\n",
       "      <td>3.325644</td>\n",
       "      <td>-0.295374</td>\n",
       "      <td>-0.312257</td>\n",
       "      <td>-0.300694</td>\n",
       "      <td>-0.295374</td>\n",
       "      <td>-0.300694</td>\n",
       "      <td>-0.295374</td>\n",
       "    </tr>\n",
       "    <tr>\n",
       "      <th>5123</th>\n",
       "      <td>-0.137582</td>\n",
       "      <td>-1.646761</td>\n",
       "      <td>1.484390</td>\n",
       "      <td>-0.191954</td>\n",
       "      <td>-0.408339</td>\n",
       "      <td>2.450856</td>\n",
       "      <td>-1.581456</td>\n",
       "      <td>0.922362</td>\n",
       "      <td>1.068903</td>\n",
       "      <td>0.928030</td>\n",
       "      <td>...</td>\n",
       "      <td>-0.300694</td>\n",
       "      <td>-0.2969</td>\n",
       "      <td>3.202486</td>\n",
       "      <td>-0.300694</td>\n",
       "      <td>-0.295374</td>\n",
       "      <td>-0.312257</td>\n",
       "      <td>-0.300694</td>\n",
       "      <td>-0.295374</td>\n",
       "      <td>-0.300694</td>\n",
       "      <td>-0.295374</td>\n",
       "    </tr>\n",
       "    <tr>\n",
       "      <th>3904</th>\n",
       "      <td>-0.128218</td>\n",
       "      <td>-1.210558</td>\n",
       "      <td>0.808539</td>\n",
       "      <td>-0.191954</td>\n",
       "      <td>-0.408339</td>\n",
       "      <td>-0.408021</td>\n",
       "      <td>0.632329</td>\n",
       "      <td>-0.117009</td>\n",
       "      <td>0.353791</td>\n",
       "      <td>-0.735367</td>\n",
       "      <td>...</td>\n",
       "      <td>-0.300694</td>\n",
       "      <td>-0.2969</td>\n",
       "      <td>-0.312257</td>\n",
       "      <td>-0.300694</td>\n",
       "      <td>-0.295374</td>\n",
       "      <td>-0.312257</td>\n",
       "      <td>-0.300694</td>\n",
       "      <td>-0.295374</td>\n",
       "      <td>-0.300694</td>\n",
       "      <td>3.385543</td>\n",
       "    </tr>\n",
       "  </tbody>\n",
       "</table>\n",
       "<p>5 rows × 25 columns</p>\n",
       "</div>"
      ],
      "text/plain": [
       "         valor  Sem ajuste sazonal  População  Com Feriado    Sunday  \\\n",
       "1279 -0.396642            0.345395  -1.212379    -0.191954 -0.408339   \n",
       "4924 -0.010653           -0.873083   1.323869    -0.191954 -0.408339   \n",
       "3841  0.139165           -1.232247   0.808539    -0.191954 -0.408339   \n",
       "5123 -0.137582           -1.646761   1.484390    -0.191954 -0.408339   \n",
       "3904 -0.128218           -1.210558   0.808539    -0.191954 -0.408339   \n",
       "\n",
       "      Saturday  Dia de Semana  Temperatura_Max  Umidade_Max  Temperatura_Min  \\\n",
       "1279 -0.408021       0.632329        -1.084389    -0.858791        -1.799940   \n",
       "4924 -0.408021       0.632329        -2.222748     0.105056        -2.256186   \n",
       "3841 -0.408021       0.632329        -0.904411     0.602526        -1.595580   \n",
       "5123  2.450856      -1.581456         0.922362     1.068903         0.928030   \n",
       "3904 -0.408021       0.632329        -0.117009     0.353791        -0.735367   \n",
       "\n",
       "      ...  December  February   January      July      June     March  \\\n",
       "1279  ... -0.300694   -0.2969 -0.312257  3.325644 -0.295374 -0.312257   \n",
       "4924  ... -0.300694   -0.2969 -0.312257 -0.300694  3.385543 -0.312257   \n",
       "3841  ... -0.300694   -0.2969 -0.312257  3.325644 -0.295374 -0.312257   \n",
       "5123  ... -0.300694   -0.2969  3.202486 -0.300694 -0.295374 -0.312257   \n",
       "3904  ... -0.300694   -0.2969 -0.312257 -0.300694 -0.295374 -0.312257   \n",
       "\n",
       "           May  November   October  September  \n",
       "1279 -0.300694 -0.295374 -0.300694  -0.295374  \n",
       "4924 -0.300694 -0.295374 -0.300694  -0.295374  \n",
       "3841 -0.300694 -0.295374 -0.300694  -0.295374  \n",
       "5123 -0.300694 -0.295374 -0.300694  -0.295374  \n",
       "3904 -0.300694 -0.295374 -0.300694   3.385543  \n",
       "\n",
       "[5 rows x 25 columns]"
      ]
     },
     "execution_count": 10,
     "metadata": {},
     "output_type": "execute_result"
    }
   ],
   "source": [
    "X_train_std.head()"
   ]
  },
  {
   "cell_type": "markdown",
   "metadata": {},
   "source": [
    "### Random Forest"
   ]
  },
  {
   "cell_type": "markdown",
   "metadata": {},
   "source": [
    "**Dados não normalizados**"
   ]
  },
  {
   "cell_type": "code",
   "execution_count": 11,
   "metadata": {},
   "outputs": [],
   "source": [
    "from sklearn.ensemble import RandomForestRegressor\n",
    "from sklearn.datasets import make_regression"
   ]
  },
  {
   "cell_type": "code",
   "execution_count": 12,
   "metadata": {},
   "outputs": [
    {
     "data": {
      "text/plain": [
       "RandomForestRegressor(n_estimators=200, oob_score=True)"
      ]
     },
     "execution_count": 12,
     "metadata": {},
     "output_type": "execute_result"
    }
   ],
   "source": [
    "RF_regressor = RandomForestRegressor(n_estimators=200, oob_score=True)\n",
    "RF_regressor.fit(X_train, y_train)"
   ]
  },
  {
   "cell_type": "code",
   "execution_count": 13,
   "metadata": {},
   "outputs": [
    {
     "data": {
      "text/plain": [
       "array([[3831.65      , 2080.35      , 2727.99252566],\n",
       "       [4753.195     , 2493.095     , 3874.19214583],\n",
       "       [4738.28      , 2569.815     , 3842.90522917],\n",
       "       [4111.87      , 2594.6       , 3415.94519528],\n",
       "       [4018.97      , 2368.4       , 3321.52904229],\n",
       "       [3427.895     , 1813.44      , 2363.07447222],\n",
       "       [4466.9       , 2538.37      , 3335.56302083],\n",
       "       [4653.17      , 2519.565     , 3789.62842014],\n",
       "       [4484.665     , 2547.36      , 3663.12257639],\n",
       "       [5248.08      , 3085.01      , 4269.2789296 ]])"
      ]
     },
     "execution_count": 13,
     "metadata": {},
     "output_type": "execute_result"
    }
   ],
   "source": [
    "y_pred = RF_regressor.predict(X_val)\n",
    "y_pred[:10]"
   ]
  },
  {
   "cell_type": "code",
   "execution_count": 14,
   "metadata": {},
   "outputs": [
    {
     "data": {
      "text/html": [
       "<div>\n",
       "<style scoped>\n",
       "    .dataframe tbody tr th:only-of-type {\n",
       "        vertical-align: middle;\n",
       "    }\n",
       "\n",
       "    .dataframe tbody tr th {\n",
       "        vertical-align: top;\n",
       "    }\n",
       "\n",
       "    .dataframe thead th {\n",
       "        text-align: right;\n",
       "    }\n",
       "</style>\n",
       "<table border=\"1\" class=\"dataframe\">\n",
       "  <thead>\n",
       "    <tr style=\"text-align: right;\">\n",
       "      <th></th>\n",
       "      <th>Demanda_Max</th>\n",
       "      <th>Demanda_Min</th>\n",
       "      <th>Demanda_Med</th>\n",
       "    </tr>\n",
       "  </thead>\n",
       "  <tbody>\n",
       "    <tr>\n",
       "      <th>3836</th>\n",
       "      <td>3871.0</td>\n",
       "      <td>2127.0</td>\n",
       "      <td>2753.379861</td>\n",
       "    </tr>\n",
       "    <tr>\n",
       "      <th>2010</th>\n",
       "      <td>4799.0</td>\n",
       "      <td>2304.0</td>\n",
       "      <td>3846.563889</td>\n",
       "    </tr>\n",
       "    <tr>\n",
       "      <th>4931</th>\n",
       "      <td>4864.0</td>\n",
       "      <td>2496.0</td>\n",
       "      <td>3838.936111</td>\n",
       "    </tr>\n",
       "    <tr>\n",
       "      <th>52</th>\n",
       "      <td>4149.0</td>\n",
       "      <td>2716.0</td>\n",
       "      <td>3524.946528</td>\n",
       "    </tr>\n",
       "    <tr>\n",
       "      <th>1047</th>\n",
       "      <td>3891.0</td>\n",
       "      <td>2370.0</td>\n",
       "      <td>3278.575694</td>\n",
       "    </tr>\n",
       "    <tr>\n",
       "      <th>875</th>\n",
       "      <td>3379.0</td>\n",
       "      <td>1922.0</td>\n",
       "      <td>2388.768056</td>\n",
       "    </tr>\n",
       "    <tr>\n",
       "      <th>2008</th>\n",
       "      <td>4568.0</td>\n",
       "      <td>2476.0</td>\n",
       "      <td>3424.658333</td>\n",
       "    </tr>\n",
       "    <tr>\n",
       "      <th>3096</th>\n",
       "      <td>4831.0</td>\n",
       "      <td>2586.0</td>\n",
       "      <td>3907.106944</td>\n",
       "    </tr>\n",
       "    <tr>\n",
       "      <th>4342</th>\n",
       "      <td>4833.0</td>\n",
       "      <td>2885.0</td>\n",
       "      <td>3914.945139</td>\n",
       "    </tr>\n",
       "    <tr>\n",
       "      <th>4082</th>\n",
       "      <td>5484.0</td>\n",
       "      <td>2870.0</td>\n",
       "      <td>4310.651389</td>\n",
       "    </tr>\n",
       "  </tbody>\n",
       "</table>\n",
       "</div>"
      ],
      "text/plain": [
       "      Demanda_Max  Demanda_Min  Demanda_Med\n",
       "3836       3871.0       2127.0  2753.379861\n",
       "2010       4799.0       2304.0  3846.563889\n",
       "4931       4864.0       2496.0  3838.936111\n",
       "52         4149.0       2716.0  3524.946528\n",
       "1047       3891.0       2370.0  3278.575694\n",
       "875        3379.0       1922.0  2388.768056\n",
       "2008       4568.0       2476.0  3424.658333\n",
       "3096       4831.0       2586.0  3907.106944\n",
       "4342       4833.0       2885.0  3914.945139\n",
       "4082       5484.0       2870.0  4310.651389"
      ]
     },
     "execution_count": 14,
     "metadata": {},
     "output_type": "execute_result"
    }
   ],
   "source": [
    "y_val[:10]"
   ]
  },
  {
   "cell_type": "markdown",
   "metadata": {},
   "source": [
    "#### Avaliação do Modelo"
   ]
  },
  {
   "cell_type": "code",
   "execution_count": 15,
   "metadata": {},
   "outputs": [],
   "source": [
    "from sklearn.metrics import mean_squared_error, mean_absolute_error, mean_squared_log_error, r2_score, explained_variance_score"
   ]
  },
  {
   "cell_type": "code",
   "execution_count": 16,
   "metadata": {},
   "outputs": [
    {
     "name": "stdout",
     "output_type": "stream",
     "text": [
      "MAE: 141.918676283572\n",
      "RMSE: 205.20021926185012\n",
      "R2 Score: 0.8562977264120026\n",
      "Adj R2 Score 0.8550661333918792\n",
      "Variance Score: 0.8564002355675674\n"
     ]
    }
   ],
   "source": [
    "print('MAE:',mean_absolute_error(y_val, y_pred))\n",
    "MSE = mean_squared_error(y_val, y_pred)\n",
    "print('RMSE:', np.sqrt(MSE))\n",
    "R2 = r2_score(y_val, y_pred)\n",
    "print('R2 Score:', R2)\n",
    "n= len(X_train)\n",
    "p = len(X_train.columns)\n",
    "print('Adj R2 Score', 1-(1-R2)*(n-1)/(n-p-1))\n",
    "print('Variance Score:', explained_variance_score(y_val, y_pred))"
   ]
  },
  {
   "cell_type": "code",
   "execution_count": 17,
   "metadata": {},
   "outputs": [
    {
     "data": {
      "text/plain": [
       "Text(0.5, 1.0, 'Importância de cada feature')"
      ]
     },
     "execution_count": 17,
     "metadata": {},
     "output_type": "execute_result"
    },
    {
     "data": {
      "image/png": "[encoded data removed]",
      "text/plain": [
       "<Figure size 720x576 with 1 Axes>"
      ]
     },
     "metadata": {
      "needs_background": "light"
     },
     "output_type": "display_data"
    }
   ],
   "source": [
    "plt.figure(figsize=(10,8 ));\n",
    "importances = pd.Series(data=RF_regressor.feature_importances_, index=['valor', 'Sem ajuste sazonal',\n",
    "       'População', 'Com Feriado', 'Sunday', 'Saturday',\n",
    "       'Dia de Semana','Temperatura_Max',\n",
    "       'Umidade_Max', 'Temperatura_Min', 'Umidade_Min', 'Temperatura_Med',\n",
    "       'Umidade_Med', 'April', 'August', 'December', 'February',\n",
    "       'January', 'July', 'June', 'March', 'May', 'November', 'October',\n",
    "       'September' ]).sort_values(ascending=False)\n",
    "sns.barplot(x=importances, y=importances.index, orient='h').set_title('Importância de cada feature')"
   ]
  },
  {
   "cell_type": "markdown",
   "metadata": {},
   "source": [
    "**Com dados normalizados**"
   ]
  },
  {
   "cell_type": "code",
   "execution_count": 18,
   "metadata": {},
   "outputs": [
    {
     "data": {
      "text/plain": [
       "RandomForestRegressor(n_estimators=200, oob_score=True)"
      ]
     },
     "execution_count": 18,
     "metadata": {},
     "output_type": "execute_result"
    }
   ],
   "source": [
    "RF_regressor = RandomForestRegressor(n_estimators=200, oob_score=True)\n",
    "RF_regressor.fit(X_train_std, y_train_std)"
   ]
  },
  {
   "cell_type": "code",
   "execution_count": 19,
   "metadata": {},
   "outputs": [
    {
     "data": {
      "text/plain": [
       "array([[3842.955     , 2074.53      , 2729.7039375 ],\n",
       "       [4725.185     , 2497.71      , 3865.15285417],\n",
       "       [4732.52      , 2531.875     , 3833.09529514],\n",
       "       [4092.805     , 2551.29      , 3375.48856047],\n",
       "       [4022.16      , 2378.355     , 3326.78436174],\n",
       "       [3430.075     , 1811.16      , 2361.13056597],\n",
       "       [4487.02      , 2549.2       , 3354.51791667],\n",
       "       [4651.76      , 2528.505     , 3792.79979861],\n",
       "       [4506.005     , 2562.845     , 3672.95176736],\n",
       "       [5248.145     , 3074.025     , 4257.37347222]])"
      ]
     },
     "execution_count": 19,
     "metadata": {},
     "output_type": "execute_result"
    }
   ],
   "source": [
    "y_pred = RF_regressor.predict(X_val_std)\n",
    "y_pred[:10]"
   ]
  },
  {
   "cell_type": "code",
   "execution_count": 20,
   "metadata": {},
   "outputs": [
    {
     "data": {
      "text/html": [
       "<div>\n",
       "<style scoped>\n",
       "    .dataframe tbody tr th:only-of-type {\n",
       "        vertical-align: middle;\n",
       "    }\n",
       "\n",
       "    .dataframe tbody tr th {\n",
       "        vertical-align: top;\n",
       "    }\n",
       "\n",
       "    .dataframe thead th {\n",
       "        text-align: right;\n",
       "    }\n",
       "</style>\n",
       "<table border=\"1\" class=\"dataframe\">\n",
       "  <thead>\n",
       "    <tr style=\"text-align: right;\">\n",
       "      <th></th>\n",
       "      <th>Demanda_Max</th>\n",
       "      <th>Demanda_Min</th>\n",
       "      <th>Demanda_Med</th>\n",
       "    </tr>\n",
       "  </thead>\n",
       "  <tbody>\n",
       "    <tr>\n",
       "      <th>3836</th>\n",
       "      <td>3871.0</td>\n",
       "      <td>2127.0</td>\n",
       "      <td>2753.379861</td>\n",
       "    </tr>\n",
       "    <tr>\n",
       "      <th>2010</th>\n",
       "      <td>4799.0</td>\n",
       "      <td>2304.0</td>\n",
       "      <td>3846.563889</td>\n",
       "    </tr>\n",
       "    <tr>\n",
       "      <th>4931</th>\n",
       "      <td>4864.0</td>\n",
       "      <td>2496.0</td>\n",
       "      <td>3838.936111</td>\n",
       "    </tr>\n",
       "    <tr>\n",
       "      <th>52</th>\n",
       "      <td>4149.0</td>\n",
       "      <td>2716.0</td>\n",
       "      <td>3524.946528</td>\n",
       "    </tr>\n",
       "    <tr>\n",
       "      <th>1047</th>\n",
       "      <td>3891.0</td>\n",
       "      <td>2370.0</td>\n",
       "      <td>3278.575694</td>\n",
       "    </tr>\n",
       "    <tr>\n",
       "      <th>875</th>\n",
       "      <td>3379.0</td>\n",
       "      <td>1922.0</td>\n",
       "      <td>2388.768056</td>\n",
       "    </tr>\n",
       "    <tr>\n",
       "      <th>2008</th>\n",
       "      <td>4568.0</td>\n",
       "      <td>2476.0</td>\n",
       "      <td>3424.658333</td>\n",
       "    </tr>\n",
       "    <tr>\n",
       "      <th>3096</th>\n",
       "      <td>4831.0</td>\n",
       "      <td>2586.0</td>\n",
       "      <td>3907.106944</td>\n",
       "    </tr>\n",
       "    <tr>\n",
       "      <th>4342</th>\n",
       "      <td>4833.0</td>\n",
       "      <td>2885.0</td>\n",
       "      <td>3914.945139</td>\n",
       "    </tr>\n",
       "    <tr>\n",
       "      <th>4082</th>\n",
       "      <td>5484.0</td>\n",
       "      <td>2870.0</td>\n",
       "      <td>4310.651389</td>\n",
       "    </tr>\n",
       "  </tbody>\n",
       "</table>\n",
       "</div>"
      ],
      "text/plain": [
       "      Demanda_Max  Demanda_Min  Demanda_Med\n",
       "3836       3871.0       2127.0  2753.379861\n",
       "2010       4799.0       2304.0  3846.563889\n",
       "4931       4864.0       2496.0  3838.936111\n",
       "52         4149.0       2716.0  3524.946528\n",
       "1047       3891.0       2370.0  3278.575694\n",
       "875        3379.0       1922.0  2388.768056\n",
       "2008       4568.0       2476.0  3424.658333\n",
       "3096       4831.0       2586.0  3907.106944\n",
       "4342       4833.0       2885.0  3914.945139\n",
       "4082       5484.0       2870.0  4310.651389"
      ]
     },
     "execution_count": 20,
     "metadata": {},
     "output_type": "execute_result"
    }
   ],
   "source": [
    "y_val_std[:10]"
   ]
  },
  {
   "cell_type": "markdown",
   "metadata": {},
   "source": [
    "**Avaliação do modelo**"
   ]
  },
  {
   "cell_type": "code",
   "execution_count": 21,
   "metadata": {},
   "outputs": [
    {
     "name": "stdout",
     "output_type": "stream",
     "text": [
      "MAE: 141.47190039412502\n",
      "RMSE: 204.50640078210805\n",
      "R2 Score: 0.8571278061476457\n",
      "Adj R2 Score 0.8559033272836386\n",
      "Variance Score: 0.8572417853868058\n"
     ]
    }
   ],
   "source": [
    "print('MAE:',mean_absolute_error(y_val_std, y_pred))\n",
    "MSE = mean_squared_error(y_val_std, y_pred)\n",
    "print('RMSE:',np.sqrt(MSE))\n",
    "R2 = r2_score(y_val_std, y_pred)\n",
    "print('R2 Score:', R2)\n",
    "n= len(X_train_std)\n",
    "p = len(X_train_std.columns)\n",
    "print('Adj R2 Score', 1-(1-R2)*(n-1)/(n-p-1))\n",
    "print('Variance Score:', explained_variance_score(y_val_std, y_pred))"
   ]
  },
  {
   "cell_type": "markdown",
   "metadata": {},
   "source": [
    "**Avaliação para demanda máxima**"
   ]
  },
  {
   "cell_type": "code",
   "execution_count": 23,
   "metadata": {},
   "outputs": [
    {
     "name": "stdout",
     "output_type": "stream",
     "text": [
      "MAE: 139.70659072921026\n",
      "RMSE: 211.47793881551343\n",
      "R2 Score: 0.8734634560543006\n",
      "Adj R2 Score 0.8723789810461956\n",
      "Variance Score: 0.8735859153855976\n"
     ]
    }
   ],
   "source": [
    "#Demanda Máxima\n",
    "print('MAE:',mean_absolute_error(y_val_std['Demanda_Max'], y_pred[:,0]))\n",
    "MSE = mean_squared_error(y_val_std['Demanda_Max'], y_pred[:,0])\n",
    "print('RMSE:',np.sqrt(MSE))\n",
    "R2 = r2_score(y_val_std['Demanda_Max'], y_pred[:,0])\n",
    "print('R2 Score:', R2)\n",
    "n= len(X_train)\n",
    "p = len(X_train.columns)\n",
    "print('Adj R2 Score', 1-(1-R2)*(n-1)/(n-p-1))\n",
    "print('Variance Score:', explained_variance_score(y_val_std['Demanda_Max'], y_pred[:,0]))"
   ]
  },
  {
   "cell_type": "markdown",
   "metadata": {},
   "source": [
    "**Avaliação para demanda média**"
   ]
  },
  {
   "cell_type": "code",
   "execution_count": 24,
   "metadata": {},
   "outputs": [
    {
     "name": "stdout",
     "output_type": "stream",
     "text": [
      "MAE: 129.33677753548807\n",
      "RMSE: 188.91085679475367\n",
      "R2 Score: 0.8956590949161964\n",
      "Adj R2 Score 0.8947648465010113\n",
      "Variance Score: 0.8956593715106618\n"
     ]
    }
   ],
   "source": [
    "#Demanda Média\n",
    "print('MAE:',mean_absolute_error(y_val_std['Demanda_Med'], y_pred[:,2]))\n",
    "MSE = mean_squared_error(y_val_std['Demanda_Med'], y_pred[:,2])\n",
    "print('RMSE:',np.sqrt(MSE))\n",
    "R2 = r2_score(y_val_std['Demanda_Med'], y_pred[:,2])\n",
    "print('R2 Score:', R2)\n",
    "n= len(X_train)\n",
    "p = len(X_train.columns)\n",
    "print('Adj R2 Score', 1-(1-R2)*(n-1)/(n-p-1))\n",
    "print('Variance Score:', explained_variance_score(y_val_std['Demanda_Med'], y_pred[:,2]))"
   ]
  },
  {
   "cell_type": "markdown",
   "metadata": {},
   "source": [
    "**Avaliação para demanda mínima**"
   ]
  },
  {
   "cell_type": "code",
   "execution_count": 25,
   "metadata": {},
   "outputs": [
    {
     "name": "stdout",
     "output_type": "stream",
     "text": [
      "MAE: 155.37233291767632\n",
      "RMSE: 212.26957733497903\n",
      "R2 Score: 0.80226086747244\n",
      "Adj R2 Score 0.8005661543037087\n",
      "Variance Score: 0.8024800692641582\n"
     ]
    }
   ],
   "source": [
    "#Demanda Mínima\n",
    "print('MAE:',mean_absolute_error(y_val_std['Demanda_Min'], y_pred[:,1]))\n",
    "MSE = mean_squared_error(y_val_std['Demanda_Min'], y_pred[:,1])\n",
    "print('RMSE:',np.sqrt(MSE))\n",
    "R2 = r2_score(y_val_std['Demanda_Min'], y_pred[:,1])\n",
    "print('R2 Score:', R2)\n",
    "n= len(X_train)\n",
    "p = len(X_train.columns)\n",
    "print('Adj R2 Score', 1-(1-R2)*(n-1)/(n-p-1))\n",
    "print('Variance Score:', explained_variance_score(y_val_std['Demanda_Min'], y_pred[:,1]))"
   ]
  },
  {
   "cell_type": "code",
   "execution_count": 26,
   "metadata": {},
   "outputs": [
    {
     "data": {
      "text/plain": [
       "Text(0.5, 1.0, 'Importância de cada feature')"
      ]
     },
     "execution_count": 26,
     "metadata": {},
     "output_type": "execute_result"
    },
    {
     "data": {
      "image/png": "[encoded data removed]",
      "text/plain": [
       "<Figure size 720x576 with 1 Axes>"
      ]
     },
     "metadata": {
      "needs_background": "light"
     },
     "output_type": "display_data"
    }
   ],
   "source": [
    "plt.figure(figsize=(10,8 ));\n",
    "importances = pd.Series(data=RF_regressor.feature_importances_, index=['valor', 'Sem ajuste sazonal',\n",
    "       'População', 'Com Feriado', 'Sunday', 'Saturday',\n",
    "       'Dia de Semana','Temperatura_Max',\n",
    "       'Umidade_Max', 'Temperatura_Min', 'Umidade_Min', 'Temperatura_Med',\n",
    "       'Umidade_Med', 'April', 'August', 'December', 'February',\n",
    "       'January', 'July', 'June', 'March', 'May', 'November', 'October',\n",
    "       'September' ]).sort_values(ascending=False)\n",
    "sns.barplot(x=importances, y=importances.index, orient='h').set_title('Importância de cada feature')"
   ]
  },
  {
   "cell_type": "markdown",
   "metadata": {},
   "source": [
    "### Treinar o modelo com os dados de validação + treino"
   ]
  },
  {
   "cell_type": "code",
   "execution_count": 27,
   "metadata": {},
   "outputs": [],
   "source": [
    "#Dividir entre dataset de treino e teste dados normalizados\n",
    "X_train_std,X_test_std,y_train_std,y_test_std = train_test_split(X_std,Y,test_size=0.25,random_state=0)"
   ]
  },
  {
   "cell_type": "code",
   "execution_count": 28,
   "metadata": {},
   "outputs": [],
   "source": [
    "RF_regressor = RandomForestRegressor(n_estimators=200, oob_score=True)\n",
    "RF_regressor.fit(X_train_std, y_train_std)\n",
    "y_pred = RF_regressor.predict(X_test_std)"
   ]
  },
  {
   "cell_type": "markdown",
   "metadata": {},
   "source": [
    "**Avaliação para Demanda Máxima**"
   ]
  },
  {
   "cell_type": "code",
   "execution_count": 29,
   "metadata": {},
   "outputs": [
    {
     "name": "stdout",
     "output_type": "stream",
     "text": [
      "MAE: 141.90434958339384\n",
      "RMSE: 208.69018505965892\n",
      "R2 Score: 0.8728048120344186\n",
      "Adj R2 Score 0.8717146921512717\n",
      "Variance Score: 0.8728353945350467\n"
     ]
    }
   ],
   "source": [
    "#Demanda Máxima\n",
    "print('MAE:',mean_absolute_error(y_test_std['Demanda_Max'], y_pred[:,0]))\n",
    "MSE = mean_squared_error(y_test_std['Demanda_Max'], y_pred[:,0])\n",
    "print('RMSE:',np.sqrt(MSE))\n",
    "R2 = r2_score(y_test_std['Demanda_Max'], y_pred[:,0])\n",
    "print('R2 Score:', R2)\n",
    "n= len(X_train)\n",
    "p = len(X_train.columns)\n",
    "print('Adj R2 Score', 1-(1-R2)*(n-1)/(n-p-1))\n",
    "print('Variance Score:', explained_variance_score(y_test_std['Demanda_Max'], y_pred[:,0]))"
   ]
  },
  {
   "cell_type": "markdown",
   "metadata": {},
   "source": [
    "**Avaliação para Demanda Média**"
   ]
  },
  {
   "cell_type": "code",
   "execution_count": 30,
   "metadata": {},
   "outputs": [
    {
     "name": "stdout",
     "output_type": "stream",
     "text": [
      "MAE: 124.48713197593258\n",
      "RMSE: 182.2388414862562\n",
      "R2 Score: 0.9016634132071927\n",
      "Adj R2 Score 0.9008206244962499\n",
      "Variance Score: 0.9016773233052123\n"
     ]
    }
   ],
   "source": [
    "#Demanda Média\n",
    "print('MAE:',mean_absolute_error(y_test_std['Demanda_Med'], y_pred[:,2]))\n",
    "MSE = mean_squared_error(y_test_std['Demanda_Med'], y_pred[:,2])\n",
    "print('RMSE:',np.sqrt(MSE))\n",
    "R2 = r2_score(y_test_std['Demanda_Med'], y_pred[:,2])\n",
    "print('R2 Score:', R2)\n",
    "n= len(X_train)\n",
    "p = len(X_train.columns)\n",
    "print('Adj R2 Score', 1-(1-R2)*(n-1)/(n-p-1))\n",
    "print('Variance Score:', explained_variance_score(y_test_std['Demanda_Med'], y_pred[:,2]))"
   ]
  },
  {
   "cell_type": "markdown",
   "metadata": {},
   "source": [
    "**Avaliação para Demanda Mínima**"
   ]
  },
  {
   "cell_type": "code",
   "execution_count": 31,
   "metadata": {},
   "outputs": [
    {
     "name": "stdout",
     "output_type": "stream",
     "text": [
      "MAE: 150.37488316047316\n",
      "RMSE: 202.59977789051067\n",
      "R2 Score: 0.8229187337404498\n",
      "Adj R2 Score 0.8214010677629082\n",
      "Variance Score: 0.8230311177039444\n"
     ]
    }
   ],
   "source": [
    "#Demanda Mínima\n",
    "print('MAE:',mean_absolute_error(y_test_std['Demanda_Min'], y_pred[:,1]))\n",
    "MSE = mean_squared_error(y_test_std['Demanda_Min'], y_pred[:,1])\n",
    "print('RMSE:',np.sqrt(MSE))\n",
    "R2 = r2_score(y_test_std['Demanda_Min'], y_pred[:,1])\n",
    "print('R2 Score:', R2)\n",
    "n= len(X_train)\n",
    "p = len(X_train.columns)\n",
    "print('Adj R2 Score', 1-(1-R2)*(n-1)/(n-p-1))\n",
    "print('Variance Score:', explained_variance_score(y_test_std['Demanda_Min'], y_pred[:,1]))"
   ]
  },
  {
   "cell_type": "markdown",
   "metadata": {},
   "source": [
    "### SVR"
   ]
  },
  {
   "cell_type": "markdown",
   "metadata": {},
   "source": [
    "Com o SVR não é possível prever as 3 demandas de apenas uma vez. Para esse algoritmo será utilizado apenas os dados normalizados, pela maneira como ele funciona."
   ]
  },
  {
   "cell_type": "code",
   "execution_count": 32,
   "metadata": {},
   "outputs": [],
   "source": [
    "from sklearn.svm import SVR"
   ]
  },
  {
   "cell_type": "code",
   "execution_count": 42,
   "metadata": {},
   "outputs": [],
   "source": [
    "#Dividir entre dataset de treino e teste dados normalizados\n",
    "X_train_std,X_test_std,y_train_std,y_test_std = train_test_split(X_std,Y,test_size=0.25,random_state=0)\n",
    "\n",
    "#Dividir entre dataset de treino e validação\n",
    "X_train_std,X_val_std,y_train_std,y_val_std = train_test_split(X_train_std,y_train_std,test_size=0.25,random_state=0)"
   ]
  },
  {
   "cell_type": "markdown",
   "metadata": {},
   "source": [
    "**Previsão da demanda máxima**"
   ]
  },
  {
   "cell_type": "code",
   "execution_count": 36,
   "metadata": {},
   "outputs": [],
   "source": [
    "#svr_rbf = SVR(kernel='poly', C=100, gamma='auto', degree=3, epsilon=.1,\n",
    "               #coef0=1)\n",
    "svr_max = SVR(kernel='poly', C=190, gamma='auto', degree=3, epsilon=.5,\n",
    "               coef0=1)\n",
    "svr_max.fit(X_train_std,y_train_std['Demanda_Max'])\n",
    "y_pred_max = svr_max.predict(X_val_std)"
   ]
  },
  {
   "cell_type": "markdown",
   "metadata": {},
   "source": [
    "**Avaliação do modelo**"
   ]
  },
  {
   "cell_type": "code",
   "execution_count": 37,
   "metadata": {},
   "outputs": [
    {
     "name": "stdout",
     "output_type": "stream",
     "text": [
      "Predição Demanda Máxima\n",
      "MAE: 128.63210407107178\n",
      "RMSE: 196.89274498688474\n",
      "R2 Score: 0.8903155003931581\n",
      "Adj R2 Score 0.8893754549731474\n",
      "Variance Score: 0.891109571113004\n"
     ]
    }
   ],
   "source": [
    "print('Predição Demanda Máxima')\n",
    "print('MAE:',mean_absolute_error(y_val['Demanda_Max'], y_pred_max))\n",
    "MSE = mean_squared_error(y_val['Demanda_Max'], y_pred_max)\n",
    "#print('MSE:',MSE)\n",
    "print('RMSE:',np.sqrt(MSE))\n",
    "#print('MSE log error:', mean_squared_log_error(y_res_val['Demanda_Max'], y_pred))\n",
    "R2 = r2_score(y_val['Demanda_Max'], y_pred_max)\n",
    "print('R2 Score:', R2)\n",
    "n= len(X_train)\n",
    "p = len(X_train.columns)\n",
    "print('Adj R2 Score', 1-(1-R2)*(n-1)/(n-p-1))\n",
    "print('Variance Score:', explained_variance_score(y_val['Demanda_Max'], y_pred_max))"
   ]
  },
  {
   "cell_type": "markdown",
   "metadata": {},
   "source": [
    "**Previsão da demanda média**"
   ]
  },
  {
   "cell_type": "code",
   "execution_count": 38,
   "metadata": {},
   "outputs": [],
   "source": [
    "svr_med= SVR(kernel='poly', C=140, gamma='auto', degree=3, epsilon=.1,\n",
    "               coef0=1)\n",
    "svr_med.fit(X_train_std,y_train_std['Demanda_Med'])\n",
    "y_pred_med = svr_med.predict(X_val_std)"
   ]
  },
  {
   "cell_type": "markdown",
   "metadata": {},
   "source": [
    "**Avaliação do modelo**"
   ]
  },
  {
   "cell_type": "code",
   "execution_count": 39,
   "metadata": {},
   "outputs": [
    {
     "name": "stdout",
     "output_type": "stream",
     "text": [
      "Predição Demanda Média\n",
      "MAE: 107.40733269642931\n",
      "RMSE: 161.56928716381054\n",
      "R2 Score: 0.9236764817020533\n",
      "Adj R2 Score 0.9230223548739941\n",
      "Variance Score: 0.8360567613085453\n"
     ]
    }
   ],
   "source": [
    "print('Predição Demanda Média')\n",
    "print('MAE:',mean_absolute_error(y_val['Demanda_Med'], y_pred_med))\n",
    "MSE = mean_squared_error(y_val['Demanda_Med'], y_pred_med)\n",
    "#print('MSE:',MSE)\n",
    "print('RMSE:',np.sqrt(MSE))\n",
    "#print('MSE log error:', mean_squared_log_error(y_res_val['Demanda_Max'], y_pred))\n",
    "R2 = r2_score(y_val['Demanda_Med'], y_pred_med)\n",
    "print('R2 Score:', R2)\n",
    "n= len(X_train)\n",
    "p = len(X_train.columns)\n",
    "print('Adj R2 Score', 1-(1-R2)*(n-1)/(n-p-1))\n",
    "print('Variance Score:', explained_variance_score(y_val['Demanda_Max'], y_pred_med))"
   ]
  },
  {
   "cell_type": "markdown",
   "metadata": {},
   "source": [
    "**Previsão da demanda mínima**"
   ]
  },
  {
   "cell_type": "code",
   "execution_count": 40,
   "metadata": {},
   "outputs": [],
   "source": [
    "svr_min = SVR(kernel='poly', C=190, gamma='auto', degree=3, epsilon=.1,\n",
    "               coef0=1)\n",
    "svr_min.fit(X_train_std,y_train_std['Demanda_Min'])\n",
    "y_pred_min = svr_min.predict(X_val_std)"
   ]
  },
  {
   "cell_type": "markdown",
   "metadata": {},
   "source": [
    "**Avaliação do modelo**"
   ]
  },
  {
   "cell_type": "code",
   "execution_count": 41,
   "metadata": {},
   "outputs": [
    {
     "name": "stdout",
     "output_type": "stream",
     "text": [
      "Predição Demanda Mínima\n",
      "MAE: 129.5828016352831\n",
      "RMSE: 177.8285382581093\n",
      "R2 Score: 0.8612221894377439\n",
      "Adj R2 Score 0.8600328012772858\n",
      "Variance Score: 0.891109571113004\n"
     ]
    }
   ],
   "source": [
    "print('Predição Demanda Mínima')\n",
    "print('MAE:',mean_absolute_error(y_val['Demanda_Min'], y_pred_min))\n",
    "MSE = mean_squared_error(y_val['Demanda_Min'], y_pred_min)\n",
    "#print('MSE:',MSE)\n",
    "print('RMSE:',np.sqrt(MSE))\n",
    "#print('MSE log error:', mean_squared_log_error(y_res_val['Demanda_Max'], y_pred))\n",
    "R2 = r2_score(y_val['Demanda_Min'], y_pred_min)\n",
    "print('R2 Score:', R2)\n",
    "n= len(X_train)\n",
    "p = len(X_train.columns)\n",
    "print('Adj R2 Score', 1-(1-R2)*(n-1)/(n-p-1))\n",
    "print('Variance Score:', explained_variance_score(y_val['Demanda_Max'], y_pred_max))"
   ]
  },
  {
   "cell_type": "markdown",
   "metadata": {},
   "source": [
    "### Treinamento do modelo com dados de treino + validação"
   ]
  },
  {
   "cell_type": "code",
   "execution_count": 54,
   "metadata": {},
   "outputs": [],
   "source": [
    "#Dividir entre dataset de treino e teste dados normalizados\n",
    "X_train,X_test, y_train, y_test = train_test_split(X_std,Y,test_size=0.25,random_state=0)"
   ]
  },
  {
   "cell_type": "code",
   "execution_count": 55,
   "metadata": {},
   "outputs": [],
   "source": [
    "svr_max = SVR(kernel='poly', C=190, gamma='auto', degree=3, epsilon=.5,\n",
    "               coef0=1)\n",
    "svr_max.fit(X_train,y_train['Demanda_Max'])\n",
    "y_pred_max = svr_max.predict(X_test)"
   ]
  },
  {
   "cell_type": "code",
   "execution_count": 56,
   "metadata": {},
   "outputs": [],
   "source": [
    "svr_med= SVR(kernel='poly', C=140, gamma='auto', degree=3, epsilon=.1,\n",
    "               coef0=1)\n",
    "svr_med.fit(X_train,y_train['Demanda_Med'])\n",
    "y_pred_med = svr_med.predict(X_test)"
   ]
  },
  {
   "cell_type": "code",
   "execution_count": 57,
   "metadata": {},
   "outputs": [],
   "source": [
    "svr_min = SVR(kernel='poly', C=190, gamma='auto', degree=3, epsilon=.1,\n",
    "               coef0=1)\n",
    "svr_min.fit(X_train,y_train['Demanda_Min'])\n",
    "y_pred_min = svr_min.predict(X_test)"
   ]
  },
  {
   "cell_type": "markdown",
   "metadata": {},
   "source": [
    "**Avaliação com o dataset de teste**"
   ]
  },
  {
   "cell_type": "code",
   "execution_count": 58,
   "metadata": {},
   "outputs": [
    {
     "name": "stdout",
     "output_type": "stream",
     "text": [
      "Predição Demanda Máxima\n",
      "MAE: 130.06139186820138\n",
      "RMSE: 192.07452440525057\n",
      "R2 Score: 0.8922527570715186\n",
      "Adj R2 Score 0.8915618924720798\n",
      "Variance Score: 0.8925050720715665\n"
     ]
    }
   ],
   "source": [
    "print('Predição Demanda Máxima')\n",
    "print('MAE:',mean_absolute_error(y_test['Demanda_Max'], y_pred_max))\n",
    "MSE = mean_squared_error(y_test['Demanda_Max'], y_pred_max)\n",
    "print('RMSE:',np.sqrt(MSE))\n",
    "R2 = r2_score(y_test['Demanda_Max'], y_pred_max)\n",
    "print('R2 Score:', R2)\n",
    "n= len(X_train)\n",
    "p = len(X_train.columns)\n",
    "print('Adj R2 Score', 1-(1-R2)*(n-1)/(n-p-1))\n",
    "print('Variance Score:', explained_variance_score(y_test['Demanda_Max'], y_pred_max))"
   ]
  },
  {
   "cell_type": "code",
   "execution_count": 60,
   "metadata": {},
   "outputs": [
    {
     "name": "stdout",
     "output_type": "stream",
     "text": [
      "Predição Demanda Média\n",
      "MAE: 109.92699167927633\n",
      "RMSE: 158.96610359208216\n",
      "R2 Score: 0.9251757629652022\n",
      "Adj R2 Score 0.9246959974032967\n",
      "Variance Score: 0.925622602018706\n"
     ]
    }
   ],
   "source": [
    "print('Predição Demanda Média')\n",
    "print('MAE:',mean_absolute_error(y_test['Demanda_Med'], y_pred_med))\n",
    "MSE = mean_squared_error(y_test['Demanda_Med'], y_pred_med)\n",
    "print('RMSE:',np.sqrt(MSE))\n",
    "R2 = r2_score(y_test['Demanda_Med'], y_pred_med)\n",
    "print('R2 Score:', R2)\n",
    "n= len(X_train)\n",
    "p = len(X_train.columns)\n",
    "print('Adj R2 Score', 1-(1-R2)*(n-1)/(n-p-1))\n",
    "print('Variance Score:', explained_variance_score(y_test['Demanda_Med'], y_pred_med))"
   ]
  },
  {
   "cell_type": "code",
   "execution_count": 62,
   "metadata": {},
   "outputs": [
    {
     "name": "stdout",
     "output_type": "stream",
     "text": [
      "Predição Demanda Máxima\n",
      "MAE: 129.1442751244768\n",
      "RMSE: 177.40663710934976\n",
      "R2 Score: 0.8642204340142926\n",
      "Adj R2 Score 0.8633498289489829\n",
      "Variance Score: 0.8647656322517575\n"
     ]
    }
   ],
   "source": [
    "print('Predição Demanda Máxima')\n",
    "print('MAE:',mean_absolute_error(y_test['Demanda_Min'], y_pred_min))\n",
    "MSE = mean_squared_error(y_test['Demanda_Min'], y_pred_min)\n",
    "print('RMSE:',np.sqrt(MSE))\n",
    "R2 = r2_score(y_test['Demanda_Min'], y_pred_min)\n",
    "print('R2 Score:', R2)\n",
    "n= len(X_train)\n",
    "p = len(X_train.columns)\n",
    "print('Adj R2 Score', 1-(1-R2)*(n-1)/(n-p-1))\n",
    "print('Variance Score:', explained_variance_score(y_test['Demanda_Min'], y_pred_min))"
   ]
  },
  {
   "cell_type": "markdown",
   "metadata": {},
   "source": [
    "### Rede Neural"
   ]
  },
  {
   "cell_type": "code",
   "execution_count": 63,
   "metadata": {},
   "outputs": [],
   "source": [
    "from tensorflow import keras\n",
    "from tensorflow.keras import Sequential\n",
    "from tensorflow.keras import layers\n",
    "from tensorflow.keras.layers import Embedding\n",
    "from tensorflow.keras.layers import Dense"
   ]
  },
  {
   "cell_type": "code",
   "execution_count": 64,
   "metadata": {},
   "outputs": [
    {
     "name": "stdout",
     "output_type": "stream",
     "text": [
      "Please install GPU version of TF\n"
     ]
    }
   ],
   "source": [
    "import tensorflow as tf\n",
    "if tf.test.gpu_device_name():\n",
    "    print('Default GPU Device: {}'.format(tf.test.gpu_device_name()))\n",
    "else:\n",
    "    print(\"Please install GPU version of TF\")"
   ]
  },
  {
   "cell_type": "code",
   "execution_count": 65,
   "metadata": {},
   "outputs": [
    {
     "name": "stderr",
     "output_type": "stream",
     "text": [
      "Using TensorFlow backend.\n"
     ]
    }
   ],
   "source": [
    "from keras.regularizers import l1\n",
    "from keras.regularizers import l2\n",
    "from keras.regularizers import l1_l2"
   ]
  },
  {
   "cell_type": "markdown",
   "metadata": {},
   "source": [
    "**Divisão dos dados**"
   ]
  },
  {
   "cell_type": "code",
   "execution_count": 66,
   "metadata": {},
   "outputs": [],
   "source": [
    "X_train,X_test,y_train,y_test = train_test_split(X_std,Y,test_size=0.25,random_state=0)"
   ]
  },
  {
   "cell_type": "markdown",
   "metadata": {},
   "source": [
    "**Previsão de todas as demandas juntas**"
   ]
  },
  {
   "cell_type": "code",
   "execution_count": 67,
   "metadata": {},
   "outputs": [
    {
     "name": "stdout",
     "output_type": "stream",
     "text": [
      "Model: \"sequential\"\n",
      "_________________________________________________________________\n",
      "Layer (type)                 Output Shape              Param #   \n",
      "=================================================================\n",
      "dense (Dense)                (None, 128)               3328      \n",
      "_________________________________________________________________\n",
      "dense_1 (Dense)              (None, 32)                4128      \n",
      "_________________________________________________________________\n",
      "dense_2 (Dense)              (None, 3)                 99        \n",
      "=================================================================\n",
      "Total params: 7,555\n",
      "Trainable params: 7,555\n",
      "Non-trainable params: 0\n",
      "_________________________________________________________________\n"
     ]
    }
   ],
   "source": [
    "model_2 = Sequential()\n",
    "model_2.add(Dense(128, input_dim=25, kernel_initializer='orthogonal', activation='relu'))\n",
    "model_2.add(Dense(32, activation='relu', activity_regularizer =l1(0.001))) ##Melhorou um pouco com a regularização\n",
    "model_2.add(Dense(3, activation='linear'))\n",
    "model_2.summary()"
   ]
  },
  {
   "cell_type": "code",
   "execution_count": 68,
   "metadata": {},
   "outputs": [
    {
     "name": "stdout",
     "output_type": "stream",
     "text": [
      "Train on 3140 samples, validate on 785 samples\n",
      "Epoch 1/200\n",
      "3140/3140 [==============================] - 2s 532us/sample - loss: 12958632.9541 - mse: 12958633.0000 - mae: 3478.7012 - val_loss: 11864758.7975 - val_mse: 11864759.0000 - val_mae: 3320.9009\n",
      "Epoch 2/200\n",
      "3140/3140 [==============================] - 1s 179us/sample - loss: 7852508.9742 - mse: 7852509.0000 - mae: 2616.0903 - val_loss: 3715744.7143 - val_mse: 3715742.2500 - val_mae: 1702.6534\n",
      "Epoch 3/200\n",
      "3140/3140 [==============================] - 1s 180us/sample - loss: 1837854.2447 - mse: 1837851.2500 - mae: 1108.0699 - val_loss: 1118316.4145 - val_mse: 1118312.8750 - val_mae: 858.8264\n",
      "Epoch 4/200\n",
      "3140/3140 [==============================] - 1s 179us/sample - loss: 753930.1082 - mse: 753926.8750 - mae: 687.3504 - val_loss: 601317.7312 - val_mse: 601314.2500 - val_mae: 612.3795\n",
      "Epoch 5/200\n",
      "3140/3140 [==============================] - 1s 179us/sample - loss: 426296.1796 - mse: 426292.5312 - mae: 503.6187 - val_loss: 374191.7872 - val_mse: 374188.1562 - val_mae: 469.5381\n",
      "Epoch 6/200\n",
      "3140/3140 [==============================] - 1s 186us/sample - loss: 272300.9122 - mse: 272297.1875 - mae: 396.2509 - val_loss: 249397.0978 - val_mse: 249393.4062 - val_mae: 378.6147\n",
      "Epoch 7/200\n",
      "3140/3140 [==============================] - 1s 168us/sample - loss: 188183.1130 - mse: 188179.3906 - mae: 327.9094 - val_loss: 180595.3843 - val_mse: 180591.7188 - val_mae: 321.7257\n",
      "Epoch 8/200\n",
      "3140/3140 [==============================] - 1s 168us/sample - loss: 139538.8320 - mse: 139535.1875 - mae: 282.3284 - val_loss: 138230.6696 - val_mse: 138227.0156 - val_mae: 281.2722\n",
      "Epoch 9/200\n",
      "3140/3140 [==============================] - 1s 161us/sample - loss: 110971.2013 - mse: 110967.5703 - mae: 251.8022 - val_loss: 113973.2117 - val_mse: 113969.5703 - val_mae: 255.4420\n",
      "Epoch 10/200\n",
      "3140/3140 [==============================] - 1s 184us/sample - loss: 93108.9747 - mse: 93105.3281 - mae: 230.3894 - val_loss: 95990.7892 - val_mse: 95987.1250 - val_mae: 235.2086\n",
      "Epoch 11/200\n",
      "3140/3140 [==============================] - 1s 180us/sample - loss: 81041.0715 - mse: 81037.4297 - mae: 214.8082 - val_loss: 84738.9817 - val_mse: 84735.3516 - val_mae: 220.8819\n",
      "Epoch 12/200\n",
      "3140/3140 [==============================] - 1s 178us/sample - loss: 72556.3431 - mse: 72552.7109 - mae: 203.2608 - val_loss: 77134.7429 - val_mse: 77131.1016 - val_mae: 210.9191\n",
      "Epoch 13/200\n",
      "3140/3140 [==============================] - 1s 172us/sample - loss: 66188.8089 - mse: 66185.1797 - mae: 193.8167 - val_loss: 70344.8284 - val_mse: 70341.1875 - val_mae: 202.1915\n",
      "Epoch 14/200\n",
      "3140/3140 [==============================] - 1s 176us/sample - loss: 61500.8660 - mse: 61497.2266 - mae: 186.7942 - val_loss: 66140.3888 - val_mse: 66136.7422 - val_mae: 195.8434\n",
      "Epoch 15/200\n",
      "3140/3140 [==============================] - 1s 175us/sample - loss: 57823.3536 - mse: 57819.7344 - mae: 180.8519 - val_loss: 62614.4230 - val_mse: 62610.8008 - val_mae: 191.1879\n",
      "Epoch 16/200\n",
      "3140/3140 [==============================] - 1s 172us/sample - loss: 54872.5047 - mse: 54868.9023 - mae: 176.3058 - val_loss: 59239.1063 - val_mse: 59235.4766 - val_mae: 185.3917\n",
      "Epoch 17/200\n",
      "3140/3140 [==============================] - 1s 170us/sample - loss: 52816.1615 - mse: 52812.5156 - mae: 172.3357 - val_loss: 58068.0614 - val_mse: 58064.4414 - val_mae: 183.8117\n",
      "Epoch 18/200\n",
      "3140/3140 [==============================] - 1s 178us/sample - loss: 50652.7019 - mse: 50649.0586 - mae: 168.5971 - val_loss: 56152.1290 - val_mse: 56148.5195 - val_mae: 180.9996\n",
      "Epoch 19/200\n",
      "3140/3140 [==============================] - 1s 192us/sample - loss: 49232.3133 - mse: 49228.6836 - mae: 165.9589 - val_loss: 53771.3298 - val_mse: 53767.7109 - val_mae: 176.3726\n",
      "Epoch 20/200\n",
      "3140/3140 [==============================] - 1s 200us/sample - loss: 47578.8521 - mse: 47575.2344 - mae: 163.1041 - val_loss: 51329.4243 - val_mse: 51325.7891 - val_mae: 172.2626\n",
      "Epoch 21/200\n",
      "3140/3140 [==============================] - 1s 205us/sample - loss: 46264.9832 - mse: 46261.3672 - mae: 160.5590 - val_loss: 49953.9059 - val_mse: 49950.2773 - val_mae: 169.3053\n",
      "Epoch 22/200\n",
      "3140/3140 [==============================] - 1s 184us/sample - loss: 45280.1794 - mse: 45276.5508 - mae: 158.6228 - val_loss: 48825.3443 - val_mse: 48821.7227 - val_mae: 167.9625\n",
      "Epoch 23/200\n",
      "3140/3140 [==============================] - 1s 193us/sample - loss: 44232.3138 - mse: 44228.6914 - mae: 156.6437 - val_loss: 48637.4938 - val_mse: 48633.8789 - val_mae: 167.8598\n",
      "Epoch 24/200\n",
      "3140/3140 [==============================] - 1s 178us/sample - loss: 43350.6945 - mse: 43347.0938 - mae: 154.7513 - val_loss: 47203.0740 - val_mse: 47199.4492 - val_mae: 165.1394\n",
      "Epoch 25/200\n",
      "3140/3140 [==============================] - 1s 177us/sample - loss: 42525.0886 - mse: 42521.4688 - mae: 153.2643 - val_loss: 46404.6044 - val_mse: 46400.9844 - val_mae: 164.4144\n",
      "Epoch 26/200\n",
      "3140/3140 [==============================] - 1s 178us/sample - loss: 41720.9624 - mse: 41717.3438 - mae: 152.2724 - val_loss: 45275.6187 - val_mse: 45271.9883 - val_mae: 161.4394\n",
      "Epoch 27/200\n",
      "3140/3140 [==============================] - 1s 181us/sample - loss: 41234.9033 - mse: 41231.2734 - mae: 150.6720 - val_loss: 44105.1874 - val_mse: 44101.5703 - val_mae: 159.2243\n",
      "Epoch 28/200\n",
      "3140/3140 [==============================] - 1s 175us/sample - loss: 40546.1540 - mse: 40542.5312 - mae: 149.3335 - val_loss: 44158.2939 - val_mse: 44154.6719 - val_mae: 159.7522\n",
      "Epoch 29/200\n",
      "3140/3140 [==============================] - 1s 174us/sample - loss: 39918.7448 - mse: 39915.1172 - mae: 148.0014 - val_loss: 42957.5319 - val_mse: 42953.9023 - val_mae: 157.6214\n",
      "Epoch 30/200\n",
      "3140/3140 [==============================] - 1s 179us/sample - loss: 39444.2926 - mse: 39440.6719 - mae: 147.1971 - val_loss: 43071.1914 - val_mse: 43067.5625 - val_mae: 157.2164\n",
      "Epoch 31/200\n",
      "3140/3140 [==============================] - 1s 178us/sample - loss: 39274.3197 - mse: 39270.6953 - mae: 147.0033 - val_loss: 42130.8652 - val_mse: 42127.2383 - val_mae: 155.4501\n",
      "Epoch 32/200\n",
      "3140/3140 [==============================] - 1s 182us/sample - loss: 38728.3054 - mse: 38724.6914 - mae: 145.8590 - val_loss: 43095.3092 - val_mse: 43091.6875 - val_mae: 158.1470\n",
      "Epoch 33/200\n",
      "3140/3140 [==============================] - 1s 161us/sample - loss: 38279.8273 - mse: 38276.2070 - mae: 145.1747 - val_loss: 41178.1392 - val_mse: 41174.5000 - val_mae: 153.0010\n",
      "Epoch 34/200\n",
      "3140/3140 [==============================] - 1s 168us/sample - loss: 37641.6172 - mse: 37638.0039 - mae: 143.3618 - val_loss: 41798.9407 - val_mse: 41795.3242 - val_mae: 155.3903\n",
      "Epoch 35/200\n",
      "3140/3140 [==============================] - 1s 175us/sample - loss: 37356.2215 - mse: 37352.5898 - mae: 142.9576 - val_loss: 40056.3937 - val_mse: 40052.7500 - val_mae: 150.6196\n",
      "Epoch 36/200\n",
      "3140/3140 [==============================] - 1s 168us/sample - loss: 37065.9301 - mse: 37062.3125 - mae: 142.2913 - val_loss: 40595.9490 - val_mse: 40592.3086 - val_mae: 151.7090\n",
      "Epoch 37/200\n",
      "3140/3140 [==============================] - 1s 181us/sample - loss: 36837.8486 - mse: 36834.2266 - mae: 141.6471 - val_loss: 40380.1660 - val_mse: 40376.5312 - val_mae: 151.0794\n",
      "Epoch 38/200\n",
      "3140/3140 [==============================] - 1s 174us/sample - loss: 36540.7489 - mse: 36537.1172 - mae: 141.1966 - val_loss: 39713.5721 - val_mse: 39709.9453 - val_mae: 149.7794\n",
      "Epoch 39/200\n",
      "3140/3140 [==============================] - 1s 192us/sample - loss: 36246.5419 - mse: 36242.9336 - mae: 139.9870 - val_loss: 38923.4844 - val_mse: 38919.8516 - val_mae: 147.7430\n",
      "Epoch 40/200\n",
      "3140/3140 [==============================] - 1s 182us/sample - loss: 35937.8728 - mse: 35934.2539 - mae: 139.4675 - val_loss: 39757.9613 - val_mse: 39754.3281 - val_mae: 149.9605\n",
      "Epoch 41/200\n",
      "3140/3140 [==============================] - 1s 181us/sample - loss: 35860.8233 - mse: 35857.1953 - mae: 138.6834 - val_loss: 39161.1292 - val_mse: 39157.5000 - val_mae: 148.7538\n",
      "Epoch 42/200\n",
      "3140/3140 [==============================] - 1s 178us/sample - loss: 35333.5984 - mse: 35329.9766 - mae: 138.1953 - val_loss: 38388.5618 - val_mse: 38384.9258 - val_mae: 145.8323\n",
      "Epoch 43/200\n"
     ]
    },
    {
     "name": "stdout",
     "output_type": "stream",
     "text": [
      "3140/3140 [==============================] - 1s 182us/sample - loss: 35063.8167 - mse: 35060.1875 - mae: 136.6124 - val_loss: 38613.3372 - val_mse: 38609.7070 - val_mae: 147.2263\n",
      "Epoch 44/200\n",
      "3140/3140 [==============================] - 1s 178us/sample - loss: 34964.4081 - mse: 34960.7852 - mae: 136.5339 - val_loss: 38027.1662 - val_mse: 38023.5352 - val_mae: 145.4408\n",
      "Epoch 45/200\n",
      "3140/3140 [==============================] - 1s 179us/sample - loss: 34704.4528 - mse: 34700.8242 - mae: 135.9283 - val_loss: 38197.4818 - val_mse: 38193.8633 - val_mae: 145.3344\n",
      "Epoch 46/200\n",
      "3140/3140 [==============================] - 1s 179us/sample - loss: 34544.0374 - mse: 34540.4336 - mae: 136.1489 - val_loss: 38674.0986 - val_mse: 38670.4648 - val_mae: 146.5713\n",
      "Epoch 47/200\n",
      "3140/3140 [==============================] - 1s 187us/sample - loss: 34259.9758 - mse: 34256.3516 - mae: 135.4562 - val_loss: 38933.1837 - val_mse: 38929.5664 - val_mae: 147.4631\n",
      "Epoch 48/200\n",
      "3140/3140 [==============================] - 1s 203us/sample - loss: 34161.6299 - mse: 34158.0039 - mae: 134.6337 - val_loss: 37955.3094 - val_mse: 37951.6758 - val_mae: 145.7231\n",
      "Epoch 49/200\n",
      "3140/3140 [==============================] - 1s 207us/sample - loss: 34075.8640 - mse: 34072.2461 - mae: 134.2712 - val_loss: 38184.1217 - val_mse: 38180.5078 - val_mae: 145.7276\n",
      "Epoch 50/200\n",
      "3140/3140 [==============================] - 1s 204us/sample - loss: 33856.1261 - mse: 33852.5156 - mae: 134.0283 - val_loss: 38426.9510 - val_mse: 38423.3281 - val_mae: 146.1174\n",
      "Epoch 51/200\n",
      "3140/3140 [==============================] - 1s 189us/sample - loss: 33911.9453 - mse: 33908.3203 - mae: 134.0776 - val_loss: 37185.2052 - val_mse: 37181.5742 - val_mae: 142.9243\n",
      "Epoch 52/200\n",
      "3140/3140 [==============================] - 1s 186us/sample - loss: 33740.4305 - mse: 33736.8203 - mae: 133.3444 - val_loss: 37109.0012 - val_mse: 37105.3672 - val_mae: 143.1332\n",
      "Epoch 53/200\n",
      "3140/3140 [==============================] - 1s 178us/sample - loss: 33576.9460 - mse: 33573.3242 - mae: 133.2803 - val_loss: 37242.2963 - val_mse: 37238.6719 - val_mae: 143.2793\n",
      "Epoch 54/200\n",
      "3140/3140 [==============================] - 1s 181us/sample - loss: 33347.3875 - mse: 33343.7695 - mae: 132.1814 - val_loss: 36829.2812 - val_mse: 36825.6406 - val_mae: 142.5310\n",
      "Epoch 55/200\n",
      "3140/3140 [==============================] - 1s 179us/sample - loss: 33143.3383 - mse: 33139.7148 - mae: 132.3929 - val_loss: 36913.5525 - val_mse: 36909.9102 - val_mae: 142.3841\n",
      "Epoch 56/200\n",
      "3140/3140 [==============================] - 1s 179us/sample - loss: 33170.2473 - mse: 33166.6211 - mae: 131.7906 - val_loss: 36288.3915 - val_mse: 36284.7422 - val_mae: 140.5866\n",
      "Epoch 57/200\n",
      "3140/3140 [==============================] - 1s 177us/sample - loss: 32845.4817 - mse: 32841.8438 - mae: 131.3612 - val_loss: 36627.7149 - val_mse: 36624.0547 - val_mae: 140.5780\n",
      "Epoch 58/200\n",
      "3140/3140 [==============================] - 1s 167us/sample - loss: 32859.7233 - mse: 32856.0898 - mae: 130.9734 - val_loss: 36429.9950 - val_mse: 36426.3438 - val_mae: 141.0329\n",
      "Epoch 59/200\n",
      "3140/3140 [==============================] - 1s 167us/sample - loss: 32651.7031 - mse: 32648.0762 - mae: 130.3137 - val_loss: 36613.9196 - val_mse: 36610.2734 - val_mae: 141.3192\n",
      "Epoch 60/200\n",
      "3140/3140 [==============================] - 1s 176us/sample - loss: 32443.9934 - mse: 32440.3457 - mae: 130.0901 - val_loss: 35546.6168 - val_mse: 35542.9648 - val_mae: 138.8396\n",
      "Epoch 61/200\n",
      "3140/3140 [==============================] - 1s 178us/sample - loss: 32221.3103 - mse: 32217.6719 - mae: 129.4860 - val_loss: 36620.8130 - val_mse: 36617.1523 - val_mae: 140.4465\n",
      "Epoch 62/200\n",
      "3140/3140 [==============================] - 1s 161us/sample - loss: 32259.4618 - mse: 32255.8242 - mae: 129.4900 - val_loss: 36249.4325 - val_mse: 36245.7852 - val_mae: 140.1902\n",
      "Epoch 63/200\n",
      "3140/3140 [==============================] - 1s 180us/sample - loss: 31961.8569 - mse: 31958.2266 - mae: 128.8521 - val_loss: 36117.4491 - val_mse: 36113.8125 - val_mae: 139.4670\n",
      "Epoch 64/200\n",
      "3140/3140 [==============================] - 1s 161us/sample - loss: 32093.6056 - mse: 32089.9648 - mae: 129.3687 - val_loss: 35985.9091 - val_mse: 35982.2539 - val_mae: 138.8102\n",
      "Epoch 65/200\n",
      "3140/3140 [==============================] - 1s 176us/sample - loss: 32105.0988 - mse: 32101.4629 - mae: 128.6522 - val_loss: 36531.6056 - val_mse: 36527.9727 - val_mae: 140.9558\n",
      "Epoch 66/200\n",
      "3140/3140 [==============================] - 1s 169us/sample - loss: 31773.0047 - mse: 31769.3672 - mae: 128.1879 - val_loss: 35424.9103 - val_mse: 35421.2578 - val_mae: 137.9641\n",
      "Epoch 67/200\n",
      "3140/3140 [==============================] - 1s 177us/sample - loss: 31831.9684 - mse: 31828.3262 - mae: 128.4513 - val_loss: 36283.9975 - val_mse: 36280.3555 - val_mae: 140.3570\n",
      "Epoch 68/200\n",
      "3140/3140 [==============================] - 1s 181us/sample - loss: 31646.5532 - mse: 31642.9180 - mae: 128.0892 - val_loss: 35717.2800 - val_mse: 35713.6172 - val_mae: 138.3047\n",
      "Epoch 69/200\n",
      "3140/3140 [==============================] - 1s 180us/sample - loss: 31727.6876 - mse: 31724.0566 - mae: 127.6272 - val_loss: 35413.2730 - val_mse: 35409.6172 - val_mae: 137.8885\n",
      "Epoch 70/200\n",
      "3140/3140 [==============================] - 1s 182us/sample - loss: 31544.0162 - mse: 31540.3672 - mae: 127.6324 - val_loss: 35342.5500 - val_mse: 35338.8906 - val_mae: 137.5948\n",
      "Epoch 71/200\n",
      "3140/3140 [==============================] - 1s 183us/sample - loss: 31486.6073 - mse: 31482.9551 - mae: 127.1348 - val_loss: 35552.0277 - val_mse: 35548.3789 - val_mae: 138.6108\n",
      "Epoch 72/200\n",
      "3140/3140 [==============================] - 0s 133us/sample - loss: 31632.7031 - mse: 31629.0684 - mae: 127.8544 - val_loss: 35474.0868 - val_mse: 35470.4336 - val_mae: 138.3249\n",
      "Epoch 73/200\n",
      "3140/3140 [==============================] - 0s 138us/sample - loss: 31438.4013 - mse: 31434.7598 - mae: 127.6329 - val_loss: 35805.4787 - val_mse: 35801.8125 - val_mae: 137.9771\n",
      "Epoch 74/200\n",
      "3140/3140 [==============================] - 1s 180us/sample - loss: 31265.9752 - mse: 31262.3535 - mae: 126.8173 - val_loss: 35634.3863 - val_mse: 35630.7188 - val_mae: 137.6461\n",
      "Epoch 75/200\n",
      "3140/3140 [==============================] - 1s 180us/sample - loss: 31253.0067 - mse: 31249.3711 - mae: 127.0302 - val_loss: 36092.7780 - val_mse: 36089.1016 - val_mae: 138.2385\n",
      "Epoch 76/200\n",
      "3140/3140 [==============================] - 1s 192us/sample - loss: 31157.6122 - mse: 31153.9727 - mae: 126.4197 - val_loss: 35564.6741 - val_mse: 35561.0352 - val_mae: 139.1598\n",
      "Epoch 77/200\n",
      "3140/3140 [==============================] - 1s 188us/sample - loss: 30897.3919 - mse: 30893.7598 - mae: 126.2159 - val_loss: 35009.7896 - val_mse: 35006.1367 - val_mae: 136.8549\n",
      "Epoch 78/200\n",
      "3140/3140 [==============================] - 1s 190us/sample - loss: 31203.1694 - mse: 31199.5293 - mae: 126.4313 - val_loss: 35520.7490 - val_mse: 35517.1016 - val_mae: 138.6412\n",
      "Epoch 79/200\n",
      "3140/3140 [==============================] - 1s 197us/sample - loss: 31011.7502 - mse: 31008.1113 - mae: 126.3265 - val_loss: 35776.8962 - val_mse: 35773.2344 - val_mae: 137.6176\n",
      "Epoch 80/200\n",
      "3140/3140 [==============================] - 1s 195us/sample - loss: 30690.9969 - mse: 30687.3711 - mae: 125.5089 - val_loss: 37657.0487 - val_mse: 37653.4102 - val_mae: 143.2480\n",
      "Epoch 81/200\n",
      "3140/3140 [==============================] - 1s 171us/sample - loss: 30982.4077 - mse: 30978.7754 - mae: 126.0722 - val_loss: 34722.8183 - val_mse: 34719.1602 - val_mae: 135.6520\n",
      "Epoch 82/200\n",
      "3140/3140 [==============================] - 1s 172us/sample - loss: 30709.6459 - mse: 30706.0098 - mae: 125.9144 - val_loss: 34890.0183 - val_mse: 34886.3477 - val_mae: 135.8700\n",
      "Epoch 83/200\n",
      "3140/3140 [==============================] - 1s 169us/sample - loss: 30617.5896 - mse: 30613.9434 - mae: 125.0669 - val_loss: 35208.8245 - val_mse: 35205.1758 - val_mae: 137.7771\n",
      "Epoch 84/200\n",
      "3140/3140 [==============================] - 1s 179us/sample - loss: 30693.5009 - mse: 30689.8691 - mae: 126.0220 - val_loss: 34640.2711 - val_mse: 34636.6094 - val_mae: 135.0302\n",
      "Epoch 85/200\n",
      "3140/3140 [==============================] - 1s 179us/sample - loss: 30559.6924 - mse: 30556.0508 - mae: 125.6538 - val_loss: 36176.1813 - val_mse: 36172.5234 - val_mae: 138.7207\n"
     ]
    },
    {
     "name": "stdout",
     "output_type": "stream",
     "text": [
      "Epoch 86/200\n",
      "3140/3140 [==============================] - 1s 181us/sample - loss: 30400.2345 - mse: 30396.5996 - mae: 124.8835 - val_loss: 35596.7495 - val_mse: 35593.1094 - val_mae: 138.6965\n",
      "Epoch 87/200\n",
      "3140/3140 [==============================] - 1s 184us/sample - loss: 30527.8277 - mse: 30524.1934 - mae: 125.2660 - val_loss: 34549.2549 - val_mse: 34545.6016 - val_mae: 135.0551\n",
      "Epoch 88/200\n",
      "3140/3140 [==============================] - 1s 180us/sample - loss: 30427.0905 - mse: 30423.4570 - mae: 124.8913 - val_loss: 34939.6046 - val_mse: 34935.9531 - val_mae: 136.9861\n",
      "Epoch 89/200\n",
      "3140/3140 [==============================] - 1s 179us/sample - loss: 30108.3775 - mse: 30104.7305 - mae: 124.2938 - val_loss: 34646.9229 - val_mse: 34643.2734 - val_mae: 136.0138\n",
      "Epoch 90/200\n",
      "3140/3140 [==============================] - 1s 177us/sample - loss: 30268.5059 - mse: 30264.8711 - mae: 124.8042 - val_loss: 35747.7032 - val_mse: 35744.0703 - val_mae: 139.4917\n",
      "Epoch 91/200\n",
      "3140/3140 [==============================] - 1s 180us/sample - loss: 30187.4294 - mse: 30183.7988 - mae: 124.0531 - val_loss: 34661.1645 - val_mse: 34657.5195 - val_mae: 136.1380\n",
      "Epoch 92/200\n",
      "3140/3140 [==============================] - 1s 185us/sample - loss: 30156.2492 - mse: 30152.6113 - mae: 124.4135 - val_loss: 34546.8715 - val_mse: 34543.2305 - val_mae: 135.9196\n",
      "Epoch 93/200\n",
      "3140/3140 [==============================] - 1s 179us/sample - loss: 30241.9115 - mse: 30238.2910 - mae: 124.6362 - val_loss: 34824.2497 - val_mse: 34820.6016 - val_mae: 136.5675\n",
      "Epoch 94/200\n",
      "3140/3140 [==============================] - 1s 180us/sample - loss: 30034.8062 - mse: 30031.1699 - mae: 124.1100 - val_loss: 34685.6298 - val_mse: 34681.9727 - val_mae: 135.4096\n",
      "Epoch 95/200\n",
      "3140/3140 [==============================] - 1s 178us/sample - loss: 30022.6790 - mse: 30019.0391 - mae: 124.1400 - val_loss: 34816.4109 - val_mse: 34812.7656 - val_mae: 137.1815\n",
      "Epoch 96/200\n",
      "3140/3140 [==============================] - 1s 178us/sample - loss: 30084.9307 - mse: 30081.2969 - mae: 124.2812 - val_loss: 34703.9532 - val_mse: 34700.3047 - val_mae: 136.2639\n",
      "Epoch 97/200\n",
      "3140/3140 [==============================] - 1s 184us/sample - loss: 29916.6644 - mse: 29913.0312 - mae: 123.8105 - val_loss: 34811.9303 - val_mse: 34808.2812 - val_mae: 135.3921\n",
      "Epoch 98/200\n",
      "3140/3140 [==============================] - 1s 181us/sample - loss: 29834.4901 - mse: 29830.8457 - mae: 123.6676 - val_loss: 36627.8110 - val_mse: 36624.1797 - val_mae: 140.9554\n",
      "Epoch 99/200\n",
      "3140/3140 [==============================] - 1s 178us/sample - loss: 29715.9266 - mse: 29712.2930 - mae: 123.5847 - val_loss: 34708.5290 - val_mse: 34704.8867 - val_mae: 136.4040\n",
      "Epoch 100/200\n",
      "3140/3140 [==============================] - 1s 186us/sample - loss: 29896.9114 - mse: 29893.2695 - mae: 123.5895 - val_loss: 34728.5066 - val_mse: 34724.8672 - val_mae: 136.3803\n",
      "Epoch 101/200\n",
      "3140/3140 [==============================] - 1s 182us/sample - loss: 29664.2054 - mse: 29660.5547 - mae: 123.4550 - val_loss: 34745.2864 - val_mse: 34741.6445 - val_mae: 136.8618\n",
      "Epoch 102/200\n",
      "3140/3140 [==============================] - 1s 179us/sample - loss: 29528.3322 - mse: 29524.7031 - mae: 123.1353 - val_loss: 34584.7232 - val_mse: 34581.0703 - val_mae: 135.1172\n",
      "Epoch 103/200\n",
      "3140/3140 [==============================] - 0s 156us/sample - loss: 29440.7209 - mse: 29437.0820 - mae: 122.5536 - val_loss: 34591.8939 - val_mse: 34588.2539 - val_mae: 136.7988\n",
      "Epoch 104/200\n",
      "3140/3140 [==============================] - 1s 180us/sample - loss: 29553.6183 - mse: 29549.9824 - mae: 122.9361 - val_loss: 34571.1989 - val_mse: 34567.5430 - val_mae: 134.4609\n",
      "Epoch 105/200\n",
      "3140/3140 [==============================] - 1s 206us/sample - loss: 29478.7669 - mse: 29475.1309 - mae: 122.6813 - val_loss: 34160.8064 - val_mse: 34157.1484 - val_mae: 133.6914\n",
      "Epoch 106/200\n",
      "3140/3140 [==============================] - 1s 185us/sample - loss: 29405.8003 - mse: 29402.1660 - mae: 122.6104 - val_loss: 33975.2117 - val_mse: 33971.5508 - val_mae: 133.1509\n",
      "Epoch 107/200\n",
      "3140/3140 [==============================] - 1s 182us/sample - loss: 29483.2087 - mse: 29479.5742 - mae: 122.8757 - val_loss: 34376.1916 - val_mse: 34372.5469 - val_mae: 135.1675\n",
      "Epoch 108/200\n",
      "3140/3140 [==============================] - 0s 146us/sample - loss: 29613.0273 - mse: 29609.3828 - mae: 123.1800 - val_loss: 34161.3255 - val_mse: 34157.6719 - val_mae: 134.2412\n",
      "Epoch 109/200\n",
      "3140/3140 [==============================] - 1s 177us/sample - loss: 29509.9936 - mse: 29506.3535 - mae: 122.9252 - val_loss: 34828.5966 - val_mse: 34824.9375 - val_mae: 136.1419\n",
      "Epoch 110/200\n",
      "3140/3140 [==============================] - 1s 183us/sample - loss: 29393.5515 - mse: 29389.9062 - mae: 122.4321 - val_loss: 34393.9548 - val_mse: 34390.2969 - val_mae: 133.5621\n",
      "Epoch 111/200\n",
      "3140/3140 [==============================] - 1s 177us/sample - loss: 29303.1387 - mse: 29299.5117 - mae: 121.9546 - val_loss: 34017.8810 - val_mse: 34014.2305 - val_mae: 134.8917\n",
      "Epoch 112/200\n",
      "3140/3140 [==============================] - 1s 181us/sample - loss: 29248.7205 - mse: 29245.0820 - mae: 121.9517 - val_loss: 33940.9202 - val_mse: 33937.2695 - val_mae: 133.8460\n",
      "Epoch 113/200\n",
      "3140/3140 [==============================] - 1s 178us/sample - loss: 29248.4118 - mse: 29244.7715 - mae: 121.8589 - val_loss: 34289.2022 - val_mse: 34285.5469 - val_mae: 134.9063\n",
      "Epoch 114/200\n",
      "3140/3140 [==============================] - 1s 172us/sample - loss: 29074.5142 - mse: 29070.8809 - mae: 121.3325 - val_loss: 33920.4793 - val_mse: 33916.8242 - val_mae: 133.6089\n",
      "Epoch 115/200\n",
      "3140/3140 [==============================] - 1s 181us/sample - loss: 28930.0550 - mse: 28926.4258 - mae: 121.4416 - val_loss: 34209.6057 - val_mse: 34205.9609 - val_mae: 135.7993\n",
      "Epoch 116/200\n",
      "3140/3140 [==============================] - 0s 157us/sample - loss: 28928.9299 - mse: 28925.2949 - mae: 121.0133 - val_loss: 33777.0281 - val_mse: 33773.3828 - val_mae: 133.6507\n",
      "Epoch 117/200\n",
      "3140/3140 [==============================] - 1s 183us/sample - loss: 28914.9436 - mse: 28911.2949 - mae: 121.4795 - val_loss: 34707.5864 - val_mse: 34703.9492 - val_mae: 137.0279\n",
      "Epoch 118/200\n",
      "3140/3140 [==============================] - 1s 178us/sample - loss: 28826.9721 - mse: 28823.3398 - mae: 121.3352 - val_loss: 34450.8018 - val_mse: 34447.1484 - val_mae: 134.4644\n",
      "Epoch 119/200\n",
      "3140/3140 [==============================] - 1s 174us/sample - loss: 28806.3426 - mse: 28802.7031 - mae: 120.8788 - val_loss: 34970.5294 - val_mse: 34966.8906 - val_mae: 137.0141\n",
      "Epoch 120/200\n",
      "3140/3140 [==============================] - 1s 182us/sample - loss: 28963.4565 - mse: 28959.8164 - mae: 121.3539 - val_loss: 34293.3526 - val_mse: 34289.6953 - val_mae: 134.5395\n",
      "Epoch 121/200\n",
      "3140/3140 [==============================] - 1s 180us/sample - loss: 28884.6297 - mse: 28880.9980 - mae: 120.6840 - val_loss: 33910.7703 - val_mse: 33907.1289 - val_mae: 133.9008\n",
      "Epoch 122/200\n",
      "3140/3140 [==============================] - 1s 176us/sample - loss: 28777.1908 - mse: 28773.5625 - mae: 120.8964 - val_loss: 34103.8296 - val_mse: 34100.1875 - val_mae: 134.1727\n",
      "Epoch 123/200\n",
      "3140/3140 [==============================] - 1s 174us/sample - loss: 28766.6743 - mse: 28763.0352 - mae: 121.0590 - val_loss: 34892.5542 - val_mse: 34888.9023 - val_mae: 134.9230\n",
      "Epoch 124/200\n",
      "3140/3140 [==============================] - 1s 182us/sample - loss: 28855.9072 - mse: 28852.2773 - mae: 121.2921 - val_loss: 33924.3655 - val_mse: 33920.7148 - val_mae: 134.3687\n",
      "Epoch 125/200\n",
      "3140/3140 [==============================] - 1s 174us/sample - loss: 28708.5371 - mse: 28704.8965 - mae: 120.7103 - val_loss: 35058.4416 - val_mse: 35054.7734 - val_mae: 135.2690\n",
      "Epoch 126/200\n",
      "3140/3140 [==============================] - 1s 175us/sample - loss: 28831.0011 - mse: 28827.3613 - mae: 121.0979 - val_loss: 34913.2309 - val_mse: 34909.5898 - val_mae: 136.0350\n",
      "Epoch 127/200\n",
      "3140/3140 [==============================] - 1s 173us/sample - loss: 28586.6822 - mse: 28583.0352 - mae: 120.7523 - val_loss: 34905.3901 - val_mse: 34901.7344 - val_mae: 134.6192\n",
      "Epoch 128/200\n"
     ]
    },
    {
     "name": "stdout",
     "output_type": "stream",
     "text": [
      "3140/3140 [==============================] - 1s 181us/sample - loss: 28588.9711 - mse: 28585.3379 - mae: 120.1758 - val_loss: 34080.6013 - val_mse: 34076.9492 - val_mae: 134.2199\n",
      "Epoch 129/200\n",
      "3140/3140 [==============================] - 1s 184us/sample - loss: 28540.4504 - mse: 28536.8145 - mae: 120.1403 - val_loss: 34652.1892 - val_mse: 34648.5508 - val_mae: 136.7741\n",
      "Epoch 130/200\n",
      "3140/3140 [==============================] - 1s 175us/sample - loss: 28529.3088 - mse: 28525.6680 - mae: 120.5904 - val_loss: 34395.9139 - val_mse: 34392.2656 - val_mae: 134.6742\n",
      "Epoch 131/200\n",
      "3140/3140 [==============================] - 1s 173us/sample - loss: 28545.7073 - mse: 28542.0762 - mae: 120.3378 - val_loss: 34381.6039 - val_mse: 34377.9531 - val_mae: 134.7551\n",
      "Epoch 132/200\n",
      "3140/3140 [==============================] - 1s 180us/sample - loss: 28720.4106 - mse: 28716.7773 - mae: 120.7973 - val_loss: 34141.2583 - val_mse: 34137.6016 - val_mae: 133.3987\n",
      "Epoch 133/200\n",
      "3140/3140 [==============================] - 1s 198us/sample - loss: 28452.6047 - mse: 28448.9707 - mae: 120.3168 - val_loss: 35004.6387 - val_mse: 35000.9648 - val_mae: 134.4614\n",
      "Epoch 134/200\n",
      "3140/3140 [==============================] - 1s 211us/sample - loss: 28579.4200 - mse: 28575.7832 - mae: 120.2660 - val_loss: 33821.0596 - val_mse: 33817.4102 - val_mae: 133.5596\n",
      "Epoch 135/200\n",
      "3140/3140 [==============================] - 1s 208us/sample - loss: 28402.6400 - mse: 28399.0039 - mae: 119.9849 - val_loss: 34406.0755 - val_mse: 34402.4375 - val_mae: 136.2636\n",
      "Epoch 136/200\n",
      "3140/3140 [==============================] - 1s 198us/sample - loss: 28274.6366 - mse: 28271.0020 - mae: 119.9329 - val_loss: 33677.0012 - val_mse: 33673.3516 - val_mae: 132.7863\n",
      "Epoch 137/200\n",
      "3140/3140 [==============================] - 1s 179us/sample - loss: 28323.6700 - mse: 28320.0332 - mae: 119.7723 - val_loss: 33882.7623 - val_mse: 33879.1055 - val_mae: 133.7620\n",
      "Epoch 138/200\n",
      "3140/3140 [==============================] - 1s 179us/sample - loss: 28396.5374 - mse: 28392.8926 - mae: 119.8088 - val_loss: 34131.8788 - val_mse: 34128.2422 - val_mae: 134.7823\n",
      "Epoch 139/200\n",
      "3140/3140 [==============================] - 1s 181us/sample - loss: 28201.8633 - mse: 28198.2266 - mae: 119.5711 - val_loss: 34473.3074 - val_mse: 34469.6523 - val_mae: 135.1828\n",
      "Epoch 140/200\n",
      "3140/3140 [==============================] - 1s 178us/sample - loss: 28303.7631 - mse: 28300.1328 - mae: 119.8598 - val_loss: 33986.3745 - val_mse: 33982.7344 - val_mae: 134.3903\n",
      "Epoch 141/200\n",
      "3140/3140 [==============================] - 1s 180us/sample - loss: 28261.5092 - mse: 28257.8691 - mae: 119.3325 - val_loss: 33951.7251 - val_mse: 33948.0781 - val_mae: 133.8911\n",
      "Epoch 142/200\n",
      "3140/3140 [==============================] - 1s 180us/sample - loss: 28334.6171 - mse: 28330.9844 - mae: 119.6081 - val_loss: 33573.7941 - val_mse: 33570.1445 - val_mae: 132.6494\n",
      "Epoch 143/200\n",
      "3140/3140 [==============================] - 1s 179us/sample - loss: 28523.8996 - mse: 28520.2695 - mae: 120.3060 - val_loss: 33501.9674 - val_mse: 33498.3125 - val_mae: 132.7562\n",
      "Epoch 144/200\n",
      "3140/3140 [==============================] - 1s 182us/sample - loss: 28206.8166 - mse: 28203.1914 - mae: 119.4226 - val_loss: 33629.7737 - val_mse: 33626.1211 - val_mae: 133.4521\n",
      "Epoch 145/200\n",
      "3140/3140 [==============================] - 1s 189us/sample - loss: 28282.2601 - mse: 28278.6270 - mae: 119.3039 - val_loss: 33882.4055 - val_mse: 33878.7500 - val_mae: 133.3602\n",
      "Epoch 146/200\n",
      "3140/3140 [==============================] - 1s 179us/sample - loss: 28086.5300 - mse: 28082.8965 - mae: 119.4993 - val_loss: 33655.9393 - val_mse: 33652.2812 - val_mae: 131.7817\n",
      "Epoch 147/200\n",
      "3140/3140 [==============================] - 1s 179us/sample - loss: 28242.0349 - mse: 28238.4082 - mae: 119.6087 - val_loss: 34043.9681 - val_mse: 34040.3086 - val_mae: 133.7242\n",
      "Epoch 148/200\n",
      "3140/3140 [==============================] - 1s 174us/sample - loss: 28151.1680 - mse: 28147.5176 - mae: 119.1197 - val_loss: 34078.0144 - val_mse: 34074.3555 - val_mae: 133.8959\n",
      "Epoch 149/200\n",
      "3140/3140 [==============================] - 1s 180us/sample - loss: 27915.6823 - mse: 27912.0488 - mae: 118.8474 - val_loss: 33320.1841 - val_mse: 33316.5391 - val_mae: 132.0375\n",
      "Epoch 150/200\n",
      "3140/3140 [==============================] - 1s 183us/sample - loss: 28102.9560 - mse: 28099.3145 - mae: 118.9664 - val_loss: 34096.4182 - val_mse: 34092.7656 - val_mae: 134.7429\n",
      "Epoch 151/200\n",
      "3140/3140 [==============================] - 1s 180us/sample - loss: 28022.3831 - mse: 28018.7520 - mae: 119.0810 - val_loss: 34748.5201 - val_mse: 34744.8906 - val_mae: 137.6621\n",
      "Epoch 152/200\n",
      "3140/3140 [==============================] - 1s 180us/sample - loss: 27985.3496 - mse: 27981.7129 - mae: 119.0912 - val_loss: 33259.4132 - val_mse: 33255.7578 - val_mae: 132.3400\n",
      "Epoch 153/200\n",
      "3140/3140 [==============================] - 1s 180us/sample - loss: 27854.9008 - mse: 27851.2578 - mae: 118.9700 - val_loss: 34566.4049 - val_mse: 34562.7422 - val_mae: 134.4617\n",
      "Epoch 154/200\n",
      "3140/3140 [==============================] - 1s 179us/sample - loss: 28031.3656 - mse: 28027.7305 - mae: 119.1772 - val_loss: 33567.1754 - val_mse: 33563.5273 - val_mae: 132.2794\n",
      "Epoch 155/200\n",
      "3140/3140 [==============================] - 1s 179us/sample - loss: 27999.4453 - mse: 27995.8008 - mae: 118.9953 - val_loss: 33687.7428 - val_mse: 33684.0898 - val_mae: 132.6097\n",
      "Epoch 156/200\n",
      "3140/3140 [==============================] - 1s 179us/sample - loss: 27855.1893 - mse: 27851.5469 - mae: 118.7108 - val_loss: 34776.3692 - val_mse: 34772.7305 - val_mae: 136.4000\n",
      "Epoch 157/200\n",
      "3140/3140 [==============================] - 1s 179us/sample - loss: 27941.9231 - mse: 27938.2852 - mae: 118.5876 - val_loss: 33565.2753 - val_mse: 33561.6289 - val_mae: 133.6036\n",
      "Epoch 158/200\n",
      "3140/3140 [==============================] - 1s 177us/sample - loss: 27896.2454 - mse: 27892.6055 - mae: 118.7545 - val_loss: 34139.8570 - val_mse: 34136.2148 - val_mae: 134.8557\n",
      "Epoch 159/200\n",
      "3140/3140 [==============================] - 1s 179us/sample - loss: 27822.3294 - mse: 27818.7012 - mae: 118.3623 - val_loss: 33807.6773 - val_mse: 33804.0469 - val_mae: 134.7686\n",
      "Epoch 160/200\n",
      "3140/3140 [==============================] - 1s 188us/sample - loss: 27979.2024 - mse: 27975.5645 - mae: 119.0114 - val_loss: 33787.5833 - val_mse: 33783.9258 - val_mae: 133.0447\n",
      "Epoch 161/200\n",
      "3140/3140 [==============================] - 1s 185us/sample - loss: 27954.4609 - mse: 27950.8145 - mae: 118.8179 - val_loss: 33426.8000 - val_mse: 33423.1406 - val_mae: 132.5155\n",
      "Epoch 162/200\n",
      "3140/3140 [==============================] - 1s 197us/sample - loss: 27817.1708 - mse: 27813.5293 - mae: 118.4429 - val_loss: 34728.0265 - val_mse: 34724.3867 - val_mae: 135.8146\n",
      "Epoch 163/200\n",
      "3140/3140 [==============================] - 1s 196us/sample - loss: 27895.8432 - mse: 27892.1992 - mae: 118.6672 - val_loss: 33561.6211 - val_mse: 33557.9648 - val_mae: 132.6202\n",
      "Epoch 164/200\n",
      "3140/3140 [==============================] - 1s 190us/sample - loss: 27797.4295 - mse: 27793.7891 - mae: 118.4899 - val_loss: 33806.1664 - val_mse: 33802.5156 - val_mae: 133.9845\n",
      "Epoch 165/200\n",
      "3140/3140 [==============================] - 1s 178us/sample - loss: 27625.9592 - mse: 27622.3184 - mae: 117.8982 - val_loss: 33257.6184 - val_mse: 33253.9609 - val_mae: 131.2709\n",
      "Epoch 166/200\n",
      "3140/3140 [==============================] - 1s 177us/sample - loss: 27716.6362 - mse: 27713.0039 - mae: 118.5854 - val_loss: 33358.4142 - val_mse: 33354.7617 - val_mae: 132.5939\n",
      "Epoch 167/200\n",
      "3140/3140 [==============================] - 1s 178us/sample - loss: 27712.1439 - mse: 27708.5156 - mae: 118.2167 - val_loss: 33660.7654 - val_mse: 33657.1172 - val_mae: 133.1510\n",
      "Epoch 168/200\n",
      "3140/3140 [==============================] - 1s 181us/sample - loss: 27802.9136 - mse: 27799.2734 - mae: 118.7278 - val_loss: 33738.2874 - val_mse: 33734.6250 - val_mae: 132.6533\n",
      "Epoch 169/200\n",
      "3140/3140 [==============================] - 1s 163us/sample - loss: 27636.1114 - mse: 27632.4688 - mae: 118.0113 - val_loss: 34538.1418 - val_mse: 34534.5039 - val_mae: 136.4224\n",
      "Epoch 170/200\n"
     ]
    },
    {
     "name": "stdout",
     "output_type": "stream",
     "text": [
      "3140/3140 [==============================] - 1s 175us/sample - loss: 27609.7841 - mse: 27606.1367 - mae: 118.1738 - val_loss: 34982.3997 - val_mse: 34978.7656 - val_mae: 137.7892\n",
      "Epoch 171/200\n",
      "3140/3140 [==============================] - 1s 178us/sample - loss: 27648.4913 - mse: 27644.8457 - mae: 118.2252 - val_loss: 33585.6423 - val_mse: 33581.9844 - val_mae: 132.3583\n",
      "Epoch 172/200\n",
      "3140/3140 [==============================] - 1s 181us/sample - loss: 27654.1780 - mse: 27650.5469 - mae: 117.8521 - val_loss: 33404.2657 - val_mse: 33400.6016 - val_mae: 132.0129\n",
      "Epoch 173/200\n",
      "3140/3140 [==============================] - 1s 189us/sample - loss: 27718.8218 - mse: 27715.1855 - mae: 118.3415 - val_loss: 33469.4979 - val_mse: 33465.8516 - val_mae: 133.5041\n",
      "Epoch 174/200\n",
      "3140/3140 [==============================] - 1s 166us/sample - loss: 27621.4969 - mse: 27617.8633 - mae: 118.0139 - val_loss: 33321.3552 - val_mse: 33317.7031 - val_mae: 132.2389\n",
      "Epoch 175/200\n",
      "3140/3140 [==============================] - 1s 180us/sample - loss: 27432.2804 - mse: 27428.6465 - mae: 117.8908 - val_loss: 34172.2523 - val_mse: 34168.5820 - val_mae: 133.4991\n",
      "Epoch 176/200\n",
      "3140/3140 [==============================] - 0s 158us/sample - loss: 27462.9007 - mse: 27459.2578 - mae: 117.3063 - val_loss: 33757.6075 - val_mse: 33753.9609 - val_mae: 133.3005\n",
      "Epoch 177/200\n",
      "3140/3140 [==============================] - 1s 180us/sample - loss: 27335.2014 - mse: 27331.5508 - mae: 117.7801 - val_loss: 33582.8589 - val_mse: 33579.1992 - val_mae: 132.2806\n",
      "Epoch 178/200\n",
      "3140/3140 [==============================] - 1s 187us/sample - loss: 27604.5062 - mse: 27600.8633 - mae: 118.2355 - val_loss: 34214.5260 - val_mse: 34210.8750 - val_mae: 134.6656\n",
      "Epoch 179/200\n",
      "3140/3140 [==============================] - 1s 179us/sample - loss: 27463.7094 - mse: 27460.0664 - mae: 117.3190 - val_loss: 33100.8020 - val_mse: 33097.1484 - val_mae: 132.1609\n",
      "Epoch 180/200\n",
      "3140/3140 [==============================] - 1s 185us/sample - loss: 27271.6959 - mse: 27268.0508 - mae: 117.3552 - val_loss: 33329.4986 - val_mse: 33325.8398 - val_mae: 131.9920\n",
      "Epoch 181/200\n",
      "3140/3140 [==============================] - 1s 172us/sample - loss: 27129.9400 - mse: 27126.2988 - mae: 116.8618 - val_loss: 35117.5123 - val_mse: 35113.8750 - val_mae: 137.6581\n",
      "Epoch 182/200\n",
      "3140/3140 [==============================] - 1s 178us/sample - loss: 27400.6358 - mse: 27396.9902 - mae: 117.4254 - val_loss: 33566.5033 - val_mse: 33562.8516 - val_mae: 133.7034\n",
      "Epoch 183/200\n",
      "3140/3140 [==============================] - 1s 178us/sample - loss: 27337.7578 - mse: 27334.1113 - mae: 117.6430 - val_loss: 33640.7417 - val_mse: 33637.0820 - val_mae: 133.0111\n",
      "Epoch 184/200\n",
      "3140/3140 [==============================] - 1s 180us/sample - loss: 27308.3753 - mse: 27304.7305 - mae: 117.3619 - val_loss: 33301.5962 - val_mse: 33297.9297 - val_mae: 132.1049\n",
      "Epoch 185/200\n",
      "3140/3140 [==============================] - 1s 178us/sample - loss: 27389.7179 - mse: 27386.0781 - mae: 117.3310 - val_loss: 33594.6765 - val_mse: 33591.0195 - val_mae: 132.4595\n",
      "Epoch 186/200\n",
      "3140/3140 [==============================] - 1s 171us/sample - loss: 27301.5448 - mse: 27297.9023 - mae: 117.2834 - val_loss: 33530.7729 - val_mse: 33527.1094 - val_mae: 132.1914\n",
      "Epoch 187/200\n",
      "3140/3140 [==============================] - 1s 181us/sample - loss: 27264.5058 - mse: 27260.8594 - mae: 117.3424 - val_loss: 34112.2807 - val_mse: 34108.6367 - val_mae: 134.0773\n",
      "Epoch 188/200\n",
      "3140/3140 [==============================] - 1s 182us/sample - loss: 27287.6543 - mse: 27284.0098 - mae: 117.1625 - val_loss: 33479.2738 - val_mse: 33475.6055 - val_mae: 131.5509\n",
      "Epoch 189/200\n",
      "3140/3140 [==============================] - 1s 205us/sample - loss: 27258.0577 - mse: 27254.4199 - mae: 117.2502 - val_loss: 33225.0479 - val_mse: 33221.3906 - val_mae: 131.5253\n",
      "Epoch 190/200\n",
      "3140/3140 [==============================] - 1s 195us/sample - loss: 27275.2303 - mse: 27271.5820 - mae: 116.6070 - val_loss: 34374.4099 - val_mse: 34370.7617 - val_mae: 135.9553\n",
      "Epoch 191/200\n",
      "3140/3140 [==============================] - 1s 199us/sample - loss: 27214.4680 - mse: 27210.8301 - mae: 117.1277 - val_loss: 34034.3926 - val_mse: 34030.7344 - val_mae: 133.6031\n",
      "Epoch 192/200\n",
      "3140/3140 [==============================] - 1s 191us/sample - loss: 27218.2258 - mse: 27214.5879 - mae: 117.1038 - val_loss: 33529.7245 - val_mse: 33526.0625 - val_mae: 132.3712\n",
      "Epoch 193/200\n",
      "3140/3140 [==============================] - 1s 181us/sample - loss: 27136.1976 - mse: 27132.5586 - mae: 117.2906 - val_loss: 32991.0286 - val_mse: 32987.3711 - val_mae: 131.4459\n",
      "Epoch 194/200\n",
      "3140/3140 [==============================] - 1s 171us/sample - loss: 27174.8080 - mse: 27171.1562 - mae: 116.5018 - val_loss: 32939.3122 - val_mse: 32935.6523 - val_mae: 130.8797\n",
      "Epoch 195/200\n",
      "3140/3140 [==============================] - 1s 183us/sample - loss: 27113.2164 - mse: 27109.5723 - mae: 116.7770 - val_loss: 33678.7657 - val_mse: 33675.1211 - val_mae: 134.7386\n",
      "Epoch 196/200\n",
      "3140/3140 [==============================] - 1s 185us/sample - loss: 27082.7956 - mse: 27079.1406 - mae: 116.8691 - val_loss: 33305.0714 - val_mse: 33301.4062 - val_mae: 131.8581\n",
      "Epoch 197/200\n",
      "3140/3140 [==============================] - 1s 170us/sample - loss: 27138.3222 - mse: 27134.6758 - mae: 116.5363 - val_loss: 33165.7002 - val_mse: 33162.0312 - val_mae: 131.8253\n",
      "Epoch 198/200\n",
      "3140/3140 [==============================] - 0s 135us/sample - loss: 27123.4417 - mse: 27119.7930 - mae: 116.4000 - val_loss: 33864.3141 - val_mse: 33860.6641 - val_mae: 135.2395\n",
      "Epoch 199/200\n",
      "3140/3140 [==============================] - 1s 179us/sample - loss: 26929.9165 - mse: 26926.2773 - mae: 116.6713 - val_loss: 33298.4055 - val_mse: 33294.7500 - val_mae: 132.1786\n",
      "Epoch 200/200\n",
      "3140/3140 [==============================] - 1s 175us/sample - loss: 26898.3414 - mse: 26894.6797 - mae: 116.3795 - val_loss: 33833.7724 - val_mse: 33830.1094 - val_mae: 132.6562\n"
     ]
    }
   ],
   "source": [
    "model_2.compile(loss='mse', optimizer='adam', metrics=['mse','mae'])\n",
    "history = model_2.fit(X_train, y_train, epochs=200, batch_size=16,  verbose=1, validation_split=0.2)\n",
    "#,  callbacks=[callback])"
   ]
  },
  {
   "cell_type": "code",
   "execution_count": 69,
   "metadata": {},
   "outputs": [
    {
     "data": {
      "image/png": "[encoded data removed]",
      "text/plain": [
       "<Figure size 432x288 with 1 Axes>"
      ]
     },
     "metadata": {
      "needs_background": "light"
     },
     "output_type": "display_data"
    }
   ],
   "source": [
    "# \"Loss\"\n",
    "plt.plot(history.history['loss'])\n",
    "plt.plot(history.history['val_loss'])\n",
    "plt.title('model loss')\n",
    "plt.ylabel('loss')\n",
    "plt.xlabel('epoch')\n",
    "plt.ylim((15000,50000))\n",
    "plt.legend(['train', 'validation'], loc='upper left')\n",
    "plt.show()"
   ]
  },
  {
   "cell_type": "code",
   "execution_count": 72,
   "metadata": {},
   "outputs": [
    {
     "name": "stdout",
     "output_type": "stream",
     "text": [
      "1309/1309 [==============================] - 0s 92us/sample - loss: 32660.3310 - mse: 32656.6660 - mae: 130.5303\n"
     ]
    },
    {
     "data": {
      "text/plain": [
       "[32660.330989782276, 32656.666, 130.53026]"
      ]
     },
     "execution_count": 72,
     "metadata": {},
     "output_type": "execute_result"
    }
   ],
   "source": [
    "model_2.evaluate(X_test, y_test, batch_size=16)"
   ]
  },
  {
   "cell_type": "code",
   "execution_count": 74,
   "metadata": {},
   "outputs": [
    {
     "data": {
      "text/plain": [
       "array([[4698.622 , 2695.7263, 3845.7512],\n",
       "       [4204.703 , 2237.8318, 3020.3298],\n",
       "       [5740.028 , 3609.5935, 4718.377 ],\n",
       "       [4420.632 , 2560.5251, 3636.0464],\n",
       "       [4460.9478, 2848.9255, 3722.4485],\n",
       "       [4633.5767, 2714.4382, 3811.5105],\n",
       "       [5161.077 , 3452.873 , 4283.2554],\n",
       "       [3497.3884, 1793.9955, 2337.0461],\n",
       "       [4861.1113, 3118.7446, 4066.3186],\n",
       "       [3461.2986, 2114.8447, 2573.3933]], dtype=float32)"
      ]
     },
     "execution_count": 74,
     "metadata": {},
     "output_type": "execute_result"
    }
   ],
   "source": [
    "y_pred = model_2.predict(X_test_std)\n",
    "y_pred[10:20]"
   ]
  },
  {
   "cell_type": "code",
   "execution_count": 75,
   "metadata": {},
   "outputs": [
    {
     "data": {
      "text/html": [
       "<div>\n",
       "<style scoped>\n",
       "    .dataframe tbody tr th:only-of-type {\n",
       "        vertical-align: middle;\n",
       "    }\n",
       "\n",
       "    .dataframe tbody tr th {\n",
       "        vertical-align: top;\n",
       "    }\n",
       "\n",
       "    .dataframe thead th {\n",
       "        text-align: right;\n",
       "    }\n",
       "</style>\n",
       "<table border=\"1\" class=\"dataframe\">\n",
       "  <thead>\n",
       "    <tr style=\"text-align: right;\">\n",
       "      <th></th>\n",
       "      <th>Demanda_Max</th>\n",
       "      <th>Demanda_Min</th>\n",
       "      <th>Demanda_Med</th>\n",
       "    </tr>\n",
       "  </thead>\n",
       "  <tbody>\n",
       "    <tr>\n",
       "      <th>4855</th>\n",
       "      <td>4669.0</td>\n",
       "      <td>2855.0</td>\n",
       "      <td>3945.909722</td>\n",
       "    </tr>\n",
       "    <tr>\n",
       "      <th>4536</th>\n",
       "      <td>4103.0</td>\n",
       "      <td>2029.0</td>\n",
       "      <td>2836.381944</td>\n",
       "    </tr>\n",
       "    <tr>\n",
       "      <th>3694</th>\n",
       "      <td>5956.0</td>\n",
       "      <td>3760.0</td>\n",
       "      <td>4836.107639</td>\n",
       "    </tr>\n",
       "    <tr>\n",
       "      <th>4338</th>\n",
       "      <td>4625.0</td>\n",
       "      <td>2811.0</td>\n",
       "      <td>3862.999306</td>\n",
       "    </tr>\n",
       "    <tr>\n",
       "      <th>1515</th>\n",
       "      <td>4583.0</td>\n",
       "      <td>3049.0</td>\n",
       "      <td>3848.305556</td>\n",
       "    </tr>\n",
       "    <tr>\n",
       "      <th>2152</th>\n",
       "      <td>4551.0</td>\n",
       "      <td>2776.0</td>\n",
       "      <td>3812.413194</td>\n",
       "    </tr>\n",
       "    <tr>\n",
       "      <th>4076</th>\n",
       "      <td>4878.0</td>\n",
       "      <td>3458.0</td>\n",
       "      <td>4271.235417</td>\n",
       "    </tr>\n",
       "    <tr>\n",
       "      <th>1267</th>\n",
       "      <td>3507.0</td>\n",
       "      <td>1819.0</td>\n",
       "      <td>2367.456250</td>\n",
       "    </tr>\n",
       "    <tr>\n",
       "      <th>2895</th>\n",
       "      <td>5091.0</td>\n",
       "      <td>3708.0</td>\n",
       "      <td>4438.584722</td>\n",
       "    </tr>\n",
       "    <tr>\n",
       "      <th>42</th>\n",
       "      <td>3590.0</td>\n",
       "      <td>2185.0</td>\n",
       "      <td>2630.354861</td>\n",
       "    </tr>\n",
       "  </tbody>\n",
       "</table>\n",
       "</div>"
      ],
      "text/plain": [
       "      Demanda_Max  Demanda_Min  Demanda_Med\n",
       "4855       4669.0       2855.0  3945.909722\n",
       "4536       4103.0       2029.0  2836.381944\n",
       "3694       5956.0       3760.0  4836.107639\n",
       "4338       4625.0       2811.0  3862.999306\n",
       "1515       4583.0       3049.0  3848.305556\n",
       "2152       4551.0       2776.0  3812.413194\n",
       "4076       4878.0       3458.0  4271.235417\n",
       "1267       3507.0       1819.0  2367.456250\n",
       "2895       5091.0       3708.0  4438.584722\n",
       "42         3590.0       2185.0  2630.354861"
      ]
     },
     "execution_count": 75,
     "metadata": {},
     "output_type": "execute_result"
    }
   ],
   "source": [
    "y_test_std[10:20]"
   ]
  },
  {
   "cell_type": "markdown",
   "metadata": {},
   "source": [
    "**Avaliação do modelo 3 demandas juntas**"
   ]
  },
  {
   "cell_type": "code",
   "execution_count": 76,
   "metadata": {},
   "outputs": [
    {
     "name": "stdout",
     "output_type": "stream",
     "text": [
      "MAE: 130.5302397133183\n",
      "RMSE: 180.71155920228296\n",
      "MSE log error: 0.002694165492720309\n",
      "R2 Score: 0.8895507840832817\n",
      "Adj R2 Score 0.888842594701923\n",
      "Variance Score: 0.8895651383757711\n"
     ]
    }
   ],
   "source": [
    "print('MAE:',mean_absolute_error(y_test, y_pred))\n",
    "MSE = mean_squared_error(y_test, y_pred)\n",
    "print('RMSE:',np.sqrt(MSE))\n",
    "print('MSE log error:', mean_squared_log_error(y_test, y_pred))\n",
    "R2 = r2_score(y_test, y_pred)\n",
    "print('R2 Score:', R2)\n",
    "n= len(X_train)\n",
    "p = len(X_train.columns)\n",
    "print('Adj R2 Score', 1-(1-R2)*(n-1)/(n-p-1))\n",
    "print('Variance Score:', explained_variance_score(y_test, y_pred))"
   ]
  },
  {
   "cell_type": "markdown",
   "metadata": {},
   "source": [
    "**Avaliação do modelo demanda máxima**"
   ]
  },
  {
   "cell_type": "code",
   "execution_count": 77,
   "metadata": {},
   "outputs": [
    {
     "name": "stdout",
     "output_type": "stream",
     "text": [
      "MAE: 143.8016570974981\n",
      "RMSE: 200.4405936901363\n",
      "R2 Score: 0.8826621857648191\n",
      "Adj R2 Score 0.8819098273765453\n",
      "Variance Score: 0.8826653444053278\n"
     ]
    }
   ],
   "source": [
    "#Demanda Máxima\n",
    "print('MAE:',mean_absolute_error(y_test['Demanda_Max'], y_pred[:,0]))\n",
    "MSE = mean_squared_error(y_test['Demanda_Max'], y_pred[:,0])\n",
    "print('RMSE:',np.sqrt(MSE))\n",
    "R2 = r2_score(y_test['Demanda_Max'], y_pred[:,0])\n",
    "print('R2 Score:', R2)\n",
    "n= len(X_train)\n",
    "p = len(X_train.columns)\n",
    "print('Adj R2 Score', 1-(1-R2)*(n-1)/(n-p-1))\n",
    "print('Variance Score:', explained_variance_score(y_test['Demanda_Max'], y_pred[:,0]))"
   ]
  },
  {
   "cell_type": "markdown",
   "metadata": {},
   "source": [
    "**Avaliação do modelo demanda média**"
   ]
  },
  {
   "cell_type": "code",
   "execution_count": 78,
   "metadata": {},
   "outputs": [
    {
     "name": "stdout",
     "output_type": "stream",
     "text": [
      "MAE: 115.66201155962175\n",
      "RMSE: 161.5595033808761\n",
      "R2 Score: 0.9227144579266258\n",
      "Adj R2 Score 0.9222189107217439\n",
      "Variance Score: 0.9227526643278667\n"
     ]
    }
   ],
   "source": [
    "#Demanda Média\n",
    "print('MAE:',mean_absolute_error(y_test['Demanda_Med'], y_pred[:,2]))\n",
    "MSE = mean_squared_error(y_test['Demanda_Med'], y_pred[:,2])\n",
    "print('RMSE:',np.sqrt(MSE))\n",
    "R2 = r2_score(y_test['Demanda_Med'], y_pred[:,2])\n",
    "print('R2 Score:', R2)\n",
    "n= len(X_train)\n",
    "p = len(X_train.columns)\n",
    "print('Adj R2 Score', 1-(1-R2)*(n-1)/(n-p-1))\n",
    "print('Variance Score:', explained_variance_score(y_test['Demanda_Med'], y_pred[:,2]))"
   ]
  },
  {
   "cell_type": "markdown",
   "metadata": {},
   "source": [
    "**Avaliação do modelo demanda mínima**"
   ]
  },
  {
   "cell_type": "code",
   "execution_count": 79,
   "metadata": {},
   "outputs": [
    {
     "name": "stdout",
     "output_type": "stream",
     "text": [
      "MAE: 132.1270504828352\n",
      "RMSE: 178.02274617708562\n",
      "R2 Score: 0.8632757085584\n",
      "Adj R2 Score 0.8623990460074792\n",
      "Variance Score: 0.8632774063941185\n"
     ]
    }
   ],
   "source": [
    "#Demanda Mínima\n",
    "print('MAE:',mean_absolute_error(y_test['Demanda_Min'], y_pred[:,1]))\n",
    "MSE = mean_squared_error(y_test['Demanda_Min'], y_pred[:,1])\n",
    "print('RMSE:',np.sqrt(MSE))\n",
    "R2 = r2_score(y_test['Demanda_Min'], y_pred[:,1])\n",
    "print('R2 Score:', R2)\n",
    "n= len(X_train)\n",
    "p = len(X_train.columns)\n",
    "print('Adj R2 Score', 1-(1-R2)*(n-1)/(n-p-1))\n",
    "print('Variance Score:', explained_variance_score(y_test['Demanda_Min'], y_pred[:,1]))"
   ]
  },
  {
   "cell_type": "code",
   "execution_count": null,
   "metadata": {},
   "outputs": [],
   "source": []
  }
 ],
 "metadata": {
  "kernelspec": {
   "display_name": "Python 3",
   "language": "python",
   "name": "python3"
  },
  "language_info": {
   "codemirror_mode": {
    "name": "ipython",
    "version": 3
   },
   "file_extension": ".py",
   "mimetype": "text/x-python",
   "name": "python",
   "nbconvert_exporter": "python",
   "pygments_lexer": "ipython3",
   "version": "3.7.7"
  }
 },
 "nbformat": 4,
 "nbformat_minor": 2
}
