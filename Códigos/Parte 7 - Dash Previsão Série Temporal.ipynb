{
 "cells": [
  {
   "cell_type": "markdown",
   "metadata": {},
   "source": [
    "# Parte 7\n",
    "\n",
    "Aqui foi criado o aplicativo para o Modelo 2."
   ]
  },
  {
   "cell_type": "code",
   "execution_count": 1,
   "metadata": {},
   "outputs": [],
   "source": [
    "import dash\n",
    "import dash_core_components as dcc\n",
    "import dash_html_components as html\n",
    "import plotly.express as px\n",
    "import pandas as pd\n",
    "from jupyter_dash import JupyterDash\n",
    "from datetime import datetime as dt\n",
    "from datetime import timedelta\n",
    "from dash.dependencies import Input, Output\n",
    "from statsmodels.tsa.holtwinters import ExponentialSmoothing"
   ]
  },
  {
   "cell_type": "code",
   "execution_count": 2,
   "metadata": {},
   "outputs": [
    {
     "data": {
      "text/html": [
       "<div>\n",
       "<style scoped>\n",
       "    .dataframe tbody tr th:only-of-type {\n",
       "        vertical-align: middle;\n",
       "    }\n",
       "\n",
       "    .dataframe tbody tr th {\n",
       "        vertical-align: top;\n",
       "    }\n",
       "\n",
       "    .dataframe thead th {\n",
       "        text-align: right;\n",
       "    }\n",
       "</style>\n",
       "<table border=\"1\" class=\"dataframe\">\n",
       "  <thead>\n",
       "    <tr style=\"text-align: right;\">\n",
       "      <th></th>\n",
       "      <th>Horário</th>\n",
       "      <th>Data</th>\n",
       "      <th>Demanda</th>\n",
       "      <th>Unidade</th>\n",
       "    </tr>\n",
       "  </thead>\n",
       "  <tbody>\n",
       "    <tr>\n",
       "      <th>0</th>\n",
       "      <td>00:00:00</td>\n",
       "      <td>01/01/2019 00:00:00 (hv)</td>\n",
       "      <td>3.479,00</td>\n",
       "      <td>MW F</td>\n",
       "    </tr>\n",
       "    <tr>\n",
       "      <th>1</th>\n",
       "      <td>00:01:00</td>\n",
       "      <td>01/01/2019 00:01:00 (hv)</td>\n",
       "      <td>3.471,00</td>\n",
       "      <td>MW F</td>\n",
       "    </tr>\n",
       "    <tr>\n",
       "      <th>2</th>\n",
       "      <td>00:02:00</td>\n",
       "      <td>01/01/2019 00:02:00 (hv)</td>\n",
       "      <td>3.468,00</td>\n",
       "      <td>MW F</td>\n",
       "    </tr>\n",
       "    <tr>\n",
       "      <th>3</th>\n",
       "      <td>00:03:00</td>\n",
       "      <td>01/01/2019 00:03:00 (hv)</td>\n",
       "      <td>3.466,00</td>\n",
       "      <td>MW F</td>\n",
       "    </tr>\n",
       "    <tr>\n",
       "      <th>4</th>\n",
       "      <td>00:04:00</td>\n",
       "      <td>01/01/2019 00:04:00 (hv)</td>\n",
       "      <td>3.457,00</td>\n",
       "      <td>MW F</td>\n",
       "    </tr>\n",
       "  </tbody>\n",
       "</table>\n",
       "</div>"
      ],
      "text/plain": [
       "    Horário                      Data   Demanda Unidade\n",
       "0  00:00:00  01/01/2019 00:00:00 (hv)  3.479,00    MW F\n",
       "1  00:01:00  01/01/2019 00:01:00 (hv)  3.471,00    MW F\n",
       "2  00:02:00  01/01/2019 00:02:00 (hv)  3.468,00    MW F\n",
       "3  00:03:00  01/01/2019 00:03:00 (hv)  3.466,00    MW F\n",
       "4  00:04:00  01/01/2019 00:04:00 (hv)  3.457,00    MW F"
      ]
     },
     "execution_count": 2,
     "metadata": {},
     "output_type": "execute_result"
    }
   ],
   "source": [
    "df_1 = pd.read_csv('Demanda\\Demanda_2019.csv', sep=';', header=None, names=['Horário','Data', 'Demanda', 'Unidade'],skiprows=5,\n",
    "                parse_dates=True) \n",
    "df_2 = pd.read_csv('Demanda\\Demanda_2020.csv', sep=';', header=None, names=['Horário','Data', 'Demanda', 'Unidade'],skiprows=5,\n",
    "                parse_dates=True) \n",
    "df= pd.concat([df_1, df_2],ignore_index=True)\n",
    "df.head()"
   ]
  },
  {
   "cell_type": "code",
   "execution_count": 3,
   "metadata": {},
   "outputs": [],
   "source": [
    "df['Demanda'] = df['Demanda'].str[:-3]\n",
    "df['Demanda'] = pd.to_numeric(df['Demanda'], errors='coerce')\n",
    "df = df.drop(columns=['Unidade','Horário'])\n",
    "df['Data'] = df['Data'].str[:16]\n",
    "df['Data'] = pd.to_datetime(df['Data'], format = '%d/%m/%Y %H:%M', errors='coerce')"
   ]
  },
  {
   "cell_type": "code",
   "execution_count": 4,
   "metadata": {},
   "outputs": [],
   "source": [
    "df_new = df.resample('60T', on='Data').mean()\n",
    "df_new.index.freq='H'\n",
    "df_new['Demanda']=df_new['Demanda']*1000"
   ]
  },
  {
   "cell_type": "code",
   "execution_count": 5,
   "metadata": {},
   "outputs": [],
   "source": [
    "app = JupyterDash()"
   ]
  },
  {
   "cell_type": "code",
   "execution_count": 6,
   "metadata": {},
   "outputs": [],
   "source": [
    "app.layout = html.Div(style={'textAlign': 'center', 'width': '1300px', 'font-family': 'Verdana'},\n",
    "                      children=[\n",
    "    html.H2(children='Previsão da Demanda de Energia Elétrica no RS', style={'color': 'rgb(25,25,112)'}),     \n",
    "       \n",
    "    html.Div([\"Data Inicial: \",\n",
    "                          \n",
    "    dcc.DatePickerSingle(\n",
    "        id='my-date-picker-single',\n",
    "        min_date_allowed=dt(2019, 1, 1, 0, 0),\n",
    "        max_date_allowed=dt(2020, 8, 23, 0, 0),\n",
    "        initial_visible_month=dt(2019, 1, 1, 0, 0),\n",
    "        date=str(dt(2020, 8, 23, 0, 0, 0))\n",
    "    ),\n",
    "\n",
    "             ], style={'display': 'inline-block'}), \n",
    "\n",
    "    html.Div(id='output-container-date-picker-single'),\n",
    "    \n",
    "    dcc.Graph(id='graphic')\n",
    "])"
   ]
  },
  {
   "cell_type": "code",
   "execution_count": 7,
   "metadata": {},
   "outputs": [],
   "source": [
    "@app.callback(\n",
    "    Output('graphic', 'figure'),\n",
    "    [Input('my-date-picker-single', 'date'),\n",
    "     ])\n",
    "def update_graph(date):        \n",
    "          \n",
    "    train_data  = df_new.loc[:date]\n",
    "    train_data  = train_data.iloc[-672:]\n",
    "    test_data = df_new.loc[date:]\n",
    "    test_data = test_data.iloc[24:192]\n",
    "    \n",
    "    model = ExponentialSmoothing(train_data['Demanda'],\n",
    "                                    trend='add',\n",
    "                                    seasonal = 'mul',\n",
    "                                    seasonal_periods=24*7)\n",
    "    model = model.fit(smoothing_seasonal=0.4, smoothing_level=0.6)\n",
    "    test_predictions = model.forecast(len(test_data))          \n",
    "\n",
    "    fig = px.line(y=round(train_data.iloc[-504:]['Demanda'],0), x=train_data.iloc[-504:].index, labels={'x':'', 'y':'Demanda'})     \n",
    "    #fig.add_scatter(y=test_data['Demanda'],x=test_data.index, mode='lines', name='Teste')\n",
    "    fig.add_scatter(y=round(test_predictions,0), x=test_data.index, mode='lines', name='Previsão')     \n",
    "    \n",
    "    return fig"
   ]
  },
  {
   "cell_type": "code",
   "execution_count": 8,
   "metadata": {},
   "outputs": [
    {
     "name": "stdout",
     "output_type": "stream",
     "text": [
      "Dash app running on http://127.0.0.1:8040/\n"
     ]
    },
    {
     "name": "stderr",
     "output_type": "stream",
     "text": [
      "C:\\Users\\camil\\Anaconda3\\envs\\TC Pos\\lib\\site-packages\\statsmodels\\tsa\\holtwinters.py:744: ConvergenceWarning: Optimization failed to converge. Check mle_retvals.\n",
      "  ConvergenceWarning)\n",
      "C:\\Users\\camil\\Anaconda3\\envs\\TC Pos\\lib\\site-packages\\statsmodels\\tsa\\holtwinters.py:744: ConvergenceWarning:\n",
      "\n",
      "Optimization failed to converge. Check mle_retvals.\n",
      "\n"
     ]
    }
   ],
   "source": [
    "app.run_server(mode='external', port=8040)"
   ]
  }
 ],
 "metadata": {
  "kernelspec": {
   "display_name": "Python 3",
   "language": "python",
   "name": "python3"
  },
  "language_info": {
   "codemirror_mode": {
    "name": "ipython",
    "version": 3
   },
   "file_extension": ".py",
   "mimetype": "text/x-python",
   "name": "python",
   "nbconvert_exporter": "python",
   "pygments_lexer": "ipython3",
   "version": "3.7.7"
  }
 },
 "nbformat": 4,
 "nbformat_minor": 4
}
