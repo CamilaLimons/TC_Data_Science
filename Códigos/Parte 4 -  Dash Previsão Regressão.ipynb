{
 "cells": [
  {
   "cell_type": "markdown",
   "metadata": {},
   "source": [
    "# Parte 4\n",
    "\n",
    "Aqui foi criado um aplicativo para previsão da demanda com o melhor algoritmo encontrado pelo Modelo 1."
   ]
  },
  {
   "cell_type": "code",
   "execution_count": 1,
   "metadata": {},
   "outputs": [],
   "source": [
    "import dash\n",
    "import dash_core_components as dcc\n",
    "import dash_html_components as html\n",
    "import plotly.express as px\n",
    "import pandas as pd\n",
    "from jupyter_dash import JupyterDash\n",
    "from datetime import datetime as dt\n",
    "from dash.dependencies import Input, Output\n",
    "import dash_bootstrap_components as dbc\n",
    "import pandas as pd\n",
    "import numpy as np\n",
    "from sklearn.model_selection import train_test_split\n",
    "from sklearn.svm import SVR\n",
    "from sklearn.preprocessing import StandardScaler"
   ]
  },
  {
   "cell_type": "code",
   "execution_count": 2,
   "metadata": {},
   "outputs": [],
   "source": [
    "df = pd.read_parquet('DadosFinais/df_final.parquet.gzip', engine='pyarrow')\n",
    "Y = df[['Demanda_Max', 'Demanda_Min', 'Demanda_Med']]\n",
    "X = df[['IAEBR', 'Atividade Industrial Sem Ajuste Sazonal', 'População', 'Com Feriado', 'Domingo', 'Sábado',\n",
    "                 'Dia de Semana', 'Temperatura_Max', 'Umidade_Max', 'Temperatura_Min', 'Umidade_Min', 'Temperatura_Med',\n",
    "                   'Umidade_Med', 'Abril', 'Agosto','Dezembro', 'Fevereiro', 'Janeiro', 'Julho', 'Junho', 'Março', 'Maio',\n",
    "       'Novembro', 'Outubro', 'Setembro']]"
   ]
  },
  {
   "cell_type": "markdown",
   "metadata": {},
   "source": [
    "**Fazer normalização dos dados e guardar a média e desvio padrão para normalizar os dados para predição:**"
   ]
  },
  {
   "cell_type": "code",
   "execution_count": 3,
   "metadata": {},
   "outputs": [],
   "source": [
    "scaler = StandardScaler()\n",
    "X_std = pd.DataFrame(scaler.fit_transform(X), columns = X.columns)"
   ]
  },
  {
   "cell_type": "code",
   "execution_count": 4,
   "metadata": {},
   "outputs": [],
   "source": [
    "medias = X.mean().to_numpy()\n",
    "std = X.std().to_numpy()"
   ]
  },
  {
   "cell_type": "markdown",
   "metadata": {},
   "source": [
    "**Modelo**"
   ]
  },
  {
   "cell_type": "code",
   "execution_count": 5,
   "metadata": {},
   "outputs": [
    {
     "data": {
      "text/plain": [
       "SVR(C=140, coef0=1, gamma='auto', kernel='poly')"
      ]
     },
     "execution_count": 5,
     "metadata": {},
     "output_type": "execute_result"
    }
   ],
   "source": [
    "svr_med= SVR(kernel='poly', C=140, gamma='auto', degree=3, epsilon=.1,\n",
    "               coef0=1)\n",
    "svr_med.fit(X_std,Y['Demanda_Med'])"
   ]
  },
  {
   "cell_type": "code",
   "execution_count": 6,
   "metadata": {},
   "outputs": [
    {
     "data": {
      "text/plain": [
       "SVR(C=190, coef0=1, epsilon=0.5, gamma='auto', kernel='poly')"
      ]
     },
     "execution_count": 6,
     "metadata": {},
     "output_type": "execute_result"
    }
   ],
   "source": [
    "svr_max = SVR(kernel='poly', C=190, gamma='auto', degree=3, epsilon=.5,\n",
    "               coef0=1)\n",
    "svr_max.fit(X_std,Y['Demanda_Max'])"
   ]
  },
  {
   "cell_type": "code",
   "execution_count": 7,
   "metadata": {},
   "outputs": [
    {
     "data": {
      "text/plain": [
       "SVR(C=190, coef0=1, gamma='auto', kernel='poly')"
      ]
     },
     "execution_count": 7,
     "metadata": {},
     "output_type": "execute_result"
    }
   ],
   "source": [
    "svr_min = SVR(kernel='poly', C=190, gamma='auto', degree=3, epsilon=.1,\n",
    "               coef0=1)\n",
    "svr_min.fit(X_std,Y['Demanda_Min'])"
   ]
  },
  {
   "cell_type": "code",
   "execution_count": 8,
   "metadata": {},
   "outputs": [],
   "source": [
    "app = JupyterDash()"
   ]
  },
  {
   "cell_type": "markdown",
   "metadata": {},
   "source": [
    "**Layout Dash**"
   ]
  },
  {
   "cell_type": "code",
   "execution_count": 9,
   "metadata": {},
   "outputs": [],
   "source": [
    "app.layout = html.Div(style={'textAlign': 'center', 'width': '1400px', 'font-family': 'Verdana'},\n",
    "    children=[\n",
    "    html.H2(children='Previsão de Demanda de Energia Elétrica no RS', style={'color': 'rgb(25,25,112)'}),       \n",
    "          \n",
    "    html.Div([dbc.Card(\n",
    "        [   dbc.CardBody([\n",
    "            html.H3('Demanda Máxima', className='card-title'),\n",
    "            html.P(id='dem_max', className = 'card-text',),\n",
    "        ]),\n",
    "        ])\n",
    "             ], \n",
    "            style={'width': '17%', 'display': 'inline-block', 'borderBottom': 'thin grey solid',\n",
    "        'borderLeft': 'thin grey solid', 'borderRight': 'thin grey solid', 'borderTop': 'thin grey solid',\n",
    "                  'backgroundColor': 'rgb(245,245,245)'}) ,\n",
    "        \n",
    "    html.Div([   ], \n",
    "            style={'width': '3%', 'display': 'inline-block'}) ,\n",
    "        \n",
    "    html.Div([dbc.Card(\n",
    "        [   dbc.CardBody([\n",
    "            html.H3('Demanda Média', className='card-title'),\n",
    "            html.P(id='dem_med', className = 'card-text',),\n",
    "        ]),\n",
    "        ])\n",
    "             ], \n",
    "            style={'width': '17%', 'display': 'inline-block','borderBottom': 'thin grey solid','borderLeft': 'thin grey solid', \n",
    "                   'borderRight': 'thin grey solid', 'borderTop': 'thin grey solid', 'backgroundColor': 'rgb(245,245,245)'}) ,\n",
    "        \n",
    "    html.Div([   ], \n",
    "            style={'width': '3%', 'display': 'inline-block'}) ,\n",
    "        \n",
    "    html.Div([dbc.Card(\n",
    "        [   dbc.CardBody([\n",
    "            html.H3('Demanda Mínima', className='card-title'),\n",
    "            html.P(id='dem_min', className = 'card-text'),\n",
    "        ]),\n",
    "        ])\n",
    "             ], \n",
    "            style={'width': '17%', 'display': 'inline-block','borderBottom': 'thin grey solid',\n",
    "                   'borderLeft': 'thin grey solid', 'borderRight': 'thin grey solid', 'borderTop': 'thin grey solid',\n",
    "                  'backgroundColor': 'rgb(245,245,245)'}),\n",
    "        \n",
    "    html.Br(), \n",
    "    html.Br(), \n",
    "    html.Div([\n",
    "    html.Div([\"Índice Atividade Econômica BR: \",\n",
    "              dcc.Input(id='iaebr', value=118, type='number', min=0, debounce=True, required=True)\n",
    "             ], style={'width': '36%', 'display': 'inline-block'}),    \n",
    "    html.Div([\"Índice Desempenho industrial RS: \",\n",
    "               dcc.Input(id='indust', value=71, type='number', min=0, debounce=True, required=True)\n",
    "             ], style={'width': '39%', 'display': 'inline-block'}),    \n",
    "    html.Div([\"População: \",\n",
    "               dcc.Input(id='popul', value=11423119, type='number', min=0, debounce=True, required=True)\n",
    "             ], style={'width': '23%', 'display': 'inline-block'}),\n",
    "    html.Br(), \n",
    "    html.Br(),\n",
    "    html.Div([  dcc.RadioItems(\n",
    "                id='feriado',\n",
    "                options=[{'label': 'Com Feriado', 'value': 1},\n",
    "                         {'label': 'Sem Feriado', 'value': 0}\n",
    "                        ],\n",
    "                    value = 0               \n",
    "            )\n",
    "             ], style={'width': '32%', 'display': 'inline-block'}),    \n",
    "    html.Div([  dcc.RadioItems(\n",
    "                id='dia',\n",
    "                options=[{'label': 'Dia de Semana', 'value': 1},\n",
    "                         {'label': 'Sábado', 'value': 0},\n",
    "                         {'label': 'Domingo', 'value': 2},\n",
    "                        ],\n",
    "                    value = 0               \n",
    "            )\n",
    "             ], style={'width': '32%', 'display': 'inline-block'}), \n",
    "    html.Div([  dcc.Dropdown(\n",
    "                id='mes',\n",
    "                options=[{'label': 'Janeiro', 'value': 1},\n",
    "                         {'label': 'Fevereiro', 'value': 2},\n",
    "                         {'label': 'Março', 'value': 3},\n",
    "                         {'label': 'Abril', 'value': 4},\n",
    "                         {'label': 'Maio', 'value': 5},\n",
    "                         {'label': 'Junho', 'value': 6},\n",
    "                         {'label': 'Julho', 'value': 7},\n",
    "                         {'label': 'Agosto', 'value': 8},\n",
    "                         {'label': 'Setembro', 'value': 9},\n",
    "                         {'label': 'Outubro', 'value': 10},\n",
    "                         {'label': 'Novembro', 'value': 11},\n",
    "                         {'label': 'Dezembro', 'value': 12}\n",
    "                        ],\n",
    "                    value = 1           \n",
    "            )\n",
    "             ], style={'width': '32%', 'display': 'inline-block'}),       \n",
    "    html.Br(),    \n",
    "    html.Br(), \n",
    "    html.Div([\"Temperatura Máxima: \",\n",
    "               dcc.Slider(id='temp_max', min= -3, max = 40, step = 1, value=25,marks={i: '{}°'.format(i) for i in range(-3, 41)})\n",
    "             ]),   \n",
    "    html.Div([\"Temperatura Média: \",\n",
    "               dcc.Slider(id='temp_med', min= -3, max = 40, step = 1, value=25,marks={i: '{}°'.format(i) for i in range(-3, 41)})\n",
    "             ]),    \n",
    "    html.Div([\"Temperatura Mínima \",\n",
    "               dcc.Slider(id='temp_min', min= -3, max = 40, step = 1, value=25,marks={i: '{}°'.format(i) for i in range(-3, 41)})\n",
    "             ]),    \n",
    "    html.Br(),     \n",
    "    html.Div(['Umidade Máxima:',dcc.Input(id='umi_max', value=50, type='number', min=0, max=100, debounce=True, required=True)], \n",
    "            style={'width': '32%', 'display': 'inline-block'}),\n",
    "    html.Div(['Umidade Média:', dcc.Input(id='umi_med', value=50, type='number', min=0, max=100, debounce=True, required=True)],\n",
    "            style={'width': '32%', 'display': 'inline-block'}),\n",
    "    html.Div(['Umidade Mínima:', dcc.Input(id='umi_min', value=50, type='number', min=0, max=100, debounce=True, required=True)],\n",
    "            style={'width': '32%', 'display': 'inline-block'}),   \n",
    "    ], style={\n",
    "        'borderBottom': 'thin lightgrey solid', 'borderTop': 'thin lightgrey solid', 'borderRight': 'thin lightgrey solid',\n",
    "        'borderLeft': 'thin lightgrey solid',\n",
    "        'backgroundColor': 'rgb(250, 250, 250)'\n",
    "        }), \n",
    "        \n",
    "     html.Div([dcc.Graph(id='graphic')], style={'width': '50%', 'display': 'inline-block'})  \n",
    " \n",
    "         \n",
    "    ])"
   ]
  },
  {
   "cell_type": "code",
   "execution_count": 10,
   "metadata": {},
   "outputs": [],
   "source": [
    "@app.callback(\n",
    "    [Output('dem_med', 'children'), Output('dem_max', 'children'), Output('dem_min', 'children'), Output('graphic', 'figure')],\n",
    "    [Input('iaebr','value'), Input('indust', 'value'), Input('popul', 'value'), Input('temp_max', 'value'), \n",
    "     Input('temp_med', 'value'), Input('temp_min', 'value'), \n",
    "    Input('umi_max', 'value'),Input('umi_med', 'value'), Input('umi_min', 'value'), Input('feriado', 'value'), \n",
    "     Input('dia', 'value'), Input('mes', 'value')]\n",
    ")\n",
    "def update_prediction(iaebr, indust, popul, temp_max, temp_med, temp_min, umi_max, umi_med, umi_min, feriado, dia, mes): \n",
    "    \n",
    "    sabado = 0\n",
    "    domingo = 0\n",
    "    if dia==0:\n",
    "        sabado = 1   \n",
    "    elif dia==2:\n",
    "        domingo = 1\n",
    "        dia = 0\n",
    "    \n",
    "    jan = 0\n",
    "    fev = 0\n",
    "    mar = 0\n",
    "    abr = 0\n",
    "    mai = 0\n",
    "    jun = 0\n",
    "    jul = 0\n",
    "    ago = 0\n",
    "    sete = 0\n",
    "    out = 0\n",
    "    nov = 0\n",
    "    dez = 0\n",
    "    \n",
    "    if mes==1:\n",
    "        jan = 1   \n",
    "    elif mes==2:\n",
    "        fev = 1\n",
    "    elif mes==3:\n",
    "        mar=1\n",
    "    elif mes==4:\n",
    "        abr=1\n",
    "    elif mes==5:\n",
    "        mai=1\n",
    "    elif mes==6:\n",
    "        jun=1\n",
    "    elif mes==7:\n",
    "        jul=1\n",
    "    elif mes==8:\n",
    "        ago=1\n",
    "    elif mes==9:\n",
    "        sete=1\n",
    "    elif mes==10:\n",
    "        out=1\n",
    "    elif mes==11:\n",
    "        nov=1\n",
    "    elif mes==12:\n",
    "        dez=1     \n",
    "       \n",
    "    #Vetor para predição\n",
    "    input_X = [[iaebr, indust, popul, feriado, domingo, sabado, dia, temp_max, umi_max, temp_min, umi_min, temp_med, umi_med,\n",
    "               jan, fev, mar, abr, mai, jun, jul, ago, sete, out, nov, dez ]]\n",
    "    \n",
    "    #Normalizar os dados de entrada\n",
    "    input_X_std = (input_X-medias)/std\n",
    "    \n",
    "    dem_med = svr_med.predict(input_X_std)[0]\n",
    "    dem_max = svr_max.predict(input_X_std)[0]\n",
    "    dem_min = svr_min.predict(input_X_std)[0]\n",
    "    lst = [round(dem_min), round(dem_med), round(dem_max)]\n",
    "    result = pd.DataFrame(lst) \n",
    "    result['Index'] = ['Demanda Mínima', 'Demanda Média', 'Demanda Máxima']\n",
    "    dem_med_str = '',round(dem_med),' MW' \n",
    "    dem_max_str = '',round(dem_max),' MW' \n",
    "    dem_min_str = '',round(dem_min),' MW' \n",
    "    \n",
    "    fig = px.bar(x = result[0], y=result['Index'], width = 700, height=240,\n",
    "                labels={'x':'MW', 'y':''}, color_discrete_sequence =['steelblue'])\n",
    "        \n",
    "    return dem_med_str, dem_max_str, dem_min_str, fig\n",
    "\n",
    "#'Demanda Média: ', round(dem_med),' MW   Demanda Máxima: ', round(dem_max), ' MW  Demanda Mínima: ',round(dem_min), ' MW.'\n",
    "    #return round(prediction_1), round(prediction_2), round(prediction_3)"
   ]
  },
  {
   "cell_type": "code",
   "execution_count": 11,
   "metadata": {},
   "outputs": [
    {
     "name": "stdout",
     "output_type": "stream",
     "text": [
      "Dash app running on http://127.0.0.1:8050/\n"
     ]
    }
   ],
   "source": [
    "app.run_server()"
   ]
  },
  {
   "cell_type": "code",
   "execution_count": null,
   "metadata": {},
   "outputs": [],
   "source": []
  }
 ],
 "metadata": {
  "kernelspec": {
   "display_name": "Python 3",
   "language": "python",
   "name": "python3"
  },
  "language_info": {
   "codemirror_mode": {
    "name": "ipython",
    "version": 3
   },
   "file_extension": ".py",
   "mimetype": "text/x-python",
   "name": "python",
   "nbconvert_exporter": "python",
   "pygments_lexer": "ipython3",
   "version": "3.7.7"
  }
 },
 "nbformat": 4,
 "nbformat_minor": 4
}
