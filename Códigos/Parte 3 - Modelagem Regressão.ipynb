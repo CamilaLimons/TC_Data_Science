{
 "cells": [
  {
   "cell_type": "markdown",
   "metadata": {},
   "source": [
    "# Parte 3\n",
    "\n",
    "Aqui foi realizada a modelagem para o Modelo 1, de previsão de longo prazo. O modelo consiste em prever a demanda média, máxima  e mínima em um determinado dia, levando em consideração algumas condições.\n",
    "Foram testados 3 algoritmos diferentes e realizados alguns testes para encontrar o melhor modelo de cada algoritmo."
   ]
  },
  {
   "cell_type": "code",
   "execution_count": 1,
   "metadata": {},
   "outputs": [],
   "source": [
    "import pandas as pd\n",
    "import matplotlib.pyplot as plt\n",
    "import seaborn as sns\n",
    "import numpy as np\n",
    "import datetime\n",
    "pd.set_option('display.max_columns', 50)\n",
    "import warnings\n",
    "warnings.filterwarnings(\"ignore\")"
   ]
  },
  {
   "cell_type": "code",
   "execution_count": 2,
   "metadata": {},
   "outputs": [],
   "source": [
    "df = pd.read_parquet('DadosFinais/df_final.parquet.gzip', engine='pyarrow')"
   ]
  },
  {
   "cell_type": "code",
   "execution_count": 3,
   "metadata": {},
   "outputs": [
    {
     "data": {
      "text/html": [
       "<div>\n",
       "<style scoped>\n",
       "    .dataframe tbody tr th:only-of-type {\n",
       "        vertical-align: middle;\n",
       "    }\n",
       "\n",
       "    .dataframe tbody tr th {\n",
       "        vertical-align: top;\n",
       "    }\n",
       "\n",
       "    .dataframe thead th {\n",
       "        text-align: right;\n",
       "    }\n",
       "</style>\n",
       "<table border=\"1\" class=\"dataframe\">\n",
       "  <thead>\n",
       "    <tr style=\"text-align: right;\">\n",
       "      <th></th>\n",
       "      <th>Data</th>\n",
       "      <th>Demanda_Max</th>\n",
       "      <th>Temperatura_Max</th>\n",
       "      <th>Umidade_Max</th>\n",
       "      <th>IAEBR</th>\n",
       "      <th>Atividade Industrial Sem Ajuste Sazonal</th>\n",
       "      <th>População</th>\n",
       "      <th>Com Feriado</th>\n",
       "      <th>Sábado</th>\n",
       "      <th>Domingo</th>\n",
       "      <th>Dia de Semana</th>\n",
       "      <th>Abril</th>\n",
       "      <th>Agosto</th>\n",
       "      <th>Dezembro</th>\n",
       "      <th>Fevereiro</th>\n",
       "      <th>Janeiro</th>\n",
       "      <th>Julho</th>\n",
       "      <th>Junho</th>\n",
       "      <th>Março</th>\n",
       "      <th>Maio</th>\n",
       "      <th>Novembro</th>\n",
       "      <th>Outubro</th>\n",
       "      <th>Setembro</th>\n",
       "      <th>Demanda_Min</th>\n",
       "      <th>Temperatura_Min</th>\n",
       "      <th>Umidade_Min</th>\n",
       "      <th>Demanda_Med</th>\n",
       "      <th>Temperatura_Med</th>\n",
       "      <th>Umidade_Med</th>\n",
       "    </tr>\n",
       "  </thead>\n",
       "  <tbody>\n",
       "    <tr>\n",
       "      <th>0</th>\n",
       "      <td>2006-01-01</td>\n",
       "      <td>3302.0</td>\n",
       "      <td>27.300</td>\n",
       "      <td>90.500000</td>\n",
       "      <td>108.55</td>\n",
       "      <td>91.702366</td>\n",
       "      <td>10530809</td>\n",
       "      <td>1</td>\n",
       "      <td>0</td>\n",
       "      <td>1</td>\n",
       "      <td>0</td>\n",
       "      <td>0</td>\n",
       "      <td>0</td>\n",
       "      <td>0</td>\n",
       "      <td>0</td>\n",
       "      <td>1</td>\n",
       "      <td>0</td>\n",
       "      <td>0</td>\n",
       "      <td>0</td>\n",
       "      <td>0</td>\n",
       "      <td>0</td>\n",
       "      <td>0</td>\n",
       "      <td>0</td>\n",
       "      <td>1806.0</td>\n",
       "      <td>20.925000</td>\n",
       "      <td>65.75</td>\n",
       "      <td>2277.530556</td>\n",
       "      <td>23.495903</td>\n",
       "      <td>79.253646</td>\n",
       "    </tr>\n",
       "    <tr>\n",
       "      <th>1</th>\n",
       "      <td>2006-01-02</td>\n",
       "      <td>3631.0</td>\n",
       "      <td>27.450</td>\n",
       "      <td>87.500000</td>\n",
       "      <td>108.55</td>\n",
       "      <td>91.702366</td>\n",
       "      <td>10530809</td>\n",
       "      <td>0</td>\n",
       "      <td>0</td>\n",
       "      <td>0</td>\n",
       "      <td>1</td>\n",
       "      <td>0</td>\n",
       "      <td>0</td>\n",
       "      <td>0</td>\n",
       "      <td>0</td>\n",
       "      <td>1</td>\n",
       "      <td>0</td>\n",
       "      <td>0</td>\n",
       "      <td>0</td>\n",
       "      <td>0</td>\n",
       "      <td>0</td>\n",
       "      <td>0</td>\n",
       "      <td>0</td>\n",
       "      <td>2274.0</td>\n",
       "      <td>21.725000</td>\n",
       "      <td>65.00</td>\n",
       "      <td>3045.465278</td>\n",
       "      <td>23.818993</td>\n",
       "      <td>79.031337</td>\n",
       "    </tr>\n",
       "    <tr>\n",
       "      <th>2</th>\n",
       "      <td>2006-01-03</td>\n",
       "      <td>3761.0</td>\n",
       "      <td>26.600</td>\n",
       "      <td>82.689583</td>\n",
       "      <td>108.55</td>\n",
       "      <td>91.702366</td>\n",
       "      <td>10530809</td>\n",
       "      <td>0</td>\n",
       "      <td>0</td>\n",
       "      <td>0</td>\n",
       "      <td>1</td>\n",
       "      <td>0</td>\n",
       "      <td>0</td>\n",
       "      <td>0</td>\n",
       "      <td>0</td>\n",
       "      <td>1</td>\n",
       "      <td>0</td>\n",
       "      <td>0</td>\n",
       "      <td>0</td>\n",
       "      <td>0</td>\n",
       "      <td>0</td>\n",
       "      <td>0</td>\n",
       "      <td>0</td>\n",
       "      <td>2560.0</td>\n",
       "      <td>20.716389</td>\n",
       "      <td>61.00</td>\n",
       "      <td>3213.102778</td>\n",
       "      <td>23.469557</td>\n",
       "      <td>74.780208</td>\n",
       "    </tr>\n",
       "    <tr>\n",
       "      <th>3</th>\n",
       "      <td>2006-01-04</td>\n",
       "      <td>3856.0</td>\n",
       "      <td>28.875</td>\n",
       "      <td>82.750000</td>\n",
       "      <td>108.55</td>\n",
       "      <td>91.702366</td>\n",
       "      <td>10530809</td>\n",
       "      <td>0</td>\n",
       "      <td>0</td>\n",
       "      <td>0</td>\n",
       "      <td>1</td>\n",
       "      <td>0</td>\n",
       "      <td>0</td>\n",
       "      <td>0</td>\n",
       "      <td>0</td>\n",
       "      <td>1</td>\n",
       "      <td>0</td>\n",
       "      <td>0</td>\n",
       "      <td>0</td>\n",
       "      <td>0</td>\n",
       "      <td>0</td>\n",
       "      <td>0</td>\n",
       "      <td>0</td>\n",
       "      <td>2549.0</td>\n",
       "      <td>20.700000</td>\n",
       "      <td>49.75</td>\n",
       "      <td>3256.781944</td>\n",
       "      <td>23.830365</td>\n",
       "      <td>68.286285</td>\n",
       "    </tr>\n",
       "    <tr>\n",
       "      <th>4</th>\n",
       "      <td>2006-01-05</td>\n",
       "      <td>3910.0</td>\n",
       "      <td>28.250</td>\n",
       "      <td>73.500000</td>\n",
       "      <td>108.55</td>\n",
       "      <td>91.702366</td>\n",
       "      <td>10530809</td>\n",
       "      <td>0</td>\n",
       "      <td>0</td>\n",
       "      <td>0</td>\n",
       "      <td>1</td>\n",
       "      <td>0</td>\n",
       "      <td>0</td>\n",
       "      <td>0</td>\n",
       "      <td>0</td>\n",
       "      <td>1</td>\n",
       "      <td>0</td>\n",
       "      <td>0</td>\n",
       "      <td>0</td>\n",
       "      <td>0</td>\n",
       "      <td>0</td>\n",
       "      <td>0</td>\n",
       "      <td>0</td>\n",
       "      <td>2649.0</td>\n",
       "      <td>22.166944</td>\n",
       "      <td>54.25</td>\n",
       "      <td>3314.315900</td>\n",
       "      <td>23.972667</td>\n",
       "      <td>67.117089</td>\n",
       "    </tr>\n",
       "  </tbody>\n",
       "</table>\n",
       "</div>"
      ],
      "text/plain": [
       "        Data  Demanda_Max  Temperatura_Max  Umidade_Max   IAEBR  \\\n",
       "0 2006-01-01       3302.0           27.300    90.500000  108.55   \n",
       "1 2006-01-02       3631.0           27.450    87.500000  108.55   \n",
       "2 2006-01-03       3761.0           26.600    82.689583  108.55   \n",
       "3 2006-01-04       3856.0           28.875    82.750000  108.55   \n",
       "4 2006-01-05       3910.0           28.250    73.500000  108.55   \n",
       "\n",
       "   Atividade Industrial Sem Ajuste Sazonal  População  Com Feriado  Sábado  \\\n",
       "0                                91.702366   10530809            1       0   \n",
       "1                                91.702366   10530809            0       0   \n",
       "2                                91.702366   10530809            0       0   \n",
       "3                                91.702366   10530809            0       0   \n",
       "4                                91.702366   10530809            0       0   \n",
       "\n",
       "   Domingo  Dia de Semana  Abril  Agosto  Dezembro  Fevereiro  Janeiro  Julho  \\\n",
       "0        1              0      0       0         0          0        1      0   \n",
       "1        0              1      0       0         0          0        1      0   \n",
       "2        0              1      0       0         0          0        1      0   \n",
       "3        0              1      0       0         0          0        1      0   \n",
       "4        0              1      0       0         0          0        1      0   \n",
       "\n",
       "   Junho  Março  Maio  Novembro  Outubro  Setembro  Demanda_Min  \\\n",
       "0      0      0     0         0        0         0       1806.0   \n",
       "1      0      0     0         0        0         0       2274.0   \n",
       "2      0      0     0         0        0         0       2560.0   \n",
       "3      0      0     0         0        0         0       2549.0   \n",
       "4      0      0     0         0        0         0       2649.0   \n",
       "\n",
       "   Temperatura_Min  Umidade_Min  Demanda_Med  Temperatura_Med  Umidade_Med  \n",
       "0        20.925000        65.75  2277.530556        23.495903    79.253646  \n",
       "1        21.725000        65.00  3045.465278        23.818993    79.031337  \n",
       "2        20.716389        61.00  3213.102778        23.469557    74.780208  \n",
       "3        20.700000        49.75  3256.781944        23.830365    68.286285  \n",
       "4        22.166944        54.25  3314.315900        23.972667    67.117089  "
      ]
     },
     "execution_count": 3,
     "metadata": {},
     "output_type": "execute_result"
    }
   ],
   "source": [
    "df.head()"
   ]
  },
  {
   "cell_type": "markdown",
   "metadata": {},
   "source": [
    "### Normalização e divisão dos dados"
   ]
  },
  {
   "cell_type": "code",
   "execution_count": 4,
   "metadata": {},
   "outputs": [],
   "source": [
    "from sklearn.model_selection import train_test_split\n",
    "from sklearn.linear_model import LogisticRegression\n",
    "from sklearn.metrics import confusion_matrix\n",
    "from sklearn import metrics\n",
    "from sklearn.preprocessing import StandardScaler"
   ]
  },
  {
   "cell_type": "code",
   "execution_count": 5,
   "metadata": {},
   "outputs": [
    {
     "data": {
      "text/plain": [
       "Index(['Data', 'Demanda_Max', 'Temperatura_Max', 'Umidade_Max', 'IAEBR',\n",
       "       'Atividade Industrial Sem Ajuste Sazonal', 'População', 'Com Feriado',\n",
       "       'Sábado', 'Domingo', 'Dia de Semana', 'Abril', 'Agosto', 'Dezembro',\n",
       "       'Fevereiro', 'Janeiro', 'Julho', 'Junho', 'Março', 'Maio', 'Novembro',\n",
       "       'Outubro', 'Setembro', 'Demanda_Min', 'Temperatura_Min', 'Umidade_Min',\n",
       "       'Demanda_Med', 'Temperatura_Med', 'Umidade_Med'],\n",
       "      dtype='object')"
      ]
     },
     "execution_count": 5,
     "metadata": {},
     "output_type": "execute_result"
    }
   ],
   "source": [
    "df.columns"
   ]
  },
  {
   "cell_type": "code",
   "execution_count": 6,
   "metadata": {},
   "outputs": [],
   "source": [
    "X = df[['IAEBR', 'Atividade Industrial Sem Ajuste Sazonal', 'População', 'Com Feriado', 'Domingo', 'Sábado',\n",
    "                 'Dia de Semana', 'Temperatura_Max', 'Umidade_Max', 'Temperatura_Min', 'Umidade_Min', 'Temperatura_Med',\n",
    "                   'Umidade_Med','Abril', 'Agosto', 'Dezembro',\n",
    "       'Fevereiro', 'Janeiro', 'Julho', 'Junho', 'Março', 'Maio', 'Novembro',\n",
    "       'Outubro', 'Setembro']]\n",
    "Y = df[['Demanda_Max', 'Demanda_Min', 'Demanda_Med']]"
   ]
  },
  {
   "cell_type": "code",
   "execution_count": 7,
   "metadata": {},
   "outputs": [],
   "source": [
    "scaler = StandardScaler()\n",
    "X_std = pd.DataFrame(scaler.fit_transform(X), columns = X.columns)"
   ]
  },
  {
   "cell_type": "code",
   "execution_count": 8,
   "metadata": {},
   "outputs": [],
   "source": [
    "#Dividir entre dataset de treino e teste\n",
    "X_train,X_test,y_train,y_test = train_test_split(X,Y,test_size=0.25,random_state=0)\n",
    "\n",
    "#Dividir entre dataset de treino e validação\n",
    "X_train,X_val,y_train,y_val = train_test_split(X_train,y_train,test_size=0.25,random_state=0)\n",
    "\n",
    "#Dividir entre dataset de treino e teste dados normalizados\n",
    "X_train_std,X_test_std,y_train_std,y_test_std = train_test_split(X_std,Y,test_size=0.25,random_state=0)\n",
    "\n",
    "#Dividir entre dataset de treino e validação\n",
    "X_train_std,X_val_std,y_train_std,y_val_std = train_test_split(X_train_std,y_train_std,test_size=0.25,random_state=0)"
   ]
  },
  {
   "cell_type": "code",
   "execution_count": 9,
   "metadata": {},
   "outputs": [
    {
     "data": {
      "text/html": [
       "<div>\n",
       "<style scoped>\n",
       "    .dataframe tbody tr th:only-of-type {\n",
       "        vertical-align: middle;\n",
       "    }\n",
       "\n",
       "    .dataframe tbody tr th {\n",
       "        vertical-align: top;\n",
       "    }\n",
       "\n",
       "    .dataframe thead th {\n",
       "        text-align: right;\n",
       "    }\n",
       "</style>\n",
       "<table border=\"1\" class=\"dataframe\">\n",
       "  <thead>\n",
       "    <tr style=\"text-align: right;\">\n",
       "      <th></th>\n",
       "      <th>IAEBR</th>\n",
       "      <th>Atividade Industrial Sem Ajuste Sazonal</th>\n",
       "      <th>População</th>\n",
       "      <th>Com Feriado</th>\n",
       "      <th>Domingo</th>\n",
       "      <th>Sábado</th>\n",
       "      <th>Dia de Semana</th>\n",
       "      <th>Temperatura_Max</th>\n",
       "      <th>Umidade_Max</th>\n",
       "      <th>Temperatura_Min</th>\n",
       "      <th>Umidade_Min</th>\n",
       "      <th>Temperatura_Med</th>\n",
       "      <th>Umidade_Med</th>\n",
       "      <th>Abril</th>\n",
       "      <th>Agosto</th>\n",
       "      <th>Dezembro</th>\n",
       "      <th>Fevereiro</th>\n",
       "      <th>Janeiro</th>\n",
       "      <th>Julho</th>\n",
       "      <th>Junho</th>\n",
       "      <th>Março</th>\n",
       "      <th>Maio</th>\n",
       "      <th>Novembro</th>\n",
       "      <th>Outubro</th>\n",
       "      <th>Setembro</th>\n",
       "    </tr>\n",
       "  </thead>\n",
       "  <tbody>\n",
       "    <tr>\n",
       "      <th>2561</th>\n",
       "      <td>0.446584</td>\n",
       "      <td>-0.004444</td>\n",
       "      <td>0.202081</td>\n",
       "      <td>-0.19084</td>\n",
       "      <td>-0.408471</td>\n",
       "      <td>2.450024</td>\n",
       "      <td>-1.580829</td>\n",
       "      <td>0.314059</td>\n",
       "      <td>0.745505</td>\n",
       "      <td>0.893788</td>\n",
       "      <td>0.886674</td>\n",
       "      <td>0.977345</td>\n",
       "      <td>0.144848</td>\n",
       "      <td>-0.303046</td>\n",
       "      <td>-0.305978</td>\n",
       "      <td>-0.297125</td>\n",
       "      <td>-0.293384</td>\n",
       "      <td>3.241200</td>\n",
       "      <td>-0.308528</td>\n",
       "      <td>-0.303046</td>\n",
       "      <td>-0.308528</td>\n",
       "      <td>-0.308528</td>\n",
       "      <td>-0.291878</td>\n",
       "      <td>-0.297125</td>\n",
       "      <td>-0.291878</td>\n",
       "    </tr>\n",
       "    <tr>\n",
       "      <th>4531</th>\n",
       "      <td>-0.267940</td>\n",
       "      <td>-1.421138</td>\n",
       "      <td>1.111192</td>\n",
       "      <td>-0.19084</td>\n",
       "      <td>-0.408471</td>\n",
       "      <td>-0.408159</td>\n",
       "      <td>0.632580</td>\n",
       "      <td>0.323066</td>\n",
       "      <td>-1.349620</td>\n",
       "      <td>0.070453</td>\n",
       "      <td>-1.310897</td>\n",
       "      <td>0.162285</td>\n",
       "      <td>-1.220405</td>\n",
       "      <td>-0.303046</td>\n",
       "      <td>-0.305978</td>\n",
       "      <td>-0.297125</td>\n",
       "      <td>-0.293384</td>\n",
       "      <td>-0.308528</td>\n",
       "      <td>-0.308528</td>\n",
       "      <td>-0.303046</td>\n",
       "      <td>-0.308528</td>\n",
       "      <td>3.241200</td>\n",
       "      <td>-0.291878</td>\n",
       "      <td>-0.297125</td>\n",
       "      <td>-0.291878</td>\n",
       "    </tr>\n",
       "    <tr>\n",
       "      <th>1923</th>\n",
       "      <td>0.505610</td>\n",
       "      <td>0.637665</td>\n",
       "      <td>-0.154579</td>\n",
       "      <td>-0.19084</td>\n",
       "      <td>-0.408471</td>\n",
       "      <td>-0.408159</td>\n",
       "      <td>0.632580</td>\n",
       "      <td>0.449166</td>\n",
       "      <td>-0.525582</td>\n",
       "      <td>0.118494</td>\n",
       "      <td>-0.727471</td>\n",
       "      <td>0.136544</td>\n",
       "      <td>-0.548160</td>\n",
       "      <td>3.299832</td>\n",
       "      <td>-0.305978</td>\n",
       "      <td>-0.297125</td>\n",
       "      <td>-0.293384</td>\n",
       "      <td>-0.308528</td>\n",
       "      <td>-0.308528</td>\n",
       "      <td>-0.303046</td>\n",
       "      <td>-0.308528</td>\n",
       "      <td>-0.308528</td>\n",
       "      <td>-0.291878</td>\n",
       "      <td>-0.297125</td>\n",
       "      <td>-0.291878</td>\n",
       "    </tr>\n",
       "    <tr>\n",
       "      <th>3520</th>\n",
       "      <td>0.635052</td>\n",
       "      <td>-0.424634</td>\n",
       "      <td>0.579613</td>\n",
       "      <td>-0.19084</td>\n",
       "      <td>-0.408471</td>\n",
       "      <td>2.450024</td>\n",
       "      <td>-1.580829</td>\n",
       "      <td>0.075369</td>\n",
       "      <td>0.646199</td>\n",
       "      <td>0.027216</td>\n",
       "      <td>-0.299626</td>\n",
       "      <td>-0.026551</td>\n",
       "      <td>-0.381787</td>\n",
       "      <td>-0.303046</td>\n",
       "      <td>3.268214</td>\n",
       "      <td>-0.297125</td>\n",
       "      <td>-0.293384</td>\n",
       "      <td>-0.308528</td>\n",
       "      <td>-0.308528</td>\n",
       "      <td>-0.303046</td>\n",
       "      <td>-0.308528</td>\n",
       "      <td>-0.308528</td>\n",
       "      <td>-0.291878</td>\n",
       "      <td>-0.297125</td>\n",
       "      <td>-0.291878</td>\n",
       "    </tr>\n",
       "    <tr>\n",
       "      <th>280</th>\n",
       "      <td>-1.623465</td>\n",
       "      <td>0.287218</td>\n",
       "      <td>-1.649184</td>\n",
       "      <td>-0.19084</td>\n",
       "      <td>2.448155</td>\n",
       "      <td>-0.408159</td>\n",
       "      <td>-1.580829</td>\n",
       "      <td>-0.338960</td>\n",
       "      <td>-0.176466</td>\n",
       "      <td>-0.318682</td>\n",
       "      <td>-0.571891</td>\n",
       "      <td>-0.440370</td>\n",
       "      <td>-0.467766</td>\n",
       "      <td>-0.303046</td>\n",
       "      <td>-0.305978</td>\n",
       "      <td>-0.297125</td>\n",
       "      <td>-0.293384</td>\n",
       "      <td>-0.308528</td>\n",
       "      <td>-0.308528</td>\n",
       "      <td>-0.303046</td>\n",
       "      <td>-0.308528</td>\n",
       "      <td>-0.308528</td>\n",
       "      <td>-0.291878</td>\n",
       "      <td>3.365589</td>\n",
       "      <td>-0.291878</td>\n",
       "    </tr>\n",
       "  </tbody>\n",
       "</table>\n",
       "</div>"
      ],
      "text/plain": [
       "         IAEBR  Atividade Industrial Sem Ajuste Sazonal  População  \\\n",
       "2561  0.446584                                -0.004444   0.202081   \n",
       "4531 -0.267940                                -1.421138   1.111192   \n",
       "1923  0.505610                                 0.637665  -0.154579   \n",
       "3520  0.635052                                -0.424634   0.579613   \n",
       "280  -1.623465                                 0.287218  -1.649184   \n",
       "\n",
       "      Com Feriado   Domingo    Sábado  Dia de Semana  Temperatura_Max  \\\n",
       "2561     -0.19084 -0.408471  2.450024      -1.580829         0.314059   \n",
       "4531     -0.19084 -0.408471 -0.408159       0.632580         0.323066   \n",
       "1923     -0.19084 -0.408471 -0.408159       0.632580         0.449166   \n",
       "3520     -0.19084 -0.408471  2.450024      -1.580829         0.075369   \n",
       "280      -0.19084  2.448155 -0.408159      -1.580829        -0.338960   \n",
       "\n",
       "      Umidade_Max  Temperatura_Min  Umidade_Min  Temperatura_Med  Umidade_Med  \\\n",
       "2561     0.745505         0.893788     0.886674         0.977345     0.144848   \n",
       "4531    -1.349620         0.070453    -1.310897         0.162285    -1.220405   \n",
       "1923    -0.525582         0.118494    -0.727471         0.136544    -0.548160   \n",
       "3520     0.646199         0.027216    -0.299626        -0.026551    -0.381787   \n",
       "280     -0.176466        -0.318682    -0.571891        -0.440370    -0.467766   \n",
       "\n",
       "         Abril    Agosto  Dezembro  Fevereiro   Janeiro     Julho     Junho  \\\n",
       "2561 -0.303046 -0.305978 -0.297125  -0.293384  3.241200 -0.308528 -0.303046   \n",
       "4531 -0.303046 -0.305978 -0.297125  -0.293384 -0.308528 -0.308528 -0.303046   \n",
       "1923  3.299832 -0.305978 -0.297125  -0.293384 -0.308528 -0.308528 -0.303046   \n",
       "3520 -0.303046  3.268214 -0.297125  -0.293384 -0.308528 -0.308528 -0.303046   \n",
       "280  -0.303046 -0.305978 -0.297125  -0.293384 -0.308528 -0.308528 -0.303046   \n",
       "\n",
       "         Março      Maio  Novembro   Outubro  Setembro  \n",
       "2561 -0.308528 -0.308528 -0.291878 -0.297125 -0.291878  \n",
       "4531 -0.308528  3.241200 -0.291878 -0.297125 -0.291878  \n",
       "1923 -0.308528 -0.308528 -0.291878 -0.297125 -0.291878  \n",
       "3520 -0.308528 -0.308528 -0.291878 -0.297125 -0.291878  \n",
       "280  -0.308528 -0.308528 -0.291878  3.365589 -0.291878  "
      ]
     },
     "execution_count": 9,
     "metadata": {},
     "output_type": "execute_result"
    }
   ],
   "source": [
    "X_train_std.head()"
   ]
  },
  {
   "cell_type": "code",
   "execution_count": 10,
   "metadata": {},
   "outputs": [
    {
     "data": {
      "text/html": [
       "<div>\n",
       "<style scoped>\n",
       "    .dataframe tbody tr th:only-of-type {\n",
       "        vertical-align: middle;\n",
       "    }\n",
       "\n",
       "    .dataframe tbody tr th {\n",
       "        vertical-align: top;\n",
       "    }\n",
       "\n",
       "    .dataframe thead th {\n",
       "        text-align: right;\n",
       "    }\n",
       "</style>\n",
       "<table border=\"1\" class=\"dataframe\">\n",
       "  <thead>\n",
       "    <tr style=\"text-align: right;\">\n",
       "      <th></th>\n",
       "      <th>IAEBR</th>\n",
       "      <th>Atividade Industrial Sem Ajuste Sazonal</th>\n",
       "      <th>População</th>\n",
       "      <th>Com Feriado</th>\n",
       "      <th>Domingo</th>\n",
       "      <th>Sábado</th>\n",
       "      <th>Dia de Semana</th>\n",
       "      <th>Temperatura_Max</th>\n",
       "      <th>Umidade_Max</th>\n",
       "      <th>Temperatura_Min</th>\n",
       "      <th>Umidade_Min</th>\n",
       "      <th>Temperatura_Med</th>\n",
       "      <th>Umidade_Med</th>\n",
       "      <th>Abril</th>\n",
       "      <th>Agosto</th>\n",
       "      <th>Dezembro</th>\n",
       "      <th>Fevereiro</th>\n",
       "      <th>Janeiro</th>\n",
       "      <th>Julho</th>\n",
       "      <th>Junho</th>\n",
       "      <th>Março</th>\n",
       "      <th>Maio</th>\n",
       "      <th>Novembro</th>\n",
       "      <th>Outubro</th>\n",
       "      <th>Setembro</th>\n",
       "    </tr>\n",
       "  </thead>\n",
       "  <tbody>\n",
       "    <tr>\n",
       "      <th>2561</th>\n",
       "      <td>139.32</td>\n",
       "      <td>100.156240</td>\n",
       "      <td>11066527</td>\n",
       "      <td>0</td>\n",
       "      <td>0</td>\n",
       "      <td>1</td>\n",
       "      <td>0</td>\n",
       "      <td>25.100</td>\n",
       "      <td>91.215972</td>\n",
       "      <td>21.684514</td>\n",
       "      <td>74.00</td>\n",
       "      <td>24.401137</td>\n",
       "      <td>77.962760</td>\n",
       "      <td>0</td>\n",
       "      <td>0</td>\n",
       "      <td>0</td>\n",
       "      <td>0</td>\n",
       "      <td>1</td>\n",
       "      <td>0</td>\n",
       "      <td>0</td>\n",
       "      <td>0</td>\n",
       "      <td>0</td>\n",
       "      <td>0</td>\n",
       "      <td>0</td>\n",
       "      <td>0</td>\n",
       "    </tr>\n",
       "    <tr>\n",
       "      <th>4531</th>\n",
       "      <td>132.42</td>\n",
       "      <td>86.379788</td>\n",
       "      <td>11329605</td>\n",
       "      <td>0</td>\n",
       "      <td>0</td>\n",
       "      <td>0</td>\n",
       "      <td>1</td>\n",
       "      <td>25.150</td>\n",
       "      <td>74.250000</td>\n",
       "      <td>17.400000</td>\n",
       "      <td>45.75</td>\n",
       "      <td>20.216155</td>\n",
       "      <td>65.656684</td>\n",
       "      <td>0</td>\n",
       "      <td>0</td>\n",
       "      <td>0</td>\n",
       "      <td>0</td>\n",
       "      <td>0</td>\n",
       "      <td>0</td>\n",
       "      <td>0</td>\n",
       "      <td>0</td>\n",
       "      <td>1</td>\n",
       "      <td>0</td>\n",
       "      <td>0</td>\n",
       "      <td>0</td>\n",
       "    </tr>\n",
       "    <tr>\n",
       "      <th>1923</th>\n",
       "      <td>139.89</td>\n",
       "      <td>106.400341</td>\n",
       "      <td>10963317</td>\n",
       "      <td>0</td>\n",
       "      <td>0</td>\n",
       "      <td>0</td>\n",
       "      <td>1</td>\n",
       "      <td>25.850</td>\n",
       "      <td>80.922917</td>\n",
       "      <td>17.650000</td>\n",
       "      <td>53.25</td>\n",
       "      <td>20.083984</td>\n",
       "      <td>71.716146</td>\n",
       "      <td>1</td>\n",
       "      <td>0</td>\n",
       "      <td>0</td>\n",
       "      <td>0</td>\n",
       "      <td>0</td>\n",
       "      <td>0</td>\n",
       "      <td>0</td>\n",
       "      <td>0</td>\n",
       "      <td>0</td>\n",
       "      <td>0</td>\n",
       "      <td>0</td>\n",
       "      <td>0</td>\n",
       "    </tr>\n",
       "    <tr>\n",
       "      <th>3520</th>\n",
       "      <td>141.14</td>\n",
       "      <td>96.070164</td>\n",
       "      <td>11175777</td>\n",
       "      <td>0</td>\n",
       "      <td>0</td>\n",
       "      <td>1</td>\n",
       "      <td>0</td>\n",
       "      <td>23.775</td>\n",
       "      <td>90.411806</td>\n",
       "      <td>17.175000</td>\n",
       "      <td>58.75</td>\n",
       "      <td>19.246563</td>\n",
       "      <td>73.215799</td>\n",
       "      <td>0</td>\n",
       "      <td>1</td>\n",
       "      <td>0</td>\n",
       "      <td>0</td>\n",
       "      <td>0</td>\n",
       "      <td>0</td>\n",
       "      <td>0</td>\n",
       "      <td>0</td>\n",
       "      <td>0</td>\n",
       "      <td>0</td>\n",
       "      <td>0</td>\n",
       "      <td>0</td>\n",
       "    </tr>\n",
       "    <tr>\n",
       "      <th>280</th>\n",
       "      <td>119.33</td>\n",
       "      <td>102.992465</td>\n",
       "      <td>10530809</td>\n",
       "      <td>0</td>\n",
       "      <td>1</td>\n",
       "      <td>0</td>\n",
       "      <td>0</td>\n",
       "      <td>21.475</td>\n",
       "      <td>83.750000</td>\n",
       "      <td>15.375000</td>\n",
       "      <td>55.25</td>\n",
       "      <td>17.121780</td>\n",
       "      <td>72.440799</td>\n",
       "      <td>0</td>\n",
       "      <td>0</td>\n",
       "      <td>0</td>\n",
       "      <td>0</td>\n",
       "      <td>0</td>\n",
       "      <td>0</td>\n",
       "      <td>0</td>\n",
       "      <td>0</td>\n",
       "      <td>0</td>\n",
       "      <td>0</td>\n",
       "      <td>1</td>\n",
       "      <td>0</td>\n",
       "    </tr>\n",
       "  </tbody>\n",
       "</table>\n",
       "</div>"
      ],
      "text/plain": [
       "       IAEBR  Atividade Industrial Sem Ajuste Sazonal  População  Com Feriado  \\\n",
       "2561  139.32                               100.156240   11066527            0   \n",
       "4531  132.42                                86.379788   11329605            0   \n",
       "1923  139.89                               106.400341   10963317            0   \n",
       "3520  141.14                                96.070164   11175777            0   \n",
       "280   119.33                               102.992465   10530809            0   \n",
       "\n",
       "      Domingo  Sábado  Dia de Semana  Temperatura_Max  Umidade_Max  \\\n",
       "2561        0       1              0           25.100    91.215972   \n",
       "4531        0       0              1           25.150    74.250000   \n",
       "1923        0       0              1           25.850    80.922917   \n",
       "3520        0       1              0           23.775    90.411806   \n",
       "280         1       0              0           21.475    83.750000   \n",
       "\n",
       "      Temperatura_Min  Umidade_Min  Temperatura_Med  Umidade_Med  Abril  \\\n",
       "2561        21.684514        74.00        24.401137    77.962760      0   \n",
       "4531        17.400000        45.75        20.216155    65.656684      0   \n",
       "1923        17.650000        53.25        20.083984    71.716146      1   \n",
       "3520        17.175000        58.75        19.246563    73.215799      0   \n",
       "280         15.375000        55.25        17.121780    72.440799      0   \n",
       "\n",
       "      Agosto  Dezembro  Fevereiro  Janeiro  Julho  Junho  Março  Maio  \\\n",
       "2561       0         0          0        1      0      0      0     0   \n",
       "4531       0         0          0        0      0      0      0     1   \n",
       "1923       0         0          0        0      0      0      0     0   \n",
       "3520       1         0          0        0      0      0      0     0   \n",
       "280        0         0          0        0      0      0      0     0   \n",
       "\n",
       "      Novembro  Outubro  Setembro  \n",
       "2561         0        0         0  \n",
       "4531         0        0         0  \n",
       "1923         0        0         0  \n",
       "3520         0        0         0  \n",
       "280          0        1         0  "
      ]
     },
     "execution_count": 10,
     "metadata": {},
     "output_type": "execute_result"
    }
   ],
   "source": [
    "X_train.head()"
   ]
  },
  {
   "cell_type": "markdown",
   "metadata": {},
   "source": [
    "### Random Forest"
   ]
  },
  {
   "cell_type": "markdown",
   "metadata": {},
   "source": [
    "**Dados não normalizados**"
   ]
  },
  {
   "cell_type": "code",
   "execution_count": 11,
   "metadata": {},
   "outputs": [],
   "source": [
    "from sklearn.ensemble import RandomForestRegressor\n",
    "from sklearn.datasets import make_regression"
   ]
  },
  {
   "cell_type": "code",
   "execution_count": 12,
   "metadata": {},
   "outputs": [
    {
     "data": {
      "text/plain": [
       "RandomForestRegressor(n_estimators=200, oob_score=True)"
      ]
     },
     "execution_count": 12,
     "metadata": {},
     "output_type": "execute_result"
    }
   ],
   "source": [
    "RF_regressor = RandomForestRegressor(n_estimators=200, oob_score=True)\n",
    "RF_regressor.fit(X_train, y_train)"
   ]
  },
  {
   "cell_type": "code",
   "execution_count": 13,
   "metadata": {},
   "outputs": [
    {
     "data": {
      "text/plain": [
       "array([[4463.86      , 2521.61      , 3625.95825   ],\n",
       "       [4209.555     , 2231.6       , 3332.00964023],\n",
       "       [4630.785     , 2623.765     , 3810.45388231],\n",
       "       [4744.88      , 2998.615     , 3929.40379231],\n",
       "       [4677.78      , 3139.535     , 3810.02186111],\n",
       "       [4572.335     , 2492.57      , 3716.96357005],\n",
       "       [3472.46      , 1965.21      , 2480.97827085],\n",
       "       [4000.505     , 2259.81      , 3269.64636141],\n",
       "       [4035.275     , 2338.745     , 3027.40947917],\n",
       "       [4898.225     , 2723.345     , 3934.56485069]])"
      ]
     },
     "execution_count": 13,
     "metadata": {},
     "output_type": "execute_result"
    }
   ],
   "source": [
    "y_pred = RF_regressor.predict(X_val)\n",
    "y_pred[:10]"
   ]
  },
  {
   "cell_type": "markdown",
   "metadata": {},
   "source": [
    "#### Avaliação do Modelo"
   ]
  },
  {
   "cell_type": "code",
   "execution_count": 14,
   "metadata": {},
   "outputs": [],
   "source": [
    "from sklearn.metrics import mean_squared_error, mean_absolute_error, mean_squared_log_error, r2_score, explained_variance_score"
   ]
  },
  {
   "cell_type": "code",
   "execution_count": 15,
   "metadata": {},
   "outputs": [
    {
     "name": "stdout",
     "output_type": "stream",
     "text": [
      "MAE: 135.71043536800894\n",
      "RMSE: 191.30212830543888\n",
      "R2 Score: 0.8704143602243622\n",
      "Adj R2 Score 0.8693283256972449\n"
     ]
    }
   ],
   "source": [
    "print('MAE:',mean_absolute_error(y_val, y_pred))\n",
    "MSE = mean_squared_error(y_val, y_pred)\n",
    "print('RMSE:', np.sqrt(MSE))\n",
    "R2 = r2_score(y_val, y_pred)\n",
    "print('R2 Score:', R2)\n",
    "n= len(X_train)\n",
    "p = len(X_train.columns)\n",
    "print('Adj R2 Score', 1-(1-R2)*(n-1)/(n-p-1))"
   ]
  },
  {
   "cell_type": "code",
   "execution_count": 16,
   "metadata": {},
   "outputs": [
    {
     "data": {
      "text/plain": [
       "Text(0.5, 1.0, 'Importância de cada feature')"
      ]
     },
     "execution_count": 16,
     "metadata": {},
     "output_type": "execute_result"
    },
    {
     "data": {
      "image/png": "[encoded data removed]",
      "text/plain": [
       "<Figure size 720x576 with 1 Axes>"
      ]
     },
     "metadata": {
      "needs_background": "light"
     },
     "output_type": "display_data"
    }
   ],
   "source": [
    "plt.figure(figsize=(10,8 ));\n",
    "importances = pd.Series(data=RF_regressor.feature_importances_, index=['valor', 'Sem ajuste sazonal',\n",
    "       'População', 'Com Feriado', 'Sunday', 'Saturday',\n",
    "       'Dia de Semana','Temperatura_Max',\n",
    "       'Umidade_Max', 'Temperatura_Min', 'Umidade_Min', 'Temperatura_Med',\n",
    "       'Umidade_Med', 'April', 'August', 'December', 'February',\n",
    "       'January', 'July', 'June', 'March', 'May', 'November', 'October',\n",
    "       'September' ]).sort_values(ascending=False)\n",
    "sns.barplot(x=importances, y=importances.index, orient='h').set_title('Importância de cada feature')"
   ]
  },
  {
   "cell_type": "markdown",
   "metadata": {},
   "source": [
    "**Com dados normalizados**"
   ]
  },
  {
   "cell_type": "code",
   "execution_count": 17,
   "metadata": {},
   "outputs": [
    {
     "data": {
      "text/plain": [
       "RandomForestRegressor(n_estimators=200, oob_score=True)"
      ]
     },
     "execution_count": 17,
     "metadata": {},
     "output_type": "execute_result"
    }
   ],
   "source": [
    "RF_regressor = RandomForestRegressor(n_estimators=200, oob_score=True)\n",
    "RF_regressor.fit(X_train_std, y_train_std)"
   ]
  },
  {
   "cell_type": "code",
   "execution_count": 18,
   "metadata": {},
   "outputs": [
    {
     "data": {
      "text/plain": [
       "array([[4451.3       , 2513.48      , 3614.06385417],\n",
       "       [4198.375     , 2224.325     , 3328.98895847],\n",
       "       [4632.43      , 2631.6       , 3811.49552714],\n",
       "       [4721.98      , 2972.7       , 3904.40298643],\n",
       "       [4671.135     , 3138.285     , 3798.76887153],\n",
       "       [4587.07      , 2510.585     , 3731.18816362],\n",
       "       [3465.305     , 1962.02      , 2475.47444936],\n",
       "       [4001.79      , 2252.98      , 3263.46338225],\n",
       "       [4034.375     , 2337.705     , 3028.2324375 ],\n",
       "       [4974.73      , 2785.825     , 3995.07311111]])"
      ]
     },
     "execution_count": 18,
     "metadata": {},
     "output_type": "execute_result"
    }
   ],
   "source": [
    "y_pred = RF_regressor.predict(X_val_std)\n",
    "y_pred[:10]"
   ]
  },
  {
   "cell_type": "code",
   "execution_count": 19,
   "metadata": {},
   "outputs": [
    {
     "data": {
      "text/html": [
       "<div>\n",
       "<style scoped>\n",
       "    .dataframe tbody tr th:only-of-type {\n",
       "        vertical-align: middle;\n",
       "    }\n",
       "\n",
       "    .dataframe tbody tr th {\n",
       "        vertical-align: top;\n",
       "    }\n",
       "\n",
       "    .dataframe thead th {\n",
       "        text-align: right;\n",
       "    }\n",
       "</style>\n",
       "<table border=\"1\" class=\"dataframe\">\n",
       "  <thead>\n",
       "    <tr style=\"text-align: right;\">\n",
       "      <th></th>\n",
       "      <th>Demanda_Max</th>\n",
       "      <th>Demanda_Min</th>\n",
       "      <th>Demanda_Med</th>\n",
       "    </tr>\n",
       "  </thead>\n",
       "  <tbody>\n",
       "    <tr>\n",
       "      <th>4678</th>\n",
       "      <td>4571.0</td>\n",
       "      <td>2787.0</td>\n",
       "      <td>3782.426389</td>\n",
       "    </tr>\n",
       "    <tr>\n",
       "      <th>892</th>\n",
       "      <td>4343.0</td>\n",
       "      <td>2330.0</td>\n",
       "      <td>3401.870833</td>\n",
       "    </tr>\n",
       "    <tr>\n",
       "      <th>3215</th>\n",
       "      <td>4523.0</td>\n",
       "      <td>2621.0</td>\n",
       "      <td>3748.583333</td>\n",
       "    </tr>\n",
       "    <tr>\n",
       "      <th>1796</th>\n",
       "      <td>4984.0</td>\n",
       "      <td>3048.0</td>\n",
       "      <td>4106.559722</td>\n",
       "    </tr>\n",
       "    <tr>\n",
       "      <th>5159</th>\n",
       "      <td>4901.0</td>\n",
       "      <td>3148.0</td>\n",
       "      <td>4048.491667</td>\n",
       "    </tr>\n",
       "    <tr>\n",
       "      <th>3189</th>\n",
       "      <td>4614.0</td>\n",
       "      <td>2598.0</td>\n",
       "      <td>3825.556944</td>\n",
       "    </tr>\n",
       "    <tr>\n",
       "      <th>91</th>\n",
       "      <td>3470.0</td>\n",
       "      <td>1872.0</td>\n",
       "      <td>2413.688889</td>\n",
       "    </tr>\n",
       "    <tr>\n",
       "      <th>1384</th>\n",
       "      <td>3967.0</td>\n",
       "      <td>2276.0</td>\n",
       "      <td>3245.770833</td>\n",
       "    </tr>\n",
       "    <tr>\n",
       "      <th>1637</th>\n",
       "      <td>4262.0</td>\n",
       "      <td>2342.0</td>\n",
       "      <td>3064.450000</td>\n",
       "    </tr>\n",
       "    <tr>\n",
       "      <th>5020</th>\n",
       "      <td>4836.0</td>\n",
       "      <td>2508.0</td>\n",
       "      <td>3852.847917</td>\n",
       "    </tr>\n",
       "  </tbody>\n",
       "</table>\n",
       "</div>"
      ],
      "text/plain": [
       "      Demanda_Max  Demanda_Min  Demanda_Med\n",
       "4678       4571.0       2787.0  3782.426389\n",
       "892        4343.0       2330.0  3401.870833\n",
       "3215       4523.0       2621.0  3748.583333\n",
       "1796       4984.0       3048.0  4106.559722\n",
       "5159       4901.0       3148.0  4048.491667\n",
       "3189       4614.0       2598.0  3825.556944\n",
       "91         3470.0       1872.0  2413.688889\n",
       "1384       3967.0       2276.0  3245.770833\n",
       "1637       4262.0       2342.0  3064.450000\n",
       "5020       4836.0       2508.0  3852.847917"
      ]
     },
     "execution_count": 19,
     "metadata": {},
     "output_type": "execute_result"
    }
   ],
   "source": [
    "y_val_std[:10]"
   ]
  },
  {
   "cell_type": "markdown",
   "metadata": {},
   "source": [
    "**Avaliação do modelo**"
   ]
  },
  {
   "cell_type": "code",
   "execution_count": 20,
   "metadata": {},
   "outputs": [
    {
     "name": "stdout",
     "output_type": "stream",
     "text": [
      "MAE: 136.1502910288094\n",
      "RMSE: 192.8008706205032\n",
      "R2 Score: 0.8686292546577956\n",
      "Adj R2 Score 0.8675282594739019\n"
     ]
    }
   ],
   "source": [
    "print('MAE:',mean_absolute_error(y_val_std, y_pred))\n",
    "MSE = mean_squared_error(y_val_std, y_pred)\n",
    "print('RMSE:',np.sqrt(MSE))\n",
    "R2 = r2_score(y_val_std, y_pred)\n",
    "print('R2 Score:', R2)\n",
    "n= len(X_train_std)\n",
    "p = len(X_train_std.columns)\n",
    "print('Adj R2 Score', 1-(1-R2)*(n-1)/(n-p-1))"
   ]
  },
  {
   "cell_type": "markdown",
   "metadata": {},
   "source": [
    "Percebemos que não tem muita diferença entre os dados normalizados ou não."
   ]
  },
  {
   "cell_type": "markdown",
   "metadata": {},
   "source": [
    "Verificando os melhores parâmetros, com o RandomizedSearchCV"
   ]
  },
  {
   "cell_type": "code",
   "execution_count": 21,
   "metadata": {},
   "outputs": [],
   "source": [
    "from sklearn.model_selection import RandomizedSearchCV\n",
    "import pprint"
   ]
  },
  {
   "cell_type": "code",
   "execution_count": 22,
   "metadata": {},
   "outputs": [
    {
     "name": "stdout",
     "output_type": "stream",
     "text": [
      "{'n_estimators': [10, 20, 30, 40, 50, 60, 70, 80, 90, 100, 110, 120, 130, 140, 150, 160, 170, 180, 190, 200, 210, 220, 230, 240, 250, 260, 270, 280, 290, 300, 310, 320, 330, 340, 350, 360, 370, 380, 390, 400, 410, 420, 430, 440, 450, 460, 470, 480, 490, 500], 'max_features': ['auto', 'sqrt'], 'max_depth': [10, 15, 20, 25, 31, 36, 41, 46, 52, 57, 62, 67, 73, 78, 83, 88, 94, 99, 104, 110, None], 'min_samples_split': [2, 4, 8, 1], 'min_samples_leaf': [1, 2, 4], 'bootstrap': [True, False]}\n"
     ]
    }
   ],
   "source": [
    "n_estimators = [int(x) for x in np.linspace(start = 10, stop = 500, num = 50)]\n",
    "max_features = ['auto', 'sqrt']\n",
    "max_depth = [int(x) for x in np.linspace(10, 110, num = 20)]\n",
    "max_depth.append(None)\n",
    "min_samples_split = [2, 4, 8, 1]\n",
    "min_samples_leaf = [1, 2, 4]\n",
    "# Method of selecting samples for training each tree\n",
    "bootstrap = [True, False]\n",
    "# Create the random grid\n",
    "random_grid = {'n_estimators': n_estimators,\n",
    "               'max_features': max_features,\n",
    "               'max_depth': max_depth,\n",
    "               'min_samples_split': min_samples_split,\n",
    "               'min_samples_leaf': min_samples_leaf,\n",
    "               'bootstrap': bootstrap}\n",
    "print(random_grid)"
   ]
  },
  {
   "cell_type": "code",
   "execution_count": 23,
   "metadata": {},
   "outputs": [],
   "source": [
    "rf = RandomForestRegressor()"
   ]
  },
  {
   "cell_type": "code",
   "execution_count": 24,
   "metadata": {},
   "outputs": [],
   "source": [
    "rf_random = RandomizedSearchCV(estimator = rf, param_distributions = random_grid, n_iter = 100, cv = 3, verbose=2, random_state=42, n_jobs = -1)"
   ]
  },
  {
   "cell_type": "code",
   "execution_count": 25,
   "metadata": {},
   "outputs": [
    {
     "name": "stdout",
     "output_type": "stream",
     "text": [
      "Fitting 3 folds for each of 100 candidates, totalling 300 fits\n"
     ]
    },
    {
     "name": "stderr",
     "output_type": "stream",
     "text": [
      "[Parallel(n_jobs=-1)]: Using backend LokyBackend with 12 concurrent workers.\n",
      "[Parallel(n_jobs=-1)]: Done  17 tasks      | elapsed:    4.2s\n",
      "[Parallel(n_jobs=-1)]: Done 138 tasks      | elapsed:   34.9s\n",
      "[Parallel(n_jobs=-1)]: Done 300 out of 300 | elapsed:  1.1min finished\n"
     ]
    },
    {
     "data": {
      "text/plain": [
       "RandomizedSearchCV(cv=3, estimator=RandomForestRegressor(), n_iter=100,\n",
       "                   n_jobs=-1,\n",
       "                   param_distributions={'bootstrap': [True, False],\n",
       "                                        'max_depth': [10, 15, 20, 25, 31, 36,\n",
       "                                                      41, 46, 52, 57, 62, 67,\n",
       "                                                      73, 78, 83, 88, 94, 99,\n",
       "                                                      104, 110, None],\n",
       "                                        'max_features': ['auto', 'sqrt'],\n",
       "                                        'min_samples_leaf': [1, 2, 4],\n",
       "                                        'min_samples_split': [2, 4, 8, 1],\n",
       "                                        'n_estimators': [10, 20, 30, 40, 50, 60,\n",
       "                                                         70, 80, 90, 100, 110,\n",
       "                                                         120, 130, 140, 150,\n",
       "                                                         160, 170, 180, 190,\n",
       "                                                         200, 210, 220, 230,\n",
       "                                                         240, 250, 260, 270,\n",
       "                                                         280, 290, 300, ...]},\n",
       "                   random_state=42, verbose=2)"
      ]
     },
     "execution_count": 25,
     "metadata": {},
     "output_type": "execute_result"
    }
   ],
   "source": [
    "rf_random.fit(X_train, y_train)"
   ]
  },
  {
   "cell_type": "code",
   "execution_count": 26,
   "metadata": {},
   "outputs": [
    {
     "data": {
      "text/plain": [
       "{'n_estimators': 500,\n",
       " 'min_samples_split': 4,\n",
       " 'min_samples_leaf': 1,\n",
       " 'max_features': 'sqrt',\n",
       " 'max_depth': 67,\n",
       " 'bootstrap': False}"
      ]
     },
     "execution_count": 26,
     "metadata": {},
     "output_type": "execute_result"
    }
   ],
   "source": [
    "rf_random.best_params_"
   ]
  },
  {
   "cell_type": "markdown",
   "metadata": {},
   "source": [
    "Testando essa configuração:"
   ]
  },
  {
   "cell_type": "code",
   "execution_count": 27,
   "metadata": {},
   "outputs": [
    {
     "data": {
      "text/plain": [
       "RandomForestRegressor(bootstrap=False, max_depth=100, max_features='sqrt',\n",
       "                      min_samples_split=5, n_estimators=106)"
      ]
     },
     "execution_count": 27,
     "metadata": {},
     "output_type": "execute_result"
    }
   ],
   "source": [
    "RF_regressor = RandomForestRegressor(n_estimators=106, min_samples_split=5, min_samples_leaf=1,max_features='sqrt',\n",
    "                                     max_depth=100, bootstrap=False)\n",
    "RF_regressor.fit(X_train_std, y_train_std)"
   ]
  },
  {
   "cell_type": "code",
   "execution_count": 28,
   "metadata": {},
   "outputs": [
    {
     "data": {
      "text/plain": [
       "array([[4461.35691824, 2535.12657233, 3638.97697141],\n",
       "       [4213.89308176, 2229.93238994, 3330.35450241],\n",
       "       [4580.58962264, 2611.29481132, 3771.07916815],\n",
       "       [4760.88836478, 2980.93710692, 3923.77604802],\n",
       "       [4583.89465409, 3055.65880503, 3715.38858738],\n",
       "       [4559.18238994, 2514.70833333, 3708.33002443],\n",
       "       [3531.00628931, 2017.76572327, 2539.59153319],\n",
       "       [3989.70754717, 2276.46305031, 3277.3751485 ],\n",
       "       [4054.03459119, 2345.59198113, 3042.04194019],\n",
       "       [4892.61713836, 2772.54716981, 3925.32688734]])"
      ]
     },
     "execution_count": 28,
     "metadata": {},
     "output_type": "execute_result"
    }
   ],
   "source": [
    "y_pred = RF_regressor.predict(X_val_std)\n",
    "y_pred[:10]"
   ]
  },
  {
   "cell_type": "code",
   "execution_count": 29,
   "metadata": {},
   "outputs": [
    {
     "data": {
      "text/html": [
       "<div>\n",
       "<style scoped>\n",
       "    .dataframe tbody tr th:only-of-type {\n",
       "        vertical-align: middle;\n",
       "    }\n",
       "\n",
       "    .dataframe tbody tr th {\n",
       "        vertical-align: top;\n",
       "    }\n",
       "\n",
       "    .dataframe thead th {\n",
       "        text-align: right;\n",
       "    }\n",
       "</style>\n",
       "<table border=\"1\" class=\"dataframe\">\n",
       "  <thead>\n",
       "    <tr style=\"text-align: right;\">\n",
       "      <th></th>\n",
       "      <th>Demanda_Max</th>\n",
       "      <th>Demanda_Min</th>\n",
       "      <th>Demanda_Med</th>\n",
       "    </tr>\n",
       "  </thead>\n",
       "  <tbody>\n",
       "    <tr>\n",
       "      <th>4678</th>\n",
       "      <td>4571.0</td>\n",
       "      <td>2787.0</td>\n",
       "      <td>3782.426389</td>\n",
       "    </tr>\n",
       "    <tr>\n",
       "      <th>892</th>\n",
       "      <td>4343.0</td>\n",
       "      <td>2330.0</td>\n",
       "      <td>3401.870833</td>\n",
       "    </tr>\n",
       "    <tr>\n",
       "      <th>3215</th>\n",
       "      <td>4523.0</td>\n",
       "      <td>2621.0</td>\n",
       "      <td>3748.583333</td>\n",
       "    </tr>\n",
       "    <tr>\n",
       "      <th>1796</th>\n",
       "      <td>4984.0</td>\n",
       "      <td>3048.0</td>\n",
       "      <td>4106.559722</td>\n",
       "    </tr>\n",
       "    <tr>\n",
       "      <th>5159</th>\n",
       "      <td>4901.0</td>\n",
       "      <td>3148.0</td>\n",
       "      <td>4048.491667</td>\n",
       "    </tr>\n",
       "    <tr>\n",
       "      <th>3189</th>\n",
       "      <td>4614.0</td>\n",
       "      <td>2598.0</td>\n",
       "      <td>3825.556944</td>\n",
       "    </tr>\n",
       "    <tr>\n",
       "      <th>91</th>\n",
       "      <td>3470.0</td>\n",
       "      <td>1872.0</td>\n",
       "      <td>2413.688889</td>\n",
       "    </tr>\n",
       "    <tr>\n",
       "      <th>1384</th>\n",
       "      <td>3967.0</td>\n",
       "      <td>2276.0</td>\n",
       "      <td>3245.770833</td>\n",
       "    </tr>\n",
       "    <tr>\n",
       "      <th>1637</th>\n",
       "      <td>4262.0</td>\n",
       "      <td>2342.0</td>\n",
       "      <td>3064.450000</td>\n",
       "    </tr>\n",
       "    <tr>\n",
       "      <th>5020</th>\n",
       "      <td>4836.0</td>\n",
       "      <td>2508.0</td>\n",
       "      <td>3852.847917</td>\n",
       "    </tr>\n",
       "  </tbody>\n",
       "</table>\n",
       "</div>"
      ],
      "text/plain": [
       "      Demanda_Max  Demanda_Min  Demanda_Med\n",
       "4678       4571.0       2787.0  3782.426389\n",
       "892        4343.0       2330.0  3401.870833\n",
       "3215       4523.0       2621.0  3748.583333\n",
       "1796       4984.0       3048.0  4106.559722\n",
       "5159       4901.0       3148.0  4048.491667\n",
       "3189       4614.0       2598.0  3825.556944\n",
       "91         3470.0       1872.0  2413.688889\n",
       "1384       3967.0       2276.0  3245.770833\n",
       "1637       4262.0       2342.0  3064.450000\n",
       "5020       4836.0       2508.0  3852.847917"
      ]
     },
     "execution_count": 29,
     "metadata": {},
     "output_type": "execute_result"
    }
   ],
   "source": [
    "y_val_std[:10]"
   ]
  },
  {
   "cell_type": "code",
   "execution_count": 30,
   "metadata": {},
   "outputs": [
    {
     "name": "stdout",
     "output_type": "stream",
     "text": [
      "MAE: 134.23040176698677\n",
      "RMSE: 187.30364193141654\n",
      "R2 Score: 0.8764691643992822\n",
      "Adj R2 Score 0.8754338741243852\n"
     ]
    }
   ],
   "source": [
    "print('MAE:',mean_absolute_error(y_val_std, y_pred))\n",
    "MSE = mean_squared_error(y_val_std, y_pred)\n",
    "print('RMSE:',np.sqrt(MSE))\n",
    "R2 = r2_score(y_val_std, y_pred)\n",
    "print('R2 Score:', R2)\n",
    "n= len(X_train_std)\n",
    "p = len(X_train_std.columns)\n",
    "print('Adj R2 Score', 1-(1-R2)*(n-1)/(n-p-1))"
   ]
  },
  {
   "cell_type": "code",
   "execution_count": 31,
   "metadata": {},
   "outputs": [
    {
     "data": {
      "text/plain": [
       "RandomForestRegressor(bootstrap=False, max_depth=67, max_features='sqrt',\n",
       "                      min_samples_split=4, n_estimators=500)"
      ]
     },
     "execution_count": 31,
     "metadata": {},
     "output_type": "execute_result"
    }
   ],
   "source": [
    "RF_regressor = RandomForestRegressor(n_estimators=500, min_samples_split=4, min_samples_leaf=1,max_features='sqrt',\n",
    "                                     max_depth=67, bootstrap=False)\n",
    "RF_regressor.fit(X_train_std, y_train_std)"
   ]
  },
  {
   "cell_type": "code",
   "execution_count": 32,
   "metadata": {},
   "outputs": [
    {
     "data": {
      "text/plain": [
       "array([[4436.64533333, 2525.49566667, 3617.77319139],\n",
       "       [4224.24466667, 2229.32333333, 3338.26706246],\n",
       "       [4595.81133333, 2627.088     , 3783.69391707],\n",
       "       [4732.91966667, 2990.02966667, 3912.65952817],\n",
       "       [4640.59866667, 3090.09033333, 3758.16434641],\n",
       "       [4576.612     , 2530.68966667, 3722.48464382],\n",
       "       [3539.07533333, 2020.155     , 2544.18742125],\n",
       "       [3994.00766667, 2285.236     , 3280.12933389],\n",
       "       [4065.992     , 2353.28133333, 3053.40469352],\n",
       "       [4838.89433333, 2731.33266667, 3862.14347685]])"
      ]
     },
     "execution_count": 32,
     "metadata": {},
     "output_type": "execute_result"
    }
   ],
   "source": [
    "y_pred = RF_regressor.predict(X_val_std)\n",
    "y_pred[:10]"
   ]
  },
  {
   "cell_type": "code",
   "execution_count": 33,
   "metadata": {},
   "outputs": [
    {
     "data": {
      "text/html": [
       "<div>\n",
       "<style scoped>\n",
       "    .dataframe tbody tr th:only-of-type {\n",
       "        vertical-align: middle;\n",
       "    }\n",
       "\n",
       "    .dataframe tbody tr th {\n",
       "        vertical-align: top;\n",
       "    }\n",
       "\n",
       "    .dataframe thead th {\n",
       "        text-align: right;\n",
       "    }\n",
       "</style>\n",
       "<table border=\"1\" class=\"dataframe\">\n",
       "  <thead>\n",
       "    <tr style=\"text-align: right;\">\n",
       "      <th></th>\n",
       "      <th>Demanda_Max</th>\n",
       "      <th>Demanda_Min</th>\n",
       "      <th>Demanda_Med</th>\n",
       "    </tr>\n",
       "  </thead>\n",
       "  <tbody>\n",
       "    <tr>\n",
       "      <th>4678</th>\n",
       "      <td>4571.0</td>\n",
       "      <td>2787.0</td>\n",
       "      <td>3782.426389</td>\n",
       "    </tr>\n",
       "    <tr>\n",
       "      <th>892</th>\n",
       "      <td>4343.0</td>\n",
       "      <td>2330.0</td>\n",
       "      <td>3401.870833</td>\n",
       "    </tr>\n",
       "    <tr>\n",
       "      <th>3215</th>\n",
       "      <td>4523.0</td>\n",
       "      <td>2621.0</td>\n",
       "      <td>3748.583333</td>\n",
       "    </tr>\n",
       "    <tr>\n",
       "      <th>1796</th>\n",
       "      <td>4984.0</td>\n",
       "      <td>3048.0</td>\n",
       "      <td>4106.559722</td>\n",
       "    </tr>\n",
       "    <tr>\n",
       "      <th>5159</th>\n",
       "      <td>4901.0</td>\n",
       "      <td>3148.0</td>\n",
       "      <td>4048.491667</td>\n",
       "    </tr>\n",
       "    <tr>\n",
       "      <th>3189</th>\n",
       "      <td>4614.0</td>\n",
       "      <td>2598.0</td>\n",
       "      <td>3825.556944</td>\n",
       "    </tr>\n",
       "    <tr>\n",
       "      <th>91</th>\n",
       "      <td>3470.0</td>\n",
       "      <td>1872.0</td>\n",
       "      <td>2413.688889</td>\n",
       "    </tr>\n",
       "    <tr>\n",
       "      <th>1384</th>\n",
       "      <td>3967.0</td>\n",
       "      <td>2276.0</td>\n",
       "      <td>3245.770833</td>\n",
       "    </tr>\n",
       "    <tr>\n",
       "      <th>1637</th>\n",
       "      <td>4262.0</td>\n",
       "      <td>2342.0</td>\n",
       "      <td>3064.450000</td>\n",
       "    </tr>\n",
       "    <tr>\n",
       "      <th>5020</th>\n",
       "      <td>4836.0</td>\n",
       "      <td>2508.0</td>\n",
       "      <td>3852.847917</td>\n",
       "    </tr>\n",
       "  </tbody>\n",
       "</table>\n",
       "</div>"
      ],
      "text/plain": [
       "      Demanda_Max  Demanda_Min  Demanda_Med\n",
       "4678       4571.0       2787.0  3782.426389\n",
       "892        4343.0       2330.0  3401.870833\n",
       "3215       4523.0       2621.0  3748.583333\n",
       "1796       4984.0       3048.0  4106.559722\n",
       "5159       4901.0       3148.0  4048.491667\n",
       "3189       4614.0       2598.0  3825.556944\n",
       "91         3470.0       1872.0  2413.688889\n",
       "1384       3967.0       2276.0  3245.770833\n",
       "1637       4262.0       2342.0  3064.450000\n",
       "5020       4836.0       2508.0  3852.847917"
      ]
     },
     "execution_count": 33,
     "metadata": {},
     "output_type": "execute_result"
    }
   ],
   "source": [
    "y_val_std[:10]"
   ]
  },
  {
   "cell_type": "code",
   "execution_count": 34,
   "metadata": {},
   "outputs": [
    {
     "name": "stdout",
     "output_type": "stream",
     "text": [
      "MAE: 133.83491941876386\n",
      "RMSE: 187.4870361632381\n",
      "R2 Score: 0.8760854148147431\n",
      "Adj R2 Score 0.8750469084018596\n"
     ]
    }
   ],
   "source": [
    "print('MAE:',mean_absolute_error(y_val_std, y_pred))\n",
    "MSE = mean_squared_error(y_val_std, y_pred)\n",
    "print('RMSE:',np.sqrt(MSE))\n",
    "R2 = r2_score(y_val_std, y_pred)\n",
    "print('R2 Score:', R2)\n",
    "n= len(X_train_std)\n",
    "p = len(X_train_std.columns)\n",
    "print('Adj R2 Score', 1-(1-R2)*(n-1)/(n-p-1))"
   ]
  },
  {
   "cell_type": "markdown",
   "metadata": {},
   "source": [
    "Houve uma melhora relativamente pequena. Vamos avaliar separadamente por demanda."
   ]
  },
  {
   "cell_type": "markdown",
   "metadata": {},
   "source": [
    "**Avaliação para demanda máxima**"
   ]
  },
  {
   "cell_type": "code",
   "execution_count": 35,
   "metadata": {},
   "outputs": [
    {
     "name": "stdout",
     "output_type": "stream",
     "text": [
      "MAE: 133.11658264168526\n",
      "RMSE: 192.53548899022314\n",
      "R2 Score: 0.8889822200345849\n",
      "Adj R2 Score 0.8880517994850927\n",
      "Variance Score: 0.8889904743026837\n"
     ]
    }
   ],
   "source": [
    "#Demanda Máxima\n",
    "print('MAE:',mean_absolute_error(y_val_std['Demanda_Max'], y_pred[:,0]))\n",
    "MSE = mean_squared_error(y_val_std['Demanda_Max'], y_pred[:,0])\n",
    "print('RMSE:',np.sqrt(MSE))\n",
    "R2 = r2_score(y_val_std['Demanda_Max'], y_pred[:,0])\n",
    "print('R2 Score:', R2)\n",
    "n= len(X_train)\n",
    "p = len(X_train.columns)\n",
    "print('Adj R2 Score', 1-(1-R2)*(n-1)/(n-p-1))\n",
    "print('Variance Score:', explained_variance_score(y_val_std['Demanda_Max'], y_pred[:,0]))"
   ]
  },
  {
   "cell_type": "markdown",
   "metadata": {},
   "source": [
    "**Avaliação para demanda média**"
   ]
  },
  {
   "cell_type": "code",
   "execution_count": 36,
   "metadata": {},
   "outputs": [
    {
     "name": "stdout",
     "output_type": "stream",
     "text": [
      "MAE: 120.62891614884765\n",
      "RMSE: 172.08592178264644\n",
      "R2 Score: 0.9124231080526741\n",
      "Adj R2 Score 0.9116891414758443\n",
      "Variance Score: 0.9124368039006121\n"
     ]
    }
   ],
   "source": [
    "#Demanda Média\n",
    "print('MAE:',mean_absolute_error(y_val_std['Demanda_Med'], y_pred[:,2]))\n",
    "MSE = mean_squared_error(y_val_std['Demanda_Med'], y_pred[:,2])\n",
    "print('RMSE:',np.sqrt(MSE))\n",
    "R2 = r2_score(y_val_std['Demanda_Med'], y_pred[:,2])\n",
    "print('R2 Score:', R2)\n",
    "n= len(X_train)\n",
    "p = len(X_train.columns)\n",
    "print('Adj R2 Score', 1-(1-R2)*(n-1)/(n-p-1))\n",
    "print('Variance Score:', explained_variance_score(y_val_std['Demanda_Med'], y_pred[:,2]))"
   ]
  },
  {
   "cell_type": "markdown",
   "metadata": {},
   "source": [
    "**Avaliação para demanda mínima**"
   ]
  },
  {
   "cell_type": "code",
   "execution_count": 37,
   "metadata": {},
   "outputs": [
    {
     "name": "stdout",
     "output_type": "stream",
     "text": [
      "MAE: 147.75925946575862\n",
      "RMSE: 196.90273535768512\n",
      "R2 Score: 0.8268509163569705\n",
      "Adj R2 Score 0.8253997842446421\n",
      "Variance Score: 0.8268672004820623\n"
     ]
    }
   ],
   "source": [
    "#Demanda Mínima\n",
    "print('MAE:',mean_absolute_error(y_val_std['Demanda_Min'], y_pred[:,1]))\n",
    "MSE = mean_squared_error(y_val_std['Demanda_Min'], y_pred[:,1])\n",
    "print('RMSE:',np.sqrt(MSE))\n",
    "R2 = r2_score(y_val_std['Demanda_Min'], y_pred[:,1])\n",
    "print('R2 Score:', R2)\n",
    "n= len(X_train)\n",
    "p = len(X_train.columns)\n",
    "print('Adj R2 Score', 1-(1-R2)*(n-1)/(n-p-1))\n",
    "print('Variance Score:', explained_variance_score(y_val_std['Demanda_Min'], y_pred[:,1]))"
   ]
  },
  {
   "cell_type": "code",
   "execution_count": 38,
   "metadata": {},
   "outputs": [],
   "source": [
    "importances = pd.Series(data=RF_regressor.feature_importances_, index=['IAEBR', 'Desempenho Industrial',\n",
    "       'População', 'Com Feriado', 'Domingo', 'Sábado',\n",
    "       'Dia de Semana','Temperatura_Max',\n",
    "       'Umidade_Max', 'Temperatura_Min', 'Umidade_Min', 'Temperatura_Med',\n",
    "       'Umidade_Med', 'Abril', 'Agosto', 'Dezembro', 'Fevereiro',\n",
    "       'January', 'July', 'June', 'March', 'May', 'November', 'October',\n",
    "       'September' ]).sort_values(ascending=False)"
   ]
  },
  {
   "cell_type": "code",
   "execution_count": 39,
   "metadata": {},
   "outputs": [
    {
     "data": {
      "text/plain": [
       "População                0.171199\n",
       "Temperatura_Min          0.142057\n",
       "Temperatura_Med          0.130080\n",
       "Dia de Semana            0.122381\n",
       "IAEBR                    0.092347\n",
       "Domingo                  0.083301\n",
       "Temperatura_Max          0.061868\n",
       "Desempenho Industrial    0.037897\n",
       "Sábado                   0.023333\n",
       "Com Feriado              0.022249\n",
       "dtype: float64"
      ]
     },
     "execution_count": 39,
     "metadata": {},
     "output_type": "execute_result"
    }
   ],
   "source": [
    "importances[:10]"
   ]
  },
  {
   "cell_type": "code",
   "execution_count": 40,
   "metadata": {},
   "outputs": [
    {
     "data": {
      "text/plain": [
       "<AxesSubplot:>"
      ]
     },
     "execution_count": 40,
     "metadata": {},
     "output_type": "execute_result"
    },
    {
     "data": {
      "image/png": "[encoded data removed]",
      "text/plain": [
       "<Figure size 720x576 with 1 Axes>"
      ]
     },
     "metadata": {},
     "output_type": "display_data"
    }
   ],
   "source": [
    "sns.set(style=\"ticks\", color_codes=True)\n",
    "plt.figure(figsize=(10,8 ));\n",
    "sns.barplot(x=importances[:15], y=importances.index[:15], orient='h', color='teal')"
   ]
  },
  {
   "cell_type": "markdown",
   "metadata": {},
   "source": [
    "### Treinar o modelo com os dados de validação + treino"
   ]
  },
  {
   "cell_type": "code",
   "execution_count": 41,
   "metadata": {},
   "outputs": [],
   "source": [
    "#Dividir entre dataset de treino e teste dados normalizados\n",
    "X_train_std,X_test_std,y_train_std,y_test_std = train_test_split(X_std,Y,test_size=0.25,random_state=0)"
   ]
  },
  {
   "cell_type": "code",
   "execution_count": 42,
   "metadata": {},
   "outputs": [],
   "source": [
    "RF_regressor = RandomForestRegressor(n_estimators=500, min_samples_split=4, min_samples_leaf=1,max_features='sqrt',\n",
    "                                     max_depth=67, bootstrap=False)\n",
    "RF_regressor.fit(X_train_std, y_train_std)\n",
    "y_pred = RF_regressor.predict(X_test_std)"
   ]
  },
  {
   "cell_type": "markdown",
   "metadata": {},
   "source": [
    "**Avaliação para Demanda Máxima**"
   ]
  },
  {
   "cell_type": "code",
   "execution_count": 43,
   "metadata": {},
   "outputs": [
    {
     "name": "stdout",
     "output_type": "stream",
     "text": [
      "MAE: 136.14515547126396\n",
      "RMSE: 201.01889536790472\n",
      "R2 Score: 0.8879054089489318\n",
      "Adj R2 Score 0.8869659638345245\n"
     ]
    }
   ],
   "source": [
    "#Demanda Máxima\n",
    "print('MAE:',mean_absolute_error(y_test_std['Demanda_Max'], y_pred[:,0]))\n",
    "MSE = mean_squared_error(y_test_std['Demanda_Max'], y_pred[:,0])\n",
    "print('RMSE:',np.sqrt(MSE))\n",
    "R2 = r2_score(y_test_std['Demanda_Max'], y_pred[:,0])\n",
    "print('R2 Score:', R2)\n",
    "n= len(X_train)\n",
    "p = len(X_train.columns)\n",
    "print('Adj R2 Score', 1-(1-R2)*(n-1)/(n-p-1))"
   ]
  },
  {
   "cell_type": "markdown",
   "metadata": {},
   "source": [
    "**Avaliação para Demanda Média**"
   ]
  },
  {
   "cell_type": "code",
   "execution_count": 44,
   "metadata": {},
   "outputs": [
    {
     "name": "stdout",
     "output_type": "stream",
     "text": [
      "MAE: 123.14237647335217\n",
      "RMSE: 182.41560461688\n",
      "R2 Score: 0.9085476786989254\n",
      "Adj R2 Score 0.9077812328281487\n"
     ]
    }
   ],
   "source": [
    "#Demanda Média\n",
    "print('MAE:',mean_absolute_error(y_test_std['Demanda_Med'], y_pred[:,2]))\n",
    "MSE = mean_squared_error(y_test_std['Demanda_Med'], y_pred[:,2])\n",
    "print('RMSE:',np.sqrt(MSE))\n",
    "R2 = r2_score(y_test_std['Demanda_Med'], y_pred[:,2])\n",
    "print('R2 Score:', R2)\n",
    "n= len(X_train)\n",
    "p = len(X_train.columns)\n",
    "print('Adj R2 Score', 1-(1-R2)*(n-1)/(n-p-1))"
   ]
  },
  {
   "cell_type": "markdown",
   "metadata": {},
   "source": [
    "**Avaliação para Demanda Mínima**"
   ]
  },
  {
   "cell_type": "code",
   "execution_count": 45,
   "metadata": {},
   "outputs": [
    {
     "name": "stdout",
     "output_type": "stream",
     "text": [
      "MAE: 148.23161431324945\n",
      "RMSE: 205.01882426082614\n",
      "R2 Score: 0.8279316968784806\n",
      "Adj R2 Score 0.826489622598213\n"
     ]
    }
   ],
   "source": [
    "#Demanda Mínima\n",
    "print('MAE:',mean_absolute_error(y_test_std['Demanda_Min'], y_pred[:,1]))\n",
    "MSE = mean_squared_error(y_test_std['Demanda_Min'], y_pred[:,1])\n",
    "print('RMSE:',np.sqrt(MSE))\n",
    "R2 = r2_score(y_test_std['Demanda_Min'], y_pred[:,1])\n",
    "print('R2 Score:', R2)\n",
    "n= len(X_train)\n",
    "p = len(X_train.columns)\n",
    "print('Adj R2 Score', 1-(1-R2)*(n-1)/(n-p-1))"
   ]
  },
  {
   "cell_type": "markdown",
   "metadata": {},
   "source": [
    "### SVR"
   ]
  },
  {
   "cell_type": "markdown",
   "metadata": {},
   "source": [
    "Com o SVR não é possível prever as 3 demandas de apenas uma vez. Para esse algoritmo será utilizado apenas os dados normalizados, pela maneira como ele funciona."
   ]
  },
  {
   "cell_type": "code",
   "execution_count": 46,
   "metadata": {},
   "outputs": [],
   "source": [
    "from sklearn.svm import SVR"
   ]
  },
  {
   "cell_type": "code",
   "execution_count": 47,
   "metadata": {},
   "outputs": [],
   "source": [
    "#Dividir entre dataset de treino e teste dados normalizados\n",
    "X_train_std,X_test_std,y_train_std,y_test_std = train_test_split(X_std,Y,test_size=0.25,random_state=0)\n",
    "\n",
    "#Dividir entre dataset de treino e validação\n",
    "X_train_std,X_val_std,y_train_std,y_val_std = train_test_split(X_train_std,y_train_std,test_size=0.25,random_state=0)"
   ]
  },
  {
   "cell_type": "markdown",
   "metadata": {},
   "source": [
    "**Previsão da demanda máxima**"
   ]
  },
  {
   "cell_type": "code",
   "execution_count": 48,
   "metadata": {},
   "outputs": [],
   "source": [
    "svr_max = SVR(kernel='poly', C=190, gamma='auto', degree=3, epsilon=.5,\n",
    "               coef0=1)\n",
    "svr_max.fit(X_train_std,y_train_std['Demanda_Max'])\n",
    "y_pred_max = svr_max.predict(X_val_std)"
   ]
  },
  {
   "cell_type": "markdown",
   "metadata": {},
   "source": [
    "**Avaliação do modelo**"
   ]
  },
  {
   "cell_type": "code",
   "execution_count": 49,
   "metadata": {},
   "outputs": [
    {
     "name": "stdout",
     "output_type": "stream",
     "text": [
      "Predição Demanda Máxima\n",
      "MAE: 129.7216006461115\n",
      "RMSE: 192.55918964853836\n",
      "R2 Score: 0.888954886305821\n",
      "Adj R2 Score 0.8880242366771403\n"
     ]
    }
   ],
   "source": [
    "print('Predição Demanda Máxima')\n",
    "print('MAE:',mean_absolute_error(y_val['Demanda_Max'], y_pred_max))\n",
    "MSE = mean_squared_error(y_val['Demanda_Max'], y_pred_max)\n",
    "print('RMSE:',np.sqrt(MSE))\n",
    "R2 = r2_score(y_val['Demanda_Max'], y_pred_max)\n",
    "print('R2 Score:', R2)\n",
    "n= len(X_train)\n",
    "p = len(X_train.columns)\n",
    "print('Adj R2 Score', 1-(1-R2)*(n-1)/(n-p-1))"
   ]
  },
  {
   "cell_type": "markdown",
   "metadata": {},
   "source": [
    "**Previsão da demanda média**"
   ]
  },
  {
   "cell_type": "code",
   "execution_count": 50,
   "metadata": {},
   "outputs": [],
   "source": [
    "svr_med= SVR(kernel='poly', C=140, gamma='auto', degree=3, epsilon=.1,\n",
    "               coef0=1)\n",
    "svr_med.fit(X_train_std,y_train_std['Demanda_Med'])\n",
    "y_pred_med = svr_med.predict(X_val_std)"
   ]
  },
  {
   "cell_type": "markdown",
   "metadata": {},
   "source": [
    "**Avaliação do modelo**"
   ]
  },
  {
   "cell_type": "code",
   "execution_count": 51,
   "metadata": {},
   "outputs": [
    {
     "name": "stdout",
     "output_type": "stream",
     "text": [
      "Predição Demanda Média\n",
      "MAE: 106.79272547630904\n",
      "RMSE: 159.50323268170987\n",
      "R2 Score: 0.9247618995808036\n",
      "Adj R2 Score 0.9241313422524495\n"
     ]
    }
   ],
   "source": [
    "print('Predição Demanda Média')\n",
    "print('MAE:',mean_absolute_error(y_val['Demanda_Med'], y_pred_med))\n",
    "MSE = mean_squared_error(y_val['Demanda_Med'], y_pred_med)\n",
    "print('RMSE:',np.sqrt(MSE))\n",
    "R2 = r2_score(y_val['Demanda_Med'], y_pred_med)\n",
    "print('R2 Score:', R2)\n",
    "n= len(X_train)\n",
    "p = len(X_train.columns)\n",
    "print('Adj R2 Score', 1-(1-R2)*(n-1)/(n-p-1))"
   ]
  },
  {
   "cell_type": "markdown",
   "metadata": {},
   "source": [
    "**Previsão da demanda mínima**"
   ]
  },
  {
   "cell_type": "code",
   "execution_count": 52,
   "metadata": {},
   "outputs": [],
   "source": [
    "svr_min = SVR(kernel='poly', C=190, gamma='auto', degree=3, epsilon=.1,\n",
    "               coef0=1)\n",
    "svr_min.fit(X_train_std,y_train_std['Demanda_Min'])\n",
    "y_pred_min = svr_min.predict(X_val_std)"
   ]
  },
  {
   "cell_type": "markdown",
   "metadata": {},
   "source": [
    "**Avaliação do modelo**"
   ]
  },
  {
   "cell_type": "code",
   "execution_count": 53,
   "metadata": {},
   "outputs": [
    {
     "name": "stdout",
     "output_type": "stream",
     "text": [
      "Predição Demanda Mínima\n",
      "MAE: 130.32110526169168\n",
      "RMSE: 179.33207137382763\n",
      "R2 Score: 0.8563741445520938\n",
      "Adj R2 Score 0.8551704414390541\n"
     ]
    }
   ],
   "source": [
    "print('Predição Demanda Mínima')\n",
    "print('MAE:',mean_absolute_error(y_val['Demanda_Min'], y_pred_min))\n",
    "MSE = mean_squared_error(y_val['Demanda_Min'], y_pred_min)\n",
    "print('RMSE:',np.sqrt(MSE))\n",
    "R2 = r2_score(y_val['Demanda_Min'], y_pred_min)\n",
    "print('R2 Score:', R2)\n",
    "n= len(X_train)\n",
    "p = len(X_train.columns)\n",
    "print('Adj R2 Score', 1-(1-R2)*(n-1)/(n-p-1))"
   ]
  },
  {
   "cell_type": "markdown",
   "metadata": {},
   "source": [
    "### Treinamento do modelo com dados de treino + validação"
   ]
  },
  {
   "cell_type": "code",
   "execution_count": 54,
   "metadata": {},
   "outputs": [],
   "source": [
    "#Dividir entre dataset de treino e teste dados normalizados\n",
    "X_train,X_test, y_train, y_test = train_test_split(X_std,Y,test_size=0.25,random_state=0)"
   ]
  },
  {
   "cell_type": "code",
   "execution_count": 55,
   "metadata": {},
   "outputs": [],
   "source": [
    "svr_max = SVR(kernel='poly', C=190, gamma='auto', degree=3, epsilon=.5,\n",
    "               coef0=1)\n",
    "svr_max.fit(X_train,y_train['Demanda_Max'])\n",
    "y_pred_max = svr_max.predict(X_test)"
   ]
  },
  {
   "cell_type": "code",
   "execution_count": 56,
   "metadata": {},
   "outputs": [],
   "source": [
    "svr_med= SVR(kernel='poly', C=140, gamma='auto', degree=3, epsilon=.1,\n",
    "               coef0=1)\n",
    "svr_med.fit(X_train,y_train['Demanda_Med'])\n",
    "y_pred_med = svr_med.predict(X_test)"
   ]
  },
  {
   "cell_type": "code",
   "execution_count": 57,
   "metadata": {},
   "outputs": [],
   "source": [
    "svr_min = SVR(kernel='poly', C=190, gamma='auto', degree=3, epsilon=.1,\n",
    "               coef0=1)\n",
    "svr_min.fit(X_train,y_train['Demanda_Min'])\n",
    "y_pred_min = svr_min.predict(X_test)"
   ]
  },
  {
   "cell_type": "markdown",
   "metadata": {},
   "source": [
    "**Avaliação com o dataset de teste**"
   ]
  },
  {
   "cell_type": "code",
   "execution_count": 58,
   "metadata": {},
   "outputs": [
    {
     "name": "stdout",
     "output_type": "stream",
     "text": [
      "Predição Demanda Máxima\n",
      "MAE: 129.75724629788772\n",
      "RMSE: 184.52633953514535\n",
      "R2 Score: 0.9055444185043627\n",
      "Adj R2 Score 0.9049519976470143\n"
     ]
    }
   ],
   "source": [
    "print('Predição Demanda Máxima')\n",
    "print('MAE:',mean_absolute_error(y_test['Demanda_Max'], y_pred_max))\n",
    "MSE = mean_squared_error(y_test['Demanda_Max'], y_pred_max)\n",
    "print('RMSE:',np.sqrt(MSE))\n",
    "R2 = r2_score(y_test['Demanda_Max'], y_pred_max)\n",
    "print('R2 Score:', R2)\n",
    "n= len(X_train)\n",
    "p = len(X_train.columns)\n",
    "print('Adj R2 Score', 1-(1-R2)*(n-1)/(n-p-1))"
   ]
  },
  {
   "cell_type": "code",
   "execution_count": 59,
   "metadata": {},
   "outputs": [
    {
     "name": "stdout",
     "output_type": "stream",
     "text": [
      "Predição Demanda Média\n",
      "MAE: 113.08148081770504\n",
      "RMSE: 163.7525709923894\n",
      "R2 Score: 0.9263034743128643\n",
      "Adj R2 Score 0.9258412532536123\n"
     ]
    }
   ],
   "source": [
    "print('Predição Demanda Média')\n",
    "print('MAE:',mean_absolute_error(y_test['Demanda_Med'], y_pred_med))\n",
    "MSE = mean_squared_error(y_test['Demanda_Med'], y_pred_med)\n",
    "print('RMSE:',np.sqrt(MSE))\n",
    "R2 = r2_score(y_test['Demanda_Med'], y_pred_med)\n",
    "print('R2 Score:', R2)\n",
    "n= len(X_train)\n",
    "p = len(X_train.columns)\n",
    "print('Adj R2 Score', 1-(1-R2)*(n-1)/(n-p-1))"
   ]
  },
  {
   "cell_type": "code",
   "execution_count": 60,
   "metadata": {},
   "outputs": [
    {
     "name": "stdout",
     "output_type": "stream",
     "text": [
      "Predição Demanda Máxima\n",
      "MAE: 136.05926945081785\n",
      "RMSE: 190.15764421820884\n",
      "R2 Score: 0.8519729870415589\n",
      "Adj R2 Score 0.851044568746536\n"
     ]
    }
   ],
   "source": [
    "print('Predição Demanda Máxima')\n",
    "print('MAE:',mean_absolute_error(y_test['Demanda_Min'], y_pred_min))\n",
    "MSE = mean_squared_error(y_test['Demanda_Min'], y_pred_min)\n",
    "print('RMSE:',np.sqrt(MSE))\n",
    "R2 = r2_score(y_test['Demanda_Min'], y_pred_min)\n",
    "print('R2 Score:', R2)\n",
    "n= len(X_train)\n",
    "p = len(X_train.columns)\n",
    "print('Adj R2 Score', 1-(1-R2)*(n-1)/(n-p-1))"
   ]
  },
  {
   "cell_type": "markdown",
   "metadata": {},
   "source": [
    "### Rede Neural"
   ]
  },
  {
   "cell_type": "code",
   "execution_count": 73,
   "metadata": {},
   "outputs": [],
   "source": [
    "import tensorflow\n",
    "from tensorflow import keras\n",
    "from tensorflow.keras import Sequential\n",
    "from tensorflow.keras import layers\n",
    "from tensorflow.keras.layers import Embedding\n",
    "from tensorflow.keras.layers import Dense"
   ]
  },
  {
   "cell_type": "code",
   "execution_count": 75,
   "metadata": {},
   "outputs": [
    {
     "name": "stderr",
     "output_type": "stream",
     "text": [
      "Using TensorFlow backend.\n"
     ]
    }
   ],
   "source": [
    "from keras.regularizers import l1\n",
    "from keras.regularizers import l2\n",
    "from keras.regularizers import l1_l2"
   ]
  },
  {
   "cell_type": "markdown",
   "metadata": {},
   "source": [
    "**Divisão dos dados**"
   ]
  },
  {
   "cell_type": "code",
   "execution_count": 76,
   "metadata": {},
   "outputs": [],
   "source": [
    "X_train,X_test,y_train,y_test = train_test_split(X_std,Y,test_size=0.25,random_state=0)"
   ]
  },
  {
   "cell_type": "markdown",
   "metadata": {},
   "source": [
    "**Previsão de todas as demandas juntas**"
   ]
  },
  {
   "cell_type": "code",
   "execution_count": 89,
   "metadata": {},
   "outputs": [
    {
     "name": "stdout",
     "output_type": "stream",
     "text": [
      "Model: \"sequential_4\"\n",
      "_________________________________________________________________\n",
      "Layer (type)                 Output Shape              Param #   \n",
      "=================================================================\n",
      "dense_14 (Dense)             (None, 128)               3328      \n",
      "_________________________________________________________________\n",
      "dense_15 (Dense)             (None, 32)                4128      \n",
      "_________________________________________________________________\n",
      "dense_16 (Dense)             (None, 32)                1056      \n",
      "_________________________________________________________________\n",
      "dense_17 (Dense)             (None, 16)                528       \n",
      "_________________________________________________________________\n",
      "dense_18 (Dense)             (None, 3)                 51        \n",
      "=================================================================\n",
      "Total params: 9,091\n",
      "Trainable params: 9,091\n",
      "Non-trainable params: 0\n",
      "_________________________________________________________________\n"
     ]
    }
   ],
   "source": [
    "model = Sequential()\n",
    "model.add(Dense(128, input_dim=25, kernel_initializer='normal', activation='relu'))\n",
    "model.add(Dense(32, activation='relu'))\n",
    "model.add(Dense(32, activation='relu')) ##Estava 32 e troquei para 16\n",
    "model.add(Dense(16, activation='linear'))\n",
    "model.add(Dense(3, activation='linear'))\n",
    "model.summary()"
   ]
  },
  {
   "cell_type": "code",
   "execution_count": 100,
   "metadata": {},
   "outputs": [
    {
     "name": "stdout",
     "output_type": "stream",
     "text": [
      "Train on 3209 samples, validate on 803 samples\n",
      "Epoch 1/100\n",
      "3209/3209 [==============================] - 0s 125us/sample - loss: 32038.6683 - mean_squared_error: 32038.6719 - mean_absolute_error: 123.3731 - val_loss: 34143.6626 - val_mean_squared_error: 34143.6641 - val_mean_absolute_error: 133.5995\n",
      "Epoch 2/100\n",
      "3209/3209 [==============================] - 0s 67us/sample - loss: 31397.9884 - mean_squared_error: 31397.9883 - mean_absolute_error: 123.0751 - val_loss: 34767.6810 - val_mean_squared_error: 34767.6797 - val_mean_absolute_error: 133.4278\n",
      "Epoch 3/100\n",
      "3209/3209 [==============================] - 0s 68us/sample - loss: 31824.3759 - mean_squared_error: 31824.3848 - mean_absolute_error: 123.7991 - val_loss: 34154.2491 - val_mean_squared_error: 34154.2500 - val_mean_absolute_error: 133.4033\n",
      "Epoch 4/100\n",
      "3209/3209 [==============================] - 0s 70us/sample - loss: 31492.8707 - mean_squared_error: 31492.8672 - mean_absolute_error: 124.0656 - val_loss: 32976.0287 - val_mean_squared_error: 32976.0312 - val_mean_absolute_error: 131.6104\n",
      "Epoch 5/100\n",
      "3209/3209 [==============================] - 0s 68us/sample - loss: 31257.2331 - mean_squared_error: 31257.2188 - mean_absolute_error: 122.8053 - val_loss: 33163.7803 - val_mean_squared_error: 33163.7852 - val_mean_absolute_error: 133.1108\n",
      "Epoch 6/100\n",
      "3209/3209 [==============================] - 0s 68us/sample - loss: 30812.8834 - mean_squared_error: 30812.8828 - mean_absolute_error: 121.8624 - val_loss: 33148.2252 - val_mean_squared_error: 33148.2227 - val_mean_absolute_error: 131.7921\n",
      "Epoch 7/100\n",
      "3209/3209 [==============================] - 0s 68us/sample - loss: 30998.6967 - mean_squared_error: 30998.6934 - mean_absolute_error: 122.9580 - val_loss: 32866.5906 - val_mean_squared_error: 32866.5859 - val_mean_absolute_error: 133.3109\n",
      "Epoch 8/100\n",
      "3209/3209 [==============================] - 0s 70us/sample - loss: 30938.7542 - mean_squared_error: 30938.7578 - mean_absolute_error: 123.1921 - val_loss: 33832.3524 - val_mean_squared_error: 33832.3555 - val_mean_absolute_error: 133.7595\n",
      "Epoch 9/100\n",
      "3209/3209 [==============================] - 0s 68us/sample - loss: 30937.8539 - mean_squared_error: 30937.8496 - mean_absolute_error: 123.2033 - val_loss: 33434.1437 - val_mean_squared_error: 33434.1484 - val_mean_absolute_error: 133.3181\n",
      "Epoch 10/100\n",
      "3209/3209 [==============================] - 0s 69us/sample - loss: 31058.7349 - mean_squared_error: 31058.7344 - mean_absolute_error: 123.3014 - val_loss: 34518.4536 - val_mean_squared_error: 34518.4570 - val_mean_absolute_error: 136.6411\n",
      "Epoch 11/100\n",
      "3209/3209 [==============================] - 0s 68us/sample - loss: 31026.3548 - mean_squared_error: 31026.3574 - mean_absolute_error: 123.1420 - val_loss: 34365.7557 - val_mean_squared_error: 34365.7578 - val_mean_absolute_error: 134.1919\n",
      "Epoch 12/100\n",
      "3209/3209 [==============================] - 0s 67us/sample - loss: 30727.3422 - mean_squared_error: 30727.3516 - mean_absolute_error: 122.5941 - val_loss: 32986.6434 - val_mean_squared_error: 32986.6445 - val_mean_absolute_error: 131.2312\n",
      "Epoch 13/100\n",
      "3209/3209 [==============================] - 0s 69us/sample - loss: 31173.7234 - mean_squared_error: 31173.7383 - mean_absolute_error: 124.1371 - val_loss: 33015.7806 - val_mean_squared_error: 33015.7852 - val_mean_absolute_error: 130.1316\n",
      "Epoch 14/100\n",
      "3209/3209 [==============================] - 0s 68us/sample - loss: 30656.0211 - mean_squared_error: 30656.0156 - mean_absolute_error: 121.8569 - val_loss: 33190.7922 - val_mean_squared_error: 33190.7891 - val_mean_absolute_error: 131.5385\n",
      "Epoch 15/100\n",
      "3209/3209 [==============================] - 0s 68us/sample - loss: 30722.9380 - mean_squared_error: 30722.9336 - mean_absolute_error: 122.2052 - val_loss: 34424.7034 - val_mean_squared_error: 34424.6992 - val_mean_absolute_error: 136.7000\n",
      "Epoch 16/100\n",
      "3209/3209 [==============================] - 0s 69us/sample - loss: 30639.9000 - mean_squared_error: 30639.8926 - mean_absolute_error: 123.4126 - val_loss: 35270.9905 - val_mean_squared_error: 35270.9883 - val_mean_absolute_error: 139.6241\n",
      "Epoch 17/100\n",
      "3209/3209 [==============================] - 0s 68us/sample - loss: 30424.4628 - mean_squared_error: 30424.4609 - mean_absolute_error: 122.1797 - val_loss: 32923.1538 - val_mean_squared_error: 32923.1562 - val_mean_absolute_error: 132.5710\n",
      "Epoch 18/100\n",
      "3209/3209 [==============================] - 0s 68us/sample - loss: 30206.1217 - mean_squared_error: 30206.1133 - mean_absolute_error: 121.3324 - val_loss: 34141.4327 - val_mean_squared_error: 34141.4336 - val_mean_absolute_error: 135.1034\n",
      "Epoch 19/100\n",
      "3209/3209 [==============================] - 0s 68us/sample - loss: 30822.8917 - mean_squared_error: 30822.8848 - mean_absolute_error: 122.8340 - val_loss: 34642.4192 - val_mean_squared_error: 34642.4180 - val_mean_absolute_error: 133.7408\n",
      "Epoch 20/100\n",
      "3209/3209 [==============================] - 0s 67us/sample - loss: 30663.5081 - mean_squared_error: 30663.5215 - mean_absolute_error: 122.7333 - val_loss: 33207.2274 - val_mean_squared_error: 33207.2266 - val_mean_absolute_error: 131.9595\n",
      "Epoch 21/100\n",
      "3209/3209 [==============================] - 0s 68us/sample - loss: 30338.5366 - mean_squared_error: 30338.5430 - mean_absolute_error: 122.0948 - val_loss: 32729.4851 - val_mean_squared_error: 32729.4844 - val_mean_absolute_error: 132.3978\n",
      "Epoch 22/100\n",
      "3209/3209 [==============================] - 0s 68us/sample - loss: 30522.1212 - mean_squared_error: 30522.1133 - mean_absolute_error: 122.6972 - val_loss: 35884.8540 - val_mean_squared_error: 35884.8516 - val_mean_absolute_error: 140.7535\n",
      "Epoch 23/100\n",
      "3209/3209 [==============================] - 0s 68us/sample - loss: 30303.0462 - mean_squared_error: 30303.0430 - mean_absolute_error: 122.4134 - val_loss: 32720.6401 - val_mean_squared_error: 32720.6426 - val_mean_absolute_error: 130.9284\n",
      "Epoch 24/100\n",
      "3209/3209 [==============================] - 0s 67us/sample - loss: 30381.5023 - mean_squared_error: 30381.4961 - mean_absolute_error: 122.3681 - val_loss: 33099.0670 - val_mean_squared_error: 33099.0625 - val_mean_absolute_error: 130.9740\n",
      "Epoch 25/100\n",
      "3209/3209 [==============================] - 0s 68us/sample - loss: 30310.8909 - mean_squared_error: 30310.8984 - mean_absolute_error: 121.7696 - val_loss: 32681.2850 - val_mean_squared_error: 32681.2793 - val_mean_absolute_error: 132.6143\n",
      "Epoch 26/100\n",
      "3209/3209 [==============================] - 0s 69us/sample - loss: 30427.2549 - mean_squared_error: 30427.2480 - mean_absolute_error: 122.4028 - val_loss: 35455.8377 - val_mean_squared_error: 35455.8398 - val_mean_absolute_error: 137.6585\n",
      "Epoch 27/100\n",
      "3209/3209 [==============================] - 0s 68us/sample - loss: 30225.0892 - mean_squared_error: 30225.0996 - mean_absolute_error: 121.7502 - val_loss: 33580.0867 - val_mean_squared_error: 33580.0859 - val_mean_absolute_error: 133.4733\n",
      "Epoch 28/100\n",
      "3209/3209 [==============================] - 0s 68us/sample - loss: 30034.5836 - mean_squared_error: 30034.5762 - mean_absolute_error: 121.2568 - val_loss: 32988.8677 - val_mean_squared_error: 32988.8633 - val_mean_absolute_error: 131.3353\n",
      "Epoch 29/100\n",
      "3209/3209 [==============================] - 0s 68us/sample - loss: 30417.7408 - mean_squared_error: 30417.7383 - mean_absolute_error: 122.9110 - val_loss: 33385.7954 - val_mean_squared_error: 33385.7969 - val_mean_absolute_error: 132.5251\n",
      "Epoch 30/100\n",
      "3209/3209 [==============================] - 0s 70us/sample - loss: 29997.5944 - mean_squared_error: 29997.5859 - mean_absolute_error: 120.8125 - val_loss: 32094.9276 - val_mean_squared_error: 32094.9219 - val_mean_absolute_error: 129.8732\n",
      "Epoch 31/100\n",
      "3209/3209 [==============================] - 0s 69us/sample - loss: 30861.3699 - mean_squared_error: 30861.3574 - mean_absolute_error: 123.5753 - val_loss: 32784.1380 - val_mean_squared_error: 32784.1406 - val_mean_absolute_error: 131.6356\n",
      "Epoch 32/100\n",
      "3209/3209 [==============================] - 0s 70us/sample - loss: 29827.0796 - mean_squared_error: 29827.0762 - mean_absolute_error: 121.0257 - val_loss: 33147.6865 - val_mean_squared_error: 33147.6797 - val_mean_absolute_error: 131.8076\n",
      "Epoch 33/100\n"
     ]
    },
    {
     "name": "stdout",
     "output_type": "stream",
     "text": [
      "3209/3209 [==============================] - 0s 69us/sample - loss: 30182.7615 - mean_squared_error: 30182.7480 - mean_absolute_error: 121.9741 - val_loss: 34670.6056 - val_mean_squared_error: 34670.6094 - val_mean_absolute_error: 138.1284\n",
      "Epoch 34/100\n",
      "3209/3209 [==============================] - 0s 70us/sample - loss: 30740.1704 - mean_squared_error: 30740.1523 - mean_absolute_error: 123.6092 - val_loss: 32272.8829 - val_mean_squared_error: 32272.8809 - val_mean_absolute_error: 131.0982\n",
      "Epoch 35/100\n",
      "3209/3209 [==============================] - 0s 70us/sample - loss: 29873.3876 - mean_squared_error: 29873.3828 - mean_absolute_error: 121.2054 - val_loss: 32554.3572 - val_mean_squared_error: 32554.3555 - val_mean_absolute_error: 131.5809\n",
      "Epoch 36/100\n",
      "3209/3209 [==============================] - 0s 69us/sample - loss: 30054.9604 - mean_squared_error: 30054.9551 - mean_absolute_error: 121.7252 - val_loss: 32581.9688 - val_mean_squared_error: 32581.9668 - val_mean_absolute_error: 131.1785\n",
      "Epoch 37/100\n",
      "3209/3209 [==============================] - 0s 70us/sample - loss: 30149.7553 - mean_squared_error: 30149.7520 - mean_absolute_error: 121.6052 - val_loss: 32158.0614 - val_mean_squared_error: 32158.0547 - val_mean_absolute_error: 130.4781\n",
      "Epoch 38/100\n",
      "3209/3209 [==============================] - 0s 69us/sample - loss: 30400.7896 - mean_squared_error: 30400.7852 - mean_absolute_error: 122.3232 - val_loss: 33280.3089 - val_mean_squared_error: 33280.3125 - val_mean_absolute_error: 132.3332\n",
      "Epoch 39/100\n",
      "3209/3209 [==============================] - 0s 70us/sample - loss: 29729.8678 - mean_squared_error: 29729.8613 - mean_absolute_error: 120.9034 - val_loss: 33132.0148 - val_mean_squared_error: 33132.0117 - val_mean_absolute_error: 133.1673\n",
      "Epoch 40/100\n",
      "3209/3209 [==============================] - 0s 72us/sample - loss: 30320.6438 - mean_squared_error: 30320.6504 - mean_absolute_error: 121.5918 - val_loss: 33793.9863 - val_mean_squared_error: 33793.9883 - val_mean_absolute_error: 135.2756\n",
      "Epoch 41/100\n",
      "3209/3209 [==============================] - 0s 71us/sample - loss: 29914.1574 - mean_squared_error: 29914.1543 - mean_absolute_error: 121.5674 - val_loss: 32897.1093 - val_mean_squared_error: 32897.1133 - val_mean_absolute_error: 130.4741\n",
      "Epoch 42/100\n",
      "3209/3209 [==============================] - 0s 72us/sample - loss: 29560.8225 - mean_squared_error: 29560.8223 - mean_absolute_error: 120.5898 - val_loss: 32670.4316 - val_mean_squared_error: 32670.4258 - val_mean_absolute_error: 133.4102\n",
      "Epoch 43/100\n",
      "3209/3209 [==============================] - 0s 69us/sample - loss: 29605.7884 - mean_squared_error: 29605.7812 - mean_absolute_error: 120.4356 - val_loss: 33354.4747 - val_mean_squared_error: 33354.4766 - val_mean_absolute_error: 134.4835\n",
      "Epoch 44/100\n",
      "3209/3209 [==============================] - 0s 69us/sample - loss: 29947.0032 - mean_squared_error: 29947.0098 - mean_absolute_error: 121.8954 - val_loss: 32293.8784 - val_mean_squared_error: 32293.8848 - val_mean_absolute_error: 130.1164\n",
      "Epoch 45/100\n",
      "3209/3209 [==============================] - 0s 70us/sample - loss: 29813.7063 - mean_squared_error: 29813.7148 - mean_absolute_error: 121.6087 - val_loss: 36102.1364 - val_mean_squared_error: 36102.1328 - val_mean_absolute_error: 140.9423\n",
      "Epoch 46/100\n",
      "3209/3209 [==============================] - 0s 70us/sample - loss: 29844.4694 - mean_squared_error: 29844.4727 - mean_absolute_error: 121.1546 - val_loss: 33451.1910 - val_mean_squared_error: 33451.1914 - val_mean_absolute_error: 133.9081\n",
      "Epoch 47/100\n",
      "3209/3209 [==============================] - 0s 69us/sample - loss: 29902.0223 - mean_squared_error: 29902.0215 - mean_absolute_error: 121.4481 - val_loss: 32241.8791 - val_mean_squared_error: 32241.8809 - val_mean_absolute_error: 131.9295\n",
      "Epoch 48/100\n",
      "3209/3209 [==============================] - 0s 68us/sample - loss: 30054.4811 - mean_squared_error: 30054.4844 - mean_absolute_error: 121.3051 - val_loss: 33217.6358 - val_mean_squared_error: 33217.6367 - val_mean_absolute_error: 132.1516\n",
      "Epoch 49/100\n",
      "3209/3209 [==============================] - 0s 70us/sample - loss: 29832.5684 - mean_squared_error: 29832.5801 - mean_absolute_error: 120.7819 - val_loss: 33485.9028 - val_mean_squared_error: 33485.8984 - val_mean_absolute_error: 133.3755\n",
      "Epoch 50/100\n",
      "3209/3209 [==============================] - 0s 69us/sample - loss: 29773.5541 - mean_squared_error: 29773.5586 - mean_absolute_error: 121.7289 - val_loss: 34066.0692 - val_mean_squared_error: 34066.0625 - val_mean_absolute_error: 138.2005\n",
      "Epoch 51/100\n",
      "3209/3209 [==============================] - 0s 69us/sample - loss: 29433.1469 - mean_squared_error: 29433.1543 - mean_absolute_error: 120.3469 - val_loss: 33015.0311 - val_mean_squared_error: 33015.0273 - val_mean_absolute_error: 132.3858\n",
      "Epoch 52/100\n",
      "3209/3209 [==============================] - 0s 73us/sample - loss: 30037.1633 - mean_squared_error: 30037.1582 - mean_absolute_error: 121.4903 - val_loss: 32918.5735 - val_mean_squared_error: 32918.5703 - val_mean_absolute_error: 133.2877\n",
      "Epoch 53/100\n",
      "3209/3209 [==============================] - 0s 70us/sample - loss: 29645.7077 - mean_squared_error: 29645.7070 - mean_absolute_error: 121.0483 - val_loss: 33283.9416 - val_mean_squared_error: 33283.9414 - val_mean_absolute_error: 133.7110\n",
      "Epoch 54/100\n",
      "3209/3209 [==============================] - 0s 70us/sample - loss: 29518.7038 - mean_squared_error: 29518.7070 - mean_absolute_error: 120.3146 - val_loss: 33211.7793 - val_mean_squared_error: 33211.7773 - val_mean_absolute_error: 133.4120\n",
      "Epoch 55/100\n",
      "3209/3209 [==============================] - 0s 71us/sample - loss: 29202.3053 - mean_squared_error: 29202.3008 - mean_absolute_error: 119.5180 - val_loss: 33010.3418 - val_mean_squared_error: 33010.3320 - val_mean_absolute_error: 131.2383\n",
      "Epoch 56/100\n",
      "3209/3209 [==============================] - 0s 70us/sample - loss: 29750.8960 - mean_squared_error: 29750.8984 - mean_absolute_error: 120.7196 - val_loss: 33500.1080 - val_mean_squared_error: 33500.1055 - val_mean_absolute_error: 136.6717\n",
      "Epoch 57/100\n",
      "3209/3209 [==============================] - 0s 70us/sample - loss: 29581.4876 - mean_squared_error: 29581.4902 - mean_absolute_error: 120.7134 - val_loss: 32559.9981 - val_mean_squared_error: 32559.9980 - val_mean_absolute_error: 130.5302\n",
      "Epoch 58/100\n",
      "3209/3209 [==============================] - 0s 70us/sample - loss: 29614.2962 - mean_squared_error: 29614.2930 - mean_absolute_error: 120.4873 - val_loss: 32808.0347 - val_mean_squared_error: 32808.0312 - val_mean_absolute_error: 129.6250\n",
      "Epoch 59/100\n",
      "3209/3209 [==============================] - 0s 70us/sample - loss: 29611.7389 - mean_squared_error: 29611.7402 - mean_absolute_error: 120.9795 - val_loss: 32770.5864 - val_mean_squared_error: 32770.5820 - val_mean_absolute_error: 130.3189\n",
      "Epoch 60/100\n",
      "3209/3209 [==============================] - 0s 70us/sample - loss: 29692.0372 - mean_squared_error: 29692.0391 - mean_absolute_error: 120.9266 - val_loss: 32481.7121 - val_mean_squared_error: 32481.7168 - val_mean_absolute_error: 131.2233\n",
      "Epoch 61/100\n",
      "3209/3209 [==============================] - 0s 72us/sample - loss: 29354.5438 - mean_squared_error: 29354.5449 - mean_absolute_error: 119.5149 - val_loss: 32250.3674 - val_mean_squared_error: 32250.3652 - val_mean_absolute_error: 131.0699\n",
      "Epoch 62/100\n",
      "3209/3209 [==============================] - 0s 71us/sample - loss: 29986.9698 - mean_squared_error: 29986.9590 - mean_absolute_error: 121.1812 - val_loss: 33939.5845 - val_mean_squared_error: 33939.5820 - val_mean_absolute_error: 133.2667\n",
      "Epoch 63/100\n",
      "3209/3209 [==============================] - 0s 71us/sample - loss: 29193.4680 - mean_squared_error: 29193.4727 - mean_absolute_error: 119.7759 - val_loss: 33214.7259 - val_mean_squared_error: 33214.7266 - val_mean_absolute_error: 134.5158\n",
      "Epoch 64/100\n",
      "3209/3209 [==============================] - 0s 70us/sample - loss: 29374.7625 - mean_squared_error: 29374.7578 - mean_absolute_error: 120.0679 - val_loss: 32797.8882 - val_mean_squared_error: 32797.8867 - val_mean_absolute_error: 132.0706\n",
      "Epoch 65/100\n"
     ]
    },
    {
     "name": "stdout",
     "output_type": "stream",
     "text": [
      "3209/3209 [==============================] - 0s 69us/sample - loss: 29313.8559 - mean_squared_error: 29313.8574 - mean_absolute_error: 119.9277 - val_loss: 31786.3244 - val_mean_squared_error: 31786.3242 - val_mean_absolute_error: 130.5848\n",
      "Epoch 66/100\n",
      "3209/3209 [==============================] - 0s 70us/sample - loss: 29268.5911 - mean_squared_error: 29268.5918 - mean_absolute_error: 119.2537 - val_loss: 32255.8112 - val_mean_squared_error: 32255.8164 - val_mean_absolute_error: 131.2021\n",
      "Epoch 67/100\n",
      "3209/3209 [==============================] - 0s 67us/sample - loss: 29035.3467 - mean_squared_error: 29035.3496 - mean_absolute_error: 119.7906 - val_loss: 33739.1622 - val_mean_squared_error: 33739.1641 - val_mean_absolute_error: 136.4911\n",
      "Epoch 68/100\n",
      "3209/3209 [==============================] - 0s 69us/sample - loss: 29623.1592 - mean_squared_error: 29623.1504 - mean_absolute_error: 120.6570 - val_loss: 32789.9317 - val_mean_squared_error: 32789.9297 - val_mean_absolute_error: 132.2551\n",
      "Epoch 69/100\n",
      "3209/3209 [==============================] - 0s 69us/sample - loss: 29116.2898 - mean_squared_error: 29116.2949 - mean_absolute_error: 119.8676 - val_loss: 31626.8231 - val_mean_squared_error: 31626.8262 - val_mean_absolute_error: 128.2757\n",
      "Epoch 70/100\n",
      "3209/3209 [==============================] - 0s 70us/sample - loss: 29461.4079 - mean_squared_error: 29461.4023 - mean_absolute_error: 120.9006 - val_loss: 33914.8088 - val_mean_squared_error: 33914.8086 - val_mean_absolute_error: 132.8346\n",
      "Epoch 71/100\n",
      "3209/3209 [==============================] - 0s 68us/sample - loss: 29656.0181 - mean_squared_error: 29656.0273 - mean_absolute_error: 120.9892 - val_loss: 32544.6635 - val_mean_squared_error: 32544.6602 - val_mean_absolute_error: 129.9323\n",
      "Epoch 72/100\n",
      "3209/3209 [==============================] - 0s 70us/sample - loss: 29980.0875 - mean_squared_error: 29980.0840 - mean_absolute_error: 122.7507 - val_loss: 32664.6641 - val_mean_squared_error: 32664.6680 - val_mean_absolute_error: 131.1326\n",
      "Epoch 73/100\n",
      "3209/3209 [==============================] - 0s 70us/sample - loss: 29030.2591 - mean_squared_error: 29030.2578 - mean_absolute_error: 119.1308 - val_loss: 33178.3425 - val_mean_squared_error: 33178.3398 - val_mean_absolute_error: 133.7875\n",
      "Epoch 74/100\n",
      "3209/3209 [==============================] - 0s 70us/sample - loss: 29356.8938 - mean_squared_error: 29356.8887 - mean_absolute_error: 120.0748 - val_loss: 32165.4421 - val_mean_squared_error: 32165.4414 - val_mean_absolute_error: 131.0107\n",
      "Epoch 75/100\n",
      "3209/3209 [==============================] - 0s 68us/sample - loss: 28701.4841 - mean_squared_error: 28701.4805 - mean_absolute_error: 118.8030 - val_loss: 32917.6345 - val_mean_squared_error: 32917.6328 - val_mean_absolute_error: 132.9303\n",
      "Epoch 76/100\n",
      "3209/3209 [==============================] - 0s 69us/sample - loss: 29246.6952 - mean_squared_error: 29246.6953 - mean_absolute_error: 119.9147 - val_loss: 34296.6643 - val_mean_squared_error: 34296.6641 - val_mean_absolute_error: 132.9323\n",
      "Epoch 77/100\n",
      "3209/3209 [==============================] - 0s 70us/sample - loss: 29161.9462 - mean_squared_error: 29161.9375 - mean_absolute_error: 120.3510 - val_loss: 33343.2592 - val_mean_squared_error: 33343.2539 - val_mean_absolute_error: 132.2252\n",
      "Epoch 78/100\n",
      "3209/3209 [==============================] - 0s 68us/sample - loss: 29639.3909 - mean_squared_error: 29639.3984 - mean_absolute_error: 120.8258 - val_loss: 32025.5739 - val_mean_squared_error: 32025.5723 - val_mean_absolute_error: 129.4325\n",
      "Epoch 79/100\n",
      "3209/3209 [==============================] - 0s 69us/sample - loss: 28946.8388 - mean_squared_error: 28946.8398 - mean_absolute_error: 119.2249 - val_loss: 32849.0157 - val_mean_squared_error: 32849.0117 - val_mean_absolute_error: 132.5782\n",
      "Epoch 80/100\n",
      "3209/3209 [==============================] - 0s 70us/sample - loss: 29423.4041 - mean_squared_error: 29423.4023 - mean_absolute_error: 120.0728 - val_loss: 33179.9786 - val_mean_squared_error: 33179.9766 - val_mean_absolute_error: 135.4407\n",
      "Epoch 81/100\n",
      "3209/3209 [==============================] - 0s 70us/sample - loss: 29450.9298 - mean_squared_error: 29450.9238 - mean_absolute_error: 120.1988 - val_loss: 31791.1988 - val_mean_squared_error: 31791.2012 - val_mean_absolute_error: 130.2709\n",
      "Epoch 82/100\n",
      "3209/3209 [==============================] - 0s 70us/sample - loss: 29235.6865 - mean_squared_error: 29235.6797 - mean_absolute_error: 119.3977 - val_loss: 34946.8866 - val_mean_squared_error: 34946.8828 - val_mean_absolute_error: 140.2000\n",
      "Epoch 83/100\n",
      "3209/3209 [==============================] - 0s 69us/sample - loss: 28889.0605 - mean_squared_error: 28889.0566 - mean_absolute_error: 119.6405 - val_loss: 33569.9155 - val_mean_squared_error: 33569.9141 - val_mean_absolute_error: 136.2678\n",
      "Epoch 84/100\n",
      "3209/3209 [==============================] - 0s 69us/sample - loss: 28637.8307 - mean_squared_error: 28637.8320 - mean_absolute_error: 118.7496 - val_loss: 32528.2104 - val_mean_squared_error: 32528.2188 - val_mean_absolute_error: 131.8728\n",
      "Epoch 85/100\n",
      "3209/3209 [==============================] - 0s 69us/sample - loss: 28649.4054 - mean_squared_error: 28649.4062 - mean_absolute_error: 118.3048 - val_loss: 32738.0193 - val_mean_squared_error: 32738.0215 - val_mean_absolute_error: 131.7733\n",
      "Epoch 86/100\n",
      "3209/3209 [==============================] - 0s 70us/sample - loss: 29360.2890 - mean_squared_error: 29360.2949 - mean_absolute_error: 120.5334 - val_loss: 34305.5791 - val_mean_squared_error: 34305.5781 - val_mean_absolute_error: 134.3090\n",
      "Epoch 87/100\n",
      "3209/3209 [==============================] - 0s 69us/sample - loss: 28541.5415 - mean_squared_error: 28541.5449 - mean_absolute_error: 117.5862 - val_loss: 32010.0029 - val_mean_squared_error: 32010.0000 - val_mean_absolute_error: 131.0602\n",
      "Epoch 88/100\n",
      "3209/3209 [==============================] - 0s 70us/sample - loss: 29005.9174 - mean_squared_error: 29005.9141 - mean_absolute_error: 119.3433 - val_loss: 34096.8688 - val_mean_squared_error: 34096.8750 - val_mean_absolute_error: 137.4663\n",
      "Epoch 89/100\n",
      "3209/3209 [==============================] - 0s 70us/sample - loss: 28909.1328 - mean_squared_error: 28909.1387 - mean_absolute_error: 119.3099 - val_loss: 33170.6268 - val_mean_squared_error: 33170.6289 - val_mean_absolute_error: 133.7906\n",
      "Epoch 90/100\n",
      "3209/3209 [==============================] - 0s 70us/sample - loss: 28931.0550 - mean_squared_error: 28931.0547 - mean_absolute_error: 120.1389 - val_loss: 32415.1402 - val_mean_squared_error: 32415.1406 - val_mean_absolute_error: 130.5301\n",
      "Epoch 91/100\n",
      "3209/3209 [==============================] - 0s 69us/sample - loss: 28974.1183 - mean_squared_error: 28974.1152 - mean_absolute_error: 119.6639 - val_loss: 32814.3174 - val_mean_squared_error: 32814.3125 - val_mean_absolute_error: 133.1111\n",
      "Epoch 92/100\n",
      "3209/3209 [==============================] - 0s 70us/sample - loss: 28811.1090 - mean_squared_error: 28811.1016 - mean_absolute_error: 119.5305 - val_loss: 32562.9302 - val_mean_squared_error: 32562.9297 - val_mean_absolute_error: 131.1293\n",
      "Epoch 93/100\n",
      "3209/3209 [==============================] - 0s 70us/sample - loss: 28968.5786 - mean_squared_error: 28968.5742 - mean_absolute_error: 119.0345 - val_loss: 33225.3577 - val_mean_squared_error: 33225.3555 - val_mean_absolute_error: 134.6877\n",
      "Epoch 94/100\n",
      "3209/3209 [==============================] - 0s 71us/sample - loss: 28480.1150 - mean_squared_error: 28480.1152 - mean_absolute_error: 118.0429 - val_loss: 31944.3481 - val_mean_squared_error: 31944.3516 - val_mean_absolute_error: 131.2468\n",
      "Epoch 95/100\n",
      "3209/3209 [==============================] - 0s 70us/sample - loss: 28802.1648 - mean_squared_error: 28802.1582 - mean_absolute_error: 119.4437 - val_loss: 32628.4967 - val_mean_squared_error: 32628.4902 - val_mean_absolute_error: 130.0810\n",
      "Epoch 96/100\n",
      "3209/3209 [==============================] - 0s 70us/sample - loss: 29016.3100 - mean_squared_error: 29016.3164 - mean_absolute_error: 119.0371 - val_loss: 31888.6949 - val_mean_squared_error: 31888.6934 - val_mean_absolute_error: 130.5229\n",
      "Epoch 97/100\n"
     ]
    },
    {
     "name": "stdout",
     "output_type": "stream",
     "text": [
      "3209/3209 [==============================] - 0s 71us/sample - loss: 28540.4840 - mean_squared_error: 28540.4922 - mean_absolute_error: 118.4418 - val_loss: 33450.8302 - val_mean_squared_error: 33450.8281 - val_mean_absolute_error: 132.1454\n",
      "Epoch 98/100\n",
      "3209/3209 [==============================] - 0s 71us/sample - loss: 28821.6511 - mean_squared_error: 28821.6465 - mean_absolute_error: 118.9862 - val_loss: 32318.7758 - val_mean_squared_error: 32318.7754 - val_mean_absolute_error: 131.1757\n",
      "Epoch 99/100\n",
      "3209/3209 [==============================] - 0s 71us/sample - loss: 28772.0295 - mean_squared_error: 28772.0195 - mean_absolute_error: 118.7812 - val_loss: 32531.7476 - val_mean_squared_error: 32531.7441 - val_mean_absolute_error: 132.9739\n",
      "Epoch 100/100\n",
      "3209/3209 [==============================] - 0s 70us/sample - loss: 28732.3000 - mean_squared_error: 28732.2930 - mean_absolute_error: 119.0430 - val_loss: 32248.4355 - val_mean_squared_error: 32248.4336 - val_mean_absolute_error: 132.2652\n"
     ]
    }
   ],
   "source": [
    "model.compile(loss='mse', optimizer='adam', metrics=['mse','mae'])\n",
    "history = model.fit(X_train, y_train, epochs=100, batch_size=16,  verbose=1, validation_split=0.2)"
   ]
  },
  {
   "cell_type": "code",
   "execution_count": 101,
   "metadata": {},
   "outputs": [
    {
     "data": {
      "image/png": "[encoded data removed]",
      "text/plain": [
       "<Figure size 432x288 with 1 Axes>"
      ]
     },
     "metadata": {},
     "output_type": "display_data"
    }
   ],
   "source": [
    "# \"Loss\"\n",
    "plt.plot(history.history['loss'])\n",
    "plt.plot(history.history['val_loss'])\n",
    "plt.title('model loss')\n",
    "plt.ylabel('loss')\n",
    "plt.xlabel('epoch')\n",
    "#plt.ylim((15000,50000))\n",
    "plt.legend(['train', 'validation'], loc='upper left')\n",
    "plt.show()"
   ]
  },
  {
   "cell_type": "markdown",
   "metadata": {},
   "source": [
    "***Diminuindo uma camada:***"
   ]
  },
  {
   "cell_type": "code",
   "execution_count": 95,
   "metadata": {},
   "outputs": [
    {
     "name": "stdout",
     "output_type": "stream",
     "text": [
      "Model: \"sequential_6\"\n",
      "_________________________________________________________________\n",
      "Layer (type)                 Output Shape              Param #   \n",
      "=================================================================\n",
      "dense_23 (Dense)             (None, 128)               3328      \n",
      "_________________________________________________________________\n",
      "dense_24 (Dense)             (None, 32)                4128      \n",
      "_________________________________________________________________\n",
      "dense_25 (Dense)             (None, 16)                528       \n",
      "_________________________________________________________________\n",
      "dense_26 (Dense)             (None, 3)                 51        \n",
      "=================================================================\n",
      "Total params: 8,035\n",
      "Trainable params: 8,035\n",
      "Non-trainable params: 0\n",
      "_________________________________________________________________\n"
     ]
    }
   ],
   "source": [
    "model_2 = Sequential()\n",
    "model_2.add(Dense(128, input_dim=25, kernel_initializer='normal', activation='relu'))\n",
    "model_2.add(Dense(32, activation='relu'))\n",
    "model_2.add(Dense(16, activation='linear'))\n",
    "model_2.add(Dense(3, activation='linear'))\n",
    "model_2.summary()"
   ]
  },
  {
   "cell_type": "code",
   "execution_count": 102,
   "metadata": {},
   "outputs": [
    {
     "name": "stdout",
     "output_type": "stream",
     "text": [
      "Train on 3209 samples, validate on 803 samples\n",
      "Epoch 1/100\n",
      "3209/3209 [==============================] - 0s 132us/sample - loss: 10332566.4590 - mean_squared_error: 10332566.0000 - mean_absolute_error: 3021.7776 - val_loss: 1878742.3160 - val_mean_squared_error: 1878742.2500 - val_mean_absolute_error: 1161.1763\n",
      "Epoch 2/100\n",
      "3209/3209 [==============================] - 0s 74us/sample - loss: 773051.8146 - mean_squared_error: 773052.0000 - mean_absolute_error: 683.4797 - val_loss: 383597.4838 - val_mean_squared_error: 383597.4375 - val_mean_absolute_error: 475.7797\n",
      "Epoch 3/100\n",
      "3209/3209 [==============================] - 0s 71us/sample - loss: 222838.5018 - mean_squared_error: 222838.4219 - mean_absolute_error: 354.7885 - val_loss: 151561.7565 - val_mean_squared_error: 151561.7656 - val_mean_absolute_error: 298.6706\n",
      "Epoch 4/100\n",
      "3209/3209 [==============================] - 0s 73us/sample - loss: 113761.7730 - mean_squared_error: 113761.8047 - mean_absolute_error: 256.9746 - val_loss: 102788.4195 - val_mean_squared_error: 102788.4141 - val_mean_absolute_error: 247.6974\n",
      "Epoch 5/100\n",
      "3209/3209 [==============================] - 0s 70us/sample - loss: 84224.9727 - mean_squared_error: 84224.9688 - mean_absolute_error: 221.1065 - val_loss: 78722.0647 - val_mean_squared_error: 78722.0625 - val_mean_absolute_error: 217.3194\n",
      "Epoch 6/100\n",
      "3209/3209 [==============================] - 0s 68us/sample - loss: 70634.6829 - mean_squared_error: 70634.6797 - mean_absolute_error: 202.3608 - val_loss: 71750.3419 - val_mean_squared_error: 71750.3438 - val_mean_absolute_error: 206.8749\n",
      "Epoch 7/100\n",
      "3209/3209 [==============================] - 0s 69us/sample - loss: 64009.7702 - mean_squared_error: 64009.7539 - mean_absolute_error: 191.8877 - val_loss: 63652.1503 - val_mean_squared_error: 63652.1328 - val_mean_absolute_error: 195.1909\n",
      "Epoch 8/100\n",
      "3209/3209 [==============================] - 0s 68us/sample - loss: 60061.6343 - mean_squared_error: 60061.6367 - mean_absolute_error: 185.4329 - val_loss: 59770.2162 - val_mean_squared_error: 59770.2070 - val_mean_absolute_error: 188.4739\n",
      "Epoch 9/100\n",
      "3209/3209 [==============================] - 0s 69us/sample - loss: 57697.4301 - mean_squared_error: 57697.4453 - mean_absolute_error: 180.2005 - val_loss: 57533.0167 - val_mean_squared_error: 57533.0156 - val_mean_absolute_error: 183.5315\n",
      "Epoch 10/100\n",
      "3209/3209 [==============================] - 0s 70us/sample - loss: 55967.6469 - mean_squared_error: 55967.6562 - mean_absolute_error: 177.4524 - val_loss: 56711.8562 - val_mean_squared_error: 56711.8555 - val_mean_absolute_error: 182.1858\n",
      "Epoch 11/100\n",
      "3209/3209 [==============================] - 0s 70us/sample - loss: 54389.7534 - mean_squared_error: 54389.7578 - mean_absolute_error: 174.3891 - val_loss: 55259.0377 - val_mean_squared_error: 55259.0391 - val_mean_absolute_error: 180.1656\n",
      "Epoch 12/100\n",
      "3209/3209 [==============================] - 0s 70us/sample - loss: 53699.1915 - mean_squared_error: 53699.1797 - mean_absolute_error: 173.3470 - val_loss: 53204.2456 - val_mean_squared_error: 53204.2539 - val_mean_absolute_error: 175.8392\n",
      "Epoch 13/100\n",
      "3209/3209 [==============================] - 0s 70us/sample - loss: 52076.9138 - mean_squared_error: 52076.9219 - mean_absolute_error: 170.1682 - val_loss: 53866.8650 - val_mean_squared_error: 53866.8711 - val_mean_absolute_error: 176.8845\n",
      "Epoch 14/100\n",
      "3209/3209 [==============================] - 0s 72us/sample - loss: 51449.1589 - mean_squared_error: 51449.1602 - mean_absolute_error: 168.7712 - val_loss: 51448.7813 - val_mean_squared_error: 51448.7773 - val_mean_absolute_error: 172.7247\n",
      "Epoch 15/100\n",
      "3209/3209 [==============================] - 0s 70us/sample - loss: 50140.7115 - mean_squared_error: 50140.6875 - mean_absolute_error: 166.5001 - val_loss: 49580.5081 - val_mean_squared_error: 49580.5117 - val_mean_absolute_error: 169.8725\n",
      "Epoch 16/100\n",
      "3209/3209 [==============================] - 0s 67us/sample - loss: 48616.5811 - mean_squared_error: 48616.5859 - mean_absolute_error: 163.3026 - val_loss: 48367.1368 - val_mean_squared_error: 48367.1367 - val_mean_absolute_error: 167.1279\n",
      "Epoch 17/100\n",
      "3209/3209 [==============================] - 0s 68us/sample - loss: 47570.9320 - mean_squared_error: 47570.9414 - mean_absolute_error: 162.0105 - val_loss: 47821.0815 - val_mean_squared_error: 47821.0820 - val_mean_absolute_error: 165.4609\n",
      "Epoch 18/100\n",
      "3209/3209 [==============================] - 0s 69us/sample - loss: 46496.0752 - mean_squared_error: 46496.0703 - mean_absolute_error: 159.9348 - val_loss: 48447.5246 - val_mean_squared_error: 48447.5312 - val_mean_absolute_error: 167.8242\n",
      "Epoch 19/100\n",
      "3209/3209 [==============================] - 0s 70us/sample - loss: 45422.7391 - mean_squared_error: 45422.7188 - mean_absolute_error: 157.8289 - val_loss: 46864.2763 - val_mean_squared_error: 46864.2891 - val_mean_absolute_error: 164.3851\n",
      "Epoch 20/100\n",
      "3209/3209 [==============================] - 0s 70us/sample - loss: 43947.1574 - mean_squared_error: 43947.1680 - mean_absolute_error: 155.4006 - val_loss: 46311.4490 - val_mean_squared_error: 46311.4414 - val_mean_absolute_error: 163.2900\n",
      "Epoch 21/100\n",
      "3209/3209 [==============================] - 0s 69us/sample - loss: 43685.3275 - mean_squared_error: 43685.3242 - mean_absolute_error: 155.3235 - val_loss: 44441.9087 - val_mean_squared_error: 44441.9062 - val_mean_absolute_error: 159.1109\n",
      "Epoch 22/100\n",
      "3209/3209 [==============================] - 0s 69us/sample - loss: 42903.7663 - mean_squared_error: 42903.7734 - mean_absolute_error: 153.4747 - val_loss: 42940.3362 - val_mean_squared_error: 42940.3398 - val_mean_absolute_error: 157.8406\n",
      "Epoch 23/100\n",
      "3209/3209 [==============================] - 0s 69us/sample - loss: 42811.0892 - mean_squared_error: 42811.0820 - mean_absolute_error: 154.1091 - val_loss: 42780.6884 - val_mean_squared_error: 42780.6992 - val_mean_absolute_error: 157.4385\n",
      "Epoch 24/100\n",
      "3209/3209 [==============================] - 0s 70us/sample - loss: 42083.2356 - mean_squared_error: 42083.2344 - mean_absolute_error: 152.8559 - val_loss: 44146.8233 - val_mean_squared_error: 44146.8203 - val_mean_absolute_error: 161.1280\n",
      "Epoch 25/100\n",
      "3209/3209 [==============================] - 0s 71us/sample - loss: 42127.1358 - mean_squared_error: 42127.1328 - mean_absolute_error: 152.5086 - val_loss: 42676.7298 - val_mean_squared_error: 42676.7383 - val_mean_absolute_error: 157.5816\n",
      "Epoch 26/100\n",
      "3209/3209 [==============================] - 0s 69us/sample - loss: 41122.5471 - mean_squared_error: 41122.5430 - mean_absolute_error: 150.9784 - val_loss: 42382.7412 - val_mean_squared_error: 42382.7344 - val_mean_absolute_error: 156.7043\n",
      "Epoch 27/100\n",
      "3209/3209 [==============================] - 0s 67us/sample - loss: 40992.8165 - mean_squared_error: 40992.8047 - mean_absolute_error: 150.8937 - val_loss: 42153.9087 - val_mean_squared_error: 42153.9141 - val_mean_absolute_error: 156.0850\n",
      "Epoch 28/100\n",
      "3209/3209 [==============================] - 0s 68us/sample - loss: 39802.2691 - mean_squared_error: 39802.2617 - mean_absolute_error: 147.4469 - val_loss: 42782.8186 - val_mean_squared_error: 42782.8203 - val_mean_absolute_error: 155.5258\n",
      "Epoch 29/100\n",
      "3209/3209 [==============================] - 0s 69us/sample - loss: 38796.7023 - mean_squared_error: 38796.7031 - mean_absolute_error: 145.4069 - val_loss: 38494.2112 - val_mean_squared_error: 38494.2070 - val_mean_absolute_error: 147.6744\n",
      "Epoch 30/100\n",
      "3209/3209 [==============================] - 0s 68us/sample - loss: 37325.0471 - mean_squared_error: 37325.0469 - mean_absolute_error: 141.8707 - val_loss: 37759.4188 - val_mean_squared_error: 37759.4219 - val_mean_absolute_error: 144.7863\n",
      "Epoch 31/100\n",
      "3209/3209 [==============================] - 0s 71us/sample - loss: 36931.1076 - mean_squared_error: 36931.1094 - mean_absolute_error: 141.2849 - val_loss: 38557.7843 - val_mean_squared_error: 38557.7852 - val_mean_absolute_error: 146.5006\n",
      "Epoch 32/100\n",
      "3209/3209 [==============================] - 0s 68us/sample - loss: 36634.7204 - mean_squared_error: 36634.7188 - mean_absolute_error: 139.7381 - val_loss: 36642.2170 - val_mean_squared_error: 36642.2148 - val_mean_absolute_error: 143.0641\n",
      "Epoch 33/100\n"
     ]
    },
    {
     "name": "stdout",
     "output_type": "stream",
     "text": [
      "3209/3209 [==============================] - 0s 69us/sample - loss: 35829.5009 - mean_squared_error: 35829.5000 - mean_absolute_error: 137.2398 - val_loss: 39956.6867 - val_mean_squared_error: 39956.6797 - val_mean_absolute_error: 148.7640\n",
      "Epoch 34/100\n",
      "3209/3209 [==============================] - 0s 69us/sample - loss: 35089.2289 - mean_squared_error: 35089.2422 - mean_absolute_error: 135.8516 - val_loss: 37006.3239 - val_mean_squared_error: 37006.3203 - val_mean_absolute_error: 140.8383\n",
      "Epoch 35/100\n",
      "3209/3209 [==============================] - 0s 70us/sample - loss: 34744.9964 - mean_squared_error: 34744.9922 - mean_absolute_error: 134.1160 - val_loss: 36381.3974 - val_mean_squared_error: 36381.3984 - val_mean_absolute_error: 140.7320\n",
      "Epoch 36/100\n",
      "3209/3209 [==============================] - 0s 68us/sample - loss: 34873.9493 - mean_squared_error: 34873.9453 - mean_absolute_error: 134.2700 - val_loss: 36312.7398 - val_mean_squared_error: 36312.7461 - val_mean_absolute_error: 141.4012\n",
      "Epoch 37/100\n",
      "3209/3209 [==============================] - 0s 69us/sample - loss: 34787.4803 - mean_squared_error: 34787.4883 - mean_absolute_error: 134.3493 - val_loss: 37268.5254 - val_mean_squared_error: 37268.5273 - val_mean_absolute_error: 142.8922\n",
      "Epoch 38/100\n",
      "3209/3209 [==============================] - 0s 70us/sample - loss: 34274.5632 - mean_squared_error: 34274.5586 - mean_absolute_error: 132.5410 - val_loss: 35097.2670 - val_mean_squared_error: 35097.2617 - val_mean_absolute_error: 137.9666\n",
      "Epoch 39/100\n",
      "3209/3209 [==============================] - 0s 70us/sample - loss: 34443.9003 - mean_squared_error: 34443.8984 - mean_absolute_error: 133.1624 - val_loss: 34694.0319 - val_mean_squared_error: 34694.0312 - val_mean_absolute_error: 137.5057\n",
      "Epoch 40/100\n",
      "3209/3209 [==============================] - 0s 69us/sample - loss: 34119.0509 - mean_squared_error: 34119.0469 - mean_absolute_error: 132.0067 - val_loss: 34290.2778 - val_mean_squared_error: 34290.2773 - val_mean_absolute_error: 136.5175\n",
      "Epoch 41/100\n",
      "3209/3209 [==============================] - 0s 69us/sample - loss: 34047.9075 - mean_squared_error: 34047.9023 - mean_absolute_error: 132.3727 - val_loss: 35363.1995 - val_mean_squared_error: 35363.1992 - val_mean_absolute_error: 139.7471\n",
      "Epoch 42/100\n",
      "3209/3209 [==============================] - 0s 70us/sample - loss: 33790.1795 - mean_squared_error: 33790.1914 - mean_absolute_error: 132.1510 - val_loss: 34846.9490 - val_mean_squared_error: 34846.9531 - val_mean_absolute_error: 137.2928\n",
      "Epoch 43/100\n",
      "3209/3209 [==============================] - 0s 69us/sample - loss: 33974.6085 - mean_squared_error: 33974.6016 - mean_absolute_error: 132.3115 - val_loss: 35388.7855 - val_mean_squared_error: 35388.7812 - val_mean_absolute_error: 137.6559\n",
      "Epoch 44/100\n",
      "3209/3209 [==============================] - 0s 68us/sample - loss: 33592.9984 - mean_squared_error: 33593.0039 - mean_absolute_error: 131.5240 - val_loss: 35595.4205 - val_mean_squared_error: 35595.4219 - val_mean_absolute_error: 139.8572\n",
      "Epoch 45/100\n",
      "3209/3209 [==============================] - 0s 70us/sample - loss: 33238.4575 - mean_squared_error: 33238.4453 - mean_absolute_error: 130.7475 - val_loss: 36188.5774 - val_mean_squared_error: 36188.5781 - val_mean_absolute_error: 138.6600\n",
      "Epoch 46/100\n",
      "3209/3209 [==============================] - 0s 71us/sample - loss: 33067.7003 - mean_squared_error: 33067.7070 - mean_absolute_error: 130.5115 - val_loss: 35964.4572 - val_mean_squared_error: 35964.4609 - val_mean_absolute_error: 140.1458\n",
      "Epoch 47/100\n",
      "3209/3209 [==============================] - 0s 70us/sample - loss: 32819.2148 - mean_squared_error: 32819.2109 - mean_absolute_error: 129.9948 - val_loss: 34871.7962 - val_mean_squared_error: 34871.7969 - val_mean_absolute_error: 136.9017\n",
      "Epoch 48/100\n",
      "3209/3209 [==============================] - 0s 69us/sample - loss: 33270.0271 - mean_squared_error: 33270.0273 - mean_absolute_error: 130.9799 - val_loss: 34657.8495 - val_mean_squared_error: 34657.8555 - val_mean_absolute_error: 136.9637\n",
      "Epoch 49/100\n",
      "3209/3209 [==============================] - 0s 69us/sample - loss: 32649.2886 - mean_squared_error: 32649.2930 - mean_absolute_error: 129.7763 - val_loss: 33814.8025 - val_mean_squared_error: 33814.8047 - val_mean_absolute_error: 134.1740\n",
      "Epoch 50/100\n",
      "3209/3209 [==============================] - 0s 69us/sample - loss: 32760.6570 - mean_squared_error: 32760.6504 - mean_absolute_error: 129.3984 - val_loss: 34667.6842 - val_mean_squared_error: 34667.6797 - val_mean_absolute_error: 136.2158\n",
      "Epoch 51/100\n",
      "3209/3209 [==============================] - 0s 70us/sample - loss: 32653.8381 - mean_squared_error: 32653.8379 - mean_absolute_error: 129.2560 - val_loss: 33747.1318 - val_mean_squared_error: 33747.1328 - val_mean_absolute_error: 133.2725\n",
      "Epoch 52/100\n",
      "3209/3209 [==============================] - 0s 70us/sample - loss: 32438.0221 - mean_squared_error: 32438.0254 - mean_absolute_error: 128.4360 - val_loss: 33161.8629 - val_mean_squared_error: 33161.8633 - val_mean_absolute_error: 133.1525\n",
      "Epoch 53/100\n",
      "3209/3209 [==============================] - 0s 69us/sample - loss: 32638.8388 - mean_squared_error: 32638.8281 - mean_absolute_error: 128.6570 - val_loss: 34250.0248 - val_mean_squared_error: 34250.0234 - val_mean_absolute_error: 136.0165\n",
      "Epoch 54/100\n",
      "3209/3209 [==============================] - 0s 69us/sample - loss: 32247.3732 - mean_squared_error: 32247.3750 - mean_absolute_error: 128.2228 - val_loss: 35397.5200 - val_mean_squared_error: 35397.5234 - val_mean_absolute_error: 135.9012\n",
      "Epoch 55/100\n",
      "3209/3209 [==============================] - 0s 71us/sample - loss: 32517.8512 - mean_squared_error: 32517.8457 - mean_absolute_error: 129.5231 - val_loss: 34550.2464 - val_mean_squared_error: 34550.2539 - val_mean_absolute_error: 137.3092\n",
      "Epoch 56/100\n",
      "3209/3209 [==============================] - 0s 71us/sample - loss: 31714.3472 - mean_squared_error: 31714.3438 - mean_absolute_error: 126.9569 - val_loss: 34153.2411 - val_mean_squared_error: 34153.2461 - val_mean_absolute_error: 133.9678\n",
      "Epoch 57/100\n",
      "3209/3209 [==============================] - 0s 69us/sample - loss: 32202.3505 - mean_squared_error: 32202.3535 - mean_absolute_error: 128.1354 - val_loss: 34439.1821 - val_mean_squared_error: 34439.1875 - val_mean_absolute_error: 135.4591\n",
      "Epoch 58/100\n",
      "3209/3209 [==============================] - 0s 70us/sample - loss: 32125.8962 - mean_squared_error: 32125.9043 - mean_absolute_error: 128.3665 - val_loss: 33855.3543 - val_mean_squared_error: 33855.3438 - val_mean_absolute_error: 135.3875\n",
      "Epoch 59/100\n",
      "3209/3209 [==============================] - 0s 72us/sample - loss: 32098.7446 - mean_squared_error: 32098.7617 - mean_absolute_error: 128.1819 - val_loss: 33884.0977 - val_mean_squared_error: 33884.0977 - val_mean_absolute_error: 135.6405\n",
      "Epoch 60/100\n",
      "3209/3209 [==============================] - 0s 70us/sample - loss: 31634.1657 - mean_squared_error: 31634.1680 - mean_absolute_error: 127.7913 - val_loss: 33442.5546 - val_mean_squared_error: 33442.5547 - val_mean_absolute_error: 133.3927\n",
      "Epoch 61/100\n",
      "3209/3209 [==============================] - 0s 72us/sample - loss: 31907.0958 - mean_squared_error: 31907.0996 - mean_absolute_error: 127.1644 - val_loss: 35474.6663 - val_mean_squared_error: 35474.6641 - val_mean_absolute_error: 136.7697\n",
      "Epoch 62/100\n",
      "3209/3209 [==============================] - 0s 71us/sample - loss: 31995.7096 - mean_squared_error: 31995.7012 - mean_absolute_error: 127.4249 - val_loss: 35460.3372 - val_mean_squared_error: 35460.3398 - val_mean_absolute_error: 140.6597\n",
      "Epoch 63/100\n",
      "3209/3209 [==============================] - 0s 70us/sample - loss: 32051.1824 - mean_squared_error: 32051.1680 - mean_absolute_error: 127.8904 - val_loss: 33152.2650 - val_mean_squared_error: 33152.2695 - val_mean_absolute_error: 132.5949\n",
      "Epoch 64/100\n",
      "3209/3209 [==============================] - 0s 68us/sample - loss: 31771.9510 - mean_squared_error: 31771.9473 - mean_absolute_error: 127.0275 - val_loss: 33787.0886 - val_mean_squared_error: 33787.0938 - val_mean_absolute_error: 134.5703\n",
      "Epoch 65/100\n"
     ]
    },
    {
     "name": "stdout",
     "output_type": "stream",
     "text": [
      "3209/3209 [==============================] - 0s 71us/sample - loss: 31291.5932 - mean_squared_error: 31291.5898 - mean_absolute_error: 126.3370 - val_loss: 37184.5932 - val_mean_squared_error: 37184.5938 - val_mean_absolute_error: 141.7044\n",
      "Epoch 66/100\n",
      "3209/3209 [==============================] - 0s 70us/sample - loss: 31895.7977 - mean_squared_error: 31895.7910 - mean_absolute_error: 127.6636 - val_loss: 35113.4180 - val_mean_squared_error: 35113.4141 - val_mean_absolute_error: 139.3268\n",
      "Epoch 67/100\n",
      "3209/3209 [==============================] - 0s 70us/sample - loss: 31876.8128 - mean_squared_error: 31876.8164 - mean_absolute_error: 127.7517 - val_loss: 38237.7266 - val_mean_squared_error: 38237.7266 - val_mean_absolute_error: 147.7858\n",
      "Epoch 68/100\n",
      "3209/3209 [==============================] - 0s 69us/sample - loss: 31157.6183 - mean_squared_error: 31157.6211 - mean_absolute_error: 126.7010 - val_loss: 33644.0733 - val_mean_squared_error: 33644.0703 - val_mean_absolute_error: 134.0380\n",
      "Epoch 69/100\n",
      "3209/3209 [==============================] - 0s 70us/sample - loss: 31362.7646 - mean_squared_error: 31362.7715 - mean_absolute_error: 126.2668 - val_loss: 33701.4293 - val_mean_squared_error: 33701.4258 - val_mean_absolute_error: 134.9494\n",
      "Epoch 70/100\n",
      "3209/3209 [==============================] - 0s 67us/sample - loss: 31262.3945 - mean_squared_error: 31262.3926 - mean_absolute_error: 126.3062 - val_loss: 33234.1020 - val_mean_squared_error: 33234.1016 - val_mean_absolute_error: 132.3203\n",
      "Epoch 71/100\n",
      "3209/3209 [==============================] - 0s 70us/sample - loss: 31313.9784 - mean_squared_error: 31313.9844 - mean_absolute_error: 126.3915 - val_loss: 33790.1043 - val_mean_squared_error: 33790.1016 - val_mean_absolute_error: 136.9213\n",
      "Epoch 72/100\n",
      "3209/3209 [==============================] - 0s 69us/sample - loss: 31242.3312 - mean_squared_error: 31242.3164 - mean_absolute_error: 126.0738 - val_loss: 33812.6110 - val_mean_squared_error: 33812.6133 - val_mean_absolute_error: 136.6619\n",
      "Epoch 73/100\n",
      "3209/3209 [==============================] - 0s 72us/sample - loss: 31172.5783 - mean_squared_error: 31172.5801 - mean_absolute_error: 126.1879 - val_loss: 35702.4876 - val_mean_squared_error: 35702.4844 - val_mean_absolute_error: 139.4463\n",
      "Epoch 74/100\n",
      "3209/3209 [==============================] - 0s 72us/sample - loss: 30968.6570 - mean_squared_error: 30968.6660 - mean_absolute_error: 126.2222 - val_loss: 32315.0803 - val_mean_squared_error: 32315.0781 - val_mean_absolute_error: 130.8967\n",
      "Epoch 75/100\n",
      "3209/3209 [==============================] - 0s 72us/sample - loss: 30990.1510 - mean_squared_error: 30990.1602 - mean_absolute_error: 125.9188 - val_loss: 34401.8753 - val_mean_squared_error: 34401.8711 - val_mean_absolute_error: 137.0936\n",
      "Epoch 76/100\n",
      "3209/3209 [==============================] - 0s 70us/sample - loss: 30802.8066 - mean_squared_error: 30802.8027 - mean_absolute_error: 125.2293 - val_loss: 32355.5113 - val_mean_squared_error: 32355.5137 - val_mean_absolute_error: 131.0250\n",
      "Epoch 77/100\n",
      "3209/3209 [==============================] - 0s 69us/sample - loss: 31170.4170 - mean_squared_error: 31170.4180 - mean_absolute_error: 125.8234 - val_loss: 33266.2468 - val_mean_squared_error: 33266.2500 - val_mean_absolute_error: 134.3533\n",
      "Epoch 78/100\n",
      "3209/3209 [==============================] - 0s 68us/sample - loss: 31006.9327 - mean_squared_error: 31006.9277 - mean_absolute_error: 125.7047 - val_loss: 33626.0289 - val_mean_squared_error: 33626.0234 - val_mean_absolute_error: 136.8379\n",
      "Epoch 79/100\n",
      "3209/3209 [==============================] - 0s 69us/sample - loss: 30806.5377 - mean_squared_error: 30806.5410 - mean_absolute_error: 124.6792 - val_loss: 33851.7774 - val_mean_squared_error: 33851.7812 - val_mean_absolute_error: 136.2764\n",
      "Epoch 80/100\n",
      "3209/3209 [==============================] - 0s 70us/sample - loss: 30951.3604 - mean_squared_error: 30951.3574 - mean_absolute_error: 124.9638 - val_loss: 32262.8830 - val_mean_squared_error: 32262.8789 - val_mean_absolute_error: 131.3020\n",
      "Epoch 81/100\n",
      "3209/3209 [==============================] - 0s 69us/sample - loss: 30966.2745 - mean_squared_error: 30966.2832 - mean_absolute_error: 124.8916 - val_loss: 32051.6522 - val_mean_squared_error: 32051.6621 - val_mean_absolute_error: 131.6410\n",
      "Epoch 82/100\n",
      "3209/3209 [==============================] - 0s 69us/sample - loss: 30684.7647 - mean_squared_error: 30684.7656 - mean_absolute_error: 125.0172 - val_loss: 32935.1025 - val_mean_squared_error: 32935.0977 - val_mean_absolute_error: 134.9547\n",
      "Epoch 83/100\n",
      "3209/3209 [==============================] - 0s 69us/sample - loss: 30862.9796 - mean_squared_error: 30862.9863 - mean_absolute_error: 124.9993 - val_loss: 32883.7324 - val_mean_squared_error: 32883.7344 - val_mean_absolute_error: 134.4875\n",
      "Epoch 84/100\n",
      "3209/3209 [==============================] - 0s 70us/sample - loss: 30690.5457 - mean_squared_error: 30690.5508 - mean_absolute_error: 124.9520 - val_loss: 32590.5139 - val_mean_squared_error: 32590.5098 - val_mean_absolute_error: 130.9674\n",
      "Epoch 85/100\n",
      "3209/3209 [==============================] - 0s 72us/sample - loss: 30823.6136 - mean_squared_error: 30823.6270 - mean_absolute_error: 125.4496 - val_loss: 31936.2236 - val_mean_squared_error: 31936.2188 - val_mean_absolute_error: 130.5996\n",
      "Epoch 86/100\n",
      "3209/3209 [==============================] - 0s 70us/sample - loss: 31405.2518 - mean_squared_error: 31405.2461 - mean_absolute_error: 125.6231 - val_loss: 33130.9103 - val_mean_squared_error: 33130.9102 - val_mean_absolute_error: 134.6028\n",
      "Epoch 87/100\n",
      "3209/3209 [==============================] - 0s 70us/sample - loss: 30633.4633 - mean_squared_error: 30633.4629 - mean_absolute_error: 124.8030 - val_loss: 32928.8796 - val_mean_squared_error: 32928.8789 - val_mean_absolute_error: 131.2006\n",
      "Epoch 88/100\n",
      "3209/3209 [==============================] - 0s 68us/sample - loss: 31010.3106 - mean_squared_error: 31010.3027 - mean_absolute_error: 126.1941 - val_loss: 33252.5507 - val_mean_squared_error: 33252.5508 - val_mean_absolute_error: 135.4691\n",
      "Epoch 89/100\n",
      "3209/3209 [==============================] - 0s 69us/sample - loss: 30468.4306 - mean_squared_error: 30468.4316 - mean_absolute_error: 124.1473 - val_loss: 32771.0689 - val_mean_squared_error: 32771.0742 - val_mean_absolute_error: 132.4344\n",
      "Epoch 90/100\n",
      "3209/3209 [==============================] - 0s 70us/sample - loss: 30692.4247 - mean_squared_error: 30692.4277 - mean_absolute_error: 124.8820 - val_loss: 34119.9050 - val_mean_squared_error: 34119.9062 - val_mean_absolute_error: 137.8764\n",
      "Epoch 91/100\n",
      "3209/3209 [==============================] - 0s 69us/sample - loss: 30522.8210 - mean_squared_error: 30522.8145 - mean_absolute_error: 124.9078 - val_loss: 36739.8061 - val_mean_squared_error: 36739.8047 - val_mean_absolute_error: 144.7885\n",
      "Epoch 92/100\n",
      "3209/3209 [==============================] - 0s 70us/sample - loss: 30409.5233 - mean_squared_error: 30409.5273 - mean_absolute_error: 124.1317 - val_loss: 33225.1020 - val_mean_squared_error: 33225.1055 - val_mean_absolute_error: 134.6175\n",
      "Epoch 93/100\n",
      "3209/3209 [==============================] - 0s 70us/sample - loss: 30448.7475 - mean_squared_error: 30448.7578 - mean_absolute_error: 124.2718 - val_loss: 32295.6279 - val_mean_squared_error: 32295.6289 - val_mean_absolute_error: 131.4661\n",
      "Epoch 94/100\n",
      "3209/3209 [==============================] - 0s 69us/sample - loss: 30374.9030 - mean_squared_error: 30374.8984 - mean_absolute_error: 124.0263 - val_loss: 33121.6948 - val_mean_squared_error: 33121.6875 - val_mean_absolute_error: 132.8248\n",
      "Epoch 95/100\n",
      "3209/3209 [==============================] - 0s 69us/sample - loss: 30345.0740 - mean_squared_error: 30345.0723 - mean_absolute_error: 124.0997 - val_loss: 36896.0137 - val_mean_squared_error: 36896.0117 - val_mean_absolute_error: 144.0924\n",
      "Epoch 96/100\n",
      "3209/3209 [==============================] - 0s 68us/sample - loss: 29996.0842 - mean_squared_error: 29996.0918 - mean_absolute_error: 123.2592 - val_loss: 32263.8254 - val_mean_squared_error: 32263.8301 - val_mean_absolute_error: 131.4980\n",
      "Epoch 97/100\n"
     ]
    },
    {
     "name": "stdout",
     "output_type": "stream",
     "text": [
      "3209/3209 [==============================] - 0s 69us/sample - loss: 30715.9999 - mean_squared_error: 30715.9922 - mean_absolute_error: 125.0700 - val_loss: 32869.6171 - val_mean_squared_error: 32869.6172 - val_mean_absolute_error: 134.6537\n",
      "Epoch 98/100\n",
      "3209/3209 [==============================] - 0s 69us/sample - loss: 29843.8136 - mean_squared_error: 29843.7988 - mean_absolute_error: 122.5055 - val_loss: 32740.1449 - val_mean_squared_error: 32740.1465 - val_mean_absolute_error: 133.7398\n",
      "Epoch 99/100\n",
      "3209/3209 [==============================] - 0s 68us/sample - loss: 30022.6634 - mean_squared_error: 30022.6543 - mean_absolute_error: 122.9868 - val_loss: 32288.6204 - val_mean_squared_error: 32288.6211 - val_mean_absolute_error: 132.8210\n",
      "Epoch 100/100\n",
      "3209/3209 [==============================] - 0s 70us/sample - loss: 29959.5586 - mean_squared_error: 29959.5605 - mean_absolute_error: 122.5920 - val_loss: 32786.9061 - val_mean_squared_error: 32786.9023 - val_mean_absolute_error: 131.4628\n"
     ]
    }
   ],
   "source": [
    "model_2.compile(loss='mse', optimizer='adam', metrics=['mse','mae'])\n",
    "history = model_2.fit(X_train, y_train, epochs=100, batch_size=16,  verbose=1, validation_split=0.2)"
   ]
  },
  {
   "cell_type": "code",
   "execution_count": 103,
   "metadata": {},
   "outputs": [
    {
     "data": {
      "image/png": "[encoded data removed]",
      "text/plain": [
       "<Figure size 432x288 with 1 Axes>"
      ]
     },
     "metadata": {},
     "output_type": "display_data"
    }
   ],
   "source": [
    "# \"Loss\"\n",
    "plt.plot(history.history['loss'])\n",
    "plt.plot(history.history['val_loss'])\n",
    "plt.title('model loss')\n",
    "plt.ylabel('loss')\n",
    "plt.xlabel('epoch')\n",
    "#plt.ylim((15000,50000))\n",
    "plt.legend(['train', 'validation'], loc='upper left')\n",
    "plt.show()"
   ]
  },
  {
   "cell_type": "code",
   "execution_count": 106,
   "metadata": {},
   "outputs": [
    {
     "name": "stdout",
     "output_type": "stream",
     "text": [
      "Model: \"sequential_8\"\n",
      "_________________________________________________________________\n",
      "Layer (type)                 Output Shape              Param #   \n",
      "=================================================================\n",
      "dense_30 (Dense)             (None, 128)               3328      \n",
      "_________________________________________________________________\n",
      "dense_31 (Dense)             (None, 32)                4128      \n",
      "_________________________________________________________________\n",
      "dense_32 (Dense)             (None, 3)                 99        \n",
      "=================================================================\n",
      "Total params: 7,555\n",
      "Trainable params: 7,555\n",
      "Non-trainable params: 0\n",
      "_________________________________________________________________\n"
     ]
    }
   ],
   "source": [
    "model_3 = Sequential()\n",
    "model_3.add(Dense(128, input_dim=25, kernel_initializer='orthogonal', activation='relu'))\n",
    "model_3.add(Dense(32, activation='relu')) ##Melhorou um pouco com a regularização\n",
    "model_3.add(Dense(3, activation='linear'))\n",
    "model_3.summary()"
   ]
  },
  {
   "cell_type": "code",
   "execution_count": 107,
   "metadata": {},
   "outputs": [
    {
     "name": "stdout",
     "output_type": "stream",
     "text": [
      "Train on 3209 samples, validate on 803 samples\n",
      "Epoch 1/200\n",
      "3209/3209 [==============================] - 0s 136us/sample - loss: 12884790.3873 - mean_squared_error: 12884791.0000 - mean_absolute_error: 3469.5005 - val_loss: 11611474.6339 - val_mean_squared_error: 11611474.0000 - val_mean_absolute_error: 3283.9155\n",
      "Epoch 2/200\n",
      "3209/3209 [==============================] - 0s 73us/sample - loss: 7367950.8665 - mean_squared_error: 7367953.0000 - mean_absolute_error: 2514.8813 - val_loss: 3066904.0153 - val_mean_squared_error: 3066903.5000 - val_mean_absolute_error: 1525.9011\n",
      "Epoch 3/200\n",
      "3209/3209 [==============================] - 0s 68us/sample - loss: 1602566.6568 - mean_squared_error: 1602567.0000 - mean_absolute_error: 1037.0522 - val_loss: 962533.0623 - val_mean_squared_error: 962533.0000 - val_mean_absolute_error: 799.1185\n",
      "Epoch 4/200\n",
      "3209/3209 [==============================] - 0s 67us/sample - loss: 683990.2124 - mean_squared_error: 683990.1875 - mean_absolute_error: 657.0599 - val_loss: 531625.4043 - val_mean_squared_error: 531625.4375 - val_mean_absolute_error: 571.4690\n",
      "Epoch 5/200\n",
      "3209/3209 [==============================] - 0s 67us/sample - loss: 389437.9562 - mean_squared_error: 389437.9062 - mean_absolute_error: 479.3557 - val_loss: 328316.3908 - val_mean_squared_error: 328316.4062 - val_mean_absolute_error: 437.7927\n",
      "Epoch 6/200\n",
      "3209/3209 [==============================] - 0s 68us/sample - loss: 245627.3937 - mean_squared_error: 245627.3750 - mean_absolute_error: 375.0685 - val_loss: 218175.9726 - val_mean_squared_error: 218175.9844 - val_mean_absolute_error: 354.1557\n",
      "Epoch 7/200\n",
      "3209/3209 [==============================] - 0s 69us/sample - loss: 169968.7337 - mean_squared_error: 169968.7812 - mean_absolute_error: 310.2176 - val_loss: 158038.8704 - val_mean_squared_error: 158038.8594 - val_mean_absolute_error: 301.3780\n",
      "Epoch 8/200\n",
      "3209/3209 [==============================] - 0s 69us/sample - loss: 128368.0187 - mean_squared_error: 128368.0547 - mean_absolute_error: 269.8337 - val_loss: 123199.1630 - val_mean_squared_error: 123199.1719 - val_mean_absolute_error: 266.7123\n",
      "Epoch 9/200\n",
      "3209/3209 [==============================] - 0s 69us/sample - loss: 104502.8351 - mean_squared_error: 104502.8438 - mean_absolute_error: 243.9266 - val_loss: 102715.6814 - val_mean_squared_error: 102715.6875 - val_mean_absolute_error: 243.9822\n",
      "Epoch 10/200\n",
      "3209/3209 [==============================] - 0s 69us/sample - loss: 89879.4988 - mean_squared_error: 89879.5156 - mean_absolute_error: 226.4329 - val_loss: 89252.0076 - val_mean_squared_error: 89251.9922 - val_mean_absolute_error: 227.9535\n",
      "Epoch 11/200\n",
      "3209/3209 [==============================] - 0s 69us/sample - loss: 79741.8176 - mean_squared_error: 79741.8125 - mean_absolute_error: 213.1576 - val_loss: 79377.1412 - val_mean_squared_error: 79377.1406 - val_mean_absolute_error: 215.3837\n",
      "Epoch 12/200\n",
      "3209/3209 [==============================] - 0s 69us/sample - loss: 72586.8736 - mean_squared_error: 72586.8672 - mean_absolute_error: 203.0827 - val_loss: 73293.1463 - val_mean_squared_error: 73293.1406 - val_mean_absolute_error: 207.4080\n",
      "Epoch 13/200\n",
      "3209/3209 [==============================] - 0s 69us/sample - loss: 67239.9258 - mean_squared_error: 67239.9062 - mean_absolute_error: 194.9114 - val_loss: 68411.8491 - val_mean_squared_error: 68411.8594 - val_mean_absolute_error: 200.3414\n",
      "Epoch 14/200\n",
      "3209/3209 [==============================] - 0s 68us/sample - loss: 62956.5840 - mean_squared_error: 62956.5938 - mean_absolute_error: 188.7854 - val_loss: 63444.7744 - val_mean_squared_error: 63444.7734 - val_mean_absolute_error: 193.3181\n",
      "Epoch 15/200\n",
      "3209/3209 [==============================] - 0s 69us/sample - loss: 59656.5489 - mean_squared_error: 59656.5664 - mean_absolute_error: 183.1379 - val_loss: 59993.8796 - val_mean_squared_error: 59993.8789 - val_mean_absolute_error: 187.2895\n",
      "Epoch 16/200\n",
      "3209/3209 [==============================] - 0s 67us/sample - loss: 57196.4258 - mean_squared_error: 57196.4453 - mean_absolute_error: 179.0099 - val_loss: 57227.3865 - val_mean_squared_error: 57227.3906 - val_mean_absolute_error: 183.0318\n",
      "Epoch 17/200\n",
      "3209/3209 [==============================] - 0s 69us/sample - loss: 54848.2806 - mean_squared_error: 54848.2773 - mean_absolute_error: 175.2387 - val_loss: 55684.7366 - val_mean_squared_error: 55684.7422 - val_mean_absolute_error: 180.1994\n",
      "Epoch 18/200\n",
      "3209/3209 [==============================] - 0s 68us/sample - loss: 52971.8156 - mean_squared_error: 52971.8203 - mean_absolute_error: 171.9761 - val_loss: 53112.0141 - val_mean_squared_error: 53112.0156 - val_mean_absolute_error: 175.3946\n",
      "Epoch 19/200\n",
      "3209/3209 [==============================] - 0s 68us/sample - loss: 51131.6118 - mean_squared_error: 51131.6133 - mean_absolute_error: 168.2427 - val_loss: 51600.2937 - val_mean_squared_error: 51600.2930 - val_mean_absolute_error: 173.3827\n",
      "Epoch 20/200\n",
      "3209/3209 [==============================] - 0s 69us/sample - loss: 49884.6051 - mean_squared_error: 49884.5898 - mean_absolute_error: 165.6897 - val_loss: 50035.1281 - val_mean_squared_error: 50035.1250 - val_mean_absolute_error: 169.9354\n",
      "Epoch 21/200\n",
      "3209/3209 [==============================] - 0s 67us/sample - loss: 48314.0984 - mean_squared_error: 48314.0977 - mean_absolute_error: 163.0473 - val_loss: 48758.9669 - val_mean_squared_error: 48758.9727 - val_mean_absolute_error: 167.9526\n",
      "Epoch 22/200\n",
      "3209/3209 [==============================] - 0s 68us/sample - loss: 47047.8969 - mean_squared_error: 47047.9180 - mean_absolute_error: 160.1413 - val_loss: 48022.1005 - val_mean_squared_error: 48022.0977 - val_mean_absolute_error: 166.8405\n",
      "Epoch 23/200\n",
      "3209/3209 [==============================] - 0s 68us/sample - loss: 45776.6934 - mean_squared_error: 45776.6992 - mean_absolute_error: 158.0346 - val_loss: 46303.9918 - val_mean_squared_error: 46303.9961 - val_mean_absolute_error: 162.8057\n",
      "Epoch 24/200\n",
      "3209/3209 [==============================] - 0s 69us/sample - loss: 44747.0411 - mean_squared_error: 44747.0391 - mean_absolute_error: 155.9205 - val_loss: 45322.1707 - val_mean_squared_error: 45322.1719 - val_mean_absolute_error: 161.1592\n",
      "Epoch 25/200\n",
      "3209/3209 [==============================] - 0s 68us/sample - loss: 43743.5000 - mean_squared_error: 43743.4805 - mean_absolute_error: 154.0160 - val_loss: 44548.5818 - val_mean_squared_error: 44548.5820 - val_mean_absolute_error: 159.3313\n",
      "Epoch 26/200\n",
      "3209/3209 [==============================] - 0s 68us/sample - loss: 42970.6180 - mean_squared_error: 42970.6094 - mean_absolute_error: 152.4966 - val_loss: 43657.2735 - val_mean_squared_error: 43657.2734 - val_mean_absolute_error: 157.9629\n",
      "Epoch 27/200\n",
      "3209/3209 [==============================] - 0s 69us/sample - loss: 42261.3769 - mean_squared_error: 42261.3789 - mean_absolute_error: 151.2600 - val_loss: 43312.3378 - val_mean_squared_error: 43312.3320 - val_mean_absolute_error: 157.2303\n",
      "Epoch 28/200\n",
      "3209/3209 [==============================] - 0s 69us/sample - loss: 41546.1133 - mean_squared_error: 41546.1016 - mean_absolute_error: 149.8008 - val_loss: 42174.3770 - val_mean_squared_error: 42174.3711 - val_mean_absolute_error: 154.5293\n",
      "Epoch 29/200\n",
      "3209/3209 [==============================] - 0s 69us/sample - loss: 40937.9967 - mean_squared_error: 40938.0078 - mean_absolute_error: 148.8398 - val_loss: 41666.6825 - val_mean_squared_error: 41666.6758 - val_mean_absolute_error: 152.8828\n",
      "Epoch 30/200\n",
      "3209/3209 [==============================] - 0s 69us/sample - loss: 40214.1246 - mean_squared_error: 40214.1172 - mean_absolute_error: 147.2518 - val_loss: 41494.0133 - val_mean_squared_error: 41494.0117 - val_mean_absolute_error: 153.1160\n",
      "Epoch 31/200\n",
      "3209/3209 [==============================] - 0s 68us/sample - loss: 40079.6429 - mean_squared_error: 40079.6367 - mean_absolute_error: 146.8624 - val_loss: 40829.9896 - val_mean_squared_error: 40829.9922 - val_mean_absolute_error: 151.6205\n",
      "Epoch 32/200\n",
      "3209/3209 [==============================] - 0s 68us/sample - loss: 39496.7306 - mean_squared_error: 39496.7266 - mean_absolute_error: 145.1155 - val_loss: 40435.9724 - val_mean_squared_error: 40435.9727 - val_mean_absolute_error: 151.0124\n",
      "Epoch 33/200\n"
     ]
    },
    {
     "name": "stdout",
     "output_type": "stream",
     "text": [
      "3209/3209 [==============================] - 0s 69us/sample - loss: 38872.0960 - mean_squared_error: 38872.0938 - mean_absolute_error: 144.1881 - val_loss: 40870.5176 - val_mean_squared_error: 40870.5195 - val_mean_absolute_error: 151.6771\n",
      "Epoch 34/200\n",
      "3209/3209 [==============================] - 0s 68us/sample - loss: 38668.6565 - mean_squared_error: 38668.6602 - mean_absolute_error: 143.4795 - val_loss: 40035.5486 - val_mean_squared_error: 40035.5469 - val_mean_absolute_error: 149.7103\n",
      "Epoch 35/200\n",
      "3209/3209 [==============================] - 0s 68us/sample - loss: 38374.2389 - mean_squared_error: 38374.2461 - mean_absolute_error: 142.4187 - val_loss: 39467.1094 - val_mean_squared_error: 39467.1094 - val_mean_absolute_error: 148.0442\n",
      "Epoch 36/200\n",
      "3209/3209 [==============================] - 0s 68us/sample - loss: 37830.7098 - mean_squared_error: 37830.7070 - mean_absolute_error: 141.2707 - val_loss: 39206.4538 - val_mean_squared_error: 39206.4453 - val_mean_absolute_error: 147.4582\n",
      "Epoch 37/200\n",
      "3209/3209 [==============================] - 0s 70us/sample - loss: 37679.1784 - mean_squared_error: 37679.1758 - mean_absolute_error: 140.6971 - val_loss: 39026.3309 - val_mean_squared_error: 39026.3320 - val_mean_absolute_error: 146.8735\n",
      "Epoch 38/200\n",
      "3209/3209 [==============================] - 0s 67us/sample - loss: 37350.4451 - mean_squared_error: 37350.4453 - mean_absolute_error: 140.4495 - val_loss: 37905.0673 - val_mean_squared_error: 37905.0625 - val_mean_absolute_error: 144.3355\n",
      "Epoch 39/200\n",
      "3209/3209 [==============================] - 0s 68us/sample - loss: 37042.8906 - mean_squared_error: 37042.8945 - mean_absolute_error: 139.0580 - val_loss: 39152.3799 - val_mean_squared_error: 39152.3789 - val_mean_absolute_error: 146.0849\n",
      "Epoch 40/200\n",
      "3209/3209 [==============================] - 0s 69us/sample - loss: 36920.2178 - mean_squared_error: 36920.2305 - mean_absolute_error: 138.7397 - val_loss: 37836.5475 - val_mean_squared_error: 37836.5469 - val_mean_absolute_error: 144.4726\n",
      "Epoch 41/200\n",
      "3209/3209 [==============================] - 0s 68us/sample - loss: 36672.3969 - mean_squared_error: 36672.3750 - mean_absolute_error: 138.2579 - val_loss: 37774.5798 - val_mean_squared_error: 37774.5820 - val_mean_absolute_error: 144.2731\n",
      "Epoch 42/200\n",
      "3209/3209 [==============================] - 0s 69us/sample - loss: 36594.7626 - mean_squared_error: 36594.7656 - mean_absolute_error: 138.0040 - val_loss: 37610.3123 - val_mean_squared_error: 37610.3125 - val_mean_absolute_error: 143.5587\n",
      "Epoch 43/200\n",
      "3209/3209 [==============================] - 0s 69us/sample - loss: 36182.5148 - mean_squared_error: 36182.5234 - mean_absolute_error: 137.4903 - val_loss: 37485.5972 - val_mean_squared_error: 37485.6016 - val_mean_absolute_error: 142.9662\n",
      "Epoch 44/200\n",
      "3209/3209 [==============================] - 0s 68us/sample - loss: 35990.9359 - mean_squared_error: 35990.9336 - mean_absolute_error: 136.7098 - val_loss: 38250.4961 - val_mean_squared_error: 38250.4961 - val_mean_absolute_error: 145.0562\n",
      "Epoch 45/200\n",
      "3209/3209 [==============================] - 0s 69us/sample - loss: 35941.3758 - mean_squared_error: 35941.3828 - mean_absolute_error: 136.6739 - val_loss: 36608.3135 - val_mean_squared_error: 36608.3125 - val_mean_absolute_error: 140.7605\n",
      "Epoch 46/200\n",
      "3209/3209 [==============================] - 0s 68us/sample - loss: 35758.2954 - mean_squared_error: 35758.2852 - mean_absolute_error: 136.0203 - val_loss: 36760.4317 - val_mean_squared_error: 36760.4258 - val_mean_absolute_error: 141.3218\n",
      "Epoch 47/200\n",
      "3209/3209 [==============================] - 0s 69us/sample - loss: 35565.1093 - mean_squared_error: 35565.1094 - mean_absolute_error: 135.8339 - val_loss: 37232.8122 - val_mean_squared_error: 37232.8086 - val_mean_absolute_error: 142.3535\n",
      "Epoch 48/200\n",
      "3209/3209 [==============================] - 0s 67us/sample - loss: 35295.7753 - mean_squared_error: 35295.7969 - mean_absolute_error: 135.1070 - val_loss: 37050.6132 - val_mean_squared_error: 37050.6133 - val_mean_absolute_error: 142.1633\n",
      "Epoch 49/200\n",
      "3209/3209 [==============================] - 0s 70us/sample - loss: 35359.5214 - mean_squared_error: 35359.5078 - mean_absolute_error: 135.1466 - val_loss: 37062.4081 - val_mean_squared_error: 37062.4141 - val_mean_absolute_error: 141.5959\n",
      "Epoch 50/200\n",
      "3209/3209 [==============================] - 0s 68us/sample - loss: 34959.3902 - mean_squared_error: 34959.3828 - mean_absolute_error: 134.5790 - val_loss: 36358.1939 - val_mean_squared_error: 36358.1953 - val_mean_absolute_error: 140.3168\n",
      "Epoch 51/200\n",
      "3209/3209 [==============================] - 0s 68us/sample - loss: 34938.4396 - mean_squared_error: 34938.4414 - mean_absolute_error: 134.2477 - val_loss: 36984.2956 - val_mean_squared_error: 36984.3008 - val_mean_absolute_error: 140.8926\n",
      "Epoch 52/200\n",
      "3209/3209 [==============================] - 0s 68us/sample - loss: 34977.6845 - mean_squared_error: 34977.6797 - mean_absolute_error: 133.7271 - val_loss: 36196.6701 - val_mean_squared_error: 36196.6719 - val_mean_absolute_error: 139.6077\n",
      "Epoch 53/200\n",
      "3209/3209 [==============================] - 0s 68us/sample - loss: 34771.9675 - mean_squared_error: 34771.9727 - mean_absolute_error: 133.7524 - val_loss: 36635.2848 - val_mean_squared_error: 36635.2812 - val_mean_absolute_error: 141.2590\n",
      "Epoch 54/200\n",
      "3209/3209 [==============================] - 0s 69us/sample - loss: 34579.4145 - mean_squared_error: 34579.4062 - mean_absolute_error: 133.4517 - val_loss: 35966.7130 - val_mean_squared_error: 35966.7109 - val_mean_absolute_error: 139.7586\n",
      "Epoch 55/200\n",
      "3209/3209 [==============================] - 0s 67us/sample - loss: 34517.0084 - mean_squared_error: 34517.0039 - mean_absolute_error: 132.9907 - val_loss: 36747.3445 - val_mean_squared_error: 36747.3438 - val_mean_absolute_error: 140.9777\n",
      "Epoch 56/200\n",
      "3209/3209 [==============================] - 0s 69us/sample - loss: 34456.3458 - mean_squared_error: 34456.3555 - mean_absolute_error: 133.7764 - val_loss: 36113.1978 - val_mean_squared_error: 36113.1953 - val_mean_absolute_error: 139.4493\n",
      "Epoch 57/200\n",
      "3209/3209 [==============================] - 0s 69us/sample - loss: 34050.7869 - mean_squared_error: 34050.7891 - mean_absolute_error: 132.0505 - val_loss: 35439.2188 - val_mean_squared_error: 35439.2148 - val_mean_absolute_error: 138.3806\n",
      "Epoch 58/200\n",
      "3209/3209 [==============================] - 0s 70us/sample - loss: 33958.9958 - mean_squared_error: 33959.0000 - mean_absolute_error: 132.2045 - val_loss: 36405.6785 - val_mean_squared_error: 36405.6797 - val_mean_absolute_error: 140.7905\n",
      "Epoch 59/200\n",
      "3209/3209 [==============================] - 0s 70us/sample - loss: 33883.6587 - mean_squared_error: 33883.6602 - mean_absolute_error: 131.9578 - val_loss: 35421.1335 - val_mean_squared_error: 35421.1250 - val_mean_absolute_error: 138.4336\n",
      "Epoch 60/200\n",
      "3209/3209 [==============================] - 0s 69us/sample - loss: 33921.9887 - mean_squared_error: 33921.9844 - mean_absolute_error: 132.0033 - val_loss: 35126.6037 - val_mean_squared_error: 35126.6016 - val_mean_absolute_error: 136.9678\n",
      "Epoch 61/200\n",
      "3209/3209 [==============================] - 0s 68us/sample - loss: 33868.6596 - mean_squared_error: 33868.6523 - mean_absolute_error: 131.3477 - val_loss: 35497.4964 - val_mean_squared_error: 35497.5078 - val_mean_absolute_error: 137.4509\n",
      "Epoch 62/200\n",
      "3209/3209 [==============================] - 0s 68us/sample - loss: 33467.0825 - mean_squared_error: 33467.0820 - mean_absolute_error: 131.0458 - val_loss: 35483.5871 - val_mean_squared_error: 35483.5820 - val_mean_absolute_error: 138.5488\n",
      "Epoch 63/200\n",
      "3209/3209 [==============================] - 0s 69us/sample - loss: 33397.2679 - mean_squared_error: 33397.2539 - mean_absolute_error: 130.8811 - val_loss: 34969.6116 - val_mean_squared_error: 34969.6133 - val_mean_absolute_error: 136.3698\n",
      "Epoch 64/200\n",
      "3209/3209 [==============================] - 0s 68us/sample - loss: 33354.9324 - mean_squared_error: 33354.9258 - mean_absolute_error: 130.3643 - val_loss: 35621.2998 - val_mean_squared_error: 35621.2969 - val_mean_absolute_error: 139.2614\n",
      "Epoch 65/200\n"
     ]
    },
    {
     "name": "stdout",
     "output_type": "stream",
     "text": [
      "3209/3209 [==============================] - 0s 68us/sample - loss: 33497.5496 - mean_squared_error: 33497.5508 - mean_absolute_error: 130.7465 - val_loss: 34627.0752 - val_mean_squared_error: 34627.0742 - val_mean_absolute_error: 135.6005\n",
      "Epoch 66/200\n",
      "3209/3209 [==============================] - 0s 68us/sample - loss: 33258.6241 - mean_squared_error: 33258.6250 - mean_absolute_error: 129.9302 - val_loss: 35389.8426 - val_mean_squared_error: 35389.8398 - val_mean_absolute_error: 138.4314\n",
      "Epoch 67/200\n",
      "3209/3209 [==============================] - 0s 67us/sample - loss: 33125.0806 - mean_squared_error: 33125.0742 - mean_absolute_error: 130.0513 - val_loss: 35545.5898 - val_mean_squared_error: 35545.5898 - val_mean_absolute_error: 137.3615\n",
      "Epoch 68/200\n",
      "3209/3209 [==============================] - 0s 68us/sample - loss: 33191.1754 - mean_squared_error: 33191.1680 - mean_absolute_error: 130.0708 - val_loss: 34601.9431 - val_mean_squared_error: 34601.9414 - val_mean_absolute_error: 135.6787\n",
      "Epoch 69/200\n",
      "3209/3209 [==============================] - 0s 68us/sample - loss: 32987.7886 - mean_squared_error: 32987.7812 - mean_absolute_error: 129.8990 - val_loss: 34996.1688 - val_mean_squared_error: 34996.1602 - val_mean_absolute_error: 137.2499\n",
      "Epoch 70/200\n",
      "3209/3209 [==============================] - 0s 69us/sample - loss: 33066.2931 - mean_squared_error: 33066.3086 - mean_absolute_error: 130.1931 - val_loss: 34231.6116 - val_mean_squared_error: 34231.6172 - val_mean_absolute_error: 135.0407\n",
      "Epoch 71/200\n",
      "3209/3209 [==============================] - 0s 69us/sample - loss: 32679.5438 - mean_squared_error: 32679.5488 - mean_absolute_error: 128.9036 - val_loss: 35912.9084 - val_mean_squared_error: 35912.9102 - val_mean_absolute_error: 139.5884\n",
      "Epoch 72/200\n",
      "3209/3209 [==============================] - 0s 70us/sample - loss: 32808.8805 - mean_squared_error: 32808.8867 - mean_absolute_error: 129.8053 - val_loss: 34791.2698 - val_mean_squared_error: 34791.2695 - val_mean_absolute_error: 135.3005\n",
      "Epoch 73/200\n",
      "3209/3209 [==============================] - 0s 71us/sample - loss: 32887.5445 - mean_squared_error: 32887.5430 - mean_absolute_error: 129.0048 - val_loss: 34568.4834 - val_mean_squared_error: 34568.4844 - val_mean_absolute_error: 136.0898\n",
      "Epoch 74/200\n",
      "3209/3209 [==============================] - 0s 68us/sample - loss: 32679.7659 - mean_squared_error: 32679.7656 - mean_absolute_error: 128.9840 - val_loss: 34682.1738 - val_mean_squared_error: 34682.1758 - val_mean_absolute_error: 137.1611\n",
      "Epoch 75/200\n",
      "3209/3209 [==============================] - 0s 70us/sample - loss: 32744.6503 - mean_squared_error: 32744.6562 - mean_absolute_error: 129.0307 - val_loss: 34835.0625 - val_mean_squared_error: 34835.0586 - val_mean_absolute_error: 136.9460\n",
      "Epoch 76/200\n",
      "3209/3209 [==============================] - 0s 67us/sample - loss: 32755.6156 - mean_squared_error: 32755.6172 - mean_absolute_error: 129.2005 - val_loss: 34855.0378 - val_mean_squared_error: 34855.0469 - val_mean_absolute_error: 137.9375\n",
      "Epoch 77/200\n",
      "3209/3209 [==============================] - 0s 68us/sample - loss: 32675.7965 - mean_squared_error: 32675.7871 - mean_absolute_error: 128.9958 - val_loss: 34945.4521 - val_mean_squared_error: 34945.4531 - val_mean_absolute_error: 137.2516\n",
      "Epoch 78/200\n",
      "3209/3209 [==============================] - 0s 69us/sample - loss: 32482.9478 - mean_squared_error: 32482.9551 - mean_absolute_error: 128.4261 - val_loss: 34343.2692 - val_mean_squared_error: 34343.2695 - val_mean_absolute_error: 134.9468\n",
      "Epoch 79/200\n",
      "3209/3209 [==============================] - 0s 68us/sample - loss: 32220.2065 - mean_squared_error: 32220.2031 - mean_absolute_error: 128.0412 - val_loss: 34361.5174 - val_mean_squared_error: 34361.5156 - val_mean_absolute_error: 135.9840\n",
      "Epoch 80/200\n",
      "3209/3209 [==============================] - 0s 69us/sample - loss: 32335.4058 - mean_squared_error: 32335.4043 - mean_absolute_error: 128.3197 - val_loss: 34611.6871 - val_mean_squared_error: 34611.6875 - val_mean_absolute_error: 135.4836\n",
      "Epoch 81/200\n",
      "3209/3209 [==============================] - 0s 69us/sample - loss: 32401.1553 - mean_squared_error: 32401.1562 - mean_absolute_error: 128.9467 - val_loss: 34713.5966 - val_mean_squared_error: 34713.5898 - val_mean_absolute_error: 136.2480\n",
      "Epoch 82/200\n",
      "3209/3209 [==============================] - 0s 68us/sample - loss: 32247.9102 - mean_squared_error: 32247.9199 - mean_absolute_error: 127.6927 - val_loss: 34671.2060 - val_mean_squared_error: 34671.2070 - val_mean_absolute_error: 136.8906\n",
      "Epoch 83/200\n",
      "3209/3209 [==============================] - 0s 69us/sample - loss: 32133.6748 - mean_squared_error: 32133.6797 - mean_absolute_error: 127.6596 - val_loss: 34242.7639 - val_mean_squared_error: 34242.7656 - val_mean_absolute_error: 136.0190\n",
      "Epoch 84/200\n",
      "3209/3209 [==============================] - 0s 71us/sample - loss: 31962.6999 - mean_squared_error: 31962.6973 - mean_absolute_error: 127.8162 - val_loss: 35253.6664 - val_mean_squared_error: 35253.6602 - val_mean_absolute_error: 138.5582\n",
      "Epoch 85/200\n",
      "3209/3209 [==============================] - 0s 70us/sample - loss: 31981.4438 - mean_squared_error: 31981.4277 - mean_absolute_error: 127.3134 - val_loss: 34049.4174 - val_mean_squared_error: 34049.4141 - val_mean_absolute_error: 134.8649\n",
      "Epoch 86/200\n",
      "3209/3209 [==============================] - 0s 70us/sample - loss: 32099.2324 - mean_squared_error: 32099.2344 - mean_absolute_error: 127.6896 - val_loss: 34109.1311 - val_mean_squared_error: 34109.1289 - val_mean_absolute_error: 135.5238\n",
      "Epoch 87/200\n",
      "3209/3209 [==============================] - 0s 68us/sample - loss: 32033.4068 - mean_squared_error: 32033.4102 - mean_absolute_error: 127.8242 - val_loss: 34596.8151 - val_mean_squared_error: 34596.8125 - val_mean_absolute_error: 136.7282\n",
      "Epoch 88/200\n",
      "3209/3209 [==============================] - 0s 67us/sample - loss: 31807.4682 - mean_squared_error: 31807.4746 - mean_absolute_error: 126.9085 - val_loss: 34902.2366 - val_mean_squared_error: 34902.2344 - val_mean_absolute_error: 138.0146\n",
      "Epoch 89/200\n",
      "3209/3209 [==============================] - 0s 69us/sample - loss: 32059.7185 - mean_squared_error: 32059.7129 - mean_absolute_error: 127.3238 - val_loss: 33719.3227 - val_mean_squared_error: 33719.3164 - val_mean_absolute_error: 134.3265\n",
      "Epoch 90/200\n",
      "3209/3209 [==============================] - 0s 68us/sample - loss: 31714.9926 - mean_squared_error: 31714.9961 - mean_absolute_error: 126.6038 - val_loss: 35232.5070 - val_mean_squared_error: 35232.5039 - val_mean_absolute_error: 138.5496\n",
      "Epoch 91/200\n",
      "3209/3209 [==============================] - 0s 69us/sample - loss: 32075.0341 - mean_squared_error: 32075.0312 - mean_absolute_error: 127.5571 - val_loss: 34682.9445 - val_mean_squared_error: 34682.9414 - val_mean_absolute_error: 137.6112\n",
      "Epoch 92/200\n",
      "3209/3209 [==============================] - 0s 68us/sample - loss: 31776.3893 - mean_squared_error: 31776.4043 - mean_absolute_error: 127.1348 - val_loss: 35108.3207 - val_mean_squared_error: 35108.3203 - val_mean_absolute_error: 139.1188\n",
      "Epoch 93/200\n",
      "3209/3209 [==============================] - 0s 69us/sample - loss: 31919.0824 - mean_squared_error: 31919.0801 - mean_absolute_error: 127.1447 - val_loss: 34486.6792 - val_mean_squared_error: 34486.6758 - val_mean_absolute_error: 136.2309\n",
      "Epoch 94/200\n",
      "3209/3209 [==============================] - 0s 69us/sample - loss: 31672.7701 - mean_squared_error: 31672.7598 - mean_absolute_error: 126.6472 - val_loss: 33707.3456 - val_mean_squared_error: 33707.3438 - val_mean_absolute_error: 134.4935\n",
      "Epoch 95/200\n",
      "3209/3209 [==============================] - 0s 68us/sample - loss: 31672.5511 - mean_squared_error: 31672.5566 - mean_absolute_error: 126.5940 - val_loss: 33320.7900 - val_mean_squared_error: 33320.7969 - val_mean_absolute_error: 133.3274\n",
      "Epoch 96/200\n",
      "3209/3209 [==============================] - 0s 68us/sample - loss: 31604.3499 - mean_squared_error: 31604.3555 - mean_absolute_error: 126.1730 - val_loss: 34766.8970 - val_mean_squared_error: 34766.8984 - val_mean_absolute_error: 139.1470\n",
      "Epoch 97/200\n"
     ]
    },
    {
     "name": "stdout",
     "output_type": "stream",
     "text": [
      "3209/3209 [==============================] - 0s 69us/sample - loss: 31622.5068 - mean_squared_error: 31622.5020 - mean_absolute_error: 126.3717 - val_loss: 34165.0418 - val_mean_squared_error: 34165.0391 - val_mean_absolute_error: 135.2398\n",
      "Epoch 98/200\n",
      "3209/3209 [==============================] - 0s 69us/sample - loss: 31511.7434 - mean_squared_error: 31511.7383 - mean_absolute_error: 126.2034 - val_loss: 33631.9436 - val_mean_squared_error: 33631.9375 - val_mean_absolute_error: 134.9380\n",
      "Epoch 99/200\n",
      "3209/3209 [==============================] - 0s 67us/sample - loss: 31698.6823 - mean_squared_error: 31698.6875 - mean_absolute_error: 126.6806 - val_loss: 33338.5247 - val_mean_squared_error: 33338.5273 - val_mean_absolute_error: 132.8286\n",
      "Epoch 100/200\n",
      "3209/3209 [==============================] - 0s 67us/sample - loss: 31304.9256 - mean_squared_error: 31304.9277 - mean_absolute_error: 125.6028 - val_loss: 33883.4469 - val_mean_squared_error: 33883.4453 - val_mean_absolute_error: 134.8380\n",
      "Epoch 101/200\n",
      "3209/3209 [==============================] - 0s 68us/sample - loss: 31476.8038 - mean_squared_error: 31476.7988 - mean_absolute_error: 126.0979 - val_loss: 34713.0929 - val_mean_squared_error: 34713.0977 - val_mean_absolute_error: 137.8077\n",
      "Epoch 102/200\n",
      "3209/3209 [==============================] - 0s 68us/sample - loss: 31447.9571 - mean_squared_error: 31447.9648 - mean_absolute_error: 125.8167 - val_loss: 34324.2179 - val_mean_squared_error: 34324.2148 - val_mean_absolute_error: 135.4909\n",
      "Epoch 103/200\n",
      "3209/3209 [==============================] - 0s 68us/sample - loss: 31212.1598 - mean_squared_error: 31212.1699 - mean_absolute_error: 125.7471 - val_loss: 34573.2100 - val_mean_squared_error: 34573.2070 - val_mean_absolute_error: 135.3645\n",
      "Epoch 104/200\n",
      "3209/3209 [==============================] - 0s 68us/sample - loss: 31380.4849 - mean_squared_error: 31380.4922 - mean_absolute_error: 126.1874 - val_loss: 33995.4455 - val_mean_squared_error: 33995.4453 - val_mean_absolute_error: 135.0927\n",
      "Epoch 105/200\n",
      "3209/3209 [==============================] - 0s 70us/sample - loss: 31250.7334 - mean_squared_error: 31250.7344 - mean_absolute_error: 125.5734 - val_loss: 33823.5189 - val_mean_squared_error: 33823.5234 - val_mean_absolute_error: 134.7872\n",
      "Epoch 106/200\n",
      "3209/3209 [==============================] - 0s 68us/sample - loss: 31147.2355 - mean_squared_error: 31147.2383 - mean_absolute_error: 125.1404 - val_loss: 33528.0656 - val_mean_squared_error: 33528.0781 - val_mean_absolute_error: 133.6804\n",
      "Epoch 107/200\n",
      "3209/3209 [==============================] - 0s 68us/sample - loss: 31336.1280 - mean_squared_error: 31336.1328 - mean_absolute_error: 125.9666 - val_loss: 34252.3272 - val_mean_squared_error: 34252.3281 - val_mean_absolute_error: 134.8122\n",
      "Epoch 108/200\n",
      "3209/3209 [==============================] - 0s 67us/sample - loss: 31126.6903 - mean_squared_error: 31126.6934 - mean_absolute_error: 124.9487 - val_loss: 33006.4077 - val_mean_squared_error: 33006.4102 - val_mean_absolute_error: 132.6741\n",
      "Epoch 109/200\n",
      "3209/3209 [==============================] - 0s 68us/sample - loss: 31039.0801 - mean_squared_error: 31039.0801 - mean_absolute_error: 124.9501 - val_loss: 33505.8836 - val_mean_squared_error: 33505.8867 - val_mean_absolute_error: 133.9014\n",
      "Epoch 110/200\n",
      "3209/3209 [==============================] - 0s 67us/sample - loss: 31248.7540 - mean_squared_error: 31248.7480 - mean_absolute_error: 125.5583 - val_loss: 34214.5718 - val_mean_squared_error: 34214.5703 - val_mean_absolute_error: 137.2423\n",
      "Epoch 111/200\n",
      "3209/3209 [==============================] - 0s 68us/sample - loss: 31112.6043 - mean_squared_error: 31112.6035 - mean_absolute_error: 125.2373 - val_loss: 33185.8728 - val_mean_squared_error: 33185.8711 - val_mean_absolute_error: 132.3925\n",
      "Epoch 112/200\n",
      "3209/3209 [==============================] - 0s 69us/sample - loss: 30984.8696 - mean_squared_error: 30984.8730 - mean_absolute_error: 125.2328 - val_loss: 33582.3837 - val_mean_squared_error: 33582.3828 - val_mean_absolute_error: 133.7220\n",
      "Epoch 113/200\n",
      "3209/3209 [==============================] - 0s 68us/sample - loss: 31062.5760 - mean_squared_error: 31062.5742 - mean_absolute_error: 125.4760 - val_loss: 33591.6138 - val_mean_squared_error: 33591.6133 - val_mean_absolute_error: 134.7401\n",
      "Epoch 114/200\n",
      "3209/3209 [==============================] - 0s 68us/sample - loss: 30944.8004 - mean_squared_error: 30944.8047 - mean_absolute_error: 124.8922 - val_loss: 33794.0322 - val_mean_squared_error: 33794.0312 - val_mean_absolute_error: 134.1355\n",
      "Epoch 115/200\n",
      "3209/3209 [==============================] - 0s 66us/sample - loss: 30842.5714 - mean_squared_error: 30842.5820 - mean_absolute_error: 124.6648 - val_loss: 33395.0604 - val_mean_squared_error: 33395.0625 - val_mean_absolute_error: 134.2574\n",
      "Epoch 116/200\n",
      "3209/3209 [==============================] - 0s 68us/sample - loss: 30917.9309 - mean_squared_error: 30917.9336 - mean_absolute_error: 124.6280 - val_loss: 34045.3726 - val_mean_squared_error: 34045.3711 - val_mean_absolute_error: 136.0427\n",
      "Epoch 117/200\n",
      "3209/3209 [==============================] - 0s 70us/sample - loss: 30660.4394 - mean_squared_error: 30660.4473 - mean_absolute_error: 124.2248 - val_loss: 33967.8748 - val_mean_squared_error: 33967.8711 - val_mean_absolute_error: 135.7608\n",
      "Epoch 118/200\n",
      "3209/3209 [==============================] - 0s 67us/sample - loss: 30935.0548 - mean_squared_error: 30935.0469 - mean_absolute_error: 125.1768 - val_loss: 33968.3175 - val_mean_squared_error: 33968.3125 - val_mean_absolute_error: 134.3559\n",
      "Epoch 119/200\n",
      "3209/3209 [==============================] - 0s 69us/sample - loss: 30860.8006 - mean_squared_error: 30860.8047 - mean_absolute_error: 124.5283 - val_loss: 33477.4532 - val_mean_squared_error: 33477.4570 - val_mean_absolute_error: 134.5395\n",
      "Epoch 120/200\n",
      "3209/3209 [==============================] - 0s 67us/sample - loss: 30655.2030 - mean_squared_error: 30655.1855 - mean_absolute_error: 124.6563 - val_loss: 33867.6616 - val_mean_squared_error: 33867.6523 - val_mean_absolute_error: 133.8619\n",
      "Epoch 121/200\n",
      "3209/3209 [==============================] - 0s 67us/sample - loss: 30737.2629 - mean_squared_error: 30737.2656 - mean_absolute_error: 124.7818 - val_loss: 32768.2154 - val_mean_squared_error: 32768.2148 - val_mean_absolute_error: 132.1479\n",
      "Epoch 122/200\n",
      "3209/3209 [==============================] - 0s 69us/sample - loss: 30559.3077 - mean_squared_error: 30559.3066 - mean_absolute_error: 124.1371 - val_loss: 33609.6617 - val_mean_squared_error: 33609.6680 - val_mean_absolute_error: 134.9298\n",
      "Epoch 123/200\n",
      "3209/3209 [==============================] - 0s 68us/sample - loss: 30497.7804 - mean_squared_error: 30497.7793 - mean_absolute_error: 124.5260 - val_loss: 35127.8959 - val_mean_squared_error: 35127.8984 - val_mean_absolute_error: 138.2413\n",
      "Epoch 124/200\n",
      "3209/3209 [==============================] - 0s 67us/sample - loss: 30626.3819 - mean_squared_error: 30626.3789 - mean_absolute_error: 124.5543 - val_loss: 32953.0683 - val_mean_squared_error: 32953.0664 - val_mean_absolute_error: 132.1831\n",
      "Epoch 125/200\n",
      "3209/3209 [==============================] - 0s 68us/sample - loss: 30613.2866 - mean_squared_error: 30613.2852 - mean_absolute_error: 124.1428 - val_loss: 33628.2455 - val_mean_squared_error: 33628.2461 - val_mean_absolute_error: 134.4874\n",
      "Epoch 126/200\n",
      "3209/3209 [==============================] - 0s 67us/sample - loss: 30544.8557 - mean_squared_error: 30544.8496 - mean_absolute_error: 124.6094 - val_loss: 33248.6299 - val_mean_squared_error: 33248.6289 - val_mean_absolute_error: 132.6587\n",
      "Epoch 127/200\n",
      "3209/3209 [==============================] - 0s 69us/sample - loss: 30502.4241 - mean_squared_error: 30502.4277 - mean_absolute_error: 123.5326 - val_loss: 33629.7516 - val_mean_squared_error: 33629.7500 - val_mean_absolute_error: 135.5159\n",
      "Epoch 128/200\n",
      "3209/3209 [==============================] - 0s 68us/sample - loss: 30532.9488 - mean_squared_error: 30532.9453 - mean_absolute_error: 124.1129 - val_loss: 33537.5530 - val_mean_squared_error: 33537.5586 - val_mean_absolute_error: 135.3681\n",
      "Epoch 129/200\n"
     ]
    },
    {
     "name": "stdout",
     "output_type": "stream",
     "text": [
      "3209/3209 [==============================] - 0s 67us/sample - loss: 30636.4991 - mean_squared_error: 30636.4980 - mean_absolute_error: 124.2152 - val_loss: 33014.6684 - val_mean_squared_error: 33014.6719 - val_mean_absolute_error: 132.3696\n",
      "Epoch 130/200\n",
      "3209/3209 [==============================] - 0s 68us/sample - loss: 30241.3753 - mean_squared_error: 30241.3906 - mean_absolute_error: 123.5135 - val_loss: 33879.8306 - val_mean_squared_error: 33879.8320 - val_mean_absolute_error: 135.1958\n",
      "Epoch 131/200\n",
      "3209/3209 [==============================] - 0s 69us/sample - loss: 30426.2835 - mean_squared_error: 30426.2910 - mean_absolute_error: 124.1749 - val_loss: 33232.4685 - val_mean_squared_error: 33232.4727 - val_mean_absolute_error: 134.3123\n",
      "Epoch 132/200\n",
      "3209/3209 [==============================] - 0s 68us/sample - loss: 30261.4524 - mean_squared_error: 30261.4492 - mean_absolute_error: 123.2992 - val_loss: 32880.1284 - val_mean_squared_error: 32880.1289 - val_mean_absolute_error: 132.9097\n",
      "Epoch 133/200\n",
      "3209/3209 [==============================] - 0s 68us/sample - loss: 30354.1415 - mean_squared_error: 30354.1348 - mean_absolute_error: 123.7481 - val_loss: 33012.6821 - val_mean_squared_error: 33012.6875 - val_mean_absolute_error: 132.8660\n",
      "Epoch 134/200\n",
      "3209/3209 [==============================] - 0s 68us/sample - loss: 30330.9330 - mean_squared_error: 30330.9375 - mean_absolute_error: 123.5963 - val_loss: 33154.0042 - val_mean_squared_error: 33154.0000 - val_mean_absolute_error: 132.0023\n",
      "Epoch 135/200\n",
      "3209/3209 [==============================] - 0s 68us/sample - loss: 30483.4729 - mean_squared_error: 30483.4727 - mean_absolute_error: 124.0224 - val_loss: 33732.9797 - val_mean_squared_error: 33732.9766 - val_mean_absolute_error: 135.2666\n",
      "Epoch 136/200\n",
      "3209/3209 [==============================] - 0s 68us/sample - loss: 30737.9161 - mean_squared_error: 30737.9141 - mean_absolute_error: 124.6863 - val_loss: 32914.1987 - val_mean_squared_error: 32914.1953 - val_mean_absolute_error: 133.1842\n",
      "Epoch 137/200\n",
      "3209/3209 [==============================] - 0s 68us/sample - loss: 30165.3350 - mean_squared_error: 30165.3457 - mean_absolute_error: 123.4668 - val_loss: 34173.8410 - val_mean_squared_error: 34173.8477 - val_mean_absolute_error: 136.5545\n",
      "Epoch 138/200\n",
      "3209/3209 [==============================] - 0s 68us/sample - loss: 30308.0353 - mean_squared_error: 30308.0312 - mean_absolute_error: 123.5636 - val_loss: 33196.1695 - val_mean_squared_error: 33196.1641 - val_mean_absolute_error: 132.5171\n",
      "Epoch 139/200\n",
      "3209/3209 [==============================] - 0s 68us/sample - loss: 30118.2478 - mean_squared_error: 30118.2422 - mean_absolute_error: 123.4210 - val_loss: 33528.1886 - val_mean_squared_error: 33528.1875 - val_mean_absolute_error: 133.5647\n",
      "Epoch 140/200\n",
      "3209/3209 [==============================] - 0s 67us/sample - loss: 30185.1116 - mean_squared_error: 30185.1172 - mean_absolute_error: 123.3271 - val_loss: 33464.9313 - val_mean_squared_error: 33464.9375 - val_mean_absolute_error: 133.1776\n",
      "Epoch 141/200\n",
      "3209/3209 [==============================] - 0s 68us/sample - loss: 30043.9968 - mean_squared_error: 30044.0039 - mean_absolute_error: 123.5301 - val_loss: 33478.9781 - val_mean_squared_error: 33478.9805 - val_mean_absolute_error: 135.2634\n",
      "Epoch 142/200\n",
      "3209/3209 [==============================] - 0s 68us/sample - loss: 30234.7190 - mean_squared_error: 30234.7129 - mean_absolute_error: 123.5914 - val_loss: 33184.3025 - val_mean_squared_error: 33184.3047 - val_mean_absolute_error: 134.0739\n",
      "Epoch 143/200\n",
      "3209/3209 [==============================] - 0s 68us/sample - loss: 30106.6784 - mean_squared_error: 30106.6758 - mean_absolute_error: 122.9588 - val_loss: 33397.7760 - val_mean_squared_error: 33397.7773 - val_mean_absolute_error: 134.0900\n",
      "Epoch 144/200\n",
      "3209/3209 [==============================] - 0s 74us/sample - loss: 30072.9407 - mean_squared_error: 30072.9316 - mean_absolute_error: 123.2052 - val_loss: 33755.2865 - val_mean_squared_error: 33755.2930 - val_mean_absolute_error: 135.1736\n",
      "Epoch 145/200\n",
      "3209/3209 [==============================] - 0s 69us/sample - loss: 30093.9539 - mean_squared_error: 30093.9531 - mean_absolute_error: 122.7806 - val_loss: 33037.4733 - val_mean_squared_error: 33037.4727 - val_mean_absolute_error: 133.3476\n",
      "Epoch 146/200\n",
      "3209/3209 [==============================] - 0s 70us/sample - loss: 30084.9326 - mean_squared_error: 30084.9336 - mean_absolute_error: 123.0918 - val_loss: 33037.9895 - val_mean_squared_error: 33037.9883 - val_mean_absolute_error: 133.3833\n",
      "Epoch 147/200\n",
      "3209/3209 [==============================] - 0s 68us/sample - loss: 30022.8959 - mean_squared_error: 30022.9062 - mean_absolute_error: 122.8730 - val_loss: 33512.9257 - val_mean_squared_error: 33512.9258 - val_mean_absolute_error: 135.2204\n",
      "Epoch 148/200\n",
      "3209/3209 [==============================] - 0s 69us/sample - loss: 30076.3196 - mean_squared_error: 30076.3203 - mean_absolute_error: 122.9797 - val_loss: 32617.5734 - val_mean_squared_error: 32617.5742 - val_mean_absolute_error: 133.0297\n",
      "Epoch 149/200\n",
      "3209/3209 [==============================] - 0s 68us/sample - loss: 29854.4281 - mean_squared_error: 29854.4199 - mean_absolute_error: 122.5890 - val_loss: 33805.4585 - val_mean_squared_error: 33805.4609 - val_mean_absolute_error: 134.7798\n",
      "Epoch 150/200\n",
      "3209/3209 [==============================] - 0s 68us/sample - loss: 30082.5817 - mean_squared_error: 30082.5801 - mean_absolute_error: 122.7463 - val_loss: 32661.6897 - val_mean_squared_error: 32661.6934 - val_mean_absolute_error: 132.0533\n",
      "Epoch 151/200\n",
      "3209/3209 [==============================] - 0s 68us/sample - loss: 30131.4798 - mean_squared_error: 30131.4902 - mean_absolute_error: 123.4789 - val_loss: 33100.1829 - val_mean_squared_error: 33100.1797 - val_mean_absolute_error: 133.6601\n",
      "Epoch 152/200\n",
      "3209/3209 [==============================] - 0s 68us/sample - loss: 30034.7321 - mean_squared_error: 30034.7324 - mean_absolute_error: 122.5733 - val_loss: 32410.6764 - val_mean_squared_error: 32410.6816 - val_mean_absolute_error: 132.4430\n",
      "Epoch 153/200\n",
      "3209/3209 [==============================] - 0s 70us/sample - loss: 30291.1388 - mean_squared_error: 30291.1367 - mean_absolute_error: 123.1319 - val_loss: 34116.5420 - val_mean_squared_error: 34116.5430 - val_mean_absolute_error: 136.6976\n",
      "Epoch 154/200\n",
      "3209/3209 [==============================] - 0s 68us/sample - loss: 30082.8170 - mean_squared_error: 30082.8125 - mean_absolute_error: 122.8341 - val_loss: 35300.4827 - val_mean_squared_error: 35300.4805 - val_mean_absolute_error: 139.3005\n",
      "Epoch 155/200\n",
      "3209/3209 [==============================] - 0s 68us/sample - loss: 30076.0866 - mean_squared_error: 30076.0918 - mean_absolute_error: 123.0987 - val_loss: 33188.0587 - val_mean_squared_error: 33188.0586 - val_mean_absolute_error: 133.6667\n",
      "Epoch 156/200\n",
      "3209/3209 [==============================] - 0s 69us/sample - loss: 29707.6089 - mean_squared_error: 29707.6055 - mean_absolute_error: 122.3008 - val_loss: 33373.5892 - val_mean_squared_error: 33373.5859 - val_mean_absolute_error: 135.1869\n",
      "Epoch 157/200\n",
      "3209/3209 [==============================] - 0s 71us/sample - loss: 29866.2065 - mean_squared_error: 29866.2090 - mean_absolute_error: 122.9217 - val_loss: 32860.4390 - val_mean_squared_error: 32860.4414 - val_mean_absolute_error: 134.0472\n",
      "Epoch 158/200\n",
      "3209/3209 [==============================] - 0s 67us/sample - loss: 29905.9610 - mean_squared_error: 29905.9570 - mean_absolute_error: 122.5872 - val_loss: 32766.5659 - val_mean_squared_error: 32766.5645 - val_mean_absolute_error: 131.6037\n",
      "Epoch 159/200\n",
      "3209/3209 [==============================] - 0s 69us/sample - loss: 29838.7392 - mean_squared_error: 29838.7383 - mean_absolute_error: 122.2899 - val_loss: 33064.3117 - val_mean_squared_error: 33064.3125 - val_mean_absolute_error: 132.7077\n",
      "Epoch 160/200\n",
      "3209/3209 [==============================] - 0s 68us/sample - loss: 30074.3506 - mean_squared_error: 30074.3477 - mean_absolute_error: 122.9704 - val_loss: 32311.2130 - val_mean_squared_error: 32311.2129 - val_mean_absolute_error: 131.7220\n",
      "Epoch 161/200\n"
     ]
    },
    {
     "name": "stdout",
     "output_type": "stream",
     "text": [
      "3209/3209 [==============================] - 0s 67us/sample - loss: 29759.4014 - mean_squared_error: 29759.4043 - mean_absolute_error: 122.3847 - val_loss: 32649.9614 - val_mean_squared_error: 32649.9648 - val_mean_absolute_error: 131.9965\n",
      "Epoch 162/200\n",
      "3209/3209 [==============================] - 0s 68us/sample - loss: 29863.1400 - mean_squared_error: 29863.1367 - mean_absolute_error: 122.3559 - val_loss: 32485.4133 - val_mean_squared_error: 32485.4102 - val_mean_absolute_error: 132.1126\n",
      "Epoch 163/200\n",
      "3209/3209 [==============================] - 0s 68us/sample - loss: 29927.1888 - mean_squared_error: 29927.1895 - mean_absolute_error: 122.3579 - val_loss: 32804.2344 - val_mean_squared_error: 32804.2383 - val_mean_absolute_error: 131.8851\n",
      "Epoch 164/200\n",
      "3209/3209 [==============================] - 0s 68us/sample - loss: 29829.5425 - mean_squared_error: 29829.5254 - mean_absolute_error: 122.4783 - val_loss: 33260.5881 - val_mean_squared_error: 33260.5820 - val_mean_absolute_error: 133.9870\n",
      "Epoch 165/200\n",
      "3209/3209 [==============================] - 0s 68us/sample - loss: 30376.6859 - mean_squared_error: 30376.6914 - mean_absolute_error: 123.4503 - val_loss: 34002.0061 - val_mean_squared_error: 34002.0039 - val_mean_absolute_error: 133.9502\n",
      "Epoch 166/200\n",
      "3209/3209 [==============================] - 0s 69us/sample - loss: 29903.0501 - mean_squared_error: 29903.0527 - mean_absolute_error: 122.7006 - val_loss: 32893.9092 - val_mean_squared_error: 32893.9062 - val_mean_absolute_error: 132.9928\n",
      "Epoch 167/200\n",
      "3209/3209 [==============================] - 0s 67us/sample - loss: 29800.7889 - mean_squared_error: 29800.7773 - mean_absolute_error: 122.0329 - val_loss: 32678.8070 - val_mean_squared_error: 32678.8086 - val_mean_absolute_error: 133.1178\n",
      "Epoch 168/200\n",
      "3209/3209 [==============================] - 0s 68us/sample - loss: 29714.1419 - mean_squared_error: 29714.1445 - mean_absolute_error: 121.9544 - val_loss: 32729.6511 - val_mean_squared_error: 32729.6543 - val_mean_absolute_error: 132.8960\n",
      "Epoch 169/200\n",
      "3209/3209 [==============================] - 0s 69us/sample - loss: 29749.9313 - mean_squared_error: 29749.9434 - mean_absolute_error: 122.5749 - val_loss: 32499.2900 - val_mean_squared_error: 32499.2871 - val_mean_absolute_error: 131.9463\n",
      "Epoch 170/200\n",
      "3209/3209 [==============================] - 0s 67us/sample - loss: 29999.7611 - mean_squared_error: 29999.7676 - mean_absolute_error: 123.0682 - val_loss: 32918.0047 - val_mean_squared_error: 32918.0078 - val_mean_absolute_error: 132.7048\n",
      "Epoch 171/200\n",
      "3209/3209 [==============================] - 0s 68us/sample - loss: 29692.0484 - mean_squared_error: 29692.0508 - mean_absolute_error: 121.7519 - val_loss: 32965.5815 - val_mean_squared_error: 32965.5859 - val_mean_absolute_error: 132.8806\n",
      "Epoch 172/200\n",
      "3209/3209 [==============================] - 0s 71us/sample - loss: 29643.6335 - mean_squared_error: 29643.6250 - mean_absolute_error: 121.8723 - val_loss: 32589.6069 - val_mean_squared_error: 32589.6074 - val_mean_absolute_error: 131.8342\n",
      "Epoch 173/200\n",
      "3209/3209 [==============================] - 0s 69us/sample - loss: 29676.5036 - mean_squared_error: 29676.5117 - mean_absolute_error: 122.0101 - val_loss: 32643.7350 - val_mean_squared_error: 32643.7344 - val_mean_absolute_error: 133.5144\n",
      "Epoch 174/200\n",
      "3209/3209 [==============================] - 0s 67us/sample - loss: 29543.7052 - mean_squared_error: 29543.7051 - mean_absolute_error: 121.6824 - val_loss: 32478.9990 - val_mean_squared_error: 32479.0039 - val_mean_absolute_error: 130.8238\n",
      "Epoch 175/200\n",
      "3209/3209 [==============================] - 0s 68us/sample - loss: 29521.1904 - mean_squared_error: 29521.1895 - mean_absolute_error: 121.5222 - val_loss: 32944.0501 - val_mean_squared_error: 32944.0469 - val_mean_absolute_error: 131.6141\n",
      "Epoch 176/200\n",
      "3209/3209 [==============================] - 0s 69us/sample - loss: 29492.2607 - mean_squared_error: 29492.2695 - mean_absolute_error: 121.7700 - val_loss: 32423.8718 - val_mean_squared_error: 32423.8711 - val_mean_absolute_error: 132.3726\n",
      "Epoch 177/200\n",
      "3209/3209 [==============================] - 0s 70us/sample - loss: 29628.8093 - mean_squared_error: 29628.7988 - mean_absolute_error: 121.9978 - val_loss: 33120.5629 - val_mean_squared_error: 33120.5664 - val_mean_absolute_error: 132.9568\n",
      "Epoch 178/200\n",
      "3209/3209 [==============================] - 0s 69us/sample - loss: 29713.5302 - mean_squared_error: 29713.5234 - mean_absolute_error: 121.8764 - val_loss: 32337.8930 - val_mean_squared_error: 32337.8945 - val_mean_absolute_error: 130.9647\n",
      "Epoch 179/200\n",
      "3209/3209 [==============================] - 0s 69us/sample - loss: 29365.6130 - mean_squared_error: 29365.6133 - mean_absolute_error: 121.0259 - val_loss: 32863.8114 - val_mean_squared_error: 32863.8164 - val_mean_absolute_error: 133.3013\n",
      "Epoch 180/200\n",
      "3209/3209 [==============================] - 0s 70us/sample - loss: 29524.8960 - mean_squared_error: 29524.9004 - mean_absolute_error: 121.7262 - val_loss: 32690.9468 - val_mean_squared_error: 32690.9473 - val_mean_absolute_error: 132.1030\n",
      "Epoch 181/200\n",
      "3209/3209 [==============================] - 0s 69us/sample - loss: 29407.6576 - mean_squared_error: 29407.6465 - mean_absolute_error: 121.5904 - val_loss: 33138.6562 - val_mean_squared_error: 33138.6562 - val_mean_absolute_error: 131.8969\n",
      "Epoch 182/200\n",
      "3209/3209 [==============================] - 0s 68us/sample - loss: 29518.1476 - mean_squared_error: 29518.1523 - mean_absolute_error: 121.5260 - val_loss: 33205.4483 - val_mean_squared_error: 33205.4414 - val_mean_absolute_error: 134.5979\n",
      "Epoch 183/200\n",
      "3209/3209 [==============================] - 0s 70us/sample - loss: 29427.6605 - mean_squared_error: 29427.6523 - mean_absolute_error: 121.5724 - val_loss: 32187.2008 - val_mean_squared_error: 32187.1973 - val_mean_absolute_error: 131.8613\n",
      "Epoch 184/200\n",
      "3209/3209 [==============================] - 0s 68us/sample - loss: 29283.2482 - mean_squared_error: 29283.2402 - mean_absolute_error: 121.4687 - val_loss: 32827.4455 - val_mean_squared_error: 32827.4414 - val_mean_absolute_error: 133.3502\n",
      "Epoch 185/200\n",
      "3209/3209 [==============================] - 0s 68us/sample - loss: 29254.1148 - mean_squared_error: 29254.1172 - mean_absolute_error: 121.1000 - val_loss: 33287.4765 - val_mean_squared_error: 33287.4688 - val_mean_absolute_error: 134.2600\n",
      "Epoch 186/200\n",
      "3209/3209 [==============================] - 0s 69us/sample - loss: 29425.2341 - mean_squared_error: 29425.2441 - mean_absolute_error: 121.6687 - val_loss: 32893.8174 - val_mean_squared_error: 32893.8164 - val_mean_absolute_error: 132.3710\n",
      "Epoch 187/200\n",
      "3209/3209 [==============================] - 0s 69us/sample - loss: 29280.3358 - mean_squared_error: 29280.3438 - mean_absolute_error: 121.3423 - val_loss: 32484.7567 - val_mean_squared_error: 32484.7637 - val_mean_absolute_error: 131.2571\n",
      "Epoch 188/200\n",
      "3209/3209 [==============================] - 0s 69us/sample - loss: 29326.5894 - mean_squared_error: 29326.5957 - mean_absolute_error: 121.1993 - val_loss: 32991.3652 - val_mean_squared_error: 32991.3633 - val_mean_absolute_error: 132.2327\n",
      "Epoch 189/200\n",
      "3209/3209 [==============================] - 0s 69us/sample - loss: 29250.0758 - mean_squared_error: 29250.0645 - mean_absolute_error: 121.2018 - val_loss: 32467.7930 - val_mean_squared_error: 32467.7891 - val_mean_absolute_error: 131.8569\n",
      "Epoch 190/200\n",
      "3209/3209 [==============================] - 0s 68us/sample - loss: 29307.0125 - mean_squared_error: 29307.0117 - mean_absolute_error: 120.8647 - val_loss: 32759.5034 - val_mean_squared_error: 32759.5020 - val_mean_absolute_error: 132.3443\n",
      "Epoch 191/200\n",
      "3209/3209 [==============================] - 0s 67us/sample - loss: 29368.7739 - mean_squared_error: 29368.7754 - mean_absolute_error: 121.3899 - val_loss: 32924.8270 - val_mean_squared_error: 32924.8203 - val_mean_absolute_error: 132.0978\n",
      "Epoch 192/200\n",
      "3209/3209 [==============================] - 0s 68us/sample - loss: 29108.0096 - mean_squared_error: 29108.0059 - mean_absolute_error: 120.6072 - val_loss: 32699.8528 - val_mean_squared_error: 32699.8535 - val_mean_absolute_error: 133.0131\n",
      "Epoch 193/200\n"
     ]
    },
    {
     "name": "stdout",
     "output_type": "stream",
     "text": [
      "3209/3209 [==============================] - 0s 69us/sample - loss: 29278.0920 - mean_squared_error: 29278.1055 - mean_absolute_error: 120.9008 - val_loss: 32633.5119 - val_mean_squared_error: 32633.5078 - val_mean_absolute_error: 132.2570\n",
      "Epoch 194/200\n",
      "3209/3209 [==============================] - 0s 69us/sample - loss: 29214.2248 - mean_squared_error: 29214.2344 - mean_absolute_error: 120.9377 - val_loss: 32740.3705 - val_mean_squared_error: 32740.3711 - val_mean_absolute_error: 132.7623\n",
      "Epoch 195/200\n",
      "3209/3209 [==============================] - 0s 71us/sample - loss: 29243.3718 - mean_squared_error: 29243.3750 - mean_absolute_error: 120.7636 - val_loss: 32786.5990 - val_mean_squared_error: 32786.5977 - val_mean_absolute_error: 133.1527\n",
      "Epoch 196/200\n",
      "3209/3209 [==============================] - 0s 69us/sample - loss: 29240.2709 - mean_squared_error: 29240.2676 - mean_absolute_error: 120.8488 - val_loss: 32739.3801 - val_mean_squared_error: 32739.3828 - val_mean_absolute_error: 132.1092\n",
      "Epoch 197/200\n",
      "3209/3209 [==============================] - 0s 69us/sample - loss: 29321.0960 - mean_squared_error: 29321.1074 - mean_absolute_error: 121.0159 - val_loss: 33361.8460 - val_mean_squared_error: 33361.8516 - val_mean_absolute_error: 133.6657\n",
      "Epoch 198/200\n",
      "3209/3209 [==============================] - 0s 69us/sample - loss: 29163.8404 - mean_squared_error: 29163.8516 - mean_absolute_error: 121.0664 - val_loss: 33214.5643 - val_mean_squared_error: 33214.5703 - val_mean_absolute_error: 135.4807\n",
      "Epoch 199/200\n",
      "3209/3209 [==============================] - 0s 69us/sample - loss: 28937.5372 - mean_squared_error: 28937.5352 - mean_absolute_error: 120.0193 - val_loss: 34630.3323 - val_mean_squared_error: 34630.3320 - val_mean_absolute_error: 138.2886\n",
      "Epoch 200/200\n",
      "3209/3209 [==============================] - 0s 70us/sample - loss: 29143.8223 - mean_squared_error: 29143.8262 - mean_absolute_error: 121.2539 - val_loss: 33638.6817 - val_mean_squared_error: 33638.6875 - val_mean_absolute_error: 133.4298\n"
     ]
    }
   ],
   "source": [
    "model_3.compile(loss='mse', optimizer='adam', metrics=['mse','mae'])\n",
    "history = model_3.fit(X_train, y_train, epochs=200, batch_size=16,  verbose=1, validation_split=0.2)"
   ]
  },
  {
   "cell_type": "code",
   "execution_count": 110,
   "metadata": {},
   "outputs": [
    {
     "data": {
      "image/png": "[encoded data removed]",
      "text/plain": [
       "<Figure size 432x288 with 1 Axes>"
      ]
     },
     "metadata": {},
     "output_type": "display_data"
    }
   ],
   "source": [
    "# \"Loss\"\n",
    "plt.plot(history.history['loss'])\n",
    "plt.plot(history.history['val_loss'])\n",
    "plt.title('model loss')\n",
    "plt.ylabel('loss')\n",
    "plt.xlabel('epoch')\n",
    "plt.ylim((20000,50000))\n",
    "plt.legend(['train', 'validation'], loc='upper left')\n",
    "plt.show()"
   ]
  },
  {
   "cell_type": "markdown",
   "metadata": {},
   "source": [
    "Incluindo regularização"
   ]
  },
  {
   "cell_type": "code",
   "execution_count": 113,
   "metadata": {},
   "outputs": [
    {
     "name": "stdout",
     "output_type": "stream",
     "text": [
      "Model: \"sequential_10\"\n",
      "_________________________________________________________________\n",
      "Layer (type)                 Output Shape              Param #   \n",
      "=================================================================\n",
      "dense_36 (Dense)             (None, 128)               3328      \n",
      "_________________________________________________________________\n",
      "dense_37 (Dense)             (None, 32)                4128      \n",
      "_________________________________________________________________\n",
      "dense_38 (Dense)             (None, 3)                 99        \n",
      "=================================================================\n",
      "Total params: 7,555\n",
      "Trainable params: 7,555\n",
      "Non-trainable params: 0\n",
      "_________________________________________________________________\n"
     ]
    }
   ],
   "source": [
    "model_4 = Sequential()\n",
    "model_4.add(Dense(128, input_dim=25, kernel_initializer='orthogonal', activation='relu'))\n",
    "model_4.add(Dense(32, activation='relu', activity_regularizer =l1(0.001))) ##Melhorou um pouco com a regularização\n",
    "model_4.add(Dense(3, activation='linear'))\n",
    "model_4.summary()"
   ]
  },
  {
   "cell_type": "code",
   "execution_count": 114,
   "metadata": {},
   "outputs": [
    {
     "name": "stdout",
     "output_type": "stream",
     "text": [
      "Train on 3209 samples, validate on 803 samples\n",
      "Epoch 1/200\n",
      "3209/3209 [==============================] - 0s 139us/sample - loss: 12998781.7401 - mean_squared_error: 12998777.0000 - mean_absolute_error: 3485.3909 - val_loss: 12018859.4994 - val_mean_squared_error: 12018859.0000 - val_mean_absolute_error: 3342.6689\n",
      "Epoch 2/200\n",
      "3209/3209 [==============================] - 0s 71us/sample - loss: 8232128.3125 - mean_squared_error: 8232123.5000 - mean_absolute_error: 2688.7283 - val_loss: 4071619.5610 - val_mean_squared_error: 4071617.2500 - val_mean_absolute_error: 1810.8342\n",
      "Epoch 3/200\n",
      "3209/3209 [==============================] - 0s 70us/sample - loss: 2046056.7348 - mean_squared_error: 2046053.1250 - mean_absolute_error: 1190.0255 - val_loss: 1164364.6292 - val_mean_squared_error: 1164361.5000 - val_mean_absolute_error: 883.7067\n",
      "Epoch 4/200\n",
      "3209/3209 [==============================] - 0s 70us/sample - loss: 842364.9611 - mean_squared_error: 842361.5625 - mean_absolute_error: 729.2565 - val_loss: 666568.6134 - val_mean_squared_error: 666565.2500 - val_mean_absolute_error: 641.7574\n",
      "Epoch 5/200\n",
      "3209/3209 [==============================] - 0s 70us/sample - loss: 499214.6448 - mean_squared_error: 499211.0625 - mean_absolute_error: 542.8835 - val_loss: 422791.4135 - val_mean_squared_error: 422787.9062 - val_mean_absolute_error: 499.0069\n",
      "Epoch 6/200\n",
      "3209/3209 [==============================] - 0s 70us/sample - loss: 320128.8122 - mean_squared_error: 320125.0938 - mean_absolute_error: 427.3541 - val_loss: 279468.8559 - val_mean_squared_error: 279465.3125 - val_mean_absolute_error: 400.4528\n",
      "Epoch 7/200\n",
      "3209/3209 [==============================] - 0s 74us/sample - loss: 218139.7605 - mean_squared_error: 218136.0469 - mean_absolute_error: 351.4378 - val_loss: 195213.5565 - val_mean_squared_error: 195209.9844 - val_mean_absolute_error: 334.5444\n",
      "Epoch 8/200\n",
      "3209/3209 [==============================] - 0s 70us/sample - loss: 159593.8307 - mean_squared_error: 159590.2656 - mean_absolute_error: 299.8881 - val_loss: 147585.0120 - val_mean_squared_error: 147581.4531 - val_mean_absolute_error: 291.5751\n",
      "Epoch 9/200\n",
      "3209/3209 [==============================] - 0s 70us/sample - loss: 124961.0404 - mean_squared_error: 124957.4688 - mean_absolute_error: 266.1792 - val_loss: 118099.7085 - val_mean_squared_error: 118096.1328 - val_mean_absolute_error: 262.4378\n",
      "Epoch 10/200\n",
      "3209/3209 [==============================] - 0s 71us/sample - loss: 103614.1928 - mean_squared_error: 103610.6016 - mean_absolute_error: 243.1759 - val_loss: 99527.9759 - val_mean_squared_error: 99524.4141 - val_mean_absolute_error: 241.7818\n",
      "Epoch 11/200\n",
      "3209/3209 [==============================] - 0s 71us/sample - loss: 89744.4848 - mean_squared_error: 89740.8906 - mean_absolute_error: 226.2145 - val_loss: 86858.6889 - val_mean_squared_error: 86855.1172 - val_mean_absolute_error: 226.8616\n",
      "Epoch 12/200\n",
      "3209/3209 [==============================] - 0s 70us/sample - loss: 80077.7314 - mean_squared_error: 80074.1641 - mean_absolute_error: 214.0759 - val_loss: 78731.3866 - val_mean_squared_error: 78727.8203 - val_mean_absolute_error: 216.2732\n",
      "Epoch 13/200\n",
      "3209/3209 [==============================] - 0s 69us/sample - loss: 72615.7270 - mean_squared_error: 72612.1406 - mean_absolute_error: 203.6659 - val_loss: 72029.1027 - val_mean_squared_error: 72025.5469 - val_mean_absolute_error: 207.5479\n",
      "Epoch 14/200\n",
      "3209/3209 [==============================] - 0s 73us/sample - loss: 67218.1451 - mean_squared_error: 67214.5938 - mean_absolute_error: 195.9181 - val_loss: 66872.7095 - val_mean_squared_error: 66869.1406 - val_mean_absolute_error: 199.5447\n",
      "Epoch 15/200\n",
      "3209/3209 [==============================] - 0s 71us/sample - loss: 63133.6278 - mean_squared_error: 63130.0859 - mean_absolute_error: 189.4135 - val_loss: 62846.5248 - val_mean_squared_error: 62842.9688 - val_mean_absolute_error: 193.7133\n",
      "Epoch 16/200\n",
      "3209/3209 [==============================] - 0s 69us/sample - loss: 59681.2852 - mean_squared_error: 59677.7266 - mean_absolute_error: 183.7432 - val_loss: 60549.2241 - val_mean_squared_error: 60545.6719 - val_mean_absolute_error: 190.3005\n",
      "Epoch 17/200\n",
      "3209/3209 [==============================] - 0s 70us/sample - loss: 57013.1996 - mean_squared_error: 57009.6406 - mean_absolute_error: 179.5608 - val_loss: 57033.9014 - val_mean_squared_error: 57030.3320 - val_mean_absolute_error: 184.7070\n",
      "Epoch 18/200\n",
      "3209/3209 [==============================] - 0s 73us/sample - loss: 54872.7047 - mean_squared_error: 54869.1406 - mean_absolute_error: 175.8181 - val_loss: 54898.3835 - val_mean_squared_error: 54894.8203 - val_mean_absolute_error: 180.5011\n",
      "Epoch 19/200\n",
      "3209/3209 [==============================] - 0s 70us/sample - loss: 53041.4706 - mean_squared_error: 53037.9258 - mean_absolute_error: 172.4981 - val_loss: 52756.5764 - val_mean_squared_error: 52753.0195 - val_mean_absolute_error: 177.2450\n",
      "Epoch 20/200\n",
      "3209/3209 [==============================] - 0s 71us/sample - loss: 51384.0588 - mean_squared_error: 51380.4805 - mean_absolute_error: 169.4408 - val_loss: 51770.9380 - val_mean_squared_error: 51767.3867 - val_mean_absolute_error: 175.1560\n",
      "Epoch 21/200\n",
      "3209/3209 [==============================] - 0s 70us/sample - loss: 50039.1604 - mean_squared_error: 50035.6055 - mean_absolute_error: 166.8986 - val_loss: 50624.8051 - val_mean_squared_error: 50621.2539 - val_mean_absolute_error: 172.8435\n",
      "Epoch 22/200\n",
      "3209/3209 [==============================] - 0s 70us/sample - loss: 48673.5482 - mean_squared_error: 48669.9648 - mean_absolute_error: 164.1944 - val_loss: 49052.2311 - val_mean_squared_error: 49048.6758 - val_mean_absolute_error: 169.3818\n",
      "Epoch 23/200\n",
      "3209/3209 [==============================] - 0s 72us/sample - loss: 47549.8482 - mean_squared_error: 47546.2969 - mean_absolute_error: 162.4100 - val_loss: 47943.7197 - val_mean_squared_error: 47940.1641 - val_mean_absolute_error: 167.9914\n",
      "Epoch 24/200\n",
      "3209/3209 [==============================] - 0s 71us/sample - loss: 46457.5869 - mean_squared_error: 46454.0195 - mean_absolute_error: 160.2378 - val_loss: 47233.0516 - val_mean_squared_error: 47229.4844 - val_mean_absolute_error: 166.7415\n",
      "Epoch 25/200\n",
      "3209/3209 [==============================] - 0s 70us/sample - loss: 45904.1661 - mean_squared_error: 45900.6094 - mean_absolute_error: 159.3711 - val_loss: 46389.0288 - val_mean_squared_error: 46385.4609 - val_mean_absolute_error: 164.9347\n",
      "Epoch 26/200\n",
      "3209/3209 [==============================] - 0s 72us/sample - loss: 45103.8686 - mean_squared_error: 45100.3164 - mean_absolute_error: 157.8567 - val_loss: 45479.1421 - val_mean_squared_error: 45475.5781 - val_mean_absolute_error: 162.9257\n",
      "Epoch 27/200\n",
      "3209/3209 [==============================] - 0s 70us/sample - loss: 44337.4107 - mean_squared_error: 44333.8594 - mean_absolute_error: 156.3064 - val_loss: 45925.3484 - val_mean_squared_error: 45921.7930 - val_mean_absolute_error: 163.4406\n",
      "Epoch 28/200\n",
      "3209/3209 [==============================] - 0s 71us/sample - loss: 43652.7354 - mean_squared_error: 43649.1758 - mean_absolute_error: 155.4362 - val_loss: 44796.1392 - val_mean_squared_error: 44792.5820 - val_mean_absolute_error: 161.6282\n",
      "Epoch 29/200\n",
      "3209/3209 [==============================] - 0s 70us/sample - loss: 43386.2368 - mean_squared_error: 43382.6719 - mean_absolute_error: 154.8439 - val_loss: 44063.4966 - val_mean_squared_error: 44059.9336 - val_mean_absolute_error: 159.7290\n",
      "Epoch 30/200\n",
      "3209/3209 [==============================] - 0s 70us/sample - loss: 42725.3385 - mean_squared_error: 42721.7852 - mean_absolute_error: 153.3794 - val_loss: 43712.6770 - val_mean_squared_error: 43709.1211 - val_mean_absolute_error: 159.0928\n",
      "Epoch 31/200\n",
      "3209/3209 [==============================] - 0s 72us/sample - loss: 42264.9911 - mean_squared_error: 42261.4414 - mean_absolute_error: 152.6743 - val_loss: 43895.2526 - val_mean_squared_error: 43891.7227 - val_mean_absolute_error: 160.0443\n",
      "Epoch 32/200\n",
      "3209/3209 [==============================] - 0s 72us/sample - loss: 42097.1833 - mean_squared_error: 42093.6211 - mean_absolute_error: 151.9962 - val_loss: 42748.8950 - val_mean_squared_error: 42745.3359 - val_mean_absolute_error: 157.1269\n"
     ]
    },
    {
     "name": "stdout",
     "output_type": "stream",
     "text": [
      "Epoch 33/200\n",
      "3209/3209 [==============================] - 0s 70us/sample - loss: 41320.5137 - mean_squared_error: 41316.9688 - mean_absolute_error: 150.6290 - val_loss: 42555.1588 - val_mean_squared_error: 42551.5859 - val_mean_absolute_error: 155.9214\n",
      "Epoch 34/200\n",
      "3209/3209 [==============================] - 0s 72us/sample - loss: 41329.0169 - mean_squared_error: 41325.4492 - mean_absolute_error: 149.9236 - val_loss: 41740.6701 - val_mean_squared_error: 41737.1094 - val_mean_absolute_error: 155.3325\n",
      "Epoch 35/200\n",
      "3209/3209 [==============================] - 0s 73us/sample - loss: 40760.1726 - mean_squared_error: 40756.6016 - mean_absolute_error: 149.5120 - val_loss: 41869.9073 - val_mean_squared_error: 41866.3594 - val_mean_absolute_error: 155.0943\n",
      "Epoch 36/200\n",
      "3209/3209 [==============================] - 0s 70us/sample - loss: 40338.6573 - mean_squared_error: 40335.0938 - mean_absolute_error: 147.8055 - val_loss: 40830.6508 - val_mean_squared_error: 40827.0898 - val_mean_absolute_error: 152.9053\n",
      "Epoch 37/200\n",
      "3209/3209 [==============================] - 0s 70us/sample - loss: 40035.4839 - mean_squared_error: 40031.9414 - mean_absolute_error: 147.2705 - val_loss: 40528.5993 - val_mean_squared_error: 40525.0430 - val_mean_absolute_error: 152.2413\n",
      "Epoch 38/200\n",
      "3209/3209 [==============================] - 0s 72us/sample - loss: 39695.5575 - mean_squared_error: 39691.9961 - mean_absolute_error: 146.7705 - val_loss: 40872.5166 - val_mean_squared_error: 40868.9414 - val_mean_absolute_error: 152.0492\n",
      "Epoch 39/200\n",
      "3209/3209 [==============================] - 0s 74us/sample - loss: 39377.3561 - mean_squared_error: 39373.8086 - mean_absolute_error: 146.3301 - val_loss: 41274.2779 - val_mean_squared_error: 41270.7266 - val_mean_absolute_error: 153.2787\n",
      "Epoch 40/200\n",
      "3209/3209 [==============================] - 0s 75us/sample - loss: 39119.9578 - mean_squared_error: 39116.3867 - mean_absolute_error: 145.3438 - val_loss: 39883.9692 - val_mean_squared_error: 39880.4062 - val_mean_absolute_error: 150.1311\n",
      "Epoch 41/200\n",
      "3209/3209 [==============================] - 0s 73us/sample - loss: 38669.3678 - mean_squared_error: 38665.8164 - mean_absolute_error: 144.0206 - val_loss: 39715.8540 - val_mean_squared_error: 39712.3008 - val_mean_absolute_error: 150.2402\n",
      "Epoch 42/200\n",
      "3209/3209 [==============================] - 0s 70us/sample - loss: 38548.2137 - mean_squared_error: 38544.6641 - mean_absolute_error: 143.5445 - val_loss: 39223.8409 - val_mean_squared_error: 39220.2930 - val_mean_absolute_error: 149.3893\n",
      "Epoch 43/200\n",
      "3209/3209 [==============================] - 0s 71us/sample - loss: 38084.6271 - mean_squared_error: 38081.0781 - mean_absolute_error: 142.7087 - val_loss: 39645.5165 - val_mean_squared_error: 39641.9531 - val_mean_absolute_error: 149.6105\n",
      "Epoch 44/200\n",
      "3209/3209 [==============================] - 0s 71us/sample - loss: 38068.3803 - mean_squared_error: 38064.8398 - mean_absolute_error: 142.4269 - val_loss: 38627.7419 - val_mean_squared_error: 38624.1836 - val_mean_absolute_error: 147.6723\n",
      "Epoch 45/200\n",
      "3209/3209 [==============================] - 0s 71us/sample - loss: 37712.1679 - mean_squared_error: 37708.6289 - mean_absolute_error: 141.5707 - val_loss: 38319.5876 - val_mean_squared_error: 38316.0195 - val_mean_absolute_error: 146.4587\n",
      "Epoch 46/200\n",
      "3209/3209 [==============================] - 0s 71us/sample - loss: 37696.8477 - mean_squared_error: 37693.2930 - mean_absolute_error: 141.6639 - val_loss: 38125.1440 - val_mean_squared_error: 38121.5781 - val_mean_absolute_error: 146.1441\n",
      "Epoch 47/200\n",
      "3209/3209 [==============================] - 0s 69us/sample - loss: 37261.6739 - mean_squared_error: 37258.1211 - mean_absolute_error: 140.4613 - val_loss: 38171.5452 - val_mean_squared_error: 38167.9883 - val_mean_absolute_error: 146.2284\n",
      "Epoch 48/200\n",
      "3209/3209 [==============================] - 0s 70us/sample - loss: 37011.5554 - mean_squared_error: 37007.9961 - mean_absolute_error: 140.0091 - val_loss: 38140.0870 - val_mean_squared_error: 38136.5352 - val_mean_absolute_error: 146.6315\n",
      "Epoch 49/200\n",
      "3209/3209 [==============================] - 0s 72us/sample - loss: 36744.3300 - mean_squared_error: 36740.7773 - mean_absolute_error: 139.3629 - val_loss: 39894.7555 - val_mean_squared_error: 39891.2070 - val_mean_absolute_error: 149.7193\n",
      "Epoch 50/200\n",
      "3209/3209 [==============================] - 0s 73us/sample - loss: 36863.4934 - mean_squared_error: 36859.9375 - mean_absolute_error: 139.5289 - val_loss: 37623.9946 - val_mean_squared_error: 37620.4414 - val_mean_absolute_error: 144.6533\n",
      "Epoch 51/200\n",
      "3209/3209 [==============================] - 0s 70us/sample - loss: 36576.3828 - mean_squared_error: 36572.8320 - mean_absolute_error: 139.0443 - val_loss: 37467.7874 - val_mean_squared_error: 37464.2344 - val_mean_absolute_error: 144.7089\n",
      "Epoch 52/200\n",
      "3209/3209 [==============================] - 0s 71us/sample - loss: 36450.3619 - mean_squared_error: 36446.8047 - mean_absolute_error: 138.4759 - val_loss: 37279.1116 - val_mean_squared_error: 37275.5469 - val_mean_absolute_error: 143.4299\n",
      "Epoch 53/200\n",
      "3209/3209 [==============================] - 0s 70us/sample - loss: 36255.5497 - mean_squared_error: 36251.9922 - mean_absolute_error: 137.8814 - val_loss: 36826.6911 - val_mean_squared_error: 36823.1367 - val_mean_absolute_error: 142.9769\n",
      "Epoch 54/200\n",
      "3209/3209 [==============================] - 0s 70us/sample - loss: 36082.3224 - mean_squared_error: 36078.7812 - mean_absolute_error: 137.3448 - val_loss: 37581.8158 - val_mean_squared_error: 37578.2695 - val_mean_absolute_error: 144.6182\n",
      "Epoch 55/200\n",
      "3209/3209 [==============================] - 0s 70us/sample - loss: 36159.2620 - mean_squared_error: 36155.7109 - mean_absolute_error: 137.5296 - val_loss: 36769.7330 - val_mean_squared_error: 36766.1680 - val_mean_absolute_error: 142.6512\n",
      "Epoch 56/200\n",
      "3209/3209 [==============================] - 0s 70us/sample - loss: 36101.4136 - mean_squared_error: 36097.8555 - mean_absolute_error: 137.2741 - val_loss: 36502.6923 - val_mean_squared_error: 36499.1367 - val_mean_absolute_error: 142.0073\n",
      "Epoch 57/200\n",
      "3209/3209 [==============================] - 0s 70us/sample - loss: 35684.8714 - mean_squared_error: 35681.3164 - mean_absolute_error: 136.1807 - val_loss: 37030.9667 - val_mean_squared_error: 37027.4102 - val_mean_absolute_error: 143.0020\n",
      "Epoch 58/200\n",
      "3209/3209 [==============================] - 0s 71us/sample - loss: 35689.3734 - mean_squared_error: 35685.8125 - mean_absolute_error: 136.5419 - val_loss: 37540.4423 - val_mean_squared_error: 37536.8633 - val_mean_absolute_error: 143.2036\n",
      "Epoch 59/200\n",
      "3209/3209 [==============================] - 0s 68us/sample - loss: 35845.9578 - mean_squared_error: 35842.4102 - mean_absolute_error: 137.1056 - val_loss: 36599.1611 - val_mean_squared_error: 36595.5898 - val_mean_absolute_error: 141.4459\n",
      "Epoch 60/200\n",
      "3209/3209 [==============================] - 0s 71us/sample - loss: 35570.3057 - mean_squared_error: 35566.7734 - mean_absolute_error: 136.2697 - val_loss: 36239.0201 - val_mean_squared_error: 36235.4609 - val_mean_absolute_error: 140.6592\n",
      "Epoch 61/200\n",
      "3209/3209 [==============================] - 0s 72us/sample - loss: 35286.5990 - mean_squared_error: 35283.0547 - mean_absolute_error: 135.5191 - val_loss: 36463.9249 - val_mean_squared_error: 36460.3750 - val_mean_absolute_error: 141.3911\n",
      "Epoch 62/200\n",
      "3209/3209 [==============================] - 0s 70us/sample - loss: 35262.6374 - mean_squared_error: 35259.0820 - mean_absolute_error: 135.3796 - val_loss: 36220.7885 - val_mean_squared_error: 36217.2383 - val_mean_absolute_error: 141.3362\n",
      "Epoch 63/200\n",
      "3209/3209 [==============================] - 0s 70us/sample - loss: 35344.7770 - mean_squared_error: 35341.2383 - mean_absolute_error: 135.5301 - val_loss: 35938.9225 - val_mean_squared_error: 35935.3633 - val_mean_absolute_error: 140.2751\n",
      "Epoch 64/200\n",
      "3209/3209 [==============================] - 0s 70us/sample - loss: 34982.4155 - mean_squared_error: 34978.8711 - mean_absolute_error: 134.6565 - val_loss: 36005.7334 - val_mean_squared_error: 36002.1680 - val_mean_absolute_error: 139.0116\n",
      "Epoch 65/200\n"
     ]
    },
    {
     "name": "stdout",
     "output_type": "stream",
     "text": [
      "3209/3209 [==============================] - 0s 70us/sample - loss: 34873.2690 - mean_squared_error: 34869.7148 - mean_absolute_error: 134.8831 - val_loss: 36418.7849 - val_mean_squared_error: 36415.2266 - val_mean_absolute_error: 140.8586\n",
      "Epoch 66/200\n",
      "3209/3209 [==============================] - 0s 69us/sample - loss: 34829.6521 - mean_squared_error: 34826.1094 - mean_absolute_error: 134.2656 - val_loss: 36277.2568 - val_mean_squared_error: 36273.7070 - val_mean_absolute_error: 140.8361\n",
      "Epoch 67/200\n",
      "3209/3209 [==============================] - 0s 69us/sample - loss: 34863.9092 - mean_squared_error: 34860.3711 - mean_absolute_error: 134.3072 - val_loss: 36103.8316 - val_mean_squared_error: 36100.2852 - val_mean_absolute_error: 140.9074\n",
      "Epoch 68/200\n",
      "3209/3209 [==============================] - 0s 70us/sample - loss: 34689.0667 - mean_squared_error: 34685.5273 - mean_absolute_error: 134.1921 - val_loss: 35769.1236 - val_mean_squared_error: 35765.5703 - val_mean_absolute_error: 139.3763\n",
      "Epoch 69/200\n",
      "3209/3209 [==============================] - 0s 70us/sample - loss: 34704.1242 - mean_squared_error: 34700.5820 - mean_absolute_error: 134.1595 - val_loss: 35971.8174 - val_mean_squared_error: 35968.2578 - val_mean_absolute_error: 139.4292\n",
      "Epoch 70/200\n",
      "3209/3209 [==============================] - 0s 70us/sample - loss: 34426.2124 - mean_squared_error: 34422.6680 - mean_absolute_error: 133.4388 - val_loss: 35408.1942 - val_mean_squared_error: 35404.6328 - val_mean_absolute_error: 137.9321\n",
      "Epoch 71/200\n",
      "3209/3209 [==============================] - 0s 75us/sample - loss: 34382.7907 - mean_squared_error: 34379.2422 - mean_absolute_error: 133.1541 - val_loss: 37252.8551 - val_mean_squared_error: 37249.3242 - val_mean_absolute_error: 143.8336\n",
      "Epoch 72/200\n",
      "3209/3209 [==============================] - 0s 71us/sample - loss: 34395.9450 - mean_squared_error: 34392.4102 - mean_absolute_error: 133.7533 - val_loss: 35727.3615 - val_mean_squared_error: 35723.7969 - val_mean_absolute_error: 139.1760\n",
      "Epoch 73/200\n",
      "3209/3209 [==============================] - 0s 70us/sample - loss: 34361.2760 - mean_squared_error: 34357.7148 - mean_absolute_error: 133.0249 - val_loss: 35075.7738 - val_mean_squared_error: 35072.2227 - val_mean_absolute_error: 137.9698\n",
      "Epoch 74/200\n",
      "3209/3209 [==============================] - 0s 70us/sample - loss: 34171.5570 - mean_squared_error: 34168.0156 - mean_absolute_error: 133.0350 - val_loss: 35465.2581 - val_mean_squared_error: 35461.7227 - val_mean_absolute_error: 139.9626\n",
      "Epoch 75/200\n",
      "3209/3209 [==============================] - 0s 71us/sample - loss: 33983.8620 - mean_squared_error: 33980.3320 - mean_absolute_error: 132.1123 - val_loss: 35483.8782 - val_mean_squared_error: 35480.3320 - val_mean_absolute_error: 139.0361\n",
      "Epoch 76/200\n",
      "3209/3209 [==============================] - 0s 71us/sample - loss: 33987.1864 - mean_squared_error: 33983.6445 - mean_absolute_error: 132.6679 - val_loss: 35130.0090 - val_mean_squared_error: 35126.4727 - val_mean_absolute_error: 138.3169\n",
      "Epoch 77/200\n",
      "3209/3209 [==============================] - 0s 72us/sample - loss: 33832.4234 - mean_squared_error: 33828.8672 - mean_absolute_error: 132.4224 - val_loss: 34994.1396 - val_mean_squared_error: 34990.5742 - val_mean_absolute_error: 137.0540\n",
      "Epoch 78/200\n",
      "3209/3209 [==============================] - 0s 71us/sample - loss: 33791.9706 - mean_squared_error: 33788.4219 - mean_absolute_error: 131.9918 - val_loss: 36949.0820 - val_mean_squared_error: 36945.5586 - val_mean_absolute_error: 141.9223\n",
      "Epoch 79/200\n",
      "3209/3209 [==============================] - 0s 70us/sample - loss: 33831.5401 - mean_squared_error: 33827.9844 - mean_absolute_error: 132.2681 - val_loss: 34864.4135 - val_mean_squared_error: 34860.8633 - val_mean_absolute_error: 136.8849\n",
      "Epoch 80/200\n",
      "3209/3209 [==============================] - 0s 70us/sample - loss: 33644.3106 - mean_squared_error: 33640.7695 - mean_absolute_error: 131.4346 - val_loss: 35505.8865 - val_mean_squared_error: 35502.3555 - val_mean_absolute_error: 138.6488\n",
      "Epoch 81/200\n",
      "3209/3209 [==============================] - 0s 69us/sample - loss: 33618.3858 - mean_squared_error: 33614.8477 - mean_absolute_error: 131.1868 - val_loss: 34993.4245 - val_mean_squared_error: 34989.8711 - val_mean_absolute_error: 137.4873\n",
      "Epoch 82/200\n",
      "3209/3209 [==============================] - 0s 72us/sample - loss: 33646.3796 - mean_squared_error: 33642.8398 - mean_absolute_error: 131.4836 - val_loss: 34735.6935 - val_mean_squared_error: 34732.1523 - val_mean_absolute_error: 137.4635\n",
      "Epoch 83/200\n",
      "3209/3209 [==============================] - 0s 72us/sample - loss: 33401.9512 - mean_squared_error: 33398.4180 - mean_absolute_error: 130.8704 - val_loss: 34905.0233 - val_mean_squared_error: 34901.4961 - val_mean_absolute_error: 138.4012\n",
      "Epoch 84/200\n",
      "3209/3209 [==============================] - 0s 71us/sample - loss: 33361.0771 - mean_squared_error: 33357.5352 - mean_absolute_error: 130.8326 - val_loss: 34743.3683 - val_mean_squared_error: 34739.8281 - val_mean_absolute_error: 137.4905\n",
      "Epoch 85/200\n",
      "3209/3209 [==============================] - 0s 71us/sample - loss: 33391.6587 - mean_squared_error: 33388.1172 - mean_absolute_error: 130.8361 - val_loss: 34532.4648 - val_mean_squared_error: 34528.9258 - val_mean_absolute_error: 136.1820\n",
      "Epoch 86/200\n",
      "3209/3209 [==============================] - 0s 72us/sample - loss: 33346.8763 - mean_squared_error: 33343.3359 - mean_absolute_error: 130.9481 - val_loss: 35023.8839 - val_mean_squared_error: 35020.3516 - val_mean_absolute_error: 138.2377\n",
      "Epoch 87/200\n",
      "3209/3209 [==============================] - 0s 72us/sample - loss: 33249.9990 - mean_squared_error: 33246.4727 - mean_absolute_error: 130.7818 - val_loss: 33998.6353 - val_mean_squared_error: 33995.0938 - val_mean_absolute_error: 135.1195\n",
      "Epoch 88/200\n",
      "3209/3209 [==============================] - 0s 72us/sample - loss: 33145.9467 - mean_squared_error: 33142.4141 - mean_absolute_error: 130.7117 - val_loss: 34336.9375 - val_mean_squared_error: 34333.3984 - val_mean_absolute_error: 135.8374\n",
      "Epoch 89/200\n",
      "3209/3209 [==============================] - 0s 71us/sample - loss: 33038.6225 - mean_squared_error: 33035.0781 - mean_absolute_error: 130.1937 - val_loss: 35361.1971 - val_mean_squared_error: 35357.6719 - val_mean_absolute_error: 139.7109\n",
      "Epoch 90/200\n",
      "3209/3209 [==============================] - 0s 72us/sample - loss: 33144.9608 - mean_squared_error: 33141.4258 - mean_absolute_error: 130.4331 - val_loss: 34547.3986 - val_mean_squared_error: 34543.8516 - val_mean_absolute_error: 136.0636\n",
      "Epoch 91/200\n",
      "3209/3209 [==============================] - 0s 71us/sample - loss: 33278.6948 - mean_squared_error: 33275.1602 - mean_absolute_error: 130.5032 - val_loss: 35351.1314 - val_mean_squared_error: 35347.5781 - val_mean_absolute_error: 137.4875\n",
      "Epoch 92/200\n",
      "3209/3209 [==============================] - 0s 70us/sample - loss: 33103.0879 - mean_squared_error: 33099.5547 - mean_absolute_error: 130.0910 - val_loss: 34236.3432 - val_mean_squared_error: 34232.8047 - val_mean_absolute_error: 135.3116\n",
      "Epoch 93/200\n",
      "3209/3209 [==============================] - 0s 69us/sample - loss: 33085.8887 - mean_squared_error: 33082.3594 - mean_absolute_error: 130.0411 - val_loss: 33835.8926 - val_mean_squared_error: 33832.3555 - val_mean_absolute_error: 135.6486\n",
      "Epoch 94/200\n",
      "3209/3209 [==============================] - 0s 73us/sample - loss: 32834.9895 - mean_squared_error: 32831.4531 - mean_absolute_error: 130.0657 - val_loss: 34320.5201 - val_mean_squared_error: 34317.0000 - val_mean_absolute_error: 136.8142\n",
      "Epoch 95/200\n",
      "3209/3209 [==============================] - 0s 70us/sample - loss: 32887.6019 - mean_squared_error: 32884.0742 - mean_absolute_error: 129.6192 - val_loss: 34533.4031 - val_mean_squared_error: 34529.8711 - val_mean_absolute_error: 136.8217\n",
      "Epoch 96/200\n",
      "3209/3209 [==============================] - 0s 70us/sample - loss: 32791.6429 - mean_squared_error: 32788.1289 - mean_absolute_error: 129.4079 - val_loss: 34142.9937 - val_mean_squared_error: 34139.4414 - val_mean_absolute_error: 134.8842\n",
      "Epoch 97/200\n"
     ]
    },
    {
     "name": "stdout",
     "output_type": "stream",
     "text": [
      "3209/3209 [==============================] - 0s 69us/sample - loss: 32753.5400 - mean_squared_error: 32750.0059 - mean_absolute_error: 129.3402 - val_loss: 33871.2298 - val_mean_squared_error: 33867.6836 - val_mean_absolute_error: 134.6430\n",
      "Epoch 98/200\n",
      "3209/3209 [==============================] - 0s 71us/sample - loss: 32668.9621 - mean_squared_error: 32665.4375 - mean_absolute_error: 129.1442 - val_loss: 33781.8537 - val_mean_squared_error: 33778.3125 - val_mean_absolute_error: 135.0042\n",
      "Epoch 99/200\n",
      "3209/3209 [==============================] - 0s 72us/sample - loss: 32442.3678 - mean_squared_error: 32438.8340 - mean_absolute_error: 128.4798 - val_loss: 33949.6193 - val_mean_squared_error: 33946.0938 - val_mean_absolute_error: 135.2743\n",
      "Epoch 100/200\n",
      "3209/3209 [==============================] - 0s 69us/sample - loss: 32655.0128 - mean_squared_error: 32651.4805 - mean_absolute_error: 129.6444 - val_loss: 34229.0248 - val_mean_squared_error: 34225.4961 - val_mean_absolute_error: 135.8791\n",
      "Epoch 101/200\n",
      "3209/3209 [==============================] - 0s 69us/sample - loss: 32369.8390 - mean_squared_error: 32366.3105 - mean_absolute_error: 129.0845 - val_loss: 34968.9045 - val_mean_squared_error: 34965.3750 - val_mean_absolute_error: 137.2229\n",
      "Epoch 102/200\n",
      "3209/3209 [==============================] - 0s 69us/sample - loss: 32517.1494 - mean_squared_error: 32513.6309 - mean_absolute_error: 129.1812 - val_loss: 34282.8418 - val_mean_squared_error: 34279.3086 - val_mean_absolute_error: 136.0706\n",
      "Epoch 103/200\n",
      "3209/3209 [==============================] - 0s 72us/sample - loss: 32344.1453 - mean_squared_error: 32340.6016 - mean_absolute_error: 128.4846 - val_loss: 33583.6430 - val_mean_squared_error: 33580.1094 - val_mean_absolute_error: 133.8884\n",
      "Epoch 104/200\n",
      "3209/3209 [==============================] - 0s 69us/sample - loss: 32331.8270 - mean_squared_error: 32328.3086 - mean_absolute_error: 128.2029 - val_loss: 34410.3896 - val_mean_squared_error: 34406.8594 - val_mean_absolute_error: 136.1815\n",
      "Epoch 105/200\n",
      "3209/3209 [==============================] - 0s 71us/sample - loss: 32322.1407 - mean_squared_error: 32318.6211 - mean_absolute_error: 128.6971 - val_loss: 33833.3797 - val_mean_squared_error: 33829.8320 - val_mean_absolute_error: 134.4984\n",
      "Epoch 106/200\n",
      "3209/3209 [==============================] - 0s 69us/sample - loss: 32350.0312 - mean_squared_error: 32346.5039 - mean_absolute_error: 128.5019 - val_loss: 33864.2140 - val_mean_squared_error: 33860.6719 - val_mean_absolute_error: 134.0024\n",
      "Epoch 107/200\n",
      "3209/3209 [==============================] - 0s 70us/sample - loss: 32256.0947 - mean_squared_error: 32252.5723 - mean_absolute_error: 128.0309 - val_loss: 34806.2183 - val_mean_squared_error: 34802.6953 - val_mean_absolute_error: 137.1480\n",
      "Epoch 108/200\n",
      "3209/3209 [==============================] - 0s 74us/sample - loss: 32122.2982 - mean_squared_error: 32118.7637 - mean_absolute_error: 128.1663 - val_loss: 33376.1594 - val_mean_squared_error: 33372.6211 - val_mean_absolute_error: 133.9384\n",
      "Epoch 109/200\n",
      "3209/3209 [==============================] - 0s 74us/sample - loss: 32260.4760 - mean_squared_error: 32256.9453 - mean_absolute_error: 128.1812 - val_loss: 33719.3894 - val_mean_squared_error: 33715.8555 - val_mean_absolute_error: 134.7561\n",
      "Epoch 110/200\n",
      "3209/3209 [==============================] - 0s 79us/sample - loss: 31982.1439 - mean_squared_error: 31978.6133 - mean_absolute_error: 127.9732 - val_loss: 33812.2635 - val_mean_squared_error: 33808.7344 - val_mean_absolute_error: 134.8773\n",
      "Epoch 111/200\n",
      "3209/3209 [==============================] - 0s 69us/sample - loss: 31859.9772 - mean_squared_error: 31856.4492 - mean_absolute_error: 127.3795 - val_loss: 33957.7735 - val_mean_squared_error: 33954.2344 - val_mean_absolute_error: 134.9796\n",
      "Epoch 112/200\n",
      "3209/3209 [==============================] - 0s 69us/sample - loss: 31959.5026 - mean_squared_error: 31955.9766 - mean_absolute_error: 127.3948 - val_loss: 33670.3489 - val_mean_squared_error: 33666.8125 - val_mean_absolute_error: 133.7026\n",
      "Epoch 113/200\n",
      "3209/3209 [==============================] - 0s 72us/sample - loss: 31947.6794 - mean_squared_error: 31944.1562 - mean_absolute_error: 127.8797 - val_loss: 33841.7625 - val_mean_squared_error: 33838.2305 - val_mean_absolute_error: 135.3585\n",
      "Epoch 114/200\n",
      "3209/3209 [==============================] - 0s 71us/sample - loss: 31950.8016 - mean_squared_error: 31947.2715 - mean_absolute_error: 127.4595 - val_loss: 33374.1376 - val_mean_squared_error: 33370.6016 - val_mean_absolute_error: 133.3084\n",
      "Epoch 115/200\n",
      "3209/3209 [==============================] - 0s 71us/sample - loss: 31857.1849 - mean_squared_error: 31853.6660 - mean_absolute_error: 127.2195 - val_loss: 34060.8712 - val_mean_squared_error: 34057.3242 - val_mean_absolute_error: 134.5348\n",
      "Epoch 116/200\n",
      "3209/3209 [==============================] - 0s 70us/sample - loss: 31852.1937 - mean_squared_error: 31848.6660 - mean_absolute_error: 127.4642 - val_loss: 33525.3589 - val_mean_squared_error: 33521.8203 - val_mean_absolute_error: 133.7370\n",
      "Epoch 117/200\n",
      "3209/3209 [==============================] - 0s 71us/sample - loss: 31740.9368 - mean_squared_error: 31737.4180 - mean_absolute_error: 126.8674 - val_loss: 33346.9476 - val_mean_squared_error: 33343.4102 - val_mean_absolute_error: 133.2752\n",
      "Epoch 118/200\n",
      "3209/3209 [==============================] - 0s 72us/sample - loss: 31673.2862 - mean_squared_error: 31669.7695 - mean_absolute_error: 127.0547 - val_loss: 33786.8612 - val_mean_squared_error: 33783.3203 - val_mean_absolute_error: 134.4780\n",
      "Epoch 119/200\n",
      "3209/3209 [==============================] - 0s 72us/sample - loss: 31480.2742 - mean_squared_error: 31476.7441 - mean_absolute_error: 126.6622 - val_loss: 33971.1981 - val_mean_squared_error: 33967.6445 - val_mean_absolute_error: 134.3969\n",
      "Epoch 120/200\n",
      "3209/3209 [==============================] - 0s 75us/sample - loss: 31505.8891 - mean_squared_error: 31502.3613 - mean_absolute_error: 126.6670 - val_loss: 33674.0698 - val_mean_squared_error: 33670.5273 - val_mean_absolute_error: 133.7186\n",
      "Epoch 121/200\n",
      "3209/3209 [==============================] - 0s 70us/sample - loss: 31729.1081 - mean_squared_error: 31725.5625 - mean_absolute_error: 127.1687 - val_loss: 33909.3785 - val_mean_squared_error: 33905.8438 - val_mean_absolute_error: 134.4341\n",
      "Epoch 122/200\n",
      "3209/3209 [==============================] - ETA: 0s - loss: 31771.1728 - mean_squared_error: 31767.6504 - mean_absolute_error: 125.66 - 0s 72us/sample - loss: 31273.7295 - mean_squared_error: 31270.2148 - mean_absolute_error: 125.8364 - val_loss: 34162.6582 - val_mean_squared_error: 34159.1211 - val_mean_absolute_error: 134.9332\n",
      "Epoch 123/200\n",
      "3209/3209 [==============================] - 0s 70us/sample - loss: 31260.4432 - mean_squared_error: 31256.9199 - mean_absolute_error: 125.9117 - val_loss: 33838.1438 - val_mean_squared_error: 33834.6094 - val_mean_absolute_error: 135.0464\n",
      "Epoch 124/200\n",
      "3209/3209 [==============================] - 0s 71us/sample - loss: 31390.3995 - mean_squared_error: 31386.8770 - mean_absolute_error: 126.3590 - val_loss: 33474.3166 - val_mean_squared_error: 33470.7812 - val_mean_absolute_error: 133.7690\n",
      "Epoch 125/200\n",
      "3209/3209 [==============================] - 0s 68us/sample - loss: 31334.3338 - mean_squared_error: 31330.8203 - mean_absolute_error: 126.1815 - val_loss: 34999.9508 - val_mean_squared_error: 34996.4375 - val_mean_absolute_error: 138.8535\n",
      "Epoch 126/200\n",
      "3209/3209 [==============================] - 0s 69us/sample - loss: 31665.0253 - mean_squared_error: 31661.5078 - mean_absolute_error: 126.5925 - val_loss: 33615.5815 - val_mean_squared_error: 33612.0430 - val_mean_absolute_error: 134.9426\n",
      "Epoch 127/200\n",
      "3209/3209 [==============================] - 0s 70us/sample - loss: 31294.5090 - mean_squared_error: 31290.9766 - mean_absolute_error: 126.2338 - val_loss: 33281.5924 - val_mean_squared_error: 33278.0703 - val_mean_absolute_error: 133.6339\n",
      "Epoch 128/200\n",
      "3209/3209 [==============================] - 0s 70us/sample - loss: 31193.4291 - mean_squared_error: 31189.8984 - mean_absolute_error: 125.9370 - val_loss: 34096.7643 - val_mean_squared_error: 34093.2344 - val_mean_absolute_error: 135.9288\n"
     ]
    },
    {
     "name": "stdout",
     "output_type": "stream",
     "text": [
      "Epoch 129/200\n",
      "3209/3209 [==============================] - 0s 69us/sample - loss: 31389.0817 - mean_squared_error: 31385.5527 - mean_absolute_error: 125.8894 - val_loss: 33016.6995 - val_mean_squared_error: 33013.1523 - val_mean_absolute_error: 132.4868\n",
      "Epoch 130/200\n",
      "3209/3209 [==============================] - 0s 70us/sample - loss: 31189.4287 - mean_squared_error: 31185.9023 - mean_absolute_error: 125.6696 - val_loss: 32980.9539 - val_mean_squared_error: 32977.4258 - val_mean_absolute_error: 132.8101\n",
      "Epoch 131/200\n",
      "3209/3209 [==============================] - 0s 70us/sample - loss: 31246.0946 - mean_squared_error: 31242.5625 - mean_absolute_error: 125.3116 - val_loss: 33429.0574 - val_mean_squared_error: 33425.5234 - val_mean_absolute_error: 134.2038\n",
      "Epoch 132/200\n",
      "3209/3209 [==============================] - 0s 71us/sample - loss: 31224.6461 - mean_squared_error: 31221.1172 - mean_absolute_error: 125.9629 - val_loss: 33160.4492 - val_mean_squared_error: 33156.9102 - val_mean_absolute_error: 132.4081\n",
      "Epoch 133/200\n",
      "3209/3209 [==============================] - 0s 69us/sample - loss: 31123.7744 - mean_squared_error: 31120.2500 - mean_absolute_error: 125.2390 - val_loss: 33708.7233 - val_mean_squared_error: 33705.1914 - val_mean_absolute_error: 134.3029\n",
      "Epoch 134/200\n",
      "3209/3209 [==============================] - 0s 70us/sample - loss: 31138.4198 - mean_squared_error: 31134.8906 - mean_absolute_error: 125.5769 - val_loss: 32731.8428 - val_mean_squared_error: 32728.3066 - val_mean_absolute_error: 132.2335\n",
      "Epoch 135/200\n",
      "3209/3209 [==============================] - 0s 71us/sample - loss: 31199.4223 - mean_squared_error: 31195.8945 - mean_absolute_error: 125.6827 - val_loss: 32878.2288 - val_mean_squared_error: 32874.7031 - val_mean_absolute_error: 133.2654\n",
      "Epoch 136/200\n",
      "3209/3209 [==============================] - 0s 70us/sample - loss: 31156.2047 - mean_squared_error: 31152.6758 - mean_absolute_error: 125.4902 - val_loss: 33687.8481 - val_mean_squared_error: 33684.3164 - val_mean_absolute_error: 134.4121\n",
      "Epoch 137/200\n",
      "3209/3209 [==============================] - 0s 71us/sample - loss: 31135.1435 - mean_squared_error: 31131.6191 - mean_absolute_error: 125.4758 - val_loss: 33353.5565 - val_mean_squared_error: 33350.0273 - val_mean_absolute_error: 133.4333\n",
      "Epoch 138/200\n",
      "3209/3209 [==============================] - 0s 71us/sample - loss: 31021.4839 - mean_squared_error: 31017.9492 - mean_absolute_error: 125.1200 - val_loss: 33173.2803 - val_mean_squared_error: 33169.7500 - val_mean_absolute_error: 134.0534\n",
      "Epoch 139/200\n",
      "3209/3209 [==============================] - 0s 69us/sample - loss: 30959.6099 - mean_squared_error: 30956.0938 - mean_absolute_error: 125.3082 - val_loss: 34708.2003 - val_mean_squared_error: 34704.6758 - val_mean_absolute_error: 137.4646\n",
      "Epoch 140/200\n",
      "3209/3209 [==============================] - 0s 70us/sample - loss: 30969.1935 - mean_squared_error: 30965.6582 - mean_absolute_error: 124.6539 - val_loss: 32793.1463 - val_mean_squared_error: 32789.6094 - val_mean_absolute_error: 132.2979\n",
      "Epoch 141/200\n",
      "3209/3209 [==============================] - 0s 70us/sample - loss: 30825.4143 - mean_squared_error: 30821.8965 - mean_absolute_error: 124.9401 - val_loss: 34018.4990 - val_mean_squared_error: 34014.9805 - val_mean_absolute_error: 137.2906\n",
      "Epoch 142/200\n",
      "3209/3209 [==============================] - 0s 72us/sample - loss: 31047.0137 - mean_squared_error: 31043.4824 - mean_absolute_error: 125.1009 - val_loss: 33442.4183 - val_mean_squared_error: 33438.8945 - val_mean_absolute_error: 135.3186\n",
      "Epoch 143/200\n",
      "3209/3209 [==============================] - 0s 72us/sample - loss: 30592.6941 - mean_squared_error: 30589.1680 - mean_absolute_error: 124.3328 - val_loss: 33109.7900 - val_mean_squared_error: 33106.2500 - val_mean_absolute_error: 132.7713\n",
      "Epoch 144/200\n",
      "3209/3209 [==============================] - 0s 72us/sample - loss: 30865.0482 - mean_squared_error: 30861.5176 - mean_absolute_error: 124.6720 - val_loss: 33370.6376 - val_mean_squared_error: 33367.0977 - val_mean_absolute_error: 133.9601\n",
      "Epoch 145/200\n",
      "3209/3209 [==============================] - 0s 73us/sample - loss: 30599.6762 - mean_squared_error: 30596.1426 - mean_absolute_error: 124.4009 - val_loss: 33224.9544 - val_mean_squared_error: 33221.4258 - val_mean_absolute_error: 133.5710\n",
      "Epoch 146/200\n",
      "3209/3209 [==============================] - 0s 71us/sample - loss: 30639.0739 - mean_squared_error: 30635.5371 - mean_absolute_error: 124.4240 - val_loss: 33672.6160 - val_mean_squared_error: 33669.0859 - val_mean_absolute_error: 133.5799\n",
      "Epoch 147/200\n",
      "3209/3209 [==============================] - 0s 71us/sample - loss: 30673.9864 - mean_squared_error: 30670.4590 - mean_absolute_error: 124.7584 - val_loss: 32834.0695 - val_mean_squared_error: 32830.5273 - val_mean_absolute_error: 131.9660\n",
      "Epoch 148/200\n",
      "3209/3209 [==============================] - 0s 70us/sample - loss: 30535.2027 - mean_squared_error: 30531.6719 - mean_absolute_error: 124.1687 - val_loss: 32974.9106 - val_mean_squared_error: 32971.3711 - val_mean_absolute_error: 133.0890\n",
      "Epoch 149/200\n",
      "3209/3209 [==============================] - 0s 71us/sample - loss: 30523.8215 - mean_squared_error: 30520.2871 - mean_absolute_error: 124.0354 - val_loss: 32899.8079 - val_mean_squared_error: 32896.2656 - val_mean_absolute_error: 132.3034\n",
      "Epoch 150/200\n",
      "3209/3209 [==============================] - 0s 71us/sample - loss: 30508.6766 - mean_squared_error: 30505.1348 - mean_absolute_error: 123.9861 - val_loss: 33569.0713 - val_mean_squared_error: 33565.5469 - val_mean_absolute_error: 134.7623\n",
      "Epoch 151/200\n",
      "3209/3209 [==============================] - 0s 70us/sample - loss: 30564.2777 - mean_squared_error: 30560.7480 - mean_absolute_error: 123.9417 - val_loss: 33893.6158 - val_mean_squared_error: 33890.0938 - val_mean_absolute_error: 135.3369\n",
      "Epoch 152/200\n",
      "3209/3209 [==============================] - 0s 70us/sample - loss: 30577.0646 - mean_squared_error: 30573.5391 - mean_absolute_error: 124.3639 - val_loss: 33690.4295 - val_mean_squared_error: 33686.9023 - val_mean_absolute_error: 135.3878\n",
      "Epoch 153/200\n",
      "3209/3209 [==============================] - 0s 71us/sample - loss: 30472.0128 - mean_squared_error: 30468.4766 - mean_absolute_error: 123.7509 - val_loss: 33494.0369 - val_mean_squared_error: 33490.5000 - val_mean_absolute_error: 133.5275\n",
      "Epoch 154/200\n",
      "3209/3209 [==============================] - 0s 72us/sample - loss: 30529.2424 - mean_squared_error: 30525.7168 - mean_absolute_error: 124.1705 - val_loss: 33979.7221 - val_mean_squared_error: 33976.1797 - val_mean_absolute_error: 134.1055\n",
      "Epoch 155/200\n",
      "3209/3209 [==============================] - 0s 70us/sample - loss: 30485.7926 - mean_squared_error: 30482.2578 - mean_absolute_error: 123.8886 - val_loss: 33584.9921 - val_mean_squared_error: 33581.4727 - val_mean_absolute_error: 135.2158\n",
      "Epoch 156/200\n",
      "3209/3209 [==============================] - 0s 72us/sample - loss: 30369.1586 - mean_squared_error: 30365.6289 - mean_absolute_error: 124.0907 - val_loss: 32885.4700 - val_mean_squared_error: 32881.9336 - val_mean_absolute_error: 132.6235\n",
      "Epoch 157/200\n",
      "3209/3209 [==============================] - 0s 71us/sample - loss: 30228.4782 - mean_squared_error: 30224.9375 - mean_absolute_error: 123.5734 - val_loss: 33118.3703 - val_mean_squared_error: 33114.8477 - val_mean_absolute_error: 135.0882\n",
      "Epoch 158/200\n",
      "3209/3209 [==============================] - 0s 70us/sample - loss: 30457.6959 - mean_squared_error: 30454.1680 - mean_absolute_error: 123.9457 - val_loss: 32986.4812 - val_mean_squared_error: 32982.9492 - val_mean_absolute_error: 132.4154\n",
      "Epoch 159/200\n",
      "3209/3209 [==============================] - 0s 72us/sample - loss: 30259.1120 - mean_squared_error: 30255.5820 - mean_absolute_error: 123.2801 - val_loss: 33152.7834 - val_mean_squared_error: 33149.2617 - val_mean_absolute_error: 134.2479\n",
      "Epoch 160/200\n",
      "3209/3209 [==============================] - 0s 76us/sample - loss: 30303.5102 - mean_squared_error: 30299.9863 - mean_absolute_error: 123.6652 - val_loss: 33720.6995 - val_mean_squared_error: 33717.1680 - val_mean_absolute_error: 134.7257\n",
      "Epoch 161/200\n"
     ]
    },
    {
     "name": "stdout",
     "output_type": "stream",
     "text": [
      "3209/3209 [==============================] - 0s 75us/sample - loss: 30245.9456 - mean_squared_error: 30242.4102 - mean_absolute_error: 123.3125 - val_loss: 33315.9074 - val_mean_squared_error: 33312.3789 - val_mean_absolute_error: 134.3919\n",
      "Epoch 162/200\n",
      "3209/3209 [==============================] - 0s 72us/sample - loss: 30325.8597 - mean_squared_error: 30322.3281 - mean_absolute_error: 123.1685 - val_loss: 33124.7678 - val_mean_squared_error: 33121.2422 - val_mean_absolute_error: 133.8365\n",
      "Epoch 163/200\n",
      "3209/3209 [==============================] - 0s 70us/sample - loss: 30185.9091 - mean_squared_error: 30182.3789 - mean_absolute_error: 123.3168 - val_loss: 32714.4955 - val_mean_squared_error: 32710.9590 - val_mean_absolute_error: 132.3659\n",
      "Epoch 164/200\n",
      "3209/3209 [==============================] - 0s 70us/sample - loss: 30093.6015 - mean_squared_error: 30090.0723 - mean_absolute_error: 123.1314 - val_loss: 32813.3055 - val_mean_squared_error: 32809.7617 - val_mean_absolute_error: 132.6870\n",
      "Epoch 165/200\n",
      "3209/3209 [==============================] - 0s 69us/sample - loss: 30295.8373 - mean_squared_error: 30292.3105 - mean_absolute_error: 123.3407 - val_loss: 32731.6127 - val_mean_squared_error: 32728.0820 - val_mean_absolute_error: 132.6935\n",
      "Epoch 166/200\n",
      "3209/3209 [==============================] - 0s 70us/sample - loss: 30154.5307 - mean_squared_error: 30151.0000 - mean_absolute_error: 122.9116 - val_loss: 32581.5404 - val_mean_squared_error: 32578.0078 - val_mean_absolute_error: 132.8731\n",
      "Epoch 167/200\n",
      "3209/3209 [==============================] - 0s 70us/sample - loss: 29979.4159 - mean_squared_error: 29975.8809 - mean_absolute_error: 122.7076 - val_loss: 33358.8812 - val_mean_squared_error: 33355.3555 - val_mean_absolute_error: 134.1549\n",
      "Epoch 168/200\n",
      "3209/3209 [==============================] - 0s 70us/sample - loss: 30182.4235 - mean_squared_error: 30178.8867 - mean_absolute_error: 122.9354 - val_loss: 33442.2708 - val_mean_squared_error: 33438.7500 - val_mean_absolute_error: 134.2925\n",
      "Epoch 169/200\n",
      "3209/3209 [==============================] - 0s 70us/sample - loss: 30032.8256 - mean_squared_error: 30029.2910 - mean_absolute_error: 122.8164 - val_loss: 32213.5887 - val_mean_squared_error: 32210.0508 - val_mean_absolute_error: 131.3843\n",
      "Epoch 170/200\n",
      "3209/3209 [==============================] - 0s 70us/sample - loss: 30180.9938 - mean_squared_error: 30177.4707 - mean_absolute_error: 123.2869 - val_loss: 32753.5439 - val_mean_squared_error: 32750.0117 - val_mean_absolute_error: 133.3061\n",
      "Epoch 171/200\n",
      "3209/3209 [==============================] - 0s 70us/sample - loss: 29908.4153 - mean_squared_error: 29904.8867 - mean_absolute_error: 122.5577 - val_loss: 32708.3111 - val_mean_squared_error: 32704.7773 - val_mean_absolute_error: 132.0822\n",
      "Epoch 172/200\n",
      "3209/3209 [==============================] - 0s 70us/sample - loss: 30075.3384 - mean_squared_error: 30071.8008 - mean_absolute_error: 123.0195 - val_loss: 32694.1317 - val_mean_squared_error: 32690.6035 - val_mean_absolute_error: 132.9323\n",
      "Epoch 173/200\n",
      "3209/3209 [==============================] - 0s 70us/sample - loss: 29929.9499 - mean_squared_error: 29926.4277 - mean_absolute_error: 122.7184 - val_loss: 32795.7994 - val_mean_squared_error: 32792.2539 - val_mean_absolute_error: 131.3970\n",
      "Epoch 174/200\n",
      "3209/3209 [==============================] - 0s 73us/sample - loss: 29986.0898 - mean_squared_error: 29982.5664 - mean_absolute_error: 122.5750 - val_loss: 33007.4508 - val_mean_squared_error: 33003.9258 - val_mean_absolute_error: 134.0765\n",
      "Epoch 175/200\n",
      "3209/3209 [==============================] - 0s 70us/sample - loss: 29949.6563 - mean_squared_error: 29946.1348 - mean_absolute_error: 122.7559 - val_loss: 33321.5664 - val_mean_squared_error: 33318.0156 - val_mean_absolute_error: 132.5840\n",
      "Epoch 176/200\n",
      "3209/3209 [==============================] - 0s 71us/sample - loss: 29917.2934 - mean_squared_error: 29913.7422 - mean_absolute_error: 122.4333 - val_loss: 32597.7478 - val_mean_squared_error: 32594.2090 - val_mean_absolute_error: 131.4971\n",
      "Epoch 177/200\n",
      "3209/3209 [==============================] - 0s 70us/sample - loss: 29973.9347 - mean_squared_error: 29970.4238 - mean_absolute_error: 122.3389 - val_loss: 33173.6802 - val_mean_squared_error: 33170.1445 - val_mean_absolute_error: 133.4204\n",
      "Epoch 178/200\n",
      "3209/3209 [==============================] - 0s 74us/sample - loss: 29807.2460 - mean_squared_error: 29803.7148 - mean_absolute_error: 122.3774 - val_loss: 32558.9543 - val_mean_squared_error: 32555.4238 - val_mean_absolute_error: 132.7171\n",
      "Epoch 179/200\n",
      "3209/3209 [==============================] - 0s 72us/sample - loss: 29799.7313 - mean_squared_error: 29796.1973 - mean_absolute_error: 122.3304 - val_loss: 32696.6476 - val_mean_squared_error: 32693.1211 - val_mean_absolute_error: 132.7220\n",
      "Epoch 180/200\n",
      "3209/3209 [==============================] - 0s 73us/sample - loss: 29967.3023 - mean_squared_error: 29963.7676 - mean_absolute_error: 122.9521 - val_loss: 32866.9821 - val_mean_squared_error: 32863.4336 - val_mean_absolute_error: 131.6316\n",
      "Epoch 181/200\n",
      "3209/3209 [==============================] - 0s 70us/sample - loss: 29756.2321 - mean_squared_error: 29752.7051 - mean_absolute_error: 122.1908 - val_loss: 32472.2896 - val_mean_squared_error: 32468.7539 - val_mean_absolute_error: 131.8620\n",
      "Epoch 182/200\n",
      "3209/3209 [==============================] - 0s 70us/sample - loss: 30036.8691 - mean_squared_error: 30033.3418 - mean_absolute_error: 122.7575 - val_loss: 32349.7725 - val_mean_squared_error: 32346.2422 - val_mean_absolute_error: 132.1167\n",
      "Epoch 183/200\n",
      "3209/3209 [==============================] - 0s 70us/sample - loss: 29660.7309 - mean_squared_error: 29657.2051 - mean_absolute_error: 122.0060 - val_loss: 33140.1583 - val_mean_squared_error: 33136.6367 - val_mean_absolute_error: 133.2397\n",
      "Epoch 184/200\n",
      "3209/3209 [==============================] - 0s 70us/sample - loss: 29744.0235 - mean_squared_error: 29740.5098 - mean_absolute_error: 121.8819 - val_loss: 32444.8242 - val_mean_squared_error: 32441.2930 - val_mean_absolute_error: 131.7953\n",
      "Epoch 185/200\n",
      "3209/3209 [==============================] - 0s 71us/sample - loss: 29783.7403 - mean_squared_error: 29780.2227 - mean_absolute_error: 122.3582 - val_loss: 33203.5378 - val_mean_squared_error: 33199.9922 - val_mean_absolute_error: 132.0401\n",
      "Epoch 186/200\n",
      "3209/3209 [==============================] - 0s 70us/sample - loss: 29770.1416 - mean_squared_error: 29766.6113 - mean_absolute_error: 121.9994 - val_loss: 32484.2318 - val_mean_squared_error: 32480.6895 - val_mean_absolute_error: 131.0438\n",
      "Epoch 187/200\n",
      "3209/3209 [==============================] - 0s 72us/sample - loss: 29677.2014 - mean_squared_error: 29673.6699 - mean_absolute_error: 122.0702 - val_loss: 32615.3966 - val_mean_squared_error: 32611.8574 - val_mean_absolute_error: 132.0751\n",
      "Epoch 188/200\n",
      "3209/3209 [==============================] - 0s 72us/sample - loss: 29603.8272 - mean_squared_error: 29600.2988 - mean_absolute_error: 121.8167 - val_loss: 32899.3716 - val_mean_squared_error: 32895.8477 - val_mean_absolute_error: 134.2896\n",
      "Epoch 189/200\n",
      "3209/3209 [==============================] - 0s 72us/sample - loss: 29645.2197 - mean_squared_error: 29641.6797 - mean_absolute_error: 122.1906 - val_loss: 32611.1967 - val_mean_squared_error: 32607.6543 - val_mean_absolute_error: 131.3833\n",
      "Epoch 190/200\n",
      "3209/3209 [==============================] - 0s 73us/sample - loss: 29589.7187 - mean_squared_error: 29586.1934 - mean_absolute_error: 121.4007 - val_loss: 32348.9343 - val_mean_squared_error: 32345.3906 - val_mean_absolute_error: 130.9750\n",
      "Epoch 191/200\n",
      "3209/3209 [==============================] - 0s 70us/sample - loss: 29675.3124 - mean_squared_error: 29671.7715 - mean_absolute_error: 121.7799 - val_loss: 32184.3812 - val_mean_squared_error: 32180.8496 - val_mean_absolute_error: 131.3947\n",
      "Epoch 192/200\n",
      "3209/3209 [==============================] - 0s 70us/sample - loss: 29484.6086 - mean_squared_error: 29481.0820 - mean_absolute_error: 121.3347 - val_loss: 33856.9092 - val_mean_squared_error: 33853.3906 - val_mean_absolute_error: 136.3490\n",
      "Epoch 193/200\n"
     ]
    },
    {
     "name": "stdout",
     "output_type": "stream",
     "text": [
      "3209/3209 [==============================] - 0s 70us/sample - loss: 29744.0989 - mean_squared_error: 29740.5605 - mean_absolute_error: 121.9557 - val_loss: 33531.0490 - val_mean_squared_error: 33527.5273 - val_mean_absolute_error: 135.0647\n",
      "Epoch 194/200\n",
      "3209/3209 [==============================] - 0s 71us/sample - loss: 29520.3318 - mean_squared_error: 29516.7988 - mean_absolute_error: 121.1954 - val_loss: 32460.8464 - val_mean_squared_error: 32457.3066 - val_mean_absolute_error: 131.7501\n",
      "Epoch 195/200\n",
      "3209/3209 [==============================] - 0s 75us/sample - loss: 29613.3509 - mean_squared_error: 29609.8066 - mean_absolute_error: 121.5564 - val_loss: 33275.0017 - val_mean_squared_error: 33271.4805 - val_mean_absolute_error: 134.2034\n",
      "Epoch 196/200\n",
      "3209/3209 [==============================] - 0s 70us/sample - loss: 29615.9882 - mean_squared_error: 29612.4492 - mean_absolute_error: 122.0008 - val_loss: 32402.5943 - val_mean_squared_error: 32399.0645 - val_mean_absolute_error: 132.7056\n",
      "Epoch 197/200\n",
      "3209/3209 [==============================] - 0s 73us/sample - loss: 29532.1159 - mean_squared_error: 29528.5801 - mean_absolute_error: 121.2763 - val_loss: 32871.2349 - val_mean_squared_error: 32867.6914 - val_mean_absolute_error: 132.2513\n",
      "Epoch 198/200\n",
      "3209/3209 [==============================] - 0s 74us/sample - loss: 29491.0369 - mean_squared_error: 29487.5059 - mean_absolute_error: 121.6429 - val_loss: 32319.6117 - val_mean_squared_error: 32316.0723 - val_mean_absolute_error: 131.3011\n",
      "Epoch 199/200\n",
      "3209/3209 [==============================] - 0s 72us/sample - loss: 29381.6016 - mean_squared_error: 29378.0801 - mean_absolute_error: 121.2952 - val_loss: 32217.5322 - val_mean_squared_error: 32214.0000 - val_mean_absolute_error: 131.3587\n",
      "Epoch 200/200\n",
      "3209/3209 [==============================] - 0s 71us/sample - loss: 29464.5478 - mean_squared_error: 29461.0117 - mean_absolute_error: 121.3758 - val_loss: 32441.2819 - val_mean_squared_error: 32437.7441 - val_mean_absolute_error: 130.9355\n"
     ]
    }
   ],
   "source": [
    "model_4.compile(loss='mse', optimizer='adam', metrics=['mse','mae'])\n",
    "history = model_4.fit(X_train, y_train, epochs=200, batch_size=16,  verbose=1, validation_split=0.2)\n",
    "#,  callbacks=[callback])"
   ]
  },
  {
   "cell_type": "code",
   "execution_count": 118,
   "metadata": {},
   "outputs": [
    {
     "data": {
      "image/png": "[encoded data removed]",
      "text/plain": [
       "<Figure size 432x288 with 1 Axes>"
      ]
     },
     "metadata": {},
     "output_type": "display_data"
    }
   ],
   "source": [
    "# \"Loss\"\n",
    "plt.plot(history.history['loss'])\n",
    "plt.plot(history.history['val_loss'])\n",
    "plt.title('model loss')\n",
    "plt.ylabel('loss')\n",
    "plt.xlabel('epoch')\n",
    "plt.ylim((25000,60000))\n",
    "plt.legend(['train', 'validation'], loc='upper left')\n",
    "plt.show()"
   ]
  },
  {
   "cell_type": "code",
   "execution_count": 119,
   "metadata": {},
   "outputs": [
    {
     "name": "stdout",
     "output_type": "stream",
     "text": [
      "1338/1338 [==============================] - 0s 36us/sample - loss: 33488.8024 - mean_squared_error: 33485.2656 - mean_absolute_error: 131.8241\n"
     ]
    },
    {
     "data": {
      "text/plain": [
       "[33488.802388417884, 33485.266, 131.8241]"
      ]
     },
     "execution_count": 119,
     "metadata": {},
     "output_type": "execute_result"
    }
   ],
   "source": [
    "model_4.evaluate(X_test, y_test, batch_size=16)"
   ]
  },
  {
   "cell_type": "code",
   "execution_count": 120,
   "metadata": {},
   "outputs": [
    {
     "data": {
      "text/plain": [
       "array([[5166.921 , 3214.4768, 4259.397 ],\n",
       "       [4267.1777, 2470.4792, 3525.9055],\n",
       "       [4650.175 , 2959.2654, 3846.0251],\n",
       "       [4566.2593, 2548.8577, 3617.7764],\n",
       "       [5418.53  , 3170.2764, 4393.9414],\n",
       "       [5455.385 , 3552.903 , 4523.8545],\n",
       "       [3590.0217, 1928.5345, 2571.011 ],\n",
       "       [6573.2217, 4138.688 , 5372.8154],\n",
       "       [4723.045 , 3040.8254, 3924.2847],\n",
       "       [4087.8147, 2421.5657, 3104.2659]], dtype=float32)"
      ]
     },
     "execution_count": 120,
     "metadata": {},
     "output_type": "execute_result"
    }
   ],
   "source": [
    "y_pred = model_4.predict(X_test_std)\n",
    "y_pred[10:20]"
   ]
  },
  {
   "cell_type": "code",
   "execution_count": 121,
   "metadata": {},
   "outputs": [
    {
     "data": {
      "text/html": [
       "<div>\n",
       "<style scoped>\n",
       "    .dataframe tbody tr th:only-of-type {\n",
       "        vertical-align: middle;\n",
       "    }\n",
       "\n",
       "    .dataframe tbody tr th {\n",
       "        vertical-align: top;\n",
       "    }\n",
       "\n",
       "    .dataframe thead th {\n",
       "        text-align: right;\n",
       "    }\n",
       "</style>\n",
       "<table border=\"1\" class=\"dataframe\">\n",
       "  <thead>\n",
       "    <tr style=\"text-align: right;\">\n",
       "      <th></th>\n",
       "      <th>Demanda_Max</th>\n",
       "      <th>Demanda_Min</th>\n",
       "      <th>Demanda_Med</th>\n",
       "    </tr>\n",
       "  </thead>\n",
       "  <tbody>\n",
       "    <tr>\n",
       "      <th>3260</th>\n",
       "      <td>5296.0</td>\n",
       "      <td>3211.0</td>\n",
       "      <td>4334.384028</td>\n",
       "    </tr>\n",
       "    <tr>\n",
       "      <th>3595</th>\n",
       "      <td>4371.0</td>\n",
       "      <td>2467.0</td>\n",
       "      <td>3544.848611</td>\n",
       "    </tr>\n",
       "    <tr>\n",
       "      <th>2217</th>\n",
       "      <td>4957.0</td>\n",
       "      <td>3301.0</td>\n",
       "      <td>4173.518750</td>\n",
       "    </tr>\n",
       "    <tr>\n",
       "      <th>5225</th>\n",
       "      <td>4698.0</td>\n",
       "      <td>2568.0</td>\n",
       "      <td>3581.936111</td>\n",
       "    </tr>\n",
       "    <tr>\n",
       "      <th>3244</th>\n",
       "      <td>5563.0</td>\n",
       "      <td>3306.0</td>\n",
       "      <td>4522.844444</td>\n",
       "    </tr>\n",
       "    <tr>\n",
       "      <th>3302</th>\n",
       "      <td>5647.0</td>\n",
       "      <td>3471.0</td>\n",
       "      <td>4628.973611</td>\n",
       "    </tr>\n",
       "    <tr>\n",
       "      <th>3584</th>\n",
       "      <td>3377.0</td>\n",
       "      <td>1782.0</td>\n",
       "      <td>2431.307639</td>\n",
       "    </tr>\n",
       "    <tr>\n",
       "      <th>2955</th>\n",
       "      <td>6476.0</td>\n",
       "      <td>3949.0</td>\n",
       "      <td>5214.668056</td>\n",
       "    </tr>\n",
       "    <tr>\n",
       "      <th>731</th>\n",
       "      <td>4248.0</td>\n",
       "      <td>2542.0</td>\n",
       "      <td>3480.706944</td>\n",
       "    </tr>\n",
       "    <tr>\n",
       "      <th>4626</th>\n",
       "      <td>4170.0</td>\n",
       "      <td>2472.0</td>\n",
       "      <td>3241.348611</td>\n",
       "    </tr>\n",
       "  </tbody>\n",
       "</table>\n",
       "</div>"
      ],
      "text/plain": [
       "      Demanda_Max  Demanda_Min  Demanda_Med\n",
       "3260       5296.0       3211.0  4334.384028\n",
       "3595       4371.0       2467.0  3544.848611\n",
       "2217       4957.0       3301.0  4173.518750\n",
       "5225       4698.0       2568.0  3581.936111\n",
       "3244       5563.0       3306.0  4522.844444\n",
       "3302       5647.0       3471.0  4628.973611\n",
       "3584       3377.0       1782.0  2431.307639\n",
       "2955       6476.0       3949.0  5214.668056\n",
       "731        4248.0       2542.0  3480.706944\n",
       "4626       4170.0       2472.0  3241.348611"
      ]
     },
     "execution_count": 121,
     "metadata": {},
     "output_type": "execute_result"
    }
   ],
   "source": [
    "y_test_std[10:20]"
   ]
  },
  {
   "cell_type": "markdown",
   "metadata": {},
   "source": [
    "**Avaliação do modelo 3 demandas juntas**"
   ]
  },
  {
   "cell_type": "code",
   "execution_count": 122,
   "metadata": {},
   "outputs": [
    {
     "name": "stdout",
     "output_type": "stream",
     "text": [
      "MAE: 131.82409370063093\n",
      "RMSE: 182.9897995105386\n",
      "MSE log error: 0.003049192594333058\n",
      "R2 Score: 0.8915282316746639\n",
      "Adj R2 Score 0.8908479019686595\n"
     ]
    }
   ],
   "source": [
    "print('MAE:',mean_absolute_error(y_test, y_pred))\n",
    "MSE = mean_squared_error(y_test, y_pred)\n",
    "print('RMSE:',np.sqrt(MSE))\n",
    "print('MSE log error:', mean_squared_log_error(y_test, y_pred))\n",
    "R2 = r2_score(y_test, y_pred)\n",
    "print('R2 Score:', R2)\n",
    "n= len(X_train)\n",
    "p = len(X_train.columns)\n",
    "print('Adj R2 Score', 1-(1-R2)*(n-1)/(n-p-1))"
   ]
  },
  {
   "cell_type": "markdown",
   "metadata": {},
   "source": [
    "**Avaliação do modelo demanda máxima**"
   ]
  },
  {
   "cell_type": "code",
   "execution_count": 123,
   "metadata": {},
   "outputs": [
    {
     "name": "stdout",
     "output_type": "stream",
     "text": [
      "MAE: 138.14010496952073\n",
      "RMSE: 190.3153540368933\n",
      "R2 Score: 0.8995248768851889\n",
      "Adj R2 Score 0.8988947017527578\n",
      "Variance Score: 0.8995315475897727\n"
     ]
    }
   ],
   "source": [
    "#Demanda Máxima\n",
    "print('MAE:',mean_absolute_error(y_test['Demanda_Max'], y_pred[:,0]))\n",
    "MSE = mean_squared_error(y_test['Demanda_Max'], y_pred[:,0])\n",
    "print('RMSE:',np.sqrt(MSE))\n",
    "R2 = r2_score(y_test['Demanda_Max'], y_pred[:,0])\n",
    "print('R2 Score:', R2)\n",
    "n= len(X_train)\n",
    "p = len(X_train.columns)\n",
    "print('Adj R2 Score', 1-(1-R2)*(n-1)/(n-p-1))\n",
    "print('Variance Score:', explained_variance_score(y_test['Demanda_Max'], y_pred[:,0]))"
   ]
  },
  {
   "cell_type": "markdown",
   "metadata": {},
   "source": [
    "**Avaliação do modelo demanda média**"
   ]
  },
  {
   "cell_type": "code",
   "execution_count": 124,
   "metadata": {},
   "outputs": [
    {
     "name": "stdout",
     "output_type": "stream",
     "text": [
      "MAE: 119.48763924414692\n",
      "RMSE: 168.1103745627617\n",
      "R2 Score: 0.9223288400368673\n",
      "Adj R2 Score 0.9218416902628888\n",
      "Variance Score: 0.9223619328367603\n"
     ]
    }
   ],
   "source": [
    "#Demanda Média\n",
    "print('MAE:',mean_absolute_error(y_test['Demanda_Med'], y_pred[:,2]))\n",
    "MSE = mean_squared_error(y_test['Demanda_Med'], y_pred[:,2])\n",
    "print('RMSE:',np.sqrt(MSE))\n",
    "R2 = r2_score(y_test['Demanda_Med'], y_pred[:,2])\n",
    "print('R2 Score:', R2)\n",
    "n= len(X_train)\n",
    "p = len(X_train.columns)\n",
    "print('Adj R2 Score', 1-(1-R2)*(n-1)/(n-p-1))\n",
    "print('Variance Score:', explained_variance_score(y_test['Demanda_Med'], y_pred[:,2]))"
   ]
  },
  {
   "cell_type": "markdown",
   "metadata": {},
   "source": [
    "**Avaliação do modelo demanda mínima**"
   ]
  },
  {
   "cell_type": "code",
   "execution_count": 125,
   "metadata": {},
   "outputs": [
    {
     "name": "stdout",
     "output_type": "stream",
     "text": [
      "MAE: 137.8445368882252\n",
      "RMSE: 189.6701562104624\n",
      "R2 Score: 0.8527309781019358\n",
      "Adj R2 Score 0.8518073138903323\n",
      "Variance Score: 0.8527947876550308\n"
     ]
    }
   ],
   "source": [
    "#Demanda Mínima\n",
    "print('MAE:',mean_absolute_error(y_test['Demanda_Min'], y_pred[:,1]))\n",
    "MSE = mean_squared_error(y_test['Demanda_Min'], y_pred[:,1])\n",
    "print('RMSE:',np.sqrt(MSE))\n",
    "R2 = r2_score(y_test['Demanda_Min'], y_pred[:,1])\n",
    "print('R2 Score:', R2)\n",
    "n= len(X_train)\n",
    "p = len(X_train.columns)\n",
    "print('Adj R2 Score', 1-(1-R2)*(n-1)/(n-p-1))\n",
    "print('Variance Score:', explained_variance_score(y_test['Demanda_Min'], y_pred[:,1]))"
   ]
  }
 ],
 "metadata": {
  "kernelspec": {
   "display_name": "Python 3",
   "language": "python",
   "name": "python3"
  },
  "language_info": {
   "codemirror_mode": {
    "name": "ipython",
    "version": 3
   },
   "file_extension": ".py",
   "mimetype": "text/x-python",
   "name": "python",
   "nbconvert_exporter": "python",
   "pygments_lexer": "ipython3",
   "version": "3.7.7"
  }
 },
 "nbformat": 4,
 "nbformat_minor": 2
}
