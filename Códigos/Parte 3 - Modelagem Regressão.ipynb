{
 "cells": [
  {
   "cell_type": "markdown",
   "metadata": {},
   "source": [
    "# Parte 3\n",
    "\n",
    "Aqui foi realizada a modelagem para o Modelo 1, de previsão de longo prazo. O modelo consiste em prever a demanda média, máxima  e mínima em um determinado dia, levando em consideração algumas condições.\n",
    "Foram testados 3 algoritmos diferentes e realizados alguns testes para encontrar o melhor modelo de cada algoritmo."
   ]
  },
  {
   "cell_type": "code",
   "execution_count": 1,
   "metadata": {},
   "outputs": [],
   "source": [
    "import pandas as pd\n",
    "import matplotlib.pyplot as plt\n",
    "import seaborn as sns\n",
    "import numpy as np\n",
    "import datetime\n",
    "pd.set_option('display.max_columns', 50)\n",
    "import warnings\n",
    "warnings.filterwarnings(\"ignore\")"
   ]
  },
  {
   "cell_type": "code",
   "execution_count": 2,
   "metadata": {},
   "outputs": [],
   "source": [
    "df = pd.read_parquet('DadosFinais/df_final.parquet.gzip', engine='pyarrow')"
   ]
  },
  {
   "cell_type": "code",
   "execution_count": 3,
   "metadata": {},
   "outputs": [
    {
     "data": {
      "text/html": [
       "<div>\n",
       "<style scoped>\n",
       "    .dataframe tbody tr th:only-of-type {\n",
       "        vertical-align: middle;\n",
       "    }\n",
       "\n",
       "    .dataframe tbody tr th {\n",
       "        vertical-align: top;\n",
       "    }\n",
       "\n",
       "    .dataframe thead th {\n",
       "        text-align: right;\n",
       "    }\n",
       "</style>\n",
       "<table border=\"1\" class=\"dataframe\">\n",
       "  <thead>\n",
       "    <tr style=\"text-align: right;\">\n",
       "      <th></th>\n",
       "      <th>Data</th>\n",
       "      <th>Demanda_Max</th>\n",
       "      <th>Temperatura_Max</th>\n",
       "      <th>Umidade_Max</th>\n",
       "      <th>IAEBR</th>\n",
       "      <th>Atividade Industrial Sem Ajuste Sazonal</th>\n",
       "      <th>População</th>\n",
       "      <th>Com Feriado</th>\n",
       "      <th>Sábado</th>\n",
       "      <th>Domingo</th>\n",
       "      <th>Dia de Semana</th>\n",
       "      <th>Abril</th>\n",
       "      <th>Agosto</th>\n",
       "      <th>Dezembro</th>\n",
       "      <th>Fevereiro</th>\n",
       "      <th>Janeiro</th>\n",
       "      <th>Julho</th>\n",
       "      <th>Junho</th>\n",
       "      <th>Março</th>\n",
       "      <th>Maio</th>\n",
       "      <th>Novembro</th>\n",
       "      <th>Outubro</th>\n",
       "      <th>Setembro</th>\n",
       "      <th>Demanda_Min</th>\n",
       "      <th>Temperatura_Min</th>\n",
       "      <th>Umidade_Min</th>\n",
       "      <th>Demanda_Med</th>\n",
       "      <th>Temperatura_Med</th>\n",
       "      <th>Umidade_Med</th>\n",
       "    </tr>\n",
       "  </thead>\n",
       "  <tbody>\n",
       "    <tr>\n",
       "      <th>0</th>\n",
       "      <td>2006-01-01</td>\n",
       "      <td>3302.0</td>\n",
       "      <td>27.300</td>\n",
       "      <td>90.500000</td>\n",
       "      <td>108.55</td>\n",
       "      <td>91.702366</td>\n",
       "      <td>10530809</td>\n",
       "      <td>1</td>\n",
       "      <td>0</td>\n",
       "      <td>1</td>\n",
       "      <td>0</td>\n",
       "      <td>0</td>\n",
       "      <td>0</td>\n",
       "      <td>0</td>\n",
       "      <td>0</td>\n",
       "      <td>1</td>\n",
       "      <td>0</td>\n",
       "      <td>0</td>\n",
       "      <td>0</td>\n",
       "      <td>0</td>\n",
       "      <td>0</td>\n",
       "      <td>0</td>\n",
       "      <td>0</td>\n",
       "      <td>1806.0</td>\n",
       "      <td>20.925000</td>\n",
       "      <td>65.75</td>\n",
       "      <td>2277.530556</td>\n",
       "      <td>23.495903</td>\n",
       "      <td>79.253646</td>\n",
       "    </tr>\n",
       "    <tr>\n",
       "      <th>1</th>\n",
       "      <td>2006-01-02</td>\n",
       "      <td>3631.0</td>\n",
       "      <td>27.450</td>\n",
       "      <td>87.500000</td>\n",
       "      <td>108.55</td>\n",
       "      <td>91.702366</td>\n",
       "      <td>10530809</td>\n",
       "      <td>0</td>\n",
       "      <td>0</td>\n",
       "      <td>0</td>\n",
       "      <td>1</td>\n",
       "      <td>0</td>\n",
       "      <td>0</td>\n",
       "      <td>0</td>\n",
       "      <td>0</td>\n",
       "      <td>1</td>\n",
       "      <td>0</td>\n",
       "      <td>0</td>\n",
       "      <td>0</td>\n",
       "      <td>0</td>\n",
       "      <td>0</td>\n",
       "      <td>0</td>\n",
       "      <td>0</td>\n",
       "      <td>2274.0</td>\n",
       "      <td>21.725000</td>\n",
       "      <td>65.00</td>\n",
       "      <td>3045.465278</td>\n",
       "      <td>23.818993</td>\n",
       "      <td>79.031337</td>\n",
       "    </tr>\n",
       "    <tr>\n",
       "      <th>2</th>\n",
       "      <td>2006-01-03</td>\n",
       "      <td>3761.0</td>\n",
       "      <td>26.600</td>\n",
       "      <td>82.689583</td>\n",
       "      <td>108.55</td>\n",
       "      <td>91.702366</td>\n",
       "      <td>10530809</td>\n",
       "      <td>0</td>\n",
       "      <td>0</td>\n",
       "      <td>0</td>\n",
       "      <td>1</td>\n",
       "      <td>0</td>\n",
       "      <td>0</td>\n",
       "      <td>0</td>\n",
       "      <td>0</td>\n",
       "      <td>1</td>\n",
       "      <td>0</td>\n",
       "      <td>0</td>\n",
       "      <td>0</td>\n",
       "      <td>0</td>\n",
       "      <td>0</td>\n",
       "      <td>0</td>\n",
       "      <td>0</td>\n",
       "      <td>2560.0</td>\n",
       "      <td>20.716389</td>\n",
       "      <td>61.00</td>\n",
       "      <td>3213.102778</td>\n",
       "      <td>23.469557</td>\n",
       "      <td>74.780208</td>\n",
       "    </tr>\n",
       "    <tr>\n",
       "      <th>3</th>\n",
       "      <td>2006-01-04</td>\n",
       "      <td>3856.0</td>\n",
       "      <td>28.875</td>\n",
       "      <td>82.750000</td>\n",
       "      <td>108.55</td>\n",
       "      <td>91.702366</td>\n",
       "      <td>10530809</td>\n",
       "      <td>0</td>\n",
       "      <td>0</td>\n",
       "      <td>0</td>\n",
       "      <td>1</td>\n",
       "      <td>0</td>\n",
       "      <td>0</td>\n",
       "      <td>0</td>\n",
       "      <td>0</td>\n",
       "      <td>1</td>\n",
       "      <td>0</td>\n",
       "      <td>0</td>\n",
       "      <td>0</td>\n",
       "      <td>0</td>\n",
       "      <td>0</td>\n",
       "      <td>0</td>\n",
       "      <td>0</td>\n",
       "      <td>2549.0</td>\n",
       "      <td>20.700000</td>\n",
       "      <td>49.75</td>\n",
       "      <td>3256.781944</td>\n",
       "      <td>23.830365</td>\n",
       "      <td>68.286285</td>\n",
       "    </tr>\n",
       "    <tr>\n",
       "      <th>4</th>\n",
       "      <td>2006-01-05</td>\n",
       "      <td>3910.0</td>\n",
       "      <td>28.250</td>\n",
       "      <td>73.500000</td>\n",
       "      <td>108.55</td>\n",
       "      <td>91.702366</td>\n",
       "      <td>10530809</td>\n",
       "      <td>0</td>\n",
       "      <td>0</td>\n",
       "      <td>0</td>\n",
       "      <td>1</td>\n",
       "      <td>0</td>\n",
       "      <td>0</td>\n",
       "      <td>0</td>\n",
       "      <td>0</td>\n",
       "      <td>1</td>\n",
       "      <td>0</td>\n",
       "      <td>0</td>\n",
       "      <td>0</td>\n",
       "      <td>0</td>\n",
       "      <td>0</td>\n",
       "      <td>0</td>\n",
       "      <td>0</td>\n",
       "      <td>2649.0</td>\n",
       "      <td>22.166944</td>\n",
       "      <td>54.25</td>\n",
       "      <td>3314.315900</td>\n",
       "      <td>23.972667</td>\n",
       "      <td>67.117089</td>\n",
       "    </tr>\n",
       "  </tbody>\n",
       "</table>\n",
       "</div>"
      ],
      "text/plain": [
       "        Data  Demanda_Max  Temperatura_Max  Umidade_Max   IAEBR  \\\n",
       "0 2006-01-01       3302.0           27.300    90.500000  108.55   \n",
       "1 2006-01-02       3631.0           27.450    87.500000  108.55   \n",
       "2 2006-01-03       3761.0           26.600    82.689583  108.55   \n",
       "3 2006-01-04       3856.0           28.875    82.750000  108.55   \n",
       "4 2006-01-05       3910.0           28.250    73.500000  108.55   \n",
       "\n",
       "   Atividade Industrial Sem Ajuste Sazonal  População  Com Feriado  Sábado  \\\n",
       "0                                91.702366   10530809            1       0   \n",
       "1                                91.702366   10530809            0       0   \n",
       "2                                91.702366   10530809            0       0   \n",
       "3                                91.702366   10530809            0       0   \n",
       "4                                91.702366   10530809            0       0   \n",
       "\n",
       "   Domingo  Dia de Semana  Abril  Agosto  Dezembro  Fevereiro  Janeiro  Julho  \\\n",
       "0        1              0      0       0         0          0        1      0   \n",
       "1        0              1      0       0         0          0        1      0   \n",
       "2        0              1      0       0         0          0        1      0   \n",
       "3        0              1      0       0         0          0        1      0   \n",
       "4        0              1      0       0         0          0        1      0   \n",
       "\n",
       "   Junho  Março  Maio  Novembro  Outubro  Setembro  Demanda_Min  \\\n",
       "0      0      0     0         0        0         0       1806.0   \n",
       "1      0      0     0         0        0         0       2274.0   \n",
       "2      0      0     0         0        0         0       2560.0   \n",
       "3      0      0     0         0        0         0       2549.0   \n",
       "4      0      0     0         0        0         0       2649.0   \n",
       "\n",
       "   Temperatura_Min  Umidade_Min  Demanda_Med  Temperatura_Med  Umidade_Med  \n",
       "0        20.925000        65.75  2277.530556        23.495903    79.253646  \n",
       "1        21.725000        65.00  3045.465278        23.818993    79.031337  \n",
       "2        20.716389        61.00  3213.102778        23.469557    74.780208  \n",
       "3        20.700000        49.75  3256.781944        23.830365    68.286285  \n",
       "4        22.166944        54.25  3314.315900        23.972667    67.117089  "
      ]
     },
     "execution_count": 3,
     "metadata": {},
     "output_type": "execute_result"
    }
   ],
   "source": [
    "df.head()"
   ]
  },
  {
   "cell_type": "markdown",
   "metadata": {},
   "source": [
    "### Normalização e divisão dos dados"
   ]
  },
  {
   "cell_type": "code",
   "execution_count": 4,
   "metadata": {},
   "outputs": [],
   "source": [
    "from sklearn.model_selection import train_test_split\n",
    "from sklearn.linear_model import LogisticRegression\n",
    "from sklearn.metrics import confusion_matrix\n",
    "from sklearn import metrics\n",
    "from sklearn.preprocessing import StandardScaler"
   ]
  },
  {
   "cell_type": "code",
   "execution_count": 5,
   "metadata": {},
   "outputs": [
    {
     "data": {
      "text/plain": [
       "Index(['Data', 'Demanda_Max', 'Temperatura_Max', 'Umidade_Max', 'IAEBR',\n",
       "       'Atividade Industrial Sem Ajuste Sazonal', 'População', 'Com Feriado',\n",
       "       'Sábado', 'Domingo', 'Dia de Semana', 'Abril', 'Agosto', 'Dezembro',\n",
       "       'Fevereiro', 'Janeiro', 'Julho', 'Junho', 'Março', 'Maio', 'Novembro',\n",
       "       'Outubro', 'Setembro', 'Demanda_Min', 'Temperatura_Min', 'Umidade_Min',\n",
       "       'Demanda_Med', 'Temperatura_Med', 'Umidade_Med'],\n",
       "      dtype='object')"
      ]
     },
     "execution_count": 5,
     "metadata": {},
     "output_type": "execute_result"
    }
   ],
   "source": [
    "df.columns"
   ]
  },
  {
   "cell_type": "code",
   "execution_count": 6,
   "metadata": {},
   "outputs": [],
   "source": [
    "X = df[['IAEBR', 'Atividade Industrial Sem Ajuste Sazonal', 'População', 'Com Feriado', 'Domingo', 'Sábado',\n",
    "                 'Dia de Semana', 'Temperatura_Max', 'Umidade_Max', 'Temperatura_Min', 'Umidade_Min', 'Temperatura_Med',\n",
    "                   'Umidade_Med','Abril', 'Agosto', 'Dezembro',\n",
    "       'Fevereiro', 'Janeiro', 'Julho', 'Junho', 'Março', 'Maio', 'Novembro',\n",
    "       'Outubro', 'Setembro']]\n",
    "Y = df[['Demanda_Max', 'Demanda_Min', 'Demanda_Med']]"
   ]
  },
  {
   "cell_type": "code",
   "execution_count": 7,
   "metadata": {},
   "outputs": [],
   "source": [
    "scaler = StandardScaler()\n",
    "X_std = pd.DataFrame(scaler.fit_transform(X), columns = X.columns)"
   ]
  },
  {
   "cell_type": "code",
   "execution_count": 8,
   "metadata": {},
   "outputs": [],
   "source": [
    "#Dividir entre dataset de treino e teste\n",
    "X_train,X_test,y_train,y_test = train_test_split(X,Y,test_size=0.25,random_state=0)\n",
    "\n",
    "#Dividir entre dataset de treino e validação\n",
    "X_train,X_val,y_train,y_val = train_test_split(X_train,y_train,test_size=0.25,random_state=0)\n",
    "\n",
    "#Dividir entre dataset de treino e teste dados normalizados\n",
    "X_train_std,X_test_std,y_train_std,y_test_std = train_test_split(X_std,Y,test_size=0.25,random_state=0)\n",
    "\n",
    "#Dividir entre dataset de treino e validação\n",
    "X_train_std,X_val_std,y_train_std,y_val_std = train_test_split(X_train_std,y_train_std,test_size=0.25,random_state=0)"
   ]
  },
  {
   "cell_type": "code",
   "execution_count": 9,
   "metadata": {},
   "outputs": [
    {
     "data": {
      "text/html": [
       "<div>\n",
       "<style scoped>\n",
       "    .dataframe tbody tr th:only-of-type {\n",
       "        vertical-align: middle;\n",
       "    }\n",
       "\n",
       "    .dataframe tbody tr th {\n",
       "        vertical-align: top;\n",
       "    }\n",
       "\n",
       "    .dataframe thead th {\n",
       "        text-align: right;\n",
       "    }\n",
       "</style>\n",
       "<table border=\"1\" class=\"dataframe\">\n",
       "  <thead>\n",
       "    <tr style=\"text-align: right;\">\n",
       "      <th></th>\n",
       "      <th>IAEBR</th>\n",
       "      <th>Atividade Industrial Sem Ajuste Sazonal</th>\n",
       "      <th>População</th>\n",
       "      <th>Com Feriado</th>\n",
       "      <th>Domingo</th>\n",
       "      <th>Sábado</th>\n",
       "      <th>Dia de Semana</th>\n",
       "      <th>Temperatura_Max</th>\n",
       "      <th>Umidade_Max</th>\n",
       "      <th>Temperatura_Min</th>\n",
       "      <th>Umidade_Min</th>\n",
       "      <th>Temperatura_Med</th>\n",
       "      <th>Umidade_Med</th>\n",
       "      <th>Abril</th>\n",
       "      <th>Agosto</th>\n",
       "      <th>Dezembro</th>\n",
       "      <th>Fevereiro</th>\n",
       "      <th>Janeiro</th>\n",
       "      <th>Julho</th>\n",
       "      <th>Junho</th>\n",
       "      <th>Março</th>\n",
       "      <th>Maio</th>\n",
       "      <th>Novembro</th>\n",
       "      <th>Outubro</th>\n",
       "      <th>Setembro</th>\n",
       "    </tr>\n",
       "  </thead>\n",
       "  <tbody>\n",
       "    <tr>\n",
       "      <th>2561</th>\n",
       "      <td>0.446584</td>\n",
       "      <td>-0.004444</td>\n",
       "      <td>0.202081</td>\n",
       "      <td>-0.19084</td>\n",
       "      <td>-0.408471</td>\n",
       "      <td>2.450024</td>\n",
       "      <td>-1.580829</td>\n",
       "      <td>0.314059</td>\n",
       "      <td>0.745505</td>\n",
       "      <td>0.893788</td>\n",
       "      <td>0.886674</td>\n",
       "      <td>0.977345</td>\n",
       "      <td>0.144848</td>\n",
       "      <td>-0.303046</td>\n",
       "      <td>-0.305978</td>\n",
       "      <td>-0.297125</td>\n",
       "      <td>-0.293384</td>\n",
       "      <td>3.241200</td>\n",
       "      <td>-0.308528</td>\n",
       "      <td>-0.303046</td>\n",
       "      <td>-0.308528</td>\n",
       "      <td>-0.308528</td>\n",
       "      <td>-0.291878</td>\n",
       "      <td>-0.297125</td>\n",
       "      <td>-0.291878</td>\n",
       "    </tr>\n",
       "    <tr>\n",
       "      <th>4531</th>\n",
       "      <td>-0.267940</td>\n",
       "      <td>-1.421138</td>\n",
       "      <td>1.111192</td>\n",
       "      <td>-0.19084</td>\n",
       "      <td>-0.408471</td>\n",
       "      <td>-0.408159</td>\n",
       "      <td>0.632580</td>\n",
       "      <td>0.323066</td>\n",
       "      <td>-1.349620</td>\n",
       "      <td>0.070453</td>\n",
       "      <td>-1.310897</td>\n",
       "      <td>0.162285</td>\n",
       "      <td>-1.220405</td>\n",
       "      <td>-0.303046</td>\n",
       "      <td>-0.305978</td>\n",
       "      <td>-0.297125</td>\n",
       "      <td>-0.293384</td>\n",
       "      <td>-0.308528</td>\n",
       "      <td>-0.308528</td>\n",
       "      <td>-0.303046</td>\n",
       "      <td>-0.308528</td>\n",
       "      <td>3.241200</td>\n",
       "      <td>-0.291878</td>\n",
       "      <td>-0.297125</td>\n",
       "      <td>-0.291878</td>\n",
       "    </tr>\n",
       "    <tr>\n",
       "      <th>1923</th>\n",
       "      <td>0.505610</td>\n",
       "      <td>0.637665</td>\n",
       "      <td>-0.154579</td>\n",
       "      <td>-0.19084</td>\n",
       "      <td>-0.408471</td>\n",
       "      <td>-0.408159</td>\n",
       "      <td>0.632580</td>\n",
       "      <td>0.449166</td>\n",
       "      <td>-0.525582</td>\n",
       "      <td>0.118494</td>\n",
       "      <td>-0.727471</td>\n",
       "      <td>0.136544</td>\n",
       "      <td>-0.548160</td>\n",
       "      <td>3.299832</td>\n",
       "      <td>-0.305978</td>\n",
       "      <td>-0.297125</td>\n",
       "      <td>-0.293384</td>\n",
       "      <td>-0.308528</td>\n",
       "      <td>-0.308528</td>\n",
       "      <td>-0.303046</td>\n",
       "      <td>-0.308528</td>\n",
       "      <td>-0.308528</td>\n",
       "      <td>-0.291878</td>\n",
       "      <td>-0.297125</td>\n",
       "      <td>-0.291878</td>\n",
       "    </tr>\n",
       "    <tr>\n",
       "      <th>3520</th>\n",
       "      <td>0.635052</td>\n",
       "      <td>-0.424634</td>\n",
       "      <td>0.579613</td>\n",
       "      <td>-0.19084</td>\n",
       "      <td>-0.408471</td>\n",
       "      <td>2.450024</td>\n",
       "      <td>-1.580829</td>\n",
       "      <td>0.075369</td>\n",
       "      <td>0.646199</td>\n",
       "      <td>0.027216</td>\n",
       "      <td>-0.299626</td>\n",
       "      <td>-0.026551</td>\n",
       "      <td>-0.381787</td>\n",
       "      <td>-0.303046</td>\n",
       "      <td>3.268214</td>\n",
       "      <td>-0.297125</td>\n",
       "      <td>-0.293384</td>\n",
       "      <td>-0.308528</td>\n",
       "      <td>-0.308528</td>\n",
       "      <td>-0.303046</td>\n",
       "      <td>-0.308528</td>\n",
       "      <td>-0.308528</td>\n",
       "      <td>-0.291878</td>\n",
       "      <td>-0.297125</td>\n",
       "      <td>-0.291878</td>\n",
       "    </tr>\n",
       "    <tr>\n",
       "      <th>280</th>\n",
       "      <td>-1.623465</td>\n",
       "      <td>0.287218</td>\n",
       "      <td>-1.649184</td>\n",
       "      <td>-0.19084</td>\n",
       "      <td>2.448155</td>\n",
       "      <td>-0.408159</td>\n",
       "      <td>-1.580829</td>\n",
       "      <td>-0.338960</td>\n",
       "      <td>-0.176466</td>\n",
       "      <td>-0.318682</td>\n",
       "      <td>-0.571891</td>\n",
       "      <td>-0.440370</td>\n",
       "      <td>-0.467766</td>\n",
       "      <td>-0.303046</td>\n",
       "      <td>-0.305978</td>\n",
       "      <td>-0.297125</td>\n",
       "      <td>-0.293384</td>\n",
       "      <td>-0.308528</td>\n",
       "      <td>-0.308528</td>\n",
       "      <td>-0.303046</td>\n",
       "      <td>-0.308528</td>\n",
       "      <td>-0.308528</td>\n",
       "      <td>-0.291878</td>\n",
       "      <td>3.365589</td>\n",
       "      <td>-0.291878</td>\n",
       "    </tr>\n",
       "  </tbody>\n",
       "</table>\n",
       "</div>"
      ],
      "text/plain": [
       "         IAEBR  Atividade Industrial Sem Ajuste Sazonal  População  \\\n",
       "2561  0.446584                                -0.004444   0.202081   \n",
       "4531 -0.267940                                -1.421138   1.111192   \n",
       "1923  0.505610                                 0.637665  -0.154579   \n",
       "3520  0.635052                                -0.424634   0.579613   \n",
       "280  -1.623465                                 0.287218  -1.649184   \n",
       "\n",
       "      Com Feriado   Domingo    Sábado  Dia de Semana  Temperatura_Max  \\\n",
       "2561     -0.19084 -0.408471  2.450024      -1.580829         0.314059   \n",
       "4531     -0.19084 -0.408471 -0.408159       0.632580         0.323066   \n",
       "1923     -0.19084 -0.408471 -0.408159       0.632580         0.449166   \n",
       "3520     -0.19084 -0.408471  2.450024      -1.580829         0.075369   \n",
       "280      -0.19084  2.448155 -0.408159      -1.580829        -0.338960   \n",
       "\n",
       "      Umidade_Max  Temperatura_Min  Umidade_Min  Temperatura_Med  Umidade_Med  \\\n",
       "2561     0.745505         0.893788     0.886674         0.977345     0.144848   \n",
       "4531    -1.349620         0.070453    -1.310897         0.162285    -1.220405   \n",
       "1923    -0.525582         0.118494    -0.727471         0.136544    -0.548160   \n",
       "3520     0.646199         0.027216    -0.299626        -0.026551    -0.381787   \n",
       "280     -0.176466        -0.318682    -0.571891        -0.440370    -0.467766   \n",
       "\n",
       "         Abril    Agosto  Dezembro  Fevereiro   Janeiro     Julho     Junho  \\\n",
       "2561 -0.303046 -0.305978 -0.297125  -0.293384  3.241200 -0.308528 -0.303046   \n",
       "4531 -0.303046 -0.305978 -0.297125  -0.293384 -0.308528 -0.308528 -0.303046   \n",
       "1923  3.299832 -0.305978 -0.297125  -0.293384 -0.308528 -0.308528 -0.303046   \n",
       "3520 -0.303046  3.268214 -0.297125  -0.293384 -0.308528 -0.308528 -0.303046   \n",
       "280  -0.303046 -0.305978 -0.297125  -0.293384 -0.308528 -0.308528 -0.303046   \n",
       "\n",
       "         Março      Maio  Novembro   Outubro  Setembro  \n",
       "2561 -0.308528 -0.308528 -0.291878 -0.297125 -0.291878  \n",
       "4531 -0.308528  3.241200 -0.291878 -0.297125 -0.291878  \n",
       "1923 -0.308528 -0.308528 -0.291878 -0.297125 -0.291878  \n",
       "3520 -0.308528 -0.308528 -0.291878 -0.297125 -0.291878  \n",
       "280  -0.308528 -0.308528 -0.291878  3.365589 -0.291878  "
      ]
     },
     "execution_count": 9,
     "metadata": {},
     "output_type": "execute_result"
    }
   ],
   "source": [
    "X_train_std.head()"
   ]
  },
  {
   "cell_type": "code",
   "execution_count": 10,
   "metadata": {},
   "outputs": [
    {
     "data": {
      "text/html": [
       "<div>\n",
       "<style scoped>\n",
       "    .dataframe tbody tr th:only-of-type {\n",
       "        vertical-align: middle;\n",
       "    }\n",
       "\n",
       "    .dataframe tbody tr th {\n",
       "        vertical-align: top;\n",
       "    }\n",
       "\n",
       "    .dataframe thead th {\n",
       "        text-align: right;\n",
       "    }\n",
       "</style>\n",
       "<table border=\"1\" class=\"dataframe\">\n",
       "  <thead>\n",
       "    <tr style=\"text-align: right;\">\n",
       "      <th></th>\n",
       "      <th>IAEBR</th>\n",
       "      <th>Atividade Industrial Sem Ajuste Sazonal</th>\n",
       "      <th>População</th>\n",
       "      <th>Com Feriado</th>\n",
       "      <th>Domingo</th>\n",
       "      <th>Sábado</th>\n",
       "      <th>Dia de Semana</th>\n",
       "      <th>Temperatura_Max</th>\n",
       "      <th>Umidade_Max</th>\n",
       "      <th>Temperatura_Min</th>\n",
       "      <th>Umidade_Min</th>\n",
       "      <th>Temperatura_Med</th>\n",
       "      <th>Umidade_Med</th>\n",
       "      <th>Abril</th>\n",
       "      <th>Agosto</th>\n",
       "      <th>Dezembro</th>\n",
       "      <th>Fevereiro</th>\n",
       "      <th>Janeiro</th>\n",
       "      <th>Julho</th>\n",
       "      <th>Junho</th>\n",
       "      <th>Março</th>\n",
       "      <th>Maio</th>\n",
       "      <th>Novembro</th>\n",
       "      <th>Outubro</th>\n",
       "      <th>Setembro</th>\n",
       "    </tr>\n",
       "  </thead>\n",
       "  <tbody>\n",
       "    <tr>\n",
       "      <th>2561</th>\n",
       "      <td>139.32</td>\n",
       "      <td>100.156240</td>\n",
       "      <td>11066527</td>\n",
       "      <td>0</td>\n",
       "      <td>0</td>\n",
       "      <td>1</td>\n",
       "      <td>0</td>\n",
       "      <td>25.100</td>\n",
       "      <td>91.215972</td>\n",
       "      <td>21.684514</td>\n",
       "      <td>74.00</td>\n",
       "      <td>24.401137</td>\n",
       "      <td>77.962760</td>\n",
       "      <td>0</td>\n",
       "      <td>0</td>\n",
       "      <td>0</td>\n",
       "      <td>0</td>\n",
       "      <td>1</td>\n",
       "      <td>0</td>\n",
       "      <td>0</td>\n",
       "      <td>0</td>\n",
       "      <td>0</td>\n",
       "      <td>0</td>\n",
       "      <td>0</td>\n",
       "      <td>0</td>\n",
       "    </tr>\n",
       "    <tr>\n",
       "      <th>4531</th>\n",
       "      <td>132.42</td>\n",
       "      <td>86.379788</td>\n",
       "      <td>11329605</td>\n",
       "      <td>0</td>\n",
       "      <td>0</td>\n",
       "      <td>0</td>\n",
       "      <td>1</td>\n",
       "      <td>25.150</td>\n",
       "      <td>74.250000</td>\n",
       "      <td>17.400000</td>\n",
       "      <td>45.75</td>\n",
       "      <td>20.216155</td>\n",
       "      <td>65.656684</td>\n",
       "      <td>0</td>\n",
       "      <td>0</td>\n",
       "      <td>0</td>\n",
       "      <td>0</td>\n",
       "      <td>0</td>\n",
       "      <td>0</td>\n",
       "      <td>0</td>\n",
       "      <td>0</td>\n",
       "      <td>1</td>\n",
       "      <td>0</td>\n",
       "      <td>0</td>\n",
       "      <td>0</td>\n",
       "    </tr>\n",
       "    <tr>\n",
       "      <th>1923</th>\n",
       "      <td>139.89</td>\n",
       "      <td>106.400341</td>\n",
       "      <td>10963317</td>\n",
       "      <td>0</td>\n",
       "      <td>0</td>\n",
       "      <td>0</td>\n",
       "      <td>1</td>\n",
       "      <td>25.850</td>\n",
       "      <td>80.922917</td>\n",
       "      <td>17.650000</td>\n",
       "      <td>53.25</td>\n",
       "      <td>20.083984</td>\n",
       "      <td>71.716146</td>\n",
       "      <td>1</td>\n",
       "      <td>0</td>\n",
       "      <td>0</td>\n",
       "      <td>0</td>\n",
       "      <td>0</td>\n",
       "      <td>0</td>\n",
       "      <td>0</td>\n",
       "      <td>0</td>\n",
       "      <td>0</td>\n",
       "      <td>0</td>\n",
       "      <td>0</td>\n",
       "      <td>0</td>\n",
       "    </tr>\n",
       "    <tr>\n",
       "      <th>3520</th>\n",
       "      <td>141.14</td>\n",
       "      <td>96.070164</td>\n",
       "      <td>11175777</td>\n",
       "      <td>0</td>\n",
       "      <td>0</td>\n",
       "      <td>1</td>\n",
       "      <td>0</td>\n",
       "      <td>23.775</td>\n",
       "      <td>90.411806</td>\n",
       "      <td>17.175000</td>\n",
       "      <td>58.75</td>\n",
       "      <td>19.246563</td>\n",
       "      <td>73.215799</td>\n",
       "      <td>0</td>\n",
       "      <td>1</td>\n",
       "      <td>0</td>\n",
       "      <td>0</td>\n",
       "      <td>0</td>\n",
       "      <td>0</td>\n",
       "      <td>0</td>\n",
       "      <td>0</td>\n",
       "      <td>0</td>\n",
       "      <td>0</td>\n",
       "      <td>0</td>\n",
       "      <td>0</td>\n",
       "    </tr>\n",
       "    <tr>\n",
       "      <th>280</th>\n",
       "      <td>119.33</td>\n",
       "      <td>102.992465</td>\n",
       "      <td>10530809</td>\n",
       "      <td>0</td>\n",
       "      <td>1</td>\n",
       "      <td>0</td>\n",
       "      <td>0</td>\n",
       "      <td>21.475</td>\n",
       "      <td>83.750000</td>\n",
       "      <td>15.375000</td>\n",
       "      <td>55.25</td>\n",
       "      <td>17.121780</td>\n",
       "      <td>72.440799</td>\n",
       "      <td>0</td>\n",
       "      <td>0</td>\n",
       "      <td>0</td>\n",
       "      <td>0</td>\n",
       "      <td>0</td>\n",
       "      <td>0</td>\n",
       "      <td>0</td>\n",
       "      <td>0</td>\n",
       "      <td>0</td>\n",
       "      <td>0</td>\n",
       "      <td>1</td>\n",
       "      <td>0</td>\n",
       "    </tr>\n",
       "  </tbody>\n",
       "</table>\n",
       "</div>"
      ],
      "text/plain": [
       "       IAEBR  Atividade Industrial Sem Ajuste Sazonal  População  Com Feriado  \\\n",
       "2561  139.32                               100.156240   11066527            0   \n",
       "4531  132.42                                86.379788   11329605            0   \n",
       "1923  139.89                               106.400341   10963317            0   \n",
       "3520  141.14                                96.070164   11175777            0   \n",
       "280   119.33                               102.992465   10530809            0   \n",
       "\n",
       "      Domingo  Sábado  Dia de Semana  Temperatura_Max  Umidade_Max  \\\n",
       "2561        0       1              0           25.100    91.215972   \n",
       "4531        0       0              1           25.150    74.250000   \n",
       "1923        0       0              1           25.850    80.922917   \n",
       "3520        0       1              0           23.775    90.411806   \n",
       "280         1       0              0           21.475    83.750000   \n",
       "\n",
       "      Temperatura_Min  Umidade_Min  Temperatura_Med  Umidade_Med  Abril  \\\n",
       "2561        21.684514        74.00        24.401137    77.962760      0   \n",
       "4531        17.400000        45.75        20.216155    65.656684      0   \n",
       "1923        17.650000        53.25        20.083984    71.716146      1   \n",
       "3520        17.175000        58.75        19.246563    73.215799      0   \n",
       "280         15.375000        55.25        17.121780    72.440799      0   \n",
       "\n",
       "      Agosto  Dezembro  Fevereiro  Janeiro  Julho  Junho  Março  Maio  \\\n",
       "2561       0         0          0        1      0      0      0     0   \n",
       "4531       0         0          0        0      0      0      0     1   \n",
       "1923       0         0          0        0      0      0      0     0   \n",
       "3520       1         0          0        0      0      0      0     0   \n",
       "280        0         0          0        0      0      0      0     0   \n",
       "\n",
       "      Novembro  Outubro  Setembro  \n",
       "2561         0        0         0  \n",
       "4531         0        0         0  \n",
       "1923         0        0         0  \n",
       "3520         0        0         0  \n",
       "280          0        1         0  "
      ]
     },
     "execution_count": 10,
     "metadata": {},
     "output_type": "execute_result"
    }
   ],
   "source": [
    "X_train.head()"
   ]
  },
  {
   "cell_type": "markdown",
   "metadata": {},
   "source": [
    "### Random Forest"
   ]
  },
  {
   "cell_type": "markdown",
   "metadata": {},
   "source": [
    "**Dados não normalizados**"
   ]
  },
  {
   "cell_type": "code",
   "execution_count": 11,
   "metadata": {},
   "outputs": [],
   "source": [
    "from sklearn.ensemble import RandomForestRegressor\n",
    "from sklearn.datasets import make_regression"
   ]
  },
  {
   "cell_type": "code",
   "execution_count": 12,
   "metadata": {},
   "outputs": [
    {
     "data": {
      "text/plain": [
       "RandomForestRegressor(n_estimators=200, oob_score=True)"
      ]
     },
     "execution_count": 12,
     "metadata": {},
     "output_type": "execute_result"
    }
   ],
   "source": [
    "RF_regressor = RandomForestRegressor(n_estimators=200, oob_score=True)\n",
    "RF_regressor.fit(X_train, y_train)"
   ]
  },
  {
   "cell_type": "code",
   "execution_count": 13,
   "metadata": {},
   "outputs": [
    {
     "data": {
      "text/plain": [
       "array([[4452.915     , 2505.73      , 3607.18587847],\n",
       "       [4201.875     , 2215.47      , 3325.93712738],\n",
       "       [4630.445     , 2627.1       , 3805.30938542],\n",
       "       [4750.21      , 2991.04      , 3930.47629005],\n",
       "       [4666.635     , 3142.72      , 3799.91264236],\n",
       "       [4591.345     , 2533.75      , 3740.44567769],\n",
       "       [3463.78      , 1948.54      , 2468.27656951],\n",
       "       [3998.675     , 2276.21      , 3272.29506597],\n",
       "       [4036.68      , 2341.305     , 3030.52159722],\n",
       "       [4918.84      , 2756.73      , 3956.63093403]])"
      ]
     },
     "execution_count": 13,
     "metadata": {},
     "output_type": "execute_result"
    }
   ],
   "source": [
    "y_pred = RF_regressor.predict(X_val)\n",
    "y_pred[:10]"
   ]
  },
  {
   "cell_type": "markdown",
   "metadata": {},
   "source": [
    "#### Avaliação do Modelo"
   ]
  },
  {
   "cell_type": "code",
   "execution_count": 14,
   "metadata": {},
   "outputs": [],
   "source": [
    "from sklearn.metrics import mean_squared_error, mean_absolute_error, mean_squared_log_error, r2_score, explained_variance_score"
   ]
  },
  {
   "cell_type": "code",
   "execution_count": 15,
   "metadata": {},
   "outputs": [
    {
     "name": "stdout",
     "output_type": "stream",
     "text": [
      "MAE: 136.43401111284976\n",
      "RMSE: 192.81810065682708\n",
      "R2 Score: 0.8684653525212805\n",
      "Adj R2 Score 0.8673629837023171\n"
     ]
    }
   ],
   "source": [
    "print('MAE:',mean_absolute_error(y_val, y_pred))\n",
    "MSE = mean_squared_error(y_val, y_pred)\n",
    "print('RMSE:', np.sqrt(MSE))\n",
    "R2 = r2_score(y_val, y_pred)\n",
    "print('R2 Score:', R2)\n",
    "n= len(X_train)\n",
    "p = len(X_train.columns)\n",
    "print('Adj R2 Score', 1-(1-R2)*(n-1)/(n-p-1))"
   ]
  },
  {
   "cell_type": "code",
   "execution_count": 16,
   "metadata": {},
   "outputs": [
    {
     "data": {
      "text/plain": [
       "Text(0.5, 1.0, 'Importância de cada feature')"
      ]
     },
     "execution_count": 16,
     "metadata": {},
     "output_type": "execute_result"
    },
    {
     "data": {
      "image/png": "[encoded data removed]",
      "text/plain": [
       "<Figure size 720x576 with 1 Axes>"
      ]
     },
     "metadata": {
      "needs_background": "light"
     },
     "output_type": "display_data"
    }
   ],
   "source": [
    "plt.figure(figsize=(10,8 ));\n",
    "importances = pd.Series(data=RF_regressor.feature_importances_, index=['valor', 'Sem ajuste sazonal',\n",
    "       'População', 'Com Feriado', 'Sunday', 'Saturday',\n",
    "       'Dia de Semana','Temperatura_Max',\n",
    "       'Umidade_Max', 'Temperatura_Min', 'Umidade_Min', 'Temperatura_Med',\n",
    "       'Umidade_Med', 'April', 'August', 'December', 'February',\n",
    "       'January', 'July', 'June', 'March', 'May', 'November', 'October',\n",
    "       'September' ]).sort_values(ascending=False)\n",
    "sns.barplot(x=importances, y=importances.index, orient='h').set_title('Importância de cada feature')"
   ]
  },
  {
   "cell_type": "markdown",
   "metadata": {},
   "source": [
    "**Com dados normalizados**"
   ]
  },
  {
   "cell_type": "code",
   "execution_count": 17,
   "metadata": {},
   "outputs": [
    {
     "data": {
      "text/plain": [
       "RandomForestRegressor(n_estimators=200, oob_score=True)"
      ]
     },
     "execution_count": 17,
     "metadata": {},
     "output_type": "execute_result"
    }
   ],
   "source": [
    "RF_regressor = RandomForestRegressor(n_estimators=200, oob_score=True)\n",
    "RF_regressor.fit(X_train_std, y_train_std)"
   ]
  },
  {
   "cell_type": "code",
   "execution_count": 18,
   "metadata": {},
   "outputs": [
    {
     "data": {
      "text/plain": [
       "array([[4460.585     , 2528.575     , 3624.91144444],\n",
       "       [4208.06      , 2227.025     , 3330.21814685],\n",
       "       [4629.63      , 2637.21      , 3814.94003217],\n",
       "       [4766.175     , 2984.425     , 3931.65087322],\n",
       "       [4702.9       , 3135.995     , 3807.12299653],\n",
       "       [4580.85      , 2498.305     , 3720.36314882],\n",
       "       [3470.31      , 1955.63      , 2464.48965938],\n",
       "       [3992.025     , 2269.27      , 3271.57045833],\n",
       "       [4059.195     , 2347.83      , 3041.30938889],\n",
       "       [4979.83      , 2802.845     , 4003.58107639]])"
      ]
     },
     "execution_count": 18,
     "metadata": {},
     "output_type": "execute_result"
    }
   ],
   "source": [
    "y_pred = RF_regressor.predict(X_val_std)\n",
    "y_pred[:10]"
   ]
  },
  {
   "cell_type": "code",
   "execution_count": 19,
   "metadata": {},
   "outputs": [
    {
     "data": {
      "text/html": [
       "<div>\n",
       "<style scoped>\n",
       "    .dataframe tbody tr th:only-of-type {\n",
       "        vertical-align: middle;\n",
       "    }\n",
       "\n",
       "    .dataframe tbody tr th {\n",
       "        vertical-align: top;\n",
       "    }\n",
       "\n",
       "    .dataframe thead th {\n",
       "        text-align: right;\n",
       "    }\n",
       "</style>\n",
       "<table border=\"1\" class=\"dataframe\">\n",
       "  <thead>\n",
       "    <tr style=\"text-align: right;\">\n",
       "      <th></th>\n",
       "      <th>Demanda_Max</th>\n",
       "      <th>Demanda_Min</th>\n",
       "      <th>Demanda_Med</th>\n",
       "    </tr>\n",
       "  </thead>\n",
       "  <tbody>\n",
       "    <tr>\n",
       "      <th>4678</th>\n",
       "      <td>4571.0</td>\n",
       "      <td>2787.0</td>\n",
       "      <td>3782.426389</td>\n",
       "    </tr>\n",
       "    <tr>\n",
       "      <th>892</th>\n",
       "      <td>4343.0</td>\n",
       "      <td>2330.0</td>\n",
       "      <td>3401.870833</td>\n",
       "    </tr>\n",
       "    <tr>\n",
       "      <th>3215</th>\n",
       "      <td>4523.0</td>\n",
       "      <td>2621.0</td>\n",
       "      <td>3748.583333</td>\n",
       "    </tr>\n",
       "    <tr>\n",
       "      <th>1796</th>\n",
       "      <td>4984.0</td>\n",
       "      <td>3048.0</td>\n",
       "      <td>4106.559722</td>\n",
       "    </tr>\n",
       "    <tr>\n",
       "      <th>5159</th>\n",
       "      <td>4901.0</td>\n",
       "      <td>3148.0</td>\n",
       "      <td>4048.491667</td>\n",
       "    </tr>\n",
       "    <tr>\n",
       "      <th>3189</th>\n",
       "      <td>4614.0</td>\n",
       "      <td>2598.0</td>\n",
       "      <td>3825.556944</td>\n",
       "    </tr>\n",
       "    <tr>\n",
       "      <th>91</th>\n",
       "      <td>3470.0</td>\n",
       "      <td>1872.0</td>\n",
       "      <td>2413.688889</td>\n",
       "    </tr>\n",
       "    <tr>\n",
       "      <th>1384</th>\n",
       "      <td>3967.0</td>\n",
       "      <td>2276.0</td>\n",
       "      <td>3245.770833</td>\n",
       "    </tr>\n",
       "    <tr>\n",
       "      <th>1637</th>\n",
       "      <td>4262.0</td>\n",
       "      <td>2342.0</td>\n",
       "      <td>3064.450000</td>\n",
       "    </tr>\n",
       "    <tr>\n",
       "      <th>5020</th>\n",
       "      <td>4836.0</td>\n",
       "      <td>2508.0</td>\n",
       "      <td>3852.847917</td>\n",
       "    </tr>\n",
       "  </tbody>\n",
       "</table>\n",
       "</div>"
      ],
      "text/plain": [
       "      Demanda_Max  Demanda_Min  Demanda_Med\n",
       "4678       4571.0       2787.0  3782.426389\n",
       "892        4343.0       2330.0  3401.870833\n",
       "3215       4523.0       2621.0  3748.583333\n",
       "1796       4984.0       3048.0  4106.559722\n",
       "5159       4901.0       3148.0  4048.491667\n",
       "3189       4614.0       2598.0  3825.556944\n",
       "91         3470.0       1872.0  2413.688889\n",
       "1384       3967.0       2276.0  3245.770833\n",
       "1637       4262.0       2342.0  3064.450000\n",
       "5020       4836.0       2508.0  3852.847917"
      ]
     },
     "execution_count": 19,
     "metadata": {},
     "output_type": "execute_result"
    }
   ],
   "source": [
    "y_val_std[:10]"
   ]
  },
  {
   "cell_type": "markdown",
   "metadata": {},
   "source": [
    "**Avaliação do modelo**"
   ]
  },
  {
   "cell_type": "code",
   "execution_count": 20,
   "metadata": {},
   "outputs": [
    {
     "name": "stdout",
     "output_type": "stream",
     "text": [
      "MAE: 136.37485482410054\n",
      "RMSE: 192.49682411435592\n",
      "R2 Score: 0.8689970567585332\n",
      "Adj R2 Score 0.8678991440595601\n"
     ]
    }
   ],
   "source": [
    "print('MAE:',mean_absolute_error(y_val_std, y_pred))\n",
    "MSE = mean_squared_error(y_val_std, y_pred)\n",
    "print('RMSE:',np.sqrt(MSE))\n",
    "R2 = r2_score(y_val_std, y_pred)\n",
    "print('R2 Score:', R2)\n",
    "n= len(X_train_std)\n",
    "p = len(X_train_std.columns)\n",
    "print('Adj R2 Score', 1-(1-R2)*(n-1)/(n-p-1))"
   ]
  },
  {
   "cell_type": "markdown",
   "metadata": {},
   "source": [
    "Percebemos que não tem muita diferença entre os dados normalizados ou não."
   ]
  },
  {
   "cell_type": "markdown",
   "metadata": {},
   "source": [
    "Verificando os melhores parâmetros, com o RandomizedSearchCV"
   ]
  },
  {
   "cell_type": "code",
   "execution_count": 21,
   "metadata": {},
   "outputs": [],
   "source": [
    "from sklearn.model_selection import RandomizedSearchCV\n",
    "import pprint"
   ]
  },
  {
   "cell_type": "code",
   "execution_count": 22,
   "metadata": {},
   "outputs": [
    {
     "name": "stdout",
     "output_type": "stream",
     "text": [
      "{'n_estimators': [10, 20, 30, 40, 50, 60, 70, 80, 90, 100, 110, 120, 130, 140, 150, 160, 170, 180, 190, 200, 210, 220, 230, 240, 250, 260, 270, 280, 290, 300, 310, 320, 330, 340, 350, 360, 370, 380, 390, 400, 410, 420, 430, 440, 450, 460, 470, 480, 490, 500], 'max_features': ['auto', 'sqrt'], 'max_depth': [10, 15, 20, 25, 31, 36, 41, 46, 52, 57, 62, 67, 73, 78, 83, 88, 94, 99, 104, 110, None], 'min_samples_split': [2, 4, 8, 1], 'min_samples_leaf': [1, 2, 4], 'bootstrap': [True, False]}\n"
     ]
    }
   ],
   "source": [
    "n_estimators = [int(x) for x in np.linspace(start = 10, stop = 500, num = 50)]\n",
    "max_features = ['auto', 'sqrt']\n",
    "max_depth = [int(x) for x in np.linspace(10, 110, num = 20)]\n",
    "max_depth.append(None)\n",
    "min_samples_split = [2, 4, 8, 1]\n",
    "min_samples_leaf = [1, 2, 4]\n",
    "# Method of selecting samples for training each tree\n",
    "bootstrap = [True, False]\n",
    "# Create the random grid\n",
    "random_grid = {'n_estimators': n_estimators,\n",
    "               'max_features': max_features,\n",
    "               'max_depth': max_depth,\n",
    "               'min_samples_split': min_samples_split,\n",
    "               'min_samples_leaf': min_samples_leaf,\n",
    "               'bootstrap': bootstrap}\n",
    "print(random_grid)"
   ]
  },
  {
   "cell_type": "code",
   "execution_count": 23,
   "metadata": {},
   "outputs": [],
   "source": [
    "rf = RandomForestRegressor()"
   ]
  },
  {
   "cell_type": "code",
   "execution_count": 24,
   "metadata": {},
   "outputs": [],
   "source": [
    "rf_random = RandomizedSearchCV(estimator = rf, param_distributions = random_grid, n_iter = 100, cv = 3, verbose=2, random_state=42, n_jobs = -1)"
   ]
  },
  {
   "cell_type": "code",
   "execution_count": 25,
   "metadata": {},
   "outputs": [
    {
     "name": "stdout",
     "output_type": "stream",
     "text": [
      "Fitting 3 folds for each of 100 candidates, totalling 300 fits\n"
     ]
    },
    {
     "name": "stderr",
     "output_type": "stream",
     "text": [
      "[Parallel(n_jobs=-1)]: Using backend LokyBackend with 12 concurrent workers.\n",
      "[Parallel(n_jobs=-1)]: Done  17 tasks      | elapsed:    3.3s\n",
      "[Parallel(n_jobs=-1)]: Done 138 tasks      | elapsed:   33.1s\n",
      "[Parallel(n_jobs=-1)]: Done 300 out of 300 | elapsed:  1.1min finished\n"
     ]
    },
    {
     "data": {
      "text/plain": [
       "RandomizedSearchCV(cv=3, estimator=RandomForestRegressor(), n_iter=100,\n",
       "                   n_jobs=-1,\n",
       "                   param_distributions={'bootstrap': [True, False],\n",
       "                                        'max_depth': [10, 15, 20, 25, 31, 36,\n",
       "                                                      41, 46, 52, 57, 62, 67,\n",
       "                                                      73, 78, 83, 88, 94, 99,\n",
       "                                                      104, 110, None],\n",
       "                                        'max_features': ['auto', 'sqrt'],\n",
       "                                        'min_samples_leaf': [1, 2, 4],\n",
       "                                        'min_samples_split': [2, 4, 8, 1],\n",
       "                                        'n_estimators': [10, 20, 30, 40, 50, 60,\n",
       "                                                         70, 80, 90, 100, 110,\n",
       "                                                         120, 130, 140, 150,\n",
       "                                                         160, 170, 180, 190,\n",
       "                                                         200, 210, 220, 230,\n",
       "                                                         240, 250, 260, 270,\n",
       "                                                         280, 290, 300, ...]},\n",
       "                   random_state=42, verbose=2)"
      ]
     },
     "execution_count": 25,
     "metadata": {},
     "output_type": "execute_result"
    }
   ],
   "source": [
    "rf_random.fit(X_train, y_train)"
   ]
  },
  {
   "cell_type": "code",
   "execution_count": 26,
   "metadata": {},
   "outputs": [
    {
     "data": {
      "text/plain": [
       "{'n_estimators': 500,\n",
       " 'min_samples_split': 4,\n",
       " 'min_samples_leaf': 1,\n",
       " 'max_features': 'sqrt',\n",
       " 'max_depth': 67,\n",
       " 'bootstrap': False}"
      ]
     },
     "execution_count": 26,
     "metadata": {},
     "output_type": "execute_result"
    }
   ],
   "source": [
    "rf_random.best_params_"
   ]
  },
  {
   "cell_type": "markdown",
   "metadata": {},
   "source": [
    "Testando essa configuração:"
   ]
  },
  {
   "cell_type": "code",
   "execution_count": 27,
   "metadata": {},
   "outputs": [
    {
     "data": {
      "text/plain": [
       "RandomForestRegressor(bootstrap=False, max_depth=100, max_features='sqrt',\n",
       "                      min_samples_split=5, n_estimators=106)"
      ]
     },
     "execution_count": 27,
     "metadata": {},
     "output_type": "execute_result"
    }
   ],
   "source": [
    "RF_regressor = RandomForestRegressor(n_estimators=106, min_samples_split=5, min_samples_leaf=1,max_features='sqrt',\n",
    "                                     max_depth=100, bootstrap=False)\n",
    "RF_regressor.fit(X_train_std, y_train_std)"
   ]
  },
  {
   "cell_type": "code",
   "execution_count": 28,
   "metadata": {},
   "outputs": [
    {
     "data": {
      "text/plain": [
       "array([[4439.80503145, 2517.14308176, 3616.99090398],\n",
       "       [4227.90959119, 2231.78694969, 3339.0532989 ],\n",
       "       [4592.86320755, 2628.76650943, 3783.11408869],\n",
       "       [4784.49292453, 2988.08647799, 3943.78445983],\n",
       "       [4658.77122642, 3093.36871069, 3763.25162801],\n",
       "       [4581.08176101, 2545.76022013, 3729.45388371],\n",
       "       [3548.88128931, 2033.01336478, 2571.80098107],\n",
       "       [3996.44496855, 2301.55896226, 3292.98159043],\n",
       "       [4062.35377358, 2363.97877358, 3053.73568254],\n",
       "       [4785.30031447, 2699.7908805 , 3820.25404437]])"
      ]
     },
     "execution_count": 28,
     "metadata": {},
     "output_type": "execute_result"
    }
   ],
   "source": [
    "y_pred = RF_regressor.predict(X_val_std)\n",
    "y_pred[:10]"
   ]
  },
  {
   "cell_type": "code",
   "execution_count": 29,
   "metadata": {},
   "outputs": [
    {
     "data": {
      "text/html": [
       "<div>\n",
       "<style scoped>\n",
       "    .dataframe tbody tr th:only-of-type {\n",
       "        vertical-align: middle;\n",
       "    }\n",
       "\n",
       "    .dataframe tbody tr th {\n",
       "        vertical-align: top;\n",
       "    }\n",
       "\n",
       "    .dataframe thead th {\n",
       "        text-align: right;\n",
       "    }\n",
       "</style>\n",
       "<table border=\"1\" class=\"dataframe\">\n",
       "  <thead>\n",
       "    <tr style=\"text-align: right;\">\n",
       "      <th></th>\n",
       "      <th>Demanda_Max</th>\n",
       "      <th>Demanda_Min</th>\n",
       "      <th>Demanda_Med</th>\n",
       "    </tr>\n",
       "  </thead>\n",
       "  <tbody>\n",
       "    <tr>\n",
       "      <th>4678</th>\n",
       "      <td>4571.0</td>\n",
       "      <td>2787.0</td>\n",
       "      <td>3782.426389</td>\n",
       "    </tr>\n",
       "    <tr>\n",
       "      <th>892</th>\n",
       "      <td>4343.0</td>\n",
       "      <td>2330.0</td>\n",
       "      <td>3401.870833</td>\n",
       "    </tr>\n",
       "    <tr>\n",
       "      <th>3215</th>\n",
       "      <td>4523.0</td>\n",
       "      <td>2621.0</td>\n",
       "      <td>3748.583333</td>\n",
       "    </tr>\n",
       "    <tr>\n",
       "      <th>1796</th>\n",
       "      <td>4984.0</td>\n",
       "      <td>3048.0</td>\n",
       "      <td>4106.559722</td>\n",
       "    </tr>\n",
       "    <tr>\n",
       "      <th>5159</th>\n",
       "      <td>4901.0</td>\n",
       "      <td>3148.0</td>\n",
       "      <td>4048.491667</td>\n",
       "    </tr>\n",
       "    <tr>\n",
       "      <th>3189</th>\n",
       "      <td>4614.0</td>\n",
       "      <td>2598.0</td>\n",
       "      <td>3825.556944</td>\n",
       "    </tr>\n",
       "    <tr>\n",
       "      <th>91</th>\n",
       "      <td>3470.0</td>\n",
       "      <td>1872.0</td>\n",
       "      <td>2413.688889</td>\n",
       "    </tr>\n",
       "    <tr>\n",
       "      <th>1384</th>\n",
       "      <td>3967.0</td>\n",
       "      <td>2276.0</td>\n",
       "      <td>3245.770833</td>\n",
       "    </tr>\n",
       "    <tr>\n",
       "      <th>1637</th>\n",
       "      <td>4262.0</td>\n",
       "      <td>2342.0</td>\n",
       "      <td>3064.450000</td>\n",
       "    </tr>\n",
       "    <tr>\n",
       "      <th>5020</th>\n",
       "      <td>4836.0</td>\n",
       "      <td>2508.0</td>\n",
       "      <td>3852.847917</td>\n",
       "    </tr>\n",
       "  </tbody>\n",
       "</table>\n",
       "</div>"
      ],
      "text/plain": [
       "      Demanda_Max  Demanda_Min  Demanda_Med\n",
       "4678       4571.0       2787.0  3782.426389\n",
       "892        4343.0       2330.0  3401.870833\n",
       "3215       4523.0       2621.0  3748.583333\n",
       "1796       4984.0       3048.0  4106.559722\n",
       "5159       4901.0       3148.0  4048.491667\n",
       "3189       4614.0       2598.0  3825.556944\n",
       "91         3470.0       1872.0  2413.688889\n",
       "1384       3967.0       2276.0  3245.770833\n",
       "1637       4262.0       2342.0  3064.450000\n",
       "5020       4836.0       2508.0  3852.847917"
      ]
     },
     "execution_count": 29,
     "metadata": {},
     "output_type": "execute_result"
    }
   ],
   "source": [
    "y_val_std[:10]"
   ]
  },
  {
   "cell_type": "code",
   "execution_count": 30,
   "metadata": {},
   "outputs": [
    {
     "name": "stdout",
     "output_type": "stream",
     "text": [
      "MAE: 133.41325543966425\n",
      "RMSE: 187.70427295278853\n",
      "R2 Score: 0.8759479991931238\n",
      "Adj R2 Score 0.8749083411240082\n"
     ]
    }
   ],
   "source": [
    "print('MAE:',mean_absolute_error(y_val_std, y_pred))\n",
    "MSE = mean_squared_error(y_val_std, y_pred)\n",
    "print('RMSE:',np.sqrt(MSE))\n",
    "R2 = r2_score(y_val_std, y_pred)\n",
    "print('R2 Score:', R2)\n",
    "n= len(X_train_std)\n",
    "p = len(X_train_std.columns)\n",
    "print('Adj R2 Score', 1-(1-R2)*(n-1)/(n-p-1))"
   ]
  },
  {
   "cell_type": "code",
   "execution_count": 31,
   "metadata": {},
   "outputs": [
    {
     "data": {
      "text/plain": [
       "RandomForestRegressor(bootstrap=False, max_depth=67, max_features='sqrt',\n",
       "                      min_samples_split=4, n_estimators=500)"
      ]
     },
     "execution_count": 31,
     "metadata": {},
     "output_type": "execute_result"
    }
   ],
   "source": [
    "RF_regressor = RandomForestRegressor(n_estimators=500, min_samples_split=4, min_samples_leaf=1,max_features='sqrt',\n",
    "                                     max_depth=67, bootstrap=False)\n",
    "RF_regressor.fit(X_train_std, y_train_std)"
   ]
  },
  {
   "cell_type": "code",
   "execution_count": 32,
   "metadata": {},
   "outputs": [
    {
     "data": {
      "text/plain": [
       "array([[4439.973     , 2522.751     , 3617.96850743],\n",
       "       [4221.41633333, 2227.20533333, 3333.29625849],\n",
       "       [4600.05466667, 2622.19533333, 3786.85301019],\n",
       "       [4741.028     , 2980.88866667, 3919.73295415],\n",
       "       [4607.47833333, 3079.57633333, 3735.26891028],\n",
       "       [4566.30066667, 2531.79766667, 3717.60726808],\n",
       "       [3521.915     , 2007.01433333, 2527.66603385],\n",
       "       [3997.14193939, 2295.3409697 , 3285.79093841],\n",
       "       [4060.30966667, 2349.925     , 3048.43454625],\n",
       "       [4820.09533333, 2736.51366667, 3852.73198287]])"
      ]
     },
     "execution_count": 32,
     "metadata": {},
     "output_type": "execute_result"
    }
   ],
   "source": [
    "y_pred = RF_regressor.predict(X_val_std)\n",
    "y_pred[:10]"
   ]
  },
  {
   "cell_type": "code",
   "execution_count": 33,
   "metadata": {},
   "outputs": [
    {
     "data": {
      "text/html": [
       "<div>\n",
       "<style scoped>\n",
       "    .dataframe tbody tr th:only-of-type {\n",
       "        vertical-align: middle;\n",
       "    }\n",
       "\n",
       "    .dataframe tbody tr th {\n",
       "        vertical-align: top;\n",
       "    }\n",
       "\n",
       "    .dataframe thead th {\n",
       "        text-align: right;\n",
       "    }\n",
       "</style>\n",
       "<table border=\"1\" class=\"dataframe\">\n",
       "  <thead>\n",
       "    <tr style=\"text-align: right;\">\n",
       "      <th></th>\n",
       "      <th>Demanda_Max</th>\n",
       "      <th>Demanda_Min</th>\n",
       "      <th>Demanda_Med</th>\n",
       "    </tr>\n",
       "  </thead>\n",
       "  <tbody>\n",
       "    <tr>\n",
       "      <th>4678</th>\n",
       "      <td>4571.0</td>\n",
       "      <td>2787.0</td>\n",
       "      <td>3782.426389</td>\n",
       "    </tr>\n",
       "    <tr>\n",
       "      <th>892</th>\n",
       "      <td>4343.0</td>\n",
       "      <td>2330.0</td>\n",
       "      <td>3401.870833</td>\n",
       "    </tr>\n",
       "    <tr>\n",
       "      <th>3215</th>\n",
       "      <td>4523.0</td>\n",
       "      <td>2621.0</td>\n",
       "      <td>3748.583333</td>\n",
       "    </tr>\n",
       "    <tr>\n",
       "      <th>1796</th>\n",
       "      <td>4984.0</td>\n",
       "      <td>3048.0</td>\n",
       "      <td>4106.559722</td>\n",
       "    </tr>\n",
       "    <tr>\n",
       "      <th>5159</th>\n",
       "      <td>4901.0</td>\n",
       "      <td>3148.0</td>\n",
       "      <td>4048.491667</td>\n",
       "    </tr>\n",
       "    <tr>\n",
       "      <th>3189</th>\n",
       "      <td>4614.0</td>\n",
       "      <td>2598.0</td>\n",
       "      <td>3825.556944</td>\n",
       "    </tr>\n",
       "    <tr>\n",
       "      <th>91</th>\n",
       "      <td>3470.0</td>\n",
       "      <td>1872.0</td>\n",
       "      <td>2413.688889</td>\n",
       "    </tr>\n",
       "    <tr>\n",
       "      <th>1384</th>\n",
       "      <td>3967.0</td>\n",
       "      <td>2276.0</td>\n",
       "      <td>3245.770833</td>\n",
       "    </tr>\n",
       "    <tr>\n",
       "      <th>1637</th>\n",
       "      <td>4262.0</td>\n",
       "      <td>2342.0</td>\n",
       "      <td>3064.450000</td>\n",
       "    </tr>\n",
       "    <tr>\n",
       "      <th>5020</th>\n",
       "      <td>4836.0</td>\n",
       "      <td>2508.0</td>\n",
       "      <td>3852.847917</td>\n",
       "    </tr>\n",
       "  </tbody>\n",
       "</table>\n",
       "</div>"
      ],
      "text/plain": [
       "      Demanda_Max  Demanda_Min  Demanda_Med\n",
       "4678       4571.0       2787.0  3782.426389\n",
       "892        4343.0       2330.0  3401.870833\n",
       "3215       4523.0       2621.0  3748.583333\n",
       "1796       4984.0       3048.0  4106.559722\n",
       "5159       4901.0       3148.0  4048.491667\n",
       "3189       4614.0       2598.0  3825.556944\n",
       "91         3470.0       1872.0  2413.688889\n",
       "1384       3967.0       2276.0  3245.770833\n",
       "1637       4262.0       2342.0  3064.450000\n",
       "5020       4836.0       2508.0  3852.847917"
      ]
     },
     "execution_count": 33,
     "metadata": {},
     "output_type": "execute_result"
    }
   ],
   "source": [
    "y_val_std[:10]"
   ]
  },
  {
   "cell_type": "code",
   "execution_count": 34,
   "metadata": {},
   "outputs": [
    {
     "name": "stdout",
     "output_type": "stream",
     "text": [
      "MAE: 133.73719281190805\n",
      "RMSE: 187.5481744357431\n",
      "R2 Score: 0.8760366389114752\n",
      "Adj R2 Score 0.8749977237162981\n"
     ]
    }
   ],
   "source": [
    "print('MAE:',mean_absolute_error(y_val_std, y_pred))\n",
    "MSE = mean_squared_error(y_val_std, y_pred)\n",
    "print('RMSE:',np.sqrt(MSE))\n",
    "R2 = r2_score(y_val_std, y_pred)\n",
    "print('R2 Score:', R2)\n",
    "n= len(X_train_std)\n",
    "p = len(X_train_std.columns)\n",
    "print('Adj R2 Score', 1-(1-R2)*(n-1)/(n-p-1))"
   ]
  },
  {
   "cell_type": "markdown",
   "metadata": {},
   "source": [
    "Houve uma melhora relativamente pequena. Vamos avaliar separadamente por demanda."
   ]
  },
  {
   "cell_type": "markdown",
   "metadata": {},
   "source": [
    "**Avaliação para demanda máxima**"
   ]
  },
  {
   "cell_type": "code",
   "execution_count": 35,
   "metadata": {},
   "outputs": [
    {
     "name": "stdout",
     "output_type": "stream",
     "text": [
      "MAE: 133.21540753497078\n",
      "RMSE: 193.0171769537354\n",
      "R2 Score: 0.8884260335150341\n",
      "Adj R2 Score 0.887490951663836\n",
      "Variance Score: 0.8884320174955922\n"
     ]
    }
   ],
   "source": [
    "#Demanda Máxima\n",
    "print('MAE:',mean_absolute_error(y_val_std['Demanda_Max'], y_pred[:,0]))\n",
    "MSE = mean_squared_error(y_val_std['Demanda_Max'], y_pred[:,0])\n",
    "print('RMSE:',np.sqrt(MSE))\n",
    "R2 = r2_score(y_val_std['Demanda_Max'], y_pred[:,0])\n",
    "print('R2 Score:', R2)\n",
    "n= len(X_train)\n",
    "p = len(X_train.columns)\n",
    "print('Adj R2 Score', 1-(1-R2)*(n-1)/(n-p-1))\n",
    "print('Variance Score:', explained_variance_score(y_val_std['Demanda_Max'], y_pred[:,0]))"
   ]
  },
  {
   "cell_type": "markdown",
   "metadata": {},
   "source": [
    "**Avaliação para demanda média**"
   ]
  },
  {
   "cell_type": "code",
   "execution_count": 36,
   "metadata": {},
   "outputs": [
    {
     "name": "stdout",
     "output_type": "stream",
     "text": [
      "MAE: 120.26350240321531\n",
      "RMSE: 171.86942196275808\n",
      "R2 Score: 0.9126433289073524\n",
      "Adj R2 Score 0.9119112079628952\n",
      "Variance Score: 0.912651537189316\n"
     ]
    }
   ],
   "source": [
    "#Demanda Média\n",
    "print('MAE:',mean_absolute_error(y_val_std['Demanda_Med'], y_pred[:,2]))\n",
    "MSE = mean_squared_error(y_val_std['Demanda_Med'], y_pred[:,2])\n",
    "print('RMSE:',np.sqrt(MSE))\n",
    "R2 = r2_score(y_val_std['Demanda_Med'], y_pred[:,2])\n",
    "print('R2 Score:', R2)\n",
    "n= len(X_train)\n",
    "p = len(X_train.columns)\n",
    "print('Adj R2 Score', 1-(1-R2)*(n-1)/(n-p-1))\n",
    "print('Variance Score:', explained_variance_score(y_val_std['Demanda_Med'], y_pred[:,2]))"
   ]
  },
  {
   "cell_type": "markdown",
   "metadata": {},
   "source": [
    "**Avaliação para demanda mínima**"
   ]
  },
  {
   "cell_type": "code",
   "execution_count": 37,
   "metadata": {},
   "outputs": [
    {
     "name": "stdout",
     "output_type": "stream",
     "text": [
      "MAE: 147.73266849753773\n",
      "RMSE: 196.79487899215673\n",
      "R2 Score: 0.8270405543120388\n",
      "Adj R2 Score 0.8255910115221632\n",
      "Variance Score: 0.8270508547560751\n"
     ]
    }
   ],
   "source": [
    "#Demanda Mínima\n",
    "print('MAE:',mean_absolute_error(y_val_std['Demanda_Min'], y_pred[:,1]))\n",
    "MSE = mean_squared_error(y_val_std['Demanda_Min'], y_pred[:,1])\n",
    "print('RMSE:',np.sqrt(MSE))\n",
    "R2 = r2_score(y_val_std['Demanda_Min'], y_pred[:,1])\n",
    "print('R2 Score:', R2)\n",
    "n= len(X_train)\n",
    "p = len(X_train.columns)\n",
    "print('Adj R2 Score', 1-(1-R2)*(n-1)/(n-p-1))\n",
    "print('Variance Score:', explained_variance_score(y_val_std['Demanda_Min'], y_pred[:,1]))"
   ]
  },
  {
   "cell_type": "code",
   "execution_count": 38,
   "metadata": {},
   "outputs": [],
   "source": [
    "importances = pd.Series(data=RF_regressor.feature_importances_, index=['IAEBR', 'Desempenho Industrial',\n",
    "       'População', 'Com Feriado', 'Domingo', 'Sábado',\n",
    "       'Dia de Semana','Temperatura_Max',\n",
    "       'Umidade_Max', 'Temperatura_Min', 'Umidade_Min', 'Temperatura_Med',\n",
    "       'Umidade_Med', 'Abril', 'Agosto', 'Dezembro', 'Fevereiro',\n",
    "       'January', 'July', 'June', 'March', 'May', 'November', 'October',\n",
    "       'September' ]).sort_values(ascending=False)"
   ]
  },
  {
   "cell_type": "code",
   "execution_count": 39,
   "metadata": {},
   "outputs": [
    {
     "data": {
      "text/plain": [
       "População                0.173213\n",
       "Temperatura_Min          0.133279\n",
       "Temperatura_Med          0.131733\n",
       "Dia de Semana            0.125609\n",
       "IAEBR                    0.090134\n",
       "Domingo                  0.081982\n",
       "Temperatura_Max          0.067381\n",
       "Desempenho Industrial    0.037031\n",
       "Sábado                   0.022070\n",
       "Com Feriado              0.021985\n",
       "dtype: float64"
      ]
     },
     "execution_count": 39,
     "metadata": {},
     "output_type": "execute_result"
    }
   ],
   "source": [
    "importances[:10]"
   ]
  },
  {
   "cell_type": "code",
   "execution_count": 40,
   "metadata": {},
   "outputs": [
    {
     "data": {
      "text/plain": [
       "<AxesSubplot:>"
      ]
     },
     "execution_count": 40,
     "metadata": {},
     "output_type": "execute_result"
    },
    {
     "data": {
      "image/png": "[encoded data removed]",
      "text/plain": [
       "<Figure size 720x576 with 1 Axes>"
      ]
     },
     "metadata": {},
     "output_type": "display_data"
    }
   ],
   "source": [
    "sns.set(style=\"ticks\", color_codes=True)\n",
    "plt.figure(figsize=(10,8 ));\n",
    "sns.barplot(x=importances[:15], y=importances.index[:15], orient='h', color='teal')"
   ]
  },
  {
   "cell_type": "markdown",
   "metadata": {},
   "source": [
    "### Treinar o modelo com os dados de validação + treino"
   ]
  },
  {
   "cell_type": "code",
   "execution_count": 41,
   "metadata": {},
   "outputs": [],
   "source": [
    "#Dividir entre dataset de treino e teste dados normalizados\n",
    "X_train_std,X_test_std,y_train_std,y_test_std = train_test_split(X_std,Y,test_size=0.25,random_state=0)"
   ]
  },
  {
   "cell_type": "code",
   "execution_count": 42,
   "metadata": {},
   "outputs": [],
   "source": [
    "RF_regressor = RandomForestRegressor(n_estimators=500, min_samples_split=4, min_samples_leaf=1,max_features='sqrt',\n",
    "                                     max_depth=67, bootstrap=False)\n",
    "RF_regressor.fit(X_train_std, y_train_std)\n",
    "y_pred = RF_regressor.predict(X_test_std)"
   ]
  },
  {
   "cell_type": "markdown",
   "metadata": {},
   "source": [
    "**Avaliação para Demanda Máxima**"
   ]
  },
  {
   "cell_type": "code",
   "execution_count": 43,
   "metadata": {},
   "outputs": [
    {
     "name": "stdout",
     "output_type": "stream",
     "text": [
      "MAE: 136.02733996219993\n",
      "RMSE: 200.95487309033524\n",
      "R2 Score: 0.8879767993342329\n",
      "Adj R2 Score 0.8870379525301283\n"
     ]
    }
   ],
   "source": [
    "#Demanda Máxima\n",
    "print('MAE:',mean_absolute_error(y_test_std['Demanda_Max'], y_pred[:,0]))\n",
    "MSE = mean_squared_error(y_test_std['Demanda_Max'], y_pred[:,0])\n",
    "print('RMSE:',np.sqrt(MSE))\n",
    "R2 = r2_score(y_test_std['Demanda_Max'], y_pred[:,0])\n",
    "print('R2 Score:', R2)\n",
    "n= len(X_train)\n",
    "p = len(X_train.columns)\n",
    "print('Adj R2 Score', 1-(1-R2)*(n-1)/(n-p-1))"
   ]
  },
  {
   "cell_type": "markdown",
   "metadata": {},
   "source": [
    "**Avaliação para Demanda Média**"
   ]
  },
  {
   "cell_type": "code",
   "execution_count": 44,
   "metadata": {},
   "outputs": [
    {
     "name": "stdout",
     "output_type": "stream",
     "text": [
      "MAE: 122.82977789347228\n",
      "RMSE: 182.469775262558\n",
      "R2 Score: 0.9084933547622698\n",
      "Adj R2 Score 0.9077264536121045\n"
     ]
    }
   ],
   "source": [
    "#Demanda Média\n",
    "print('MAE:',mean_absolute_error(y_test_std['Demanda_Med'], y_pred[:,2]))\n",
    "MSE = mean_squared_error(y_test_std['Demanda_Med'], y_pred[:,2])\n",
    "print('RMSE:',np.sqrt(MSE))\n",
    "R2 = r2_score(y_test_std['Demanda_Med'], y_pred[:,2])\n",
    "print('R2 Score:', R2)\n",
    "n= len(X_train)\n",
    "p = len(X_train.columns)\n",
    "print('Adj R2 Score', 1-(1-R2)*(n-1)/(n-p-1))"
   ]
  },
  {
   "cell_type": "markdown",
   "metadata": {},
   "source": [
    "**Avaliação para Demanda Mínima**"
   ]
  },
  {
   "cell_type": "code",
   "execution_count": 45,
   "metadata": {},
   "outputs": [
    {
     "name": "stdout",
     "output_type": "stream",
     "text": [
      "MAE: 147.81126741835902\n",
      "RMSE: 204.7976434141169\n",
      "R2 Score: 0.8283027621590114\n",
      "Adj R2 Score 0.8268637977118023\n"
     ]
    }
   ],
   "source": [
    "#Demanda Mínima\n",
    "print('MAE:',mean_absolute_error(y_test_std['Demanda_Min'], y_pred[:,1]))\n",
    "MSE = mean_squared_error(y_test_std['Demanda_Min'], y_pred[:,1])\n",
    "print('RMSE:',np.sqrt(MSE))\n",
    "R2 = r2_score(y_test_std['Demanda_Min'], y_pred[:,1])\n",
    "print('R2 Score:', R2)\n",
    "n= len(X_train)\n",
    "p = len(X_train.columns)\n",
    "print('Adj R2 Score', 1-(1-R2)*(n-1)/(n-p-1))"
   ]
  },
  {
   "cell_type": "markdown",
   "metadata": {},
   "source": [
    "### SVR"
   ]
  },
  {
   "cell_type": "markdown",
   "metadata": {},
   "source": [
    "Com o SVR não é possível prever as 3 demandas de apenas uma vez. Para esse algoritmo será utilizado apenas os dados normalizados, pela maneira como ele funciona."
   ]
  },
  {
   "cell_type": "code",
   "execution_count": 46,
   "metadata": {},
   "outputs": [],
   "source": [
    "from sklearn.svm import SVR"
   ]
  },
  {
   "cell_type": "code",
   "execution_count": 47,
   "metadata": {},
   "outputs": [],
   "source": [
    "#Dividir entre dataset de treino e teste dados normalizados\n",
    "X_train_std,X_test_std,y_train_std,y_test_std = train_test_split(X_std,Y,test_size=0.25,random_state=0)\n",
    "\n",
    "#Dividir entre dataset de treino e validação\n",
    "X_train_std,X_val_std,y_train_std,y_val_std = train_test_split(X_train_std,y_train_std,test_size=0.25,random_state=0)"
   ]
  },
  {
   "cell_type": "markdown",
   "metadata": {},
   "source": [
    "**Previsão da demanda máxima**"
   ]
  },
  {
   "cell_type": "code",
   "execution_count": 48,
   "metadata": {},
   "outputs": [],
   "source": [
    "svr_max = SVR(kernel='poly', C=190, gamma='auto', degree=3, epsilon=.5,\n",
    "               coef0=1)\n",
    "svr_max.fit(X_train_std,y_train_std['Demanda_Max'])\n",
    "y_pred_max = svr_max.predict(X_val_std)"
   ]
  },
  {
   "cell_type": "markdown",
   "metadata": {},
   "source": [
    "**Avaliação do modelo**"
   ]
  },
  {
   "cell_type": "code",
   "execution_count": 49,
   "metadata": {},
   "outputs": [
    {
     "name": "stdout",
     "output_type": "stream",
     "text": [
      "Predição Demanda Máxima\n",
      "MAE: 129.7216006461115\n",
      "RMSE: 192.55918964853836\n",
      "R2 Score: 0.888954886305821\n",
      "Adj R2 Score 0.8880242366771403\n"
     ]
    }
   ],
   "source": [
    "print('Predição Demanda Máxima')\n",
    "print('MAE:',mean_absolute_error(y_val['Demanda_Max'], y_pred_max))\n",
    "MSE = mean_squared_error(y_val['Demanda_Max'], y_pred_max)\n",
    "print('RMSE:',np.sqrt(MSE))\n",
    "R2 = r2_score(y_val['Demanda_Max'], y_pred_max)\n",
    "print('R2 Score:', R2)\n",
    "n= len(X_train)\n",
    "p = len(X_train.columns)\n",
    "print('Adj R2 Score', 1-(1-R2)*(n-1)/(n-p-1))"
   ]
  },
  {
   "cell_type": "markdown",
   "metadata": {},
   "source": [
    "**Previsão da demanda média**"
   ]
  },
  {
   "cell_type": "code",
   "execution_count": 50,
   "metadata": {},
   "outputs": [],
   "source": [
    "svr_med= SVR(kernel='poly', C=140, gamma='auto', degree=3, epsilon=.1,\n",
    "               coef0=1)\n",
    "svr_med.fit(X_train_std,y_train_std['Demanda_Med'])\n",
    "y_pred_med = svr_med.predict(X_val_std)"
   ]
  },
  {
   "cell_type": "markdown",
   "metadata": {},
   "source": [
    "**Avaliação do modelo**"
   ]
  },
  {
   "cell_type": "code",
   "execution_count": 51,
   "metadata": {},
   "outputs": [
    {
     "name": "stdout",
     "output_type": "stream",
     "text": [
      "Predição Demanda Média\n",
      "MAE: 106.79272547630904\n",
      "RMSE: 159.50323268170987\n",
      "R2 Score: 0.9247618995808036\n",
      "Adj R2 Score 0.9241313422524495\n"
     ]
    }
   ],
   "source": [
    "print('Predição Demanda Média')\n",
    "print('MAE:',mean_absolute_error(y_val['Demanda_Med'], y_pred_med))\n",
    "MSE = mean_squared_error(y_val['Demanda_Med'], y_pred_med)\n",
    "print('RMSE:',np.sqrt(MSE))\n",
    "R2 = r2_score(y_val['Demanda_Med'], y_pred_med)\n",
    "print('R2 Score:', R2)\n",
    "n= len(X_train)\n",
    "p = len(X_train.columns)\n",
    "print('Adj R2 Score', 1-(1-R2)*(n-1)/(n-p-1))"
   ]
  },
  {
   "cell_type": "markdown",
   "metadata": {},
   "source": [
    "**Previsão da demanda mínima**"
   ]
  },
  {
   "cell_type": "code",
   "execution_count": 52,
   "metadata": {},
   "outputs": [],
   "source": [
    "svr_min = SVR(kernel='poly', C=190, gamma='auto', degree=3, epsilon=.1,\n",
    "               coef0=1)\n",
    "svr_min.fit(X_train_std,y_train_std['Demanda_Min'])\n",
    "y_pred_min = svr_min.predict(X_val_std)"
   ]
  },
  {
   "cell_type": "markdown",
   "metadata": {},
   "source": [
    "**Avaliação do modelo**"
   ]
  },
  {
   "cell_type": "code",
   "execution_count": 53,
   "metadata": {},
   "outputs": [
    {
     "name": "stdout",
     "output_type": "stream",
     "text": [
      "Predição Demanda Mínima\n",
      "MAE: 130.32110526169168\n",
      "RMSE: 179.33207137382763\n",
      "R2 Score: 0.8563741445520938\n",
      "Adj R2 Score 0.8551704414390541\n"
     ]
    }
   ],
   "source": [
    "print('Predição Demanda Mínima')\n",
    "print('MAE:',mean_absolute_error(y_val['Demanda_Min'], y_pred_min))\n",
    "MSE = mean_squared_error(y_val['Demanda_Min'], y_pred_min)\n",
    "print('RMSE:',np.sqrt(MSE))\n",
    "R2 = r2_score(y_val['Demanda_Min'], y_pred_min)\n",
    "print('R2 Score:', R2)\n",
    "n= len(X_train)\n",
    "p = len(X_train.columns)\n",
    "print('Adj R2 Score', 1-(1-R2)*(n-1)/(n-p-1))"
   ]
  },
  {
   "cell_type": "markdown",
   "metadata": {},
   "source": [
    "### Treinamento do modelo com dados de treino + validação"
   ]
  },
  {
   "cell_type": "code",
   "execution_count": 54,
   "metadata": {},
   "outputs": [],
   "source": [
    "#Dividir entre dataset de treino e teste dados normalizados\n",
    "X_train,X_test, y_train, y_test = train_test_split(X_std,Y,test_size=0.25,random_state=0)"
   ]
  },
  {
   "cell_type": "code",
   "execution_count": 55,
   "metadata": {},
   "outputs": [],
   "source": [
    "svr_max = SVR(kernel='poly', C=190, gamma='auto', degree=3, epsilon=.5,\n",
    "               coef0=1)\n",
    "svr_max.fit(X_train,y_train['Demanda_Max'])\n",
    "y_pred_max = svr_max.predict(X_test)"
   ]
  },
  {
   "cell_type": "code",
   "execution_count": 56,
   "metadata": {},
   "outputs": [],
   "source": [
    "svr_med= SVR(kernel='poly', C=140, gamma='auto', degree=3, epsilon=.1,\n",
    "               coef0=1)\n",
    "svr_med.fit(X_train,y_train['Demanda_Med'])\n",
    "y_pred_med = svr_med.predict(X_test)"
   ]
  },
  {
   "cell_type": "code",
   "execution_count": 57,
   "metadata": {},
   "outputs": [],
   "source": [
    "svr_min = SVR(kernel='poly', C=190, gamma='auto', degree=3, epsilon=.1,\n",
    "               coef0=1)\n",
    "svr_min.fit(X_train,y_train['Demanda_Min'])\n",
    "y_pred_min = svr_min.predict(X_test)"
   ]
  },
  {
   "cell_type": "markdown",
   "metadata": {},
   "source": [
    "**Avaliação com o dataset de teste**"
   ]
  },
  {
   "cell_type": "code",
   "execution_count": 58,
   "metadata": {},
   "outputs": [
    {
     "name": "stdout",
     "output_type": "stream",
     "text": [
      "Predição Demanda Máxima\n",
      "MAE: 129.75724629788772\n",
      "RMSE: 184.52633953514535\n",
      "R2 Score: 0.9055444185043627\n",
      "Adj R2 Score 0.9049519976470143\n"
     ]
    }
   ],
   "source": [
    "print('Predição Demanda Máxima')\n",
    "print('MAE:',mean_absolute_error(y_test['Demanda_Max'], y_pred_max))\n",
    "MSE = mean_squared_error(y_test['Demanda_Max'], y_pred_max)\n",
    "print('RMSE:',np.sqrt(MSE))\n",
    "R2 = r2_score(y_test['Demanda_Max'], y_pred_max)\n",
    "print('R2 Score:', R2)\n",
    "n= len(X_train)\n",
    "p = len(X_train.columns)\n",
    "print('Adj R2 Score', 1-(1-R2)*(n-1)/(n-p-1))"
   ]
  },
  {
   "cell_type": "code",
   "execution_count": 59,
   "metadata": {},
   "outputs": [
    {
     "name": "stdout",
     "output_type": "stream",
     "text": [
      "Predição Demanda Média\n",
      "MAE: 113.08148081770504\n",
      "RMSE: 163.7525709923894\n",
      "R2 Score: 0.9263034743128643\n",
      "Adj R2 Score 0.9258412532536123\n"
     ]
    }
   ],
   "source": [
    "print('Predição Demanda Média')\n",
    "print('MAE:',mean_absolute_error(y_test['Demanda_Med'], y_pred_med))\n",
    "MSE = mean_squared_error(y_test['Demanda_Med'], y_pred_med)\n",
    "print('RMSE:',np.sqrt(MSE))\n",
    "R2 = r2_score(y_test['Demanda_Med'], y_pred_med)\n",
    "print('R2 Score:', R2)\n",
    "n= len(X_train)\n",
    "p = len(X_train.columns)\n",
    "print('Adj R2 Score', 1-(1-R2)*(n-1)/(n-p-1))"
   ]
  },
  {
   "cell_type": "code",
   "execution_count": 60,
   "metadata": {},
   "outputs": [
    {
     "name": "stdout",
     "output_type": "stream",
     "text": [
      "Predição Demanda Máxima\n",
      "MAE: 136.05926945081785\n",
      "RMSE: 190.15764421820884\n",
      "R2 Score: 0.8519729870415589\n",
      "Adj R2 Score 0.851044568746536\n"
     ]
    }
   ],
   "source": [
    "print('Predição Demanda Máxima')\n",
    "print('MAE:',mean_absolute_error(y_test['Demanda_Min'], y_pred_min))\n",
    "MSE = mean_squared_error(y_test['Demanda_Min'], y_pred_min)\n",
    "print('RMSE:',np.sqrt(MSE))\n",
    "R2 = r2_score(y_test['Demanda_Min'], y_pred_min)\n",
    "print('R2 Score:', R2)\n",
    "n= len(X_train)\n",
    "p = len(X_train.columns)\n",
    "print('Adj R2 Score', 1-(1-R2)*(n-1)/(n-p-1))"
   ]
  },
  {
   "cell_type": "markdown",
   "metadata": {},
   "source": [
    "### Rede Neural"
   ]
  },
  {
   "cell_type": "code",
   "execution_count": 61,
   "metadata": {},
   "outputs": [],
   "source": [
    "import tensorflow\n",
    "from tensorflow import keras\n",
    "from tensorflow.keras import Sequential\n",
    "from tensorflow.keras import layers\n",
    "from tensorflow.keras.layers import Embedding\n",
    "from tensorflow.keras.layers import Dense"
   ]
  },
  {
   "cell_type": "code",
   "execution_count": 62,
   "metadata": {},
   "outputs": [
    {
     "name": "stderr",
     "output_type": "stream",
     "text": [
      "Using TensorFlow backend.\n"
     ]
    }
   ],
   "source": [
    "from keras.regularizers import l1\n",
    "from keras.regularizers import l2\n",
    "from keras.regularizers import l1_l2"
   ]
  },
  {
   "cell_type": "markdown",
   "metadata": {},
   "source": [
    "**Divisão dos dados**"
   ]
  },
  {
   "cell_type": "code",
   "execution_count": 63,
   "metadata": {},
   "outputs": [],
   "source": [
    "X_train,X_test,y_train,y_test = train_test_split(X_std,Y,test_size=0.25,random_state=0)"
   ]
  },
  {
   "cell_type": "markdown",
   "metadata": {},
   "source": [
    "**Previsão de todas as demandas juntas**"
   ]
  },
  {
   "cell_type": "code",
   "execution_count": 64,
   "metadata": {},
   "outputs": [
    {
     "name": "stdout",
     "output_type": "stream",
     "text": [
      "WARNING:tensorflow:From C:\\Users\\camil\\Anaconda3\\envs\\TC Pos\\lib\\site-packages\\tensorflow\\python\\keras\\initializers.py:143: calling RandomNormal.__init__ (from tensorflow.python.ops.init_ops) with dtype is deprecated and will be removed in a future version.\n",
      "Instructions for updating:\n",
      "Call initializer instance with the dtype argument instead of passing it to the constructor\n",
      "WARNING:tensorflow:From C:\\Users\\camil\\Anaconda3\\envs\\TC Pos\\lib\\site-packages\\tensorflow\\python\\ops\\init_ops.py:1251: calling VarianceScaling.__init__ (from tensorflow.python.ops.init_ops) with dtype is deprecated and will be removed in a future version.\n",
      "Instructions for updating:\n",
      "Call initializer instance with the dtype argument instead of passing it to the constructor\n",
      "Model: \"sequential\"\n",
      "_________________________________________________________________\n",
      "Layer (type)                 Output Shape              Param #   \n",
      "=================================================================\n",
      "dense (Dense)                (None, 128)               3328      \n",
      "_________________________________________________________________\n",
      "dense_1 (Dense)              (None, 32)                4128      \n",
      "_________________________________________________________________\n",
      "dense_2 (Dense)              (None, 32)                1056      \n",
      "_________________________________________________________________\n",
      "dense_3 (Dense)              (None, 16)                528       \n",
      "_________________________________________________________________\n",
      "dense_4 (Dense)              (None, 3)                 51        \n",
      "=================================================================\n",
      "Total params: 9,091\n",
      "Trainable params: 9,091\n",
      "Non-trainable params: 0\n",
      "_________________________________________________________________\n"
     ]
    }
   ],
   "source": [
    "model = Sequential()\n",
    "model.add(Dense(128, input_dim=25, kernel_initializer='normal', activation='relu'))\n",
    "model.add(Dense(32, activation='relu'))\n",
    "model.add(Dense(32, activation='relu')) ##Estava 32 e troquei para 16\n",
    "model.add(Dense(16, activation='linear'))\n",
    "model.add(Dense(3, activation='linear'))\n",
    "model.summary()"
   ]
  },
  {
   "cell_type": "code",
   "execution_count": 65,
   "metadata": {},
   "outputs": [],
   "source": [
    "model.compile(loss='mse', optimizer='adam', metrics=['mse','mae'])\n",
    "history = model.fit(X_train, y_train, epochs=100, batch_size=16,  verbose=0, validation_split=0.2)"
   ]
  },
  {
   "cell_type": "code",
   "execution_count": 66,
   "metadata": {},
   "outputs": [
    {
     "data": {
      "image/png": "[encoded data removed]",
      "text/plain": [
       "<Figure size 432x288 with 1 Axes>"
      ]
     },
     "metadata": {},
     "output_type": "display_data"
    }
   ],
   "source": [
    "# \"Loss\"\n",
    "plt.plot(history.history['loss'])\n",
    "plt.plot(history.history['val_loss'])\n",
    "plt.title('model loss')\n",
    "plt.ylabel('loss')\n",
    "plt.xlabel('epoch')\n",
    "#plt.ylim((15000,50000))\n",
    "plt.legend(['train', 'validation'], loc='upper left')\n",
    "plt.show()"
   ]
  },
  {
   "cell_type": "markdown",
   "metadata": {},
   "source": [
    "***Diminuindo uma camada:***"
   ]
  },
  {
   "cell_type": "code",
   "execution_count": 67,
   "metadata": {},
   "outputs": [
    {
     "name": "stdout",
     "output_type": "stream",
     "text": [
      "Model: \"sequential_1\"\n",
      "_________________________________________________________________\n",
      "Layer (type)                 Output Shape              Param #   \n",
      "=================================================================\n",
      "dense_5 (Dense)              (None, 128)               3328      \n",
      "_________________________________________________________________\n",
      "dense_6 (Dense)              (None, 32)                4128      \n",
      "_________________________________________________________________\n",
      "dense_7 (Dense)              (None, 16)                528       \n",
      "_________________________________________________________________\n",
      "dense_8 (Dense)              (None, 3)                 51        \n",
      "=================================================================\n",
      "Total params: 8,035\n",
      "Trainable params: 8,035\n",
      "Non-trainable params: 0\n",
      "_________________________________________________________________\n"
     ]
    }
   ],
   "source": [
    "model_2 = Sequential()\n",
    "model_2.add(Dense(128, input_dim=25, kernel_initializer='normal', activation='relu'))\n",
    "model_2.add(Dense(32, activation='relu'))\n",
    "model_2.add(Dense(16, activation='linear'))\n",
    "model_2.add(Dense(3, activation='linear'))\n",
    "model_2.summary()"
   ]
  },
  {
   "cell_type": "code",
   "execution_count": 68,
   "metadata": {},
   "outputs": [],
   "source": [
    "model_2.compile(loss='mse', optimizer='adam', metrics=['mse','mae'])\n",
    "history = model_2.fit(X_train, y_train, epochs=100, batch_size=16,  verbose=0, validation_split=0.2)"
   ]
  },
  {
   "cell_type": "code",
   "execution_count": 69,
   "metadata": {},
   "outputs": [
    {
     "data": {
      "image/png": "[encoded data removed]",
      "text/plain": [
       "<Figure size 432x288 with 1 Axes>"
      ]
     },
     "metadata": {},
     "output_type": "display_data"
    }
   ],
   "source": [
    "# \"Loss\"\n",
    "plt.plot(history.history['loss'])\n",
    "plt.plot(history.history['val_loss'])\n",
    "plt.title('model loss')\n",
    "plt.ylabel('loss')\n",
    "plt.xlabel('epoch')\n",
    "#plt.ylim((15000,50000))\n",
    "plt.legend(['train', 'validation'], loc='upper left')\n",
    "plt.show()"
   ]
  },
  {
   "cell_type": "code",
   "execution_count": 70,
   "metadata": {},
   "outputs": [
    {
     "name": "stdout",
     "output_type": "stream",
     "text": [
      "Model: \"sequential_2\"\n",
      "_________________________________________________________________\n",
      "Layer (type)                 Output Shape              Param #   \n",
      "=================================================================\n",
      "dense_9 (Dense)              (None, 128)               3328      \n",
      "_________________________________________________________________\n",
      "dense_10 (Dense)             (None, 32)                4128      \n",
      "_________________________________________________________________\n",
      "dense_11 (Dense)             (None, 3)                 99        \n",
      "=================================================================\n",
      "Total params: 7,555\n",
      "Trainable params: 7,555\n",
      "Non-trainable params: 0\n",
      "_________________________________________________________________\n"
     ]
    }
   ],
   "source": [
    "model_3 = Sequential()\n",
    "model_3.add(Dense(128, input_dim=25, kernel_initializer='orthogonal', activation='relu'))\n",
    "model_3.add(Dense(32, activation='relu')) ##Melhorou um pouco com a regularização\n",
    "model_3.add(Dense(3, activation='linear'))\n",
    "model_3.summary()"
   ]
  },
  {
   "cell_type": "code",
   "execution_count": 71,
   "metadata": {},
   "outputs": [],
   "source": [
    "model_3.compile(loss='mse', optimizer='adam', metrics=['mse','mae'])\n",
    "history = model_3.fit(X_train, y_train, epochs=200, batch_size=16,  verbose=0, validation_split=0.2)"
   ]
  },
  {
   "cell_type": "code",
   "execution_count": 72,
   "metadata": {},
   "outputs": [
    {
     "data": {
      "image/png": "[encoded data removed]",
      "text/plain": [
       "<Figure size 432x288 with 1 Axes>"
      ]
     },
     "metadata": {},
     "output_type": "display_data"
    }
   ],
   "source": [
    "# \"Loss\"\n",
    "plt.plot(history.history['loss'])\n",
    "plt.plot(history.history['val_loss'])\n",
    "plt.title('model loss')\n",
    "plt.ylabel('loss')\n",
    "plt.xlabel('epoch')\n",
    "plt.ylim((20000,50000))\n",
    "plt.legend(['train', 'validation'], loc='upper left')\n",
    "plt.show()"
   ]
  },
  {
   "cell_type": "markdown",
   "metadata": {},
   "source": [
    "Incluindo regularização"
   ]
  },
  {
   "cell_type": "code",
   "execution_count": 73,
   "metadata": {},
   "outputs": [
    {
     "name": "stdout",
     "output_type": "stream",
     "text": [
      "Model: \"sequential_3\"\n",
      "_________________________________________________________________\n",
      "Layer (type)                 Output Shape              Param #   \n",
      "=================================================================\n",
      "dense_12 (Dense)             (None, 128)               3328      \n",
      "_________________________________________________________________\n",
      "dense_13 (Dense)             (None, 32)                4128      \n",
      "_________________________________________________________________\n",
      "dense_14 (Dense)             (None, 3)                 99        \n",
      "=================================================================\n",
      "Total params: 7,555\n",
      "Trainable params: 7,555\n",
      "Non-trainable params: 0\n",
      "_________________________________________________________________\n"
     ]
    }
   ],
   "source": [
    "model_4 = Sequential()\n",
    "model_4.add(Dense(128, input_dim=25, kernel_initializer='orthogonal', activation='relu'))\n",
    "model_4.add(Dense(32, activation='relu', activity_regularizer =l1(0.001))) ##Melhorou um pouco com a regularização\n",
    "model_4.add(Dense(3, activation='linear'))\n",
    "model_4.summary()"
   ]
  },
  {
   "cell_type": "code",
   "execution_count": 74,
   "metadata": {},
   "outputs": [],
   "source": [
    "model_4.compile(loss='mse', optimizer='adam', metrics=['mse','mae'])\n",
    "history = model_4.fit(X_train, y_train, epochs=200, batch_size=16,  verbose=0, validation_split=0.2)\n",
    "#,  callbacks=[callback])"
   ]
  },
  {
   "cell_type": "code",
   "execution_count": 75,
   "metadata": {},
   "outputs": [
    {
     "data": {
      "image/png": "[encoded data removed]",
      "text/plain": [
       "<Figure size 432x288 with 1 Axes>"
      ]
     },
     "metadata": {},
     "output_type": "display_data"
    }
   ],
   "source": [
    "# \"Loss\"\n",
    "plt.plot(history.history['loss'])\n",
    "plt.plot(history.history['val_loss'])\n",
    "plt.title('model loss')\n",
    "plt.ylabel('loss')\n",
    "plt.xlabel('epoch')\n",
    "plt.ylim((25000,60000))\n",
    "plt.legend(['train', 'validation'], loc='upper left')\n",
    "plt.show()"
   ]
  },
  {
   "cell_type": "code",
   "execution_count": 76,
   "metadata": {},
   "outputs": [
    {
     "name": "stdout",
     "output_type": "stream",
     "text": [
      "1338/1338 [==============================] - 0s 32us/sample - loss: 35119.9954 - mean_squared_error: 35115.8281 - mean_absolute_error: 138.4483\n"
     ]
    },
    {
     "data": {
      "text/plain": [
       "[35119.99542373178, 35115.83, 138.44833]"
      ]
     },
     "execution_count": 76,
     "metadata": {},
     "output_type": "execute_result"
    }
   ],
   "source": [
    "model_4.evaluate(X_test, y_test, batch_size=16)"
   ]
  },
  {
   "cell_type": "code",
   "execution_count": 77,
   "metadata": {},
   "outputs": [
    {
     "data": {
      "text/plain": [
       "array([[5045.5894, 3115.491 , 4154.9956],\n",
       "       [4201.7427, 2459.0508, 3507.7844],\n",
       "       [4586.9556, 2920.9429, 3789.3848],\n",
       "       [4459.477 , 2525.6558, 3544.1477],\n",
       "       [5325.3057, 3092.1167, 4332.121 ],\n",
       "       [5359.4263, 3480.7644, 4433.2017],\n",
       "       [3660.8413, 1983.8883, 2626.8003],\n",
       "       [6449.7725, 4030.3098, 5266.25  ],\n",
       "       [4673.031 , 2998.5408, 3866.0435],\n",
       "       [4075.0938, 2441.0212, 3114.7732]], dtype=float32)"
      ]
     },
     "execution_count": 77,
     "metadata": {},
     "output_type": "execute_result"
    }
   ],
   "source": [
    "y_pred = model_4.predict(X_test_std)\n",
    "y_pred[10:20]"
   ]
  },
  {
   "cell_type": "code",
   "execution_count": 78,
   "metadata": {},
   "outputs": [
    {
     "data": {
      "text/html": [
       "<div>\n",
       "<style scoped>\n",
       "    .dataframe tbody tr th:only-of-type {\n",
       "        vertical-align: middle;\n",
       "    }\n",
       "\n",
       "    .dataframe tbody tr th {\n",
       "        vertical-align: top;\n",
       "    }\n",
       "\n",
       "    .dataframe thead th {\n",
       "        text-align: right;\n",
       "    }\n",
       "</style>\n",
       "<table border=\"1\" class=\"dataframe\">\n",
       "  <thead>\n",
       "    <tr style=\"text-align: right;\">\n",
       "      <th></th>\n",
       "      <th>Demanda_Max</th>\n",
       "      <th>Demanda_Min</th>\n",
       "      <th>Demanda_Med</th>\n",
       "    </tr>\n",
       "  </thead>\n",
       "  <tbody>\n",
       "    <tr>\n",
       "      <th>3260</th>\n",
       "      <td>5296.0</td>\n",
       "      <td>3211.0</td>\n",
       "      <td>4334.384028</td>\n",
       "    </tr>\n",
       "    <tr>\n",
       "      <th>3595</th>\n",
       "      <td>4371.0</td>\n",
       "      <td>2467.0</td>\n",
       "      <td>3544.848611</td>\n",
       "    </tr>\n",
       "    <tr>\n",
       "      <th>2217</th>\n",
       "      <td>4957.0</td>\n",
       "      <td>3301.0</td>\n",
       "      <td>4173.518750</td>\n",
       "    </tr>\n",
       "    <tr>\n",
       "      <th>5225</th>\n",
       "      <td>4698.0</td>\n",
       "      <td>2568.0</td>\n",
       "      <td>3581.936111</td>\n",
       "    </tr>\n",
       "    <tr>\n",
       "      <th>3244</th>\n",
       "      <td>5563.0</td>\n",
       "      <td>3306.0</td>\n",
       "      <td>4522.844444</td>\n",
       "    </tr>\n",
       "    <tr>\n",
       "      <th>3302</th>\n",
       "      <td>5647.0</td>\n",
       "      <td>3471.0</td>\n",
       "      <td>4628.973611</td>\n",
       "    </tr>\n",
       "    <tr>\n",
       "      <th>3584</th>\n",
       "      <td>3377.0</td>\n",
       "      <td>1782.0</td>\n",
       "      <td>2431.307639</td>\n",
       "    </tr>\n",
       "    <tr>\n",
       "      <th>2955</th>\n",
       "      <td>6476.0</td>\n",
       "      <td>3949.0</td>\n",
       "      <td>5214.668056</td>\n",
       "    </tr>\n",
       "    <tr>\n",
       "      <th>731</th>\n",
       "      <td>4248.0</td>\n",
       "      <td>2542.0</td>\n",
       "      <td>3480.706944</td>\n",
       "    </tr>\n",
       "    <tr>\n",
       "      <th>4626</th>\n",
       "      <td>4170.0</td>\n",
       "      <td>2472.0</td>\n",
       "      <td>3241.348611</td>\n",
       "    </tr>\n",
       "  </tbody>\n",
       "</table>\n",
       "</div>"
      ],
      "text/plain": [
       "      Demanda_Max  Demanda_Min  Demanda_Med\n",
       "3260       5296.0       3211.0  4334.384028\n",
       "3595       4371.0       2467.0  3544.848611\n",
       "2217       4957.0       3301.0  4173.518750\n",
       "5225       4698.0       2568.0  3581.936111\n",
       "3244       5563.0       3306.0  4522.844444\n",
       "3302       5647.0       3471.0  4628.973611\n",
       "3584       3377.0       1782.0  2431.307639\n",
       "2955       6476.0       3949.0  5214.668056\n",
       "731        4248.0       2542.0  3480.706944\n",
       "4626       4170.0       2472.0  3241.348611"
      ]
     },
     "execution_count": 78,
     "metadata": {},
     "output_type": "execute_result"
    }
   ],
   "source": [
    "y_test_std[10:20]"
   ]
  },
  {
   "cell_type": "markdown",
   "metadata": {},
   "source": [
    "**Avaliação do modelo 3 demandas juntas**"
   ]
  },
  {
   "cell_type": "code",
   "execution_count": 79,
   "metadata": {},
   "outputs": [
    {
     "name": "stdout",
     "output_type": "stream",
     "text": [
      "MAE: 138.4483606723663\n",
      "RMSE: 187.39216528333162\n",
      "MSE log error: 0.0031321669372165874\n",
      "R2 Score: 0.8864819104308229\n",
      "Adj R2 Score 0.8857699304410513\n"
     ]
    }
   ],
   "source": [
    "print('MAE:',mean_absolute_error(y_test, y_pred))\n",
    "MSE = mean_squared_error(y_test, y_pred)\n",
    "print('RMSE:',np.sqrt(MSE))\n",
    "print('MSE log error:', mean_squared_log_error(y_test, y_pred))\n",
    "R2 = r2_score(y_test, y_pred)\n",
    "print('R2 Score:', R2)\n",
    "n= len(X_train)\n",
    "p = len(X_train.columns)\n",
    "print('Adj R2 Score', 1-(1-R2)*(n-1)/(n-p-1))"
   ]
  },
  {
   "cell_type": "markdown",
   "metadata": {},
   "source": [
    "**Avaliação do modelo demanda máxima**"
   ]
  },
  {
   "cell_type": "code",
   "execution_count": 80,
   "metadata": {},
   "outputs": [
    {
     "name": "stdout",
     "output_type": "stream",
     "text": [
      "MAE: 146.00614858493321\n",
      "RMSE: 197.31927932191152\n",
      "R2 Score: 0.8919934897964051\n",
      "Adj R2 Score 0.8913160781669295\n",
      "Variance Score: 0.897789310023715\n"
     ]
    }
   ],
   "source": [
    "#Demanda Máxima\n",
    "print('MAE:',mean_absolute_error(y_test['Demanda_Max'], y_pred[:,0]))\n",
    "MSE = mean_squared_error(y_test['Demanda_Max'], y_pred[:,0])\n",
    "print('RMSE:',np.sqrt(MSE))\n",
    "R2 = r2_score(y_test['Demanda_Max'], y_pred[:,0])\n",
    "print('R2 Score:', R2)\n",
    "n= len(X_train)\n",
    "p = len(X_train.columns)\n",
    "print('Adj R2 Score', 1-(1-R2)*(n-1)/(n-p-1))\n",
    "print('Variance Score:', explained_variance_score(y_test['Demanda_Max'], y_pred[:,0]))"
   ]
  },
  {
   "cell_type": "markdown",
   "metadata": {},
   "source": [
    "**Avaliação do modelo demanda média**"
   ]
  },
  {
   "cell_type": "code",
   "execution_count": 81,
   "metadata": {},
   "outputs": [
    {
     "name": "stdout",
     "output_type": "stream",
     "text": [
      "MAE: 125.05186155410026\n",
      "RMSE: 170.96708865016973\n",
      "R2 Score: 0.9196666658917403\n",
      "Adj R2 Score 0.9191628190897567\n",
      "Variance Score: 0.9229993466585356\n"
     ]
    }
   ],
   "source": [
    "#Demanda Média\n",
    "print('MAE:',mean_absolute_error(y_test['Demanda_Med'], y_pred[:,2]))\n",
    "MSE = mean_squared_error(y_test['Demanda_Med'], y_pred[:,2])\n",
    "print('RMSE:',np.sqrt(MSE))\n",
    "R2 = r2_score(y_test['Demanda_Med'], y_pred[:,2])\n",
    "print('R2 Score:', R2)\n",
    "n= len(X_train)\n",
    "p = len(X_train.columns)\n",
    "print('Adj R2 Score', 1-(1-R2)*(n-1)/(n-p-1))\n",
    "print('Variance Score:', explained_variance_score(y_test['Demanda_Med'], y_pred[:,2]))"
   ]
  },
  {
   "cell_type": "markdown",
   "metadata": {},
   "source": [
    "**Avaliação do modelo demanda mínima**"
   ]
  },
  {
   "cell_type": "code",
   "execution_count": 82,
   "metadata": {},
   "outputs": [
    {
     "name": "stdout",
     "output_type": "stream",
     "text": [
      "MAE: 144.28707187806543\n",
      "RMSE: 192.82849228029784\n",
      "R2 Score: 0.8477855756043233\n",
      "Adj R2 Score 0.8468308940664678\n",
      "Variance Score: 0.8529436295593079\n"
     ]
    }
   ],
   "source": [
    "#Demanda Mínima\n",
    "print('MAE:',mean_absolute_error(y_test['Demanda_Min'], y_pred[:,1]))\n",
    "MSE = mean_squared_error(y_test['Demanda_Min'], y_pred[:,1])\n",
    "print('RMSE:',np.sqrt(MSE))\n",
    "R2 = r2_score(y_test['Demanda_Min'], y_pred[:,1])\n",
    "print('R2 Score:', R2)\n",
    "n= len(X_train)\n",
    "p = len(X_train.columns)\n",
    "print('Adj R2 Score', 1-(1-R2)*(n-1)/(n-p-1))\n",
    "print('Variance Score:', explained_variance_score(y_test['Demanda_Min'], y_pred[:,1]))"
   ]
  }
 ],
 "metadata": {
  "kernelspec": {
   "display_name": "Python 3",
   "language": "python",
   "name": "python3"
  },
  "language_info": {
   "codemirror_mode": {
    "name": "ipython",
    "version": 3
   },
   "file_extension": ".py",
   "mimetype": "text/x-python",
   "name": "python",
   "nbconvert_exporter": "python",
   "pygments_lexer": "ipython3",
   "version": "3.7.7"
  }
 },
 "nbformat": 4,
 "nbformat_minor": 2
}
